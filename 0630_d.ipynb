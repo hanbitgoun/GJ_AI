{
  "nbformat": 4,
  "nbformat_minor": 0,
  "metadata": {
    "colab": {
      "name": "0630_d.ipynb",
      "provenance": [],
      "collapsed_sections": [],
      "include_colab_link": true
    },
    "kernelspec": {
      "name": "python3",
      "display_name": "Python 3"
    },
    "language_info": {
      "name": "python"
    }
  },
  "cells": [
    {
      "cell_type": "markdown",
      "metadata": {
        "id": "view-in-github",
        "colab_type": "text"
      },
      "source": [
        "<a href=\"https://colab.research.google.com/github/hanbitgoun/GJ_AI/blob/main/0630_d.ipynb\" target=\"_parent\"><img src=\"https://colab.research.google.com/assets/colab-badge.svg\" alt=\"Open In Colab\"/></a>"
      ]
    },
    {
      "cell_type": "markdown",
      "metadata": {
        "id": "koX06JIQVBaj"
      },
      "source": [
        "#### 데이터 불러오기"
      ]
    },
    {
      "cell_type": "code",
      "metadata": {
        "id": "Aot-2UT3ZpAA"
      },
      "source": [
        "import csv\n",
        "import numpy as np"
      ],
      "execution_count": null,
      "outputs": []
    },
    {
      "cell_type": "code",
      "metadata": {
        "id": "D8Cc0_5UddNd"
      },
      "source": [
        "with open('/content/abalone_mini.csv') as csvfile:\n",
        "  csvreader = csv.reader(csvfile)\n",
        "  rows = []\n",
        "  for row in csvreader:\n",
        "    rows.append(row)"
      ],
      "execution_count": null,
      "outputs": []
    },
    {
      "cell_type": "code",
      "metadata": {
        "colab": {
          "base_uri": "https://localhost:8080/"
        },
        "id": "iMH5BbZWeAHA",
        "outputId": "e0ed2912-e216-4395-b5de-a0a100d65682"
      },
      "source": [
        "print(rows)"
      ],
      "execution_count": null,
      "outputs": [
        {
          "output_type": "stream",
          "text": [
            "[['M', '0.455', '0.365', '0.095', '0.514', '0.2245', '0.101', '0.15', '15'], ['M', '0.35', '0.265', '0.09', '0.2255', '0.0995', '0.0485', '0.07', '7'], ['F', '0.53', '0.42', '0.135', '0.677', '0.2565', '0.1415', '0.21', '9'], ['M', '0.44', '0.365', '0.125', '0.516', '0.2155', '0.114', '0.155', '10'], ['I', '0.33', '0.255', '0.08', '0.205', '0.0895', '0.0395', '0.055', '7']]\n"
          ],
          "name": "stdout"
        }
      ]
    },
    {
      "cell_type": "markdown",
      "metadata": {
        "id": "gZmQmwYaU-20"
      },
      "source": [
        "#### one-hot vector"
      ]
    },
    {
      "cell_type": "code",
      "metadata": {
        "colab": {
          "base_uri": "https://localhost:8080/"
        },
        "id": "61eEo3zeeTmD",
        "outputId": "9bc48a54-7e67-462d-96e6-0560acd449e1"
      },
      "source": [
        "data = np.zeros([5,11]) # 5행 11열\n",
        "\n",
        "# enumerate() : index, element로 이루어진 튜플 생성\n",
        "# ex) enumerate(rows , start = 100) : 시작 인덱스 100\n",
        "for n, row in enumerate(rows): \n",
        "  print(n, row)\n",
        "  if row[0] == 'M': data[n,0] = 1\n",
        "  if row[0] == 'F': data[n,1] = 1\n",
        "  if row[0] == 'I': data[n,2] = 1\n",
        "\n",
        "  data[n, 3:] = row[1:]"
      ],
      "execution_count": null,
      "outputs": [
        {
          "output_type": "stream",
          "text": [
            "0 ['M', '0.455', '0.365', '0.095', '0.514', '0.2245', '0.101', '0.15', '15']\n",
            "1 ['M', '0.35', '0.265', '0.09', '0.2255', '0.0995', '0.0485', '0.07', '7']\n",
            "2 ['F', '0.53', '0.42', '0.135', '0.677', '0.2565', '0.1415', '0.21', '9']\n",
            "3 ['M', '0.44', '0.365', '0.125', '0.516', '0.2155', '0.114', '0.155', '10']\n",
            "4 ['I', '0.33', '0.255', '0.08', '0.205', '0.0895', '0.0395', '0.055', '7']\n"
          ],
          "name": "stdout"
        }
      ]
    },
    {
      "cell_type": "code",
      "metadata": {
        "colab": {
          "base_uri": "https://localhost:8080/"
        },
        "id": "vMyJejYofMl2",
        "outputId": "a32a2c70-7140-4f85-c8f9-bc50876e92cf"
      },
      "source": [
        "data"
      ],
      "execution_count": null,
      "outputs": [
        {
          "output_type": "execute_result",
          "data": {
            "text/plain": [
              "array([[ 1.    ,  0.    ,  0.    ,  0.455 ,  0.365 ,  0.095 ,  0.514 ,\n",
              "         0.2245,  0.101 ,  0.15  , 15.    ],\n",
              "       [ 1.    ,  0.    ,  0.    ,  0.35  ,  0.265 ,  0.09  ,  0.2255,\n",
              "         0.0995,  0.0485,  0.07  ,  7.    ],\n",
              "       [ 0.    ,  1.    ,  0.    ,  0.53  ,  0.42  ,  0.135 ,  0.677 ,\n",
              "         0.2565,  0.1415,  0.21  ,  9.    ],\n",
              "       [ 1.    ,  0.    ,  0.    ,  0.44  ,  0.365 ,  0.125 ,  0.516 ,\n",
              "         0.2155,  0.114 ,  0.155 , 10.    ],\n",
              "       [ 0.    ,  0.    ,  1.    ,  0.33  ,  0.255 ,  0.08  ,  0.205 ,\n",
              "         0.0895,  0.0395,  0.055 ,  7.    ]])"
            ]
          },
          "metadata": {
            "tags": []
          },
          "execution_count": 7
        }
      ]
    },
    {
      "cell_type": "markdown",
      "metadata": {
        "id": "3K4-wAbjXTBP"
      },
      "source": [
        "#### main_exec()"
      ]
    },
    {
      "cell_type": "markdown",
      "metadata": {
        "id": "fdhVK-ifjB1O"
      },
      "source": [
        "가중치 / 편향\n",
        "\n",
        "weigtht / bias\n",
        "\n",
        "parameter\n",
        "\n",
        "y_hat = (weight * x) + bias"
      ]
    },
    {
      "cell_type": "markdown",
      "metadata": {
        "id": "NXPeDSePniY7"
      },
      "source": [
        "p1(perceptron) x, w 행렬곱 한 결과"
      ]
    },
    {
      "cell_type": "code",
      "metadata": {
        "id": "AaEPDBxxjaPM"
      },
      "source": [
        "# 독립변수의 개수\n",
        "input_cnt = 10\n",
        "# 종속변수의 개수\n",
        "output_cnt = 1\n",
        "# 평균, 표준편차\n",
        "RND_MEAN = 0\n",
        "RND_STD = 1\n",
        "\n",
        "# weight, bias를 구하는 함수 model_init() 생성\n",
        "def model_init():\n",
        "  global weight, bias\n",
        "  weight = np.random.normal(RND_MEAN, RND_STD, size = [input_cnt, output_cnt])\n",
        "  bias = np.random.normal(RND_MEAN, RND_STD, size = [output_cnt])\n",
        "  "
      ],
      "execution_count": null,
      "outputs": []
    },
    {
      "cell_type": "code",
      "metadata": {
        "colab": {
          "base_uri": "https://localhost:8080/"
        },
        "id": "3kwrDBnao0rl",
        "outputId": "664f9b5e-5f88-4180-9aad-52572aaf42b5"
      },
      "source": [
        "weight = np.random.normal(RND_MEAN, RND_STD, size = [input_cnt, output_cnt])\n",
        "print(weight)\n",
        "print(\"=======================\")\n",
        "bias = np.random.normal(RND_MEAN, RND_STD, size = [output_cnt])\n",
        "print(bias)"
      ],
      "execution_count": null,
      "outputs": [
        {
          "output_type": "stream",
          "text": [
            "[[-0.05463584]\n",
            " [-1.53617316]\n",
            " [-0.90573603]\n",
            " [ 0.4668781 ]\n",
            " [ 0.33802909]\n",
            " [ 0.50824631]\n",
            " [-2.65531159]\n",
            " [-1.34824225]\n",
            " [-2.51848279]\n",
            " [-0.11771074]]\n",
            "=======================\n",
            "[-0.68796658]\n"
          ],
          "name": "stdout"
        }
      ]
    },
    {
      "cell_type": "code",
      "metadata": {
        "colab": {
          "base_uri": "https://localhost:8080/"
        },
        "id": "oEsjxlPrpvn0",
        "outputId": "2227a1a4-91bf-41b7-eb1c-8b285d308c8a"
      },
      "source": [
        "print(weight, bias)"
      ],
      "execution_count": null,
      "outputs": [
        {
          "output_type": "stream",
          "text": [
            "[[-0.05463584]\n",
            " [-1.53617316]\n",
            " [-0.90573603]\n",
            " [ 0.4668781 ]\n",
            " [ 0.33802909]\n",
            " [ 0.50824631]\n",
            " [-2.65531159]\n",
            " [-1.34824225]\n",
            " [-2.51848279]\n",
            " [-0.11771074]] [-0.68796658]\n"
          ],
          "name": "stdout"
        }
      ]
    },
    {
      "cell_type": "code",
      "metadata": {
        "id": "yjGU6V_ZqVT1"
      },
      "source": [
        "# forward_nueralnet : y_hat\n",
        "def forward_nueralnet(x):\n",
        "  y_hat = np.matmul(x, weight) + bias #행렬곱 수행\n",
        "  return y_hat"
      ],
      "execution_count": null,
      "outputs": []
    },
    {
      "cell_type": "code",
      "metadata": {
        "id": "LIbvBPRZvLPi"
      },
      "source": [
        "print(data[:, :-1])"
      ],
      "execution_count": null,
      "outputs": []
    },
    {
      "cell_type": "code",
      "metadata": {
        "colab": {
          "base_uri": "https://localhost:8080/"
        },
        "id": "c3GcxnJfqYEJ",
        "outputId": "a68f5bef-d77a-4bc4-d85a-08aff6eb575f"
      },
      "source": [
        "forward_nueralnet(data[:, :-1]) #bias 제외"
      ],
      "execution_count": null,
      "outputs": [
        {
          "output_type": "execute_result",
          "data": {
            "text/plain": [
              "array([[-2.29804278],\n",
              "       [-1.30718425],\n",
              "       [-4.29066353],\n",
              "       [-2.31630384],\n",
              "       [-2.08373643]])"
            ]
          },
          "metadata": {
            "tags": []
          },
          "execution_count": 15
        }
      ]
    },
    {
      "cell_type": "code",
      "metadata": {
        "id": "H78AmgZxqzUW"
      },
      "source": [
        "# foward_postproc : mse\n",
        "def forward_postproc(output, y):\n",
        "  print(\"output : \\n\",output)\n",
        "  print(\"y : \\n\",y)\n",
        "\n",
        "  diff = output - y #편차\n",
        "  print(\"diff : \\n\",diff)\n",
        "\n",
        "  square = np.square(diff) #제곱\n",
        "  print(\"square : \\n\",square)\n",
        "\n",
        "  mse = np.mean(square)\n",
        "  print(\"mse : \\n\",mse)\n",
        "  return mse"
      ],
      "execution_count": null,
      "outputs": []
    },
    {
      "cell_type": "code",
      "metadata": {
        "id": "cLs-ScAwr96G"
      },
      "source": [
        "def run_train(x, y):\n",
        "  output = forward_nueralnet(x)\n",
        "  loss = forward_postproc(output, y) #손실함수\n",
        "  return output, loss"
      ],
      "execution_count": null,
      "outputs": []
    },
    {
      "cell_type": "code",
      "metadata": {
        "colab": {
          "base_uri": "https://localhost:8080/"
        },
        "id": "r8zrb8vGvcnC",
        "outputId": "a5e1e947-10d3-4166-d526-c15be4b54f8b"
      },
      "source": [
        "print(data[:,-1:])"
      ],
      "execution_count": null,
      "outputs": [
        {
          "output_type": "stream",
          "text": [
            "[[15.]\n",
            " [ 7.]\n",
            " [ 9.]\n",
            " [10.]\n",
            " [ 7.]]\n"
          ],
          "name": "stdout"
        }
      ]
    },
    {
      "cell_type": "code",
      "metadata": {
        "colab": {
          "base_uri": "https://localhost:8080/"
        },
        "id": "UcaLJ4zFs8uf",
        "outputId": "d04a4cea-b496-4eba-96f0-e2d62ff9d102"
      },
      "source": [
        "run_train(data[:,:-1,], data[:,-1:])"
      ],
      "execution_count": null,
      "outputs": [
        {
          "output_type": "stream",
          "text": [
            "output : \n",
            " [[-2.29804278]\n",
            " [-1.30718425]\n",
            " [-4.29066353]\n",
            " [-2.31630384]\n",
            " [-2.08373643]]\n",
            "y : \n",
            " [[15.]\n",
            " [ 7.]\n",
            " [ 9.]\n",
            " [10.]\n",
            " [ 7.]]\n",
            "diff : \n",
            " [[-17.29804278]\n",
            " [ -8.30718425]\n",
            " [-13.29066353]\n",
            " [-12.31630384]\n",
            " [ -9.08373643]]\n",
            "square : \n",
            " [[299.22228419]\n",
            " [ 69.0093101 ]\n",
            " [176.64173715]\n",
            " [151.69134027]\n",
            " [ 82.5142676 ]]\n",
            "mse : \n",
            " 155.81578786197494\n"
          ],
          "name": "stdout"
        },
        {
          "output_type": "execute_result",
          "data": {
            "text/plain": [
              "(array([[-2.29804278],\n",
              "        [-1.30718425],\n",
              "        [-4.29066353],\n",
              "        [-2.31630384],\n",
              "        [-2.08373643]]), 155.81578786197494)"
            ]
          },
          "metadata": {
            "tags": []
          },
          "execution_count": 19
        }
      ]
    },
    {
      "cell_type": "code",
      "metadata": {
        "id": "QrD2WjnTX9yR"
      },
      "source": [
        "def main_exec(x, y):\n",
        "  #import_data()\n",
        "  model_init()\n",
        "  run_train(x, y)"
      ],
      "execution_count": null,
      "outputs": []
    },
    {
      "cell_type": "code",
      "metadata": {
        "colab": {
          "base_uri": "https://localhost:8080/"
        },
        "id": "781QhIoXX-Ug",
        "outputId": "08dceca2-673f-40ff-c9c3-d01eea7e33c5"
      },
      "source": [
        "main_exec(data[:,:-1,], data[:,-1:])"
      ],
      "execution_count": null,
      "outputs": [
        {
          "output_type": "stream",
          "text": [
            "output : \n",
            " [[ 0.28343781]\n",
            " [-0.035665  ]\n",
            " [ 0.60209008]\n",
            " [ 0.24592999]\n",
            " [ 1.04776503]]\n",
            "y : \n",
            " [[15.]\n",
            " [ 7.]\n",
            " [ 9.]\n",
            " [10.]\n",
            " [ 7.]]\n",
            "diff : \n",
            " [[-14.71656219]\n",
            " [ -7.035665  ]\n",
            " [ -8.39790992]\n",
            " [ -9.75407001]\n",
            " [ -5.95223497]]\n",
            "square : \n",
            " [[216.57720268]\n",
            " [ 49.50058197]\n",
            " [ 70.52489098]\n",
            " [ 95.14188183]\n",
            " [ 35.42910109]]\n",
            "mse : \n",
            " 93.4347317108722\n"
          ],
          "name": "stdout"
        }
      ]
    },
    {
      "cell_type": "markdown",
      "metadata": {
        "id": "3fs3l8lNWgAL"
      },
      "source": [
        "#### 클래스 외부에 함수생성 > 함수중복최소화"
      ]
    },
    {
      "cell_type": "code",
      "metadata": {
        "id": "gNT1zDi8tO2j"
      },
      "source": [
        "class One_class():\n",
        "  def __init__(self, x):\n",
        "    self.x = x"
      ],
      "execution_count": null,
      "outputs": []
    },
    {
      "cell_type": "code",
      "metadata": {
        "id": "uQnjFDIywevE"
      },
      "source": [
        "def main_exec():\n",
        "  pass\n",
        "\n",
        "\n",
        "# main_exec > One_class 내부\n",
        "One_class.c_main_exec = main_exec \n",
        "One_class.main_exec_2 = main_exec "
      ],
      "execution_count": null,
      "outputs": []
    },
    {
      "cell_type": "code",
      "metadata": {
        "id": "wtNFpuP-wxax"
      },
      "source": [
        "one_c_value = One_class(1)"
      ],
      "execution_count": null,
      "outputs": []
    },
    {
      "cell_type": "code",
      "metadata": {
        "id": "sh2vf5I1XOvM"
      },
      "source": [
        "one_c_value.c_main_exec()\n",
        "one_c_value.main_exec_2()"
      ],
      "execution_count": null,
      "outputs": []
    }
  ]
}