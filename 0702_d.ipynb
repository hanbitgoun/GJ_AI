{
  "nbformat": 4,
  "nbformat_minor": 0,
  "metadata": {
    "colab": {
      "name": "0702_d.ipynb",
      "provenance": [],
      "collapsed_sections": [],
      "include_colab_link": true
    },
    "kernelspec": {
      "name": "python3",
      "display_name": "Python 3"
    },
    "language_info": {
      "name": "python"
    }
  },
  "cells": [
    {
      "cell_type": "markdown",
      "metadata": {
        "id": "view-in-github",
        "colab_type": "text"
      },
      "source": [
        "<a href=\"https://colab.research.google.com/github/hanbitgoun/GJ_AI/blob/main/0702_d.ipynb\" target=\"_parent\"><img src=\"https://colab.research.google.com/assets/colab-badge.svg\" alt=\"Open In Colab\"/></a>"
      ]
    },
    {
      "cell_type": "markdown",
      "metadata": {
        "id": "JiSRalLgMnso"
      },
      "source": [
        "#### 데이터 불러오기"
      ]
    },
    {
      "cell_type": "code",
      "metadata": {
        "id": "-scO-xiFe2Zk"
      },
      "source": [
        "import tensorflow as tf"
      ],
      "execution_count": null,
      "outputs": []
    },
    {
      "cell_type": "code",
      "metadata": {
        "id": "U54EJYZLitGQ"
      },
      "source": [
        "fashion_mnist = tf.keras.datasets.fashion_mnist"
      ],
      "execution_count": null,
      "outputs": []
    },
    {
      "cell_type": "code",
      "metadata": {
        "id": "a1uqswH4jM77",
        "colab": {
          "base_uri": "https://localhost:8080/"
        },
        "outputId": "a8d5e55b-c125-40c6-b658-61a473a2f9a4"
      },
      "source": [
        "(train_X, train_Y), (test_X, test_Y) = fashion_mnist.load_data() # ??????"
      ],
      "execution_count": null,
      "outputs": [
        {
          "output_type": "stream",
          "text": [
            "Downloading data from https://storage.googleapis.com/tensorflow/tf-keras-datasets/train-labels-idx1-ubyte.gz\n",
            "32768/29515 [=================================] - 0s 0us/step\n",
            "Downloading data from https://storage.googleapis.com/tensorflow/tf-keras-datasets/train-images-idx3-ubyte.gz\n",
            "26427392/26421880 [==============================] - 0s 0us/step\n",
            "Downloading data from https://storage.googleapis.com/tensorflow/tf-keras-datasets/t10k-labels-idx1-ubyte.gz\n",
            "8192/5148 [===============================================] - 0s 0us/step\n",
            "Downloading data from https://storage.googleapis.com/tensorflow/tf-keras-datasets/t10k-images-idx3-ubyte.gz\n",
            "4423680/4422102 [==============================] - 0s 0us/step\n"
          ],
          "name": "stdout"
        }
      ]
    },
    {
      "cell_type": "code",
      "metadata": {
        "colab": {
          "base_uri": "https://localhost:8080/"
        },
        "id": "Y_A33MDgkPqA",
        "outputId": "40bafbb1-d634-40f2-f4fa-a934514e3c71"
      },
      "source": [
        "len(test_X)"
      ],
      "execution_count": null,
      "outputs": [
        {
          "output_type": "execute_result",
          "data": {
            "text/plain": [
              "10000"
            ]
          },
          "metadata": {
            "tags": []
          },
          "execution_count": 8
        }
      ]
    },
    {
      "cell_type": "code",
      "metadata": {
        "colab": {
          "base_uri": "https://localhost:8080/",
          "height": 265
        },
        "id": "YvjICloskT_J",
        "outputId": "e9309236-8be3-425b-e121-053b22c2cafc"
      },
      "source": [
        "#이미지화\n",
        "import matplotlib.pyplot as plt\n",
        "\n",
        "plt.imshow(train_X[10], cmap = 'pink') \n",
        "plt.colorbar()\n",
        "plt.show()"
      ],
      "execution_count": null,
      "outputs": [
        {
          "output_type": "display_data",
          "data": {
            "image/png": "[encoded data removed]",
            "text/plain": [
              "<Figure size 432x288 with 2 Axes>"
            ]
          },
          "metadata": {
            "tags": [],
            "needs_background": "light"
          }
        }
      ]
    },
    {
      "cell_type": "code",
      "metadata": {
        "colab": {
          "base_uri": "https://localhost:8080/"
        },
        "id": "YJ4s6zM-kt8q",
        "outputId": "80497aa4-5671-4f75-9237-793e71393824"
      },
      "source": [
        "print(train_X[10])"
      ],
      "execution_count": null,
      "outputs": [
        {
          "output_type": "stream",
          "text": [
            "[[  0   0   0   0   0   0   0  11 142 200 106   0   0   0   0   0   0   0\n",
            "   85 185 112   0   0   0   0   0   0   0]\n",
            " [  0   0   0   0   0   0 152 214 217 194 236 216 187 149 135 153 211 217\n",
            "  231 205 217 188  34   0   0   0   0   0]\n",
            " [  0   0   0   0   0  66 185 166 180 181 190 211 221 197 146 198 206 191\n",
            "  168 190 172 188 175   0   0   0   0   0]\n",
            " [  0   0   0   0   0 135 153 160 175 180 170 186 187 190 188 190 187 174\n",
            "  195 185 174 161 175  59   0   0   0   0]\n",
            " [  0   0   0   0   0 161 147 160 170 178 177 180 168 173 174 171 185 184\n",
            "  185 172 171 164 174 120   0   0   0   0]\n",
            " [  0   0   0   0   2 175 146 145 168 178 181 185 180 184 178 179 187 191\n",
            "  193 190 181 171 172 158   0   0   0   0]\n",
            " [  0   0   0   0  35 177 155 140 151 172 191 187 186 187 186 187 182 191\n",
            "  194 188 180 161 161 185   0   0   0   0]\n",
            " [  0   0   0   0  59 170 153 141 120 154 160 161 172 168 166 161 165 172\n",
            "  170 164 139 149 162 166  21   0   0   0]\n",
            " [  0   0   0   0  79 145 160 214 123 128 153 160 164 158 157 154 155 170\n",
            "  165 141 195 193 152 166  61   0   0   0]\n",
            " [  0   0   0   0 100 157 225 245 175 113 174 158 158 160 155 160 164 178\n",
            "  188 135 185 240 201 172 108   0   0   0]\n",
            " [  0   0   0   0   0  31 174  28 126 153 166 152 158 158 160 161 157 168\n",
            "  191 188  18 132 159   7   0   0   0   0]\n",
            " [  0   0   0   0   0   0   0   0  82 187 159 153 157 158 162 164 164 154\n",
            "  187 190   0   0   0   0   0   0   0   0]\n",
            " [  0   0   0   0   1   3   5   0  37 175 158 155 162 158 160 162 165 153\n",
            "  177 205   0   0   3   3   0   0   0   0]\n",
            " [  0   0   0   0   0   0   1   0  25 175 152 160 158 161 160 164 164 161\n",
            "  166 200   0   0   1   0   0   0   0   0]\n",
            " [  0   0   0   0   0   0   4   0  30 171 147 164 155 165 161 165 162 170\n",
            "  164 162   0   0   2   0   0   0   0   0]\n",
            " [  0   0   0   0   0   0   4   0  57 166 155 164 166 161 161 164 167 165\n",
            "  165 162  28   0   3   0   0   0   0   0]\n",
            " [  0   0   0   0   0   0   3   0 114 161 161 166 159 168 161 161 172 162\n",
            "  165 171  50   0   5   0   0   0   0   0]\n",
            " [  0   0   0   0   0   0   1   0 149 157 167 172 159 172 164 161 172 170\n",
            "  160 171  89   0   4   0   0   0   0   0]\n",
            " [  0   0   0   0   0   2   0   4 171 164 166 173 159 179 166 160 174 167\n",
            "  162 166 128   0   2   0   0   0   0   0]\n",
            " [  0   0   0   0   0   3   0  18 152 173 160 179 154 181 166 164 175 170\n",
            "  166 170 164   0   0   1   0   0   0   0]\n",
            " [  0   0   0   0   0   4   0  47 165 172 167 185 153 187 173 165 174 179\n",
            "  166 166 158   5   0   3   0   0   0   0]\n",
            " [  0   0   0   0   0   4   0  87 180 162 179 179 157 191 182 165 168 190\n",
            "  173 165 166  20   0   4   0   0   0   0]\n",
            " [  0   0   0   0   0   4   0 105 187 157 194 175 161 190 184 170 158 205\n",
            "  177 168 171  44   0   4   0   0   0   0]\n",
            " [  0   0   0   0   0   5   0 138 181 158 205 160 167 190 198 167 152 218\n",
            "  186 170 172  57   0   5   0   0   0   0]\n",
            " [  0   0   0   0   0   5   0 135 174 167 199 155 166 201 219 165 158 218\n",
            "  188 167 175  56   0   7   0   0   0   0]\n",
            " [  0   0   0   0   0   5   0 129 171 172 177 153 159 206 216 148 157 206\n",
            "  190 165 175  48   0   5   0   0   0   0]\n",
            " [  0   0   0   0   0   5   0 167 187 182 198 194 200 226 240 184 206 255\n",
            "  197 178 179  42   0   5   0   0   0   0]\n",
            " [  0   0   0   0   0   3   0 115 135 113 106  85  82 108 133  83  90 121\n",
            "  120 110 158  18   0   3   0   0   0   0]]\n"
          ],
          "name": "stdout"
        }
      ]
    },
    {
      "cell_type": "code",
      "metadata": {
        "colab": {
          "base_uri": "https://localhost:8080/"
        },
        "id": "CYYhjT5HlBFV",
        "outputId": "f9912bf0-6d88-4457-c34c-2e8a2fc3153d"
      },
      "source": [
        "print(train_X[10].shape)\n",
        "print(train_X[10].ndim)"
      ],
      "execution_count": null,
      "outputs": [
        {
          "output_type": "stream",
          "text": [
            "(28, 28)\n",
            "2\n"
          ],
          "name": "stdout"
        }
      ]
    },
    {
      "cell_type": "code",
      "metadata": {
        "id": "1sECJn28l4F9"
      },
      "source": [
        "train_X_flat = train_X[10].flatten()"
      ],
      "execution_count": null,
      "outputs": []
    },
    {
      "cell_type": "code",
      "metadata": {
        "colab": {
          "base_uri": "https://localhost:8080/"
        },
        "id": "sgp0caEDmujw",
        "outputId": "9db3e157-1765-4007-f37a-b9d566281848"
      },
      "source": [
        "print(train_X_flat.shape)\n",
        "print(train_X_flat.ndim)"
      ],
      "execution_count": null,
      "outputs": [
        {
          "output_type": "stream",
          "text": [
            "(784,)\n",
            "1\n"
          ],
          "name": "stdout"
        }
      ]
    },
    {
      "cell_type": "code",
      "metadata": {
        "id": "1AhVRGHFm0VW"
      },
      "source": [
        "#softmax : 다중선택분류도와줌\n",
        "#자연상수 e : 값의 차이 극명화"
      ],
      "execution_count": null,
      "outputs": []
    },
    {
      "cell_type": "markdown",
      "metadata": {
        "id": "cNXULFnerUVi"
      },
      "source": [
        "1. 회귀 - ANN, (DNN)\n",
        "2. 이미지 - CNN\n",
        "3. 자연어 - RNN\n",
        "4. 생성 - GAN"
      ]
    },
    {
      "cell_type": "code",
      "metadata": {
        "colab": {
          "base_uri": "https://localhost:8080/"
        },
        "id": "mlXioRWtpCEB",
        "outputId": "222a2fac-7169-4755-df56-4ede7e6487fb"
      },
      "source": [
        "import numpy as np\n",
        "print(np.exp(1))\n",
        "print(np.exp(10))\n",
        "print(np.exp(100))\n",
        "print(np.exp(1000))"
      ],
      "execution_count": null,
      "outputs": [
        {
          "output_type": "stream",
          "text": [
            "2.718281828459045\n",
            "22026.465794806718\n",
            "2.6881171418161356e+43\n",
            "inf\n"
          ],
          "name": "stdout"
        },
        {
          "output_type": "stream",
          "text": [
            "/usr/local/lib/python3.7/dist-packages/ipykernel_launcher.py:5: RuntimeWarning: overflow encountered in exp\n",
            "  \"\"\"\n"
          ],
          "name": "stderr"
        }
      ]
    },
    {
      "cell_type": "markdown",
      "metadata": {
        "id": "onz_FKhfn_1q"
      },
      "source": [
        "행렬곱 numpy 함수\n",
        "1. np.matmul()\n",
        "2. np.dot()"
      ]
    },
    {
      "cell_type": "code",
      "metadata": {
        "colab": {
          "base_uri": "https://localhost:8080/"
        },
        "id": "IjBYMgXLreR8",
        "outputId": "4fc0e250-8b63-4ef3-e9e9-7c014f8f2785"
      },
      "source": [
        "input_cnt = len(train_X_flat)\n",
        "print(input_cnt)\n",
        "output_cnt = len(set(train_Y)) # ?????/\n",
        "print(output_cnt)"
      ],
      "execution_count": null,
      "outputs": [
        {
          "output_type": "stream",
          "text": [
            "784\n",
            "10\n"
          ],
          "name": "stdout"
        }
      ]
    },
    {
      "cell_type": "code",
      "metadata": {
        "id": "7BD1xKRkwJfG"
      },
      "source": [
        "RND_MEAN = 0\n",
        "RAND_STD = 1\n",
        "weight = np.random.normal(RND_MEAN,RAND_STD, size = [input_cnt, output_cnt])\n",
        "bias = np.random.normal(RND_MEAN,RAND_STD, size = [output_cnt])"
      ],
      "execution_count": null,
      "outputs": []
    },
    {
      "cell_type": "code",
      "metadata": {
        "id": "gT5-ecNCw2fG"
      },
      "source": [
        "parameter = {'w' : weight, 'b' : bias} "
      ],
      "execution_count": null,
      "outputs": []
    },
    {
      "cell_type": "code",
      "metadata": {
        "colab": {
          "base_uri": "https://localhost:8080/"
        },
        "id": "r5HXy6sMxKGd",
        "outputId": "0fc4030a-78fe-4666-c4dd-72be38b67b22"
      },
      "source": [
        "print(parameter['w'].shape)\n",
        "print(parameter['w'].ndim)\n",
        "print()\n",
        "print(parameter['b'].shape)\n",
        "print(parameter['b'].ndim)"
      ],
      "execution_count": null,
      "outputs": [
        {
          "output_type": "stream",
          "text": [
            "(784, 10)\n",
            "2\n",
            "\n",
            "(10,)\n",
            "1\n"
          ],
          "name": "stdout"
        }
      ]
    },
    {
      "cell_type": "code",
      "metadata": {
        "id": "dlTHC5mzxP-L"
      },
      "source": [
        "import pandas as pd\n",
        "\n",
        "df_w = pd.DataFrame(parameter['w'],\n",
        "                    columns=['w1','w2','w3','w4','w5','w6','w7','w8','w9','w10'])\n",
        "\n",
        "df_b = pd.DataFrame(parameter['b'],columns=['b'])"
      ],
      "execution_count": null,
      "outputs": []
    },
    {
      "cell_type": "code",
      "metadata": {
        "colab": {
          "base_uri": "https://localhost:8080/"
        },
        "id": "xKUJC3fGOEMT",
        "outputId": "572db936-7d1d-4cfd-d3e2-be6a2207a397"
      },
      "source": [
        "print(df_w.head())\n",
        "print(df_b.head())"
      ],
      "execution_count": null,
      "outputs": [
        {
          "output_type": "stream",
          "text": [
            "         w1        w2        w3  ...        w8        w9       w10\n",
            "0 -1.683189 -0.673117  0.146872  ... -0.536062 -1.426233  0.693401\n",
            "1  0.359539 -1.262681 -0.656825  ... -0.443572  0.245916 -1.106370\n",
            "2  0.163926 -0.444597 -0.732927  ...  0.817454  1.341559  0.464609\n",
            "3 -0.891324 -1.484448 -0.228281  ... -0.864685  0.144584  1.179832\n",
            "4  0.061585  0.607546 -0.711160  ... -0.835908 -0.072233  0.235826\n",
            "\n",
            "[5 rows x 10 columns]\n",
            "          b\n",
            "0  1.876581\n",
            "1 -0.261205\n",
            "2 -0.210879\n",
            "3 -1.896717\n",
            "4 -0.907700\n"
          ],
          "name": "stdout"
        }
      ]
    },
    {
      "cell_type": "code",
      "metadata": {
        "id": "2pHWVz-Ox8Xr"
      },
      "source": [
        "df_x = pd.DataFrame(train_X_flat, columns = ['input_data'])"
      ],
      "execution_count": null,
      "outputs": []
    },
    {
      "cell_type": "code",
      "metadata": {
        "colab": {
          "base_uri": "https://localhost:8080/",
          "height": 203
        },
        "id": "XMHVEIgkOLYW",
        "outputId": "c2930496-fcf8-423b-f4a0-516c204826da"
      },
      "source": [
        "df_x.head()"
      ],
      "execution_count": null,
      "outputs": [
        {
          "output_type": "execute_result",
          "data": {
            "text/html": [
              "<div>\n",
              "<style scoped>\n",
              "    .dataframe tbody tr th:only-of-type {\n",
              "        vertical-align: middle;\n",
              "    }\n",
              "\n",
              "    .dataframe tbody tr th {\n",
              "        vertical-align: top;\n",
              "    }\n",
              "\n",
              "    .dataframe thead th {\n",
              "        text-align: right;\n",
              "    }\n",
              "</style>\n",
              "<table border=\"1\" class=\"dataframe\">\n",
              "  <thead>\n",
              "    <tr style=\"text-align: right;\">\n",
              "      <th></th>\n",
              "      <th>input_data</th>\n",
              "    </tr>\n",
              "  </thead>\n",
              "  <tbody>\n",
              "    <tr>\n",
              "      <th>0</th>\n",
              "      <td>0</td>\n",
              "    </tr>\n",
              "    <tr>\n",
              "      <th>1</th>\n",
              "      <td>0</td>\n",
              "    </tr>\n",
              "    <tr>\n",
              "      <th>2</th>\n",
              "      <td>0</td>\n",
              "    </tr>\n",
              "    <tr>\n",
              "      <th>3</th>\n",
              "      <td>0</td>\n",
              "    </tr>\n",
              "    <tr>\n",
              "      <th>4</th>\n",
              "      <td>0</td>\n",
              "    </tr>\n",
              "  </tbody>\n",
              "</table>\n",
              "</div>"
            ],
            "text/plain": [
              "   input_data\n",
              "0           0\n",
              "1           0\n",
              "2           0\n",
              "3           0\n",
              "4           0"
            ]
          },
          "metadata": {
            "tags": []
          },
          "execution_count": 37
        }
      ]
    },
    {
      "cell_type": "code",
      "metadata": {
        "id": "4OtU2FlSyBnG"
      },
      "source": [
        "df_data = pd.concat([df_x, df_w, df_b], axis=1)"
      ],
      "execution_count": null,
      "outputs": []
    },
    {
      "cell_type": "code",
      "metadata": {
        "colab": {
          "base_uri": "https://localhost:8080/",
          "height": 437
        },
        "id": "lZksOuuAyOzL",
        "outputId": "e8bfa2f8-591e-4f55-eaf2-bd38ce8da71b"
      },
      "source": [
        "display(df_data)"
      ],
      "execution_count": null,
      "outputs": [
        {
          "output_type": "display_data",
          "data": {
            "text/html": [
              "<div>\n",
              "<style scoped>\n",
              "    .dataframe tbody tr th:only-of-type {\n",
              "        vertical-align: middle;\n",
              "    }\n",
              "\n",
              "    .dataframe tbody tr th {\n",
              "        vertical-align: top;\n",
              "    }\n",
              "\n",
              "    .dataframe thead th {\n",
              "        text-align: right;\n",
              "    }\n",
              "</style>\n",
              "<table border=\"1\" class=\"dataframe\">\n",
              "  <thead>\n",
              "    <tr style=\"text-align: right;\">\n",
              "      <th></th>\n",
              "      <th>input_data</th>\n",
              "      <th>w1</th>\n",
              "      <th>w2</th>\n",
              "      <th>w3</th>\n",
              "      <th>w4</th>\n",
              "      <th>w5</th>\n",
              "      <th>w6</th>\n",
              "      <th>w7</th>\n",
              "      <th>w8</th>\n",
              "      <th>w9</th>\n",
              "      <th>w10</th>\n",
              "      <th>b</th>\n",
              "    </tr>\n",
              "  </thead>\n",
              "  <tbody>\n",
              "    <tr>\n",
              "      <th>0</th>\n",
              "      <td>0</td>\n",
              "      <td>-1.683189</td>\n",
              "      <td>-0.673117</td>\n",
              "      <td>0.146872</td>\n",
              "      <td>0.396932</td>\n",
              "      <td>0.413951</td>\n",
              "      <td>0.277072</td>\n",
              "      <td>-0.273988</td>\n",
              "      <td>-0.536062</td>\n",
              "      <td>-1.426233</td>\n",
              "      <td>0.693401</td>\n",
              "      <td>1.876581</td>\n",
              "    </tr>\n",
              "    <tr>\n",
              "      <th>1</th>\n",
              "      <td>0</td>\n",
              "      <td>0.359539</td>\n",
              "      <td>-1.262681</td>\n",
              "      <td>-0.656825</td>\n",
              "      <td>0.331104</td>\n",
              "      <td>1.312126</td>\n",
              "      <td>-0.235370</td>\n",
              "      <td>-0.280180</td>\n",
              "      <td>-0.443572</td>\n",
              "      <td>0.245916</td>\n",
              "      <td>-1.106370</td>\n",
              "      <td>-0.261205</td>\n",
              "    </tr>\n",
              "    <tr>\n",
              "      <th>2</th>\n",
              "      <td>0</td>\n",
              "      <td>0.163926</td>\n",
              "      <td>-0.444597</td>\n",
              "      <td>-0.732927</td>\n",
              "      <td>1.095202</td>\n",
              "      <td>2.331494</td>\n",
              "      <td>-1.544463</td>\n",
              "      <td>-0.382893</td>\n",
              "      <td>0.817454</td>\n",
              "      <td>1.341559</td>\n",
              "      <td>0.464609</td>\n",
              "      <td>-0.210879</td>\n",
              "    </tr>\n",
              "    <tr>\n",
              "      <th>3</th>\n",
              "      <td>0</td>\n",
              "      <td>-0.891324</td>\n",
              "      <td>-1.484448</td>\n",
              "      <td>-0.228281</td>\n",
              "      <td>-0.098001</td>\n",
              "      <td>1.604322</td>\n",
              "      <td>-0.305865</td>\n",
              "      <td>0.625929</td>\n",
              "      <td>-0.864685</td>\n",
              "      <td>0.144584</td>\n",
              "      <td>1.179832</td>\n",
              "      <td>-1.896717</td>\n",
              "    </tr>\n",
              "    <tr>\n",
              "      <th>4</th>\n",
              "      <td>0</td>\n",
              "      <td>0.061585</td>\n",
              "      <td>0.607546</td>\n",
              "      <td>-0.711160</td>\n",
              "      <td>-0.485773</td>\n",
              "      <td>0.777638</td>\n",
              "      <td>-0.043279</td>\n",
              "      <td>2.284793</td>\n",
              "      <td>-0.835908</td>\n",
              "      <td>-0.072233</td>\n",
              "      <td>0.235826</td>\n",
              "      <td>-0.907700</td>\n",
              "    </tr>\n",
              "    <tr>\n",
              "      <th>...</th>\n",
              "      <td>...</td>\n",
              "      <td>...</td>\n",
              "      <td>...</td>\n",
              "      <td>...</td>\n",
              "      <td>...</td>\n",
              "      <td>...</td>\n",
              "      <td>...</td>\n",
              "      <td>...</td>\n",
              "      <td>...</td>\n",
              "      <td>...</td>\n",
              "      <td>...</td>\n",
              "      <td>...</td>\n",
              "    </tr>\n",
              "    <tr>\n",
              "      <th>779</th>\n",
              "      <td>3</td>\n",
              "      <td>1.573194</td>\n",
              "      <td>0.667121</td>\n",
              "      <td>-0.159070</td>\n",
              "      <td>-0.350692</td>\n",
              "      <td>-0.967761</td>\n",
              "      <td>-1.337763</td>\n",
              "      <td>0.891390</td>\n",
              "      <td>-0.570674</td>\n",
              "      <td>-0.090048</td>\n",
              "      <td>2.274579</td>\n",
              "      <td>NaN</td>\n",
              "    </tr>\n",
              "    <tr>\n",
              "      <th>780</th>\n",
              "      <td>0</td>\n",
              "      <td>-1.112068</td>\n",
              "      <td>1.161081</td>\n",
              "      <td>1.514520</td>\n",
              "      <td>0.989734</td>\n",
              "      <td>0.833257</td>\n",
              "      <td>0.393939</td>\n",
              "      <td>-1.376008</td>\n",
              "      <td>0.954570</td>\n",
              "      <td>-0.386596</td>\n",
              "      <td>-0.884401</td>\n",
              "      <td>NaN</td>\n",
              "    </tr>\n",
              "    <tr>\n",
              "      <th>781</th>\n",
              "      <td>0</td>\n",
              "      <td>-0.091156</td>\n",
              "      <td>0.060892</td>\n",
              "      <td>-0.208547</td>\n",
              "      <td>1.121261</td>\n",
              "      <td>-0.165631</td>\n",
              "      <td>1.502007</td>\n",
              "      <td>0.171292</td>\n",
              "      <td>1.373980</td>\n",
              "      <td>-0.158657</td>\n",
              "      <td>-1.376716</td>\n",
              "      <td>NaN</td>\n",
              "    </tr>\n",
              "    <tr>\n",
              "      <th>782</th>\n",
              "      <td>0</td>\n",
              "      <td>0.769542</td>\n",
              "      <td>0.602057</td>\n",
              "      <td>0.568383</td>\n",
              "      <td>-0.053170</td>\n",
              "      <td>0.907776</td>\n",
              "      <td>-1.501934</td>\n",
              "      <td>0.626361</td>\n",
              "      <td>-0.364457</td>\n",
              "      <td>0.377999</td>\n",
              "      <td>1.220856</td>\n",
              "      <td>NaN</td>\n",
              "    </tr>\n",
              "    <tr>\n",
              "      <th>783</th>\n",
              "      <td>0</td>\n",
              "      <td>1.263450</td>\n",
              "      <td>1.675063</td>\n",
              "      <td>-1.739701</td>\n",
              "      <td>-1.189481</td>\n",
              "      <td>1.417156</td>\n",
              "      <td>0.371840</td>\n",
              "      <td>0.259437</td>\n",
              "      <td>-0.404599</td>\n",
              "      <td>0.907955</td>\n",
              "      <td>-0.130383</td>\n",
              "      <td>NaN</td>\n",
              "    </tr>\n",
              "  </tbody>\n",
              "</table>\n",
              "<p>784 rows × 12 columns</p>\n",
              "</div>"
            ],
            "text/plain": [
              "     input_data        w1        w2  ...        w9       w10         b\n",
              "0             0 -1.683189 -0.673117  ... -1.426233  0.693401  1.876581\n",
              "1             0  0.359539 -1.262681  ...  0.245916 -1.106370 -0.261205\n",
              "2             0  0.163926 -0.444597  ...  1.341559  0.464609 -0.210879\n",
              "3             0 -0.891324 -1.484448  ...  0.144584  1.179832 -1.896717\n",
              "4             0  0.061585  0.607546  ... -0.072233  0.235826 -0.907700\n",
              "..          ...       ...       ...  ...       ...       ...       ...\n",
              "779           3  1.573194  0.667121  ... -0.090048  2.274579       NaN\n",
              "780           0 -1.112068  1.161081  ... -0.386596 -0.884401       NaN\n",
              "781           0 -0.091156  0.060892  ... -0.158657 -1.376716       NaN\n",
              "782           0  0.769542  0.602057  ...  0.377999  1.220856       NaN\n",
              "783           0  1.263450  1.675063  ...  0.907955 -0.130383       NaN\n",
              "\n",
              "[784 rows x 12 columns]"
            ]
          },
          "metadata": {
            "tags": []
          }
        }
      ]
    },
    {
      "cell_type": "markdown",
      "metadata": {
        "id": "tsQ8tfk6QzJL"
      },
      "source": [
        "#### y_hat"
      ]
    },
    {
      "cell_type": "code",
      "metadata": {
        "id": "5s_5fp50yP1I"
      },
      "source": [
        "y_hat_1 = np.matmul(df_data['input_data'],df_data['w1']) + df_data['b'][0]\n",
        "y_hat_2 = np.matmul(df_data['input_data'],df_data['w1']) + df_data['b'][1]\n",
        "y_hat_3 = np.matmul(df_data['input_data'],df_data['w1']) + df_data['b'][2]\n",
        "y_hat_4 = np.matmul(df_data['input_data'],df_data['w1']) + df_data['b'][3]\n",
        "y_hat_5 = np.matmul(df_data['input_data'],df_data['w1']) + df_data['b'][4]\n",
        "y_hat_6 = np.matmul(df_data['input_data'],df_data['w1']) + df_data['b'][5]\n",
        "y_hat_7 = np.matmul(df_data['input_data'],df_data['w1']) + df_data['b'][6]\n",
        "y_hat_8 = np.matmul(df_data['input_data'],df_data['w1']) + df_data['b'][7]\n",
        "y_hat_9 = np.matmul(df_data['input_data'],df_data['w1']) + df_data['b'][8]\n",
        "y_hat_10 = np.matmul(df_data['input_data'],df_data['w1']) + df_data['b'][9]"
      ],
      "execution_count": null,
      "outputs": []
    },
    {
      "cell_type": "code",
      "metadata": {
        "colab": {
          "base_uri": "https://localhost:8080/"
        },
        "id": "RC4JLX8G5Gby",
        "outputId": "0586aa87-93bc-4c66-ec19-7135ea027336"
      },
      "source": [
        "print(y_hat_1)\n",
        "print(y_hat_2)\n",
        "print(y_hat_3)\n",
        "print(y_hat_4)\n",
        "print(y_hat_5)\n",
        "print(y_hat_6)\n",
        "print(y_hat_7)\n",
        "print(y_hat_8)\n",
        "print(y_hat_9)\n",
        "print(y_hat_10)"
      ],
      "execution_count": null,
      "outputs": [
        {
          "output_type": "stream",
          "text": [
            "-63.611112973765195\n",
            "-65.74889925330369\n",
            "-65.698573842882\n",
            "-67.38441179088683\n",
            "-66.39539469248848\n",
            "-64.22216201745776\n",
            "-64.9223277301303\n",
            "-64.17178285967604\n",
            "-65.49721753889577\n",
            "-65.150513144585\n"
          ],
          "name": "stdout"
        }
      ]
    },
    {
      "cell_type": "code",
      "metadata": {
        "colab": {
          "base_uri": "https://localhost:8080/"
        },
        "id": "XTD9FqzIy84B",
        "outputId": "7c88eed9-1afe-454d-8ed1-bdd6565ccfcd"
      },
      "source": [
        "y_hat_total = np.matmul(df_data['input_data'], parameter['w']) + parameter['b']\n",
        "print(y_hat_total)"
      ],
      "execution_count": null,
      "outputs": [
        {
          "output_type": "stream",
          "text": [
            "[  -63.61111297 -5907.01653066 -3943.95890855 -2147.07981759\n",
            "  1472.29912109  3104.07681434  3262.32369758 -6839.12549403\n",
            "  4664.17539021 -3608.88090578]\n"
          ],
          "name": "stdout"
        }
      ]
    },
    {
      "cell_type": "code",
      "metadata": {
        "colab": {
          "base_uri": "https://localhost:8080/"
        },
        "id": "YkDtljwe5Yw3",
        "outputId": "ccc89662-3108-4957-bea0-70689f54384f"
      },
      "source": [
        "print(np.exp(y_hat_total))"
      ],
      "execution_count": null,
      "outputs": [
        {
          "output_type": "stream",
          "text": [
            "[2.36616294e-28 0.00000000e+00 0.00000000e+00 0.00000000e+00\n",
            "            inf            inf            inf 0.00000000e+00\n",
            "            inf 0.00000000e+00]\n"
          ],
          "name": "stdout"
        },
        {
          "output_type": "stream",
          "text": [
            "/usr/local/lib/python3.7/dist-packages/ipykernel_launcher.py:1: RuntimeWarning: overflow encountered in exp\n",
            "  \"\"\"Entry point for launching an IPython kernel.\n"
          ],
          "name": "stderr"
        }
      ]
    },
    {
      "cell_type": "markdown",
      "metadata": {
        "id": "LSlmqkYQQrwG"
      },
      "source": [
        "#### softmax"
      ]
    },
    {
      "cell_type": "code",
      "metadata": {
        "colab": {
          "base_uri": "https://localhost:8080/"
        },
        "id": "IlIdxIVm05iY",
        "outputId": "3538860f-325d-4ff0-b73e-446f9e22e3ac"
      },
      "source": [
        "f_mnist_max = np.max(y_hat_total)\n",
        "print(f_mnist_max)"
      ],
      "execution_count": null,
      "outputs": [
        {
          "output_type": "stream",
          "text": [
            "4664.17539021189\n"
          ],
          "name": "stdout"
        }
      ]
    },
    {
      "cell_type": "code",
      "metadata": {
        "colab": {
          "base_uri": "https://localhost:8080/"
        },
        "id": "FmHmUdVa0WSa",
        "outputId": "630356f2-322d-4a6f-c672-b571912832c2"
      },
      "source": [
        "diff_y_hat_row = []\n",
        "for i in range(len(y_hat_total)):\n",
        "  diff_y_hat = y_hat_total[i] - f_mnist_max\n",
        "  diff_y_hat_row.append(diff_y_hat)\n",
        "print(diff_y_hat_row)"
      ],
      "execution_count": null,
      "outputs": [
        {
          "output_type": "stream",
          "text": [
            "[-4727.786503185657, -10571.191920869689, -8608.13429875897, -6811.255207805259, -3191.87626912441, -1560.0985758727088, -1401.8516926336606, -11503.300884242743, 0.0, -8273.056295995246]\n"
          ],
          "name": "stdout"
        }
      ]
    },
    {
      "cell_type": "code",
      "metadata": {
        "colab": {
          "base_uri": "https://localhost:8080/"
        },
        "id": "Arzl55IH1FoS",
        "outputId": "799711f1-2337-47b5-ea6e-8f085034f054"
      },
      "source": [
        "exp_y_hat_row = []\n",
        "for i in range(len(diff_y_hat_row)):\n",
        "  exp_y_hat = np.exp(diff_y_hat_row[i])\n",
        "  exp_y_hat_row.append(exp_y_hat)\n",
        "print(exp_y_hat_row)"
      ],
      "execution_count": null,
      "outputs": [
        {
          "output_type": "stream",
          "text": [
            "[0.0, 0.0, 0.0, 0.0, 0.0, 0.0, 0.0, 0.0, 1.0, 0.0]\n"
          ],
          "name": "stdout"
        }
      ]
    },
    {
      "cell_type": "code",
      "metadata": {
        "colab": {
          "base_uri": "https://localhost:8080/"
        },
        "id": "2un3ML4D1t-5",
        "outputId": "66d6af2e-b2ff-4d19-80f8-29606b78bd69"
      },
      "source": [
        "exp_i_sum = np.sum(exp_y_hat_row)\n",
        "result = []\n",
        "\n",
        "for i in range(len(exp_y_hat_row)):\n",
        "    result.append(exp_y_hat_row[i]/exp_i_sum)\n",
        "\n",
        "result = np.round(result,3)\n",
        "\n",
        "for i in range(len(result)):\n",
        "    print(\"Label {} : {} %\".format(i, result[i] * 100))\n",
        "    \n",
        "print(\"=\" * 50)\n",
        "print(\"Result Predict - {} label\".format(np.argmax(result)))\n",
        "print(\"Y_Label : \", train_Y[10])\n",
        "print(\"Total % : {}%\".format(np.round(np.sum(result) * 100 ,2)))\n",
        "print(\"=\" * 50)"
      ],
      "execution_count": null,
      "outputs": [
        {
          "output_type": "stream",
          "text": [
            "Label 0 : 0.0 %\n",
            "Label 1 : 0.0 %\n",
            "Label 2 : 0.0 %\n",
            "Label 3 : 0.0 %\n",
            "Label 4 : 0.0 %\n",
            "Label 5 : 0.0 %\n",
            "Label 6 : 0.0 %\n",
            "Label 7 : 0.0 %\n",
            "Label 8 : 100.0 %\n",
            "Label 9 : 0.0 %\n",
            "==================================================\n",
            "Result Predict - 8 label\n",
            "Y_Label :  0\n",
            "Total % : 100.0%\n",
            "==================================================\n"
          ],
          "name": "stdout"
        }
      ]
    }
  ]
}