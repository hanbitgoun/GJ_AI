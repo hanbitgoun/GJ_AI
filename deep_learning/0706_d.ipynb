{
  "nbformat": 4,
  "nbformat_minor": 0,
  "metadata": {
    "colab": {
      "name": "0706_d.ipynb",
      "provenance": [],
      "collapsed_sections": [],
      "include_colab_link": true
    },
    "kernelspec": {
      "name": "python3",
      "display_name": "Python 3"
    },
    "language_info": {
      "name": "python"
    }
  },
  "cells": [
    {
      "cell_type": "markdown",
      "metadata": {
        "id": "view-in-github",
        "colab_type": "text"
      },
      "source": [
        "<a href=\"https://colab.research.google.com/github/hanbitgoun/GJ_AI/blob/main/deep_learning/0706_d.ipynb\" target=\"_parent\"><img src=\"https://colab.research.google.com/assets/colab-badge.svg\" alt=\"Open In Colab\"/></a>"
      ]
    },
    {
      "cell_type": "markdown",
      "metadata": {
        "id": "mdy3V5-6W7yy"
      },
      "source": [
        "#### y = theta_0 + theta_1 * x"
      ]
    },
    {
      "cell_type": "code",
      "metadata": {
        "id": "qydbugqUFQjg"
      },
      "source": [
        "class Y_pred():\n",
        "  def __init__(self,theta_0,theta_1):\n",
        "    self.theta_0 = theta_0\n",
        "    self.theta_1 = theta_1"
      ],
      "execution_count": null,
      "outputs": []
    },
    {
      "cell_type": "code",
      "metadata": {
        "id": "86r5G5cWMRoM"
      },
      "source": [
        "# y_hat \n",
        "def out_y_hat(self,input_x):\n",
        "  y_hat_row = []\n",
        "  for i in range(len(input_x)):\n",
        "    y_hat = self.theta_0 + self.theta_1 * input_x[i]\n",
        "    y_hat_row.append(y_hat)\n",
        "\n",
        "  return y_hat_row\n",
        "\n",
        "Y_pred.y_hat = out_y_hat"
      ],
      "execution_count": null,
      "outputs": []
    },
    {
      "cell_type": "code",
      "metadata": {
        "id": "pkBtnnL1M26-"
      },
      "source": [
        "Y_pred_C = Y_pred(theta_0=1, theta_1=2)"
      ],
      "execution_count": null,
      "outputs": []
    },
    {
      "cell_type": "code",
      "metadata": {
        "colab": {
          "base_uri": "https://localhost:8080/"
        },
        "id": "mofeFQePM_vT",
        "outputId": "e8e7fa6d-b47d-4fd6-cafd-fbd29f39f83d"
      },
      "source": [
        "x = [1000, 2000]\n",
        "Y_pred_C.y_hat(input_x= x)"
      ],
      "execution_count": null,
      "outputs": [
        {
          "output_type": "execute_result",
          "data": {
            "text/plain": [
              "[2001, 4001]"
            ]
          },
          "metadata": {
            "tags": []
          },
          "execution_count": 4
        }
      ]
    },
    {
      "cell_type": "code",
      "metadata": {
        "colab": {
          "base_uri": "https://localhost:8080/"
        },
        "id": "WOirH0PNNKrb",
        "outputId": "80b31432-cae3-4d3c-bedf-99fc2834aad9"
      },
      "source": [
        "x = [580,700,810,840]\n",
        "Y_pred_C.y_hat(input_x= x)"
      ],
      "execution_count": null,
      "outputs": [
        {
          "output_type": "execute_result",
          "data": {
            "text/plain": [
              "[1161, 1401, 1621, 1681]"
            ]
          },
          "metadata": {
            "tags": []
          },
          "execution_count": 5
        }
      ]
    },
    {
      "cell_type": "markdown",
      "metadata": {
        "id": "wGS-knh2XiUQ"
      },
      "source": [
        "#### SSE"
      ]
    },
    {
      "cell_type": "markdown",
      "metadata": {
        "id": "yP1Y4jV7OVFo"
      },
      "source": [
        "손실함수 중 하나 : MSE\n",
        "\n",
        "목적함수 : SSE "
      ]
    },
    {
      "cell_type": "code",
      "metadata": {
        "colab": {
          "base_uri": "https://localhost:8080/"
        },
        "id": "fMglE57hNesD",
        "outputId": "c4d4711f-44d5-46b2-c72e-bcf374106f91"
      },
      "source": [
        "# 1/2\n",
        "import numpy as np\n",
        "y_label_total = [374,385,375,401]\n",
        "y_hat_total = [1161, 1401, 1621, 1681]\n",
        "\n",
        "diff_row = []\n",
        "\n",
        "# sse를 반환하는 함수\n",
        "for i in range(len(y_label_total)):\n",
        "  diff = y_label_total[i] - y_hat_total[i]\n",
        "  diff_row.append(diff)\n",
        "  square = np.square(diff_row)\n",
        "  sse = 1/2*(np.sum(square))\n",
        "\n",
        "print('DIff : {} \\nSquare : {}\\nSSE : {}'.format(diff_row, square, sse))"
      ],
      "execution_count": null,
      "outputs": [
        {
          "output_type": "stream",
          "text": [
            "DIff : [-787, -1016, -1246, -1280] \n",
            "Square : [ 619369 1032256 1552516 1638400]\n",
            "SSE : 2421270.5\n"
          ],
          "name": "stdout"
        }
      ]
    },
    {
      "cell_type": "markdown",
      "metadata": {
        "id": "UVmeGeBdQXTa"
      },
      "source": [
        "#### 경사하강법"
      ]
    },
    {
      "cell_type": "markdown",
      "metadata": {
        "id": "dHGEA3QP-qM8"
      },
      "source": [
        "sse 줄이기위함 "
      ]
    },
    {
      "cell_type": "markdown",
      "metadata": {
        "id": "fRouFlO5RT8W"
      },
      "source": [
        "eta : 학습률 learning rate / 양의값 / default 0.001 \n",
        "\n",
        "값(theta, parameter ...)의 갱신 폭을 제어하는 역할\n",
        "\n",
        "하이퍼 파라미터"
      ]
    },
    {
      "cell_type": "markdown",
      "metadata": {
        "id": "oINAG9rKSNPV"
      },
      "source": [
        "학습률 : 1\n",
        "x : 3\n",
        "값의 갱신 반복 횟수 : 4"
      ]
    },
    {
      "cell_type": "code",
      "metadata": {
        "id": "frxFUuM7Qk0P"
      },
      "source": [
        "def g(x, learning_rate): \n",
        "  print(\"Now X value : {}\".format(x))\n",
        "  print(\"Now Learging_rate value : {}\".format(learning_rate))\n",
        "\n",
        "  epoch_1_x = x - learning_rate * ((2*x)-2)\n",
        "  print(\"Epoch - 1 / x : {}\".format(epoch_1_x))\n",
        "\n",
        "  epoch_2_x = epoch_1_x - learning_rate * ((2*epoch_1_x)-2)\n",
        "  print(\"Epoch - 2 / x : {}\".format(epoch_2_x))\n",
        "\n",
        "  epoch_3_x = epoch_2_x - learning_rate * ((2*epoch_2_x)-2)\n",
        "  print(\"Epoch - 3 / x : {}\".format(epoch_3_x))\n",
        "\n",
        "  epoch_4_x = epoch_3_x - learning_rate * ((2*epoch_3_x)-2)\n",
        "  print(\"Epoch - 4 / x : {}\".format(epoch_4_x)) "
      ],
      "execution_count": null,
      "outputs": []
    },
    {
      "cell_type": "code",
      "metadata": {
        "colab": {
          "base_uri": "https://localhost:8080/"
        },
        "id": "99ZGLyvoTrJH",
        "outputId": "f656c737-2b38-496c-f269-75145b8c5e89"
      },
      "source": [
        "g(x = 3, learning_rate = 1) # 0.1 ~ 1"
      ],
      "execution_count": null,
      "outputs": [
        {
          "output_type": "stream",
          "text": [
            "Now X value : 3\n",
            "Now Learging_rate value : 1\n",
            "Epoch - 1 / x : -1\n",
            "Epoch - 2 / x : 3\n",
            "Epoch - 3 / x : -1\n",
            "Epoch - 4 / x : 3\n"
          ],
          "name": "stdout"
        }
      ]
    },
    {
      "cell_type": "markdown",
      "metadata": {
        "id": "gKfwavaeUVPv"
      },
      "source": [
        "#### Adam : 최적화 기법\n",
        "\n",
        "최적화 : 매개변수의 최적값을 찾는것\n"
      ]
    },
    {
      "cell_type": "code",
      "metadata": {
        "id": "SSt2MTlfVLhB"
      },
      "source": [
        "import matplotlib.pyplot as plt\n",
        "\n",
        "\n",
        "def g_x(learning_rate, epoch_count, random_value_bool = False, x=3):\n",
        "  if random_value_bool: #True\n",
        "    x = np.random.normal(0,1,size=1)\n",
        "  \n",
        "  print(\"Now x_value : {}\".format(x))\n",
        "  print(\"Now learning_rate : {}\".format(learning_rate))\n",
        "\n",
        "  x_row = []\n",
        "\n",
        "  for i in range(epoch_count):\n",
        "    # 경사하강법 수식\n",
        "    x = x - learning_rate*((2*x)-2)\n",
        "    print(\"Epoch {} - x : {}\".format(i+1, np.round(x,3)))\n",
        "    x_row.append(x)\n",
        "\n",
        "  return x_row"
      ],
      "execution_count": null,
      "outputs": []
    },
    {
      "cell_type": "code",
      "metadata": {
        "colab": {
          "base_uri": "https://localhost:8080/"
        },
        "id": "3b8QLjNcVr40",
        "outputId": "1c853802-a240-4c16-ed86-7bb541d32b2b"
      },
      "source": [
        "result = g_x(learning_rate=0.1, epoch_count=30, random_value_bool=True)"
      ],
      "execution_count": null,
      "outputs": [
        {
          "output_type": "stream",
          "text": [
            "Now x_value : [-1.09976667]\n",
            "Now learning_rate : 0.1\n",
            "Epoch 1 - x : [-0.68]\n",
            "Epoch 2 - x : [-0.344]\n",
            "Epoch 3 - x : [-0.075]\n",
            "Epoch 4 - x : [0.14]\n",
            "Epoch 5 - x : [0.312]\n",
            "Epoch 6 - x : [0.45]\n",
            "Epoch 7 - x : [0.56]\n",
            "Epoch 8 - x : [0.648]\n",
            "Epoch 9 - x : [0.718]\n",
            "Epoch 10 - x : [0.775]\n",
            "Epoch 11 - x : [0.82]\n",
            "Epoch 12 - x : [0.856]\n",
            "Epoch 13 - x : [0.885]\n",
            "Epoch 14 - x : [0.908]\n",
            "Epoch 15 - x : [0.926]\n",
            "Epoch 16 - x : [0.941]\n",
            "Epoch 17 - x : [0.953]\n",
            "Epoch 18 - x : [0.962]\n",
            "Epoch 19 - x : [0.97]\n",
            "Epoch 20 - x : [0.976]\n",
            "Epoch 21 - x : [0.981]\n",
            "Epoch 22 - x : [0.985]\n",
            "Epoch 23 - x : [0.988]\n",
            "Epoch 24 - x : [0.99]\n",
            "Epoch 25 - x : [0.992]\n",
            "Epoch 26 - x : [0.994]\n",
            "Epoch 27 - x : [0.995]\n",
            "Epoch 28 - x : [0.996]\n",
            "Epoch 29 - x : [0.997]\n",
            "Epoch 30 - x : [0.997]\n"
          ],
          "name": "stdout"
        }
      ]
    },
    {
      "cell_type": "markdown",
      "metadata": {
        "id": "g_0sW6Z_zrJg"
      },
      "source": [
        "#### 시각화"
      ]
    },
    {
      "cell_type": "code",
      "metadata": {
        "colab": {
          "base_uri": "https://localhost:8080/",
          "height": 279
        },
        "id": "hTWlmXq6Xi2T",
        "outputId": "8b7d69c3-aa96-4c00-d943-b968ac0848c3"
      },
      "source": [
        "plt.plot(result, '--o', color = 'red')\n",
        "plt.xlabel('Epoch')\n",
        "plt.ylabel('X value')\n",
        "plt.grid()\n",
        "plt.show()"
      ],
      "execution_count": null,
      "outputs": [
        {
          "output_type": "display_data",
          "data": {
            "image/png": "[encoded data removed]",
            "text/plain": [
              "<Figure size 432x288 with 1 Axes>"
            ]
          },
          "metadata": {
            "tags": [],
            "needs_background": "light"
          }
        }
      ]
    }
  ]
}