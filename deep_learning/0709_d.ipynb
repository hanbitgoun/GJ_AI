{
  "nbformat": 4,
  "nbformat_minor": 0,
  "metadata": {
    "colab": {
      "name": "0709_d.ipynb",
      "provenance": [],
      "collapsed_sections": [],
      "include_colab_link": true
    },
    "kernelspec": {
      "name": "python3",
      "display_name": "Python 3"
    },
    "language_info": {
      "name": "python"
    }
  },
  "cells": [
    {
      "cell_type": "markdown",
      "metadata": {
        "id": "view-in-github",
        "colab_type": "text"
      },
      "source": [
        "<a href=\"https://colab.research.google.com/github/hanbitgoun/GJ_AI/blob/main/deep_learning/0709_d.ipynb\" target=\"_parent\"><img src=\"https://colab.research.google.com/assets/colab-badge.svg\" alt=\"Open In Colab\"/></a>"
      ]
    },
    {
      "cell_type": "code",
      "metadata": {
        "id": "ZWniH9Bwkkj3"
      },
      "source": [
        "import numpy as np\n",
        "import pandas as pd"
      ],
      "execution_count": null,
      "outputs": []
    },
    {
      "cell_type": "markdown",
      "metadata": {
        "id": "fAqWMdMGFveH"
      },
      "source": [
        "#### 데이터 불러오기"
      ]
    },
    {
      "cell_type": "code",
      "metadata": {
        "colab": {
          "base_uri": "https://localhost:8080/"
        },
        "id": "MK_vxU1Umpup",
        "outputId": "739066e9-cf5b-47f8-a500-64146c509902"
      },
      "source": [
        "df = pd.read_csv('/content/faults.csv')\n",
        "df.info()"
      ],
      "execution_count": null,
      "outputs": [
        {
          "output_type": "stream",
          "text": [
            "<class 'pandas.core.frame.DataFrame'>\n",
            "RangeIndex: 1941 entries, 0 to 1940\n",
            "Data columns (total 34 columns):\n",
            " #   Column                 Non-Null Count  Dtype  \n",
            "---  ------                 --------------  -----  \n",
            " 0   X_Minimum              1941 non-null   int64  \n",
            " 1   X_Maximum              1941 non-null   int64  \n",
            " 2   Y_Minimum              1941 non-null   int64  \n",
            " 3   Y_Maximum              1941 non-null   int64  \n",
            " 4   Pixels_Areas           1941 non-null   int64  \n",
            " 5   X_Perimeter            1941 non-null   int64  \n",
            " 6   Y_Perimeter            1941 non-null   int64  \n",
            " 7   Sum_of_Luminosity      1941 non-null   int64  \n",
            " 8   Minimum_of_Luminosity  1941 non-null   int64  \n",
            " 9   Maximum_of_Luminosity  1941 non-null   int64  \n",
            " 10  Length_of_Conveyer     1941 non-null   int64  \n",
            " 11  TypeOfSteel_A300       1941 non-null   int64  \n",
            " 12  TypeOfSteel_A400       1941 non-null   int64  \n",
            " 13  Steel_Plate_Thickness  1941 non-null   int64  \n",
            " 14  Edges_Index            1941 non-null   float64\n",
            " 15  Empty_Index            1941 non-null   float64\n",
            " 16  Square_Index           1941 non-null   float64\n",
            " 17  Outside_X_Index        1941 non-null   float64\n",
            " 18  Edges_X_Index          1941 non-null   float64\n",
            " 19  Edges_Y_Index          1941 non-null   float64\n",
            " 20  Outside_Global_Index   1941 non-null   float64\n",
            " 21  LogOfAreas             1941 non-null   float64\n",
            " 22  Log_X_Index            1941 non-null   float64\n",
            " 23  Log_Y_Index            1941 non-null   float64\n",
            " 24  Orientation_Index      1941 non-null   float64\n",
            " 25  Luminosity_Index       1941 non-null   float64\n",
            " 26  SigmoidOfAreas         1941 non-null   float64\n",
            " 27  Pastry                 1941 non-null   int64  \n",
            " 28  Z_Scratch              1941 non-null   int64  \n",
            " 29  K_Scatch               1941 non-null   int64  \n",
            " 30  Stains                 1941 non-null   int64  \n",
            " 31  Dirtiness              1941 non-null   int64  \n",
            " 32  Bumps                  1941 non-null   int64  \n",
            " 33  Other_Faults           1941 non-null   int64  \n",
            "dtypes: float64(13), int64(21)\n",
            "memory usage: 515.7 KB\n"
          ],
          "name": "stdout"
        }
      ]
    },
    {
      "cell_type": "code",
      "metadata": {
        "colab": {
          "base_uri": "https://localhost:8080/"
        },
        "id": "ZOHJXz5sm5Gi",
        "outputId": "b3945e17-6603-4db0-e3d7-86389f4e6fee"
      },
      "source": [
        "df_dataset = df[['X_Minimum','X_Maximum','Steel_Plate_Thickness','LogOfAreas',\n",
        "                 'Pastry','Z_Scratch','Bumps']]\n",
        "print(\"df_dataset.shape : \", df_dataset.shape)\n",
        "print(df_dataset.info())"
      ],
      "execution_count": null,
      "outputs": [
        {
          "output_type": "stream",
          "text": [
            "df_dataset.shape :  (1941, 7)\n",
            "<class 'pandas.core.frame.DataFrame'>\n",
            "RangeIndex: 1941 entries, 0 to 1940\n",
            "Data columns (total 7 columns):\n",
            " #   Column                 Non-Null Count  Dtype  \n",
            "---  ------                 --------------  -----  \n",
            " 0   X_Minimum              1941 non-null   int64  \n",
            " 1   X_Maximum              1941 non-null   int64  \n",
            " 2   Steel_Plate_Thickness  1941 non-null   int64  \n",
            " 3   LogOfAreas             1941 non-null   float64\n",
            " 4   Pastry                 1941 non-null   int64  \n",
            " 5   Z_Scratch              1941 non-null   int64  \n",
            " 6   Bumps                  1941 non-null   int64  \n",
            "dtypes: float64(1), int64(6)\n",
            "memory usage: 106.3 KB\n",
            "None\n"
          ],
          "name": "stdout"
        }
      ]
    },
    {
      "cell_type": "code",
      "metadata": {
        "id": "Ou3Lz4ywnW2c"
      },
      "source": [
        "df_dataset = np.asarray(df_dataset, dtype='float32')"
      ],
      "execution_count": null,
      "outputs": []
    },
    {
      "cell_type": "code",
      "metadata": {
        "colab": {
          "base_uri": "https://localhost:8080/"
        },
        "id": "aCJvUlv9npeQ",
        "outputId": "80449e43-ea6c-438e-98e5-7670e08fdef8"
      },
      "source": [
        "df_dataset_x = df_dataset[0:1,:-3] # 독립변수\n",
        "df_dataset_y = df_dataset[0:1,-3:] # 종속변수\n",
        "\n",
        "print(\"df_dataset_x : \",df_dataset_x)\n",
        "print('df_dataset_x.shape : ',df_dataset_x.shape)\n",
        "print(\"df_dataset_y : \",df_dataset_y)\n",
        "print('df_dataset_y.shape : ',df_dataset_y.shape)"
      ],
      "execution_count": null,
      "outputs": [
        {
          "output_type": "stream",
          "text": [
            "df_dataset_x :  [[42.     50.     80.      2.4265]]\n",
            "df_dataset_x.shape :  (1, 4)\n",
            "df_dataset_y :  [[1. 0. 0.]]\n",
            "df_dataset_y.shape :  (1, 3)\n"
          ],
          "name": "stdout"
        }
      ]
    },
    {
      "cell_type": "code",
      "metadata": {
        "colab": {
          "base_uri": "https://localhost:8080/"
        },
        "id": "3yiJrwgvnzBD",
        "outputId": "258223a7-8dbf-4e7b-acae-5ec5cb4180e5"
      },
      "source": [
        "RND_MEAN = 0\n",
        "RND_STD = 1\n",
        "\n",
        "input_cnt = df_dataset_x.shape[-1]  # 독립변수의 개수\n",
        "output_cnt = df_dataset_y.shape[-1] # 종속변수의 개수\n",
        "\n",
        "weight = np.random.normal(RND_MEAN, RND_STD, size = [input_cnt, output_cnt])\n",
        "bias = np.random.normal(RND_MEAN, RND_STD, size = [output_cnt])\n",
        "\n",
        "print('weight.shape : ', weight.shape)\n",
        "print('bias.shape : ', bias.shape)"
      ],
      "execution_count": null,
      "outputs": [
        {
          "output_type": "stream",
          "text": [
            "weight.shape :  (4, 3)\n",
            "bias.shape :  (3,)\n"
          ],
          "name": "stdout"
        }
      ]
    },
    {
      "cell_type": "code",
      "metadata": {
        "colab": {
          "base_uri": "https://localhost:8080/"
        },
        "id": "yvCI-PD8phei",
        "outputId": "9e83122d-8fef-4987-a675-5a0a8d4b3184"
      },
      "source": [
        "print(\"df_dataset_x : \\n\", df_dataset_x)\n",
        "\n",
        "print(\"weight : \\n\", weight)\n",
        "print(\"bias : \\n\", bias)"
      ],
      "execution_count": null,
      "outputs": [
        {
          "output_type": "stream",
          "text": [
            "df_dataset_x : \n",
            " [[42.     50.     80.      2.4265]]\n",
            "weight : \n",
            " [[-0.7444182   0.35001641  0.46986175]\n",
            " [ 0.43455514  0.23424979  1.49568794]\n",
            " [-0.8134322   0.53625438  1.43700191]\n",
            " [ 0.5686819  -0.04577269 -1.28662673]]\n",
            "bias : \n",
            " [-1.46196896  0.20723172 -1.23141231]\n"
          ],
          "name": "stdout"
        }
      ]
    },
    {
      "cell_type": "code",
      "metadata": {
        "colab": {
          "base_uri": "https://localhost:8080/"
        },
        "id": "oZsx0J20p3qn",
        "outputId": "89ea51ca-c12f-4edc-eec7-76d4fb9e710e"
      },
      "source": [
        "P_1 = np.matmul(df_dataset_x[0], weight[:,0]) + bias[0 ] # perceptron 1\n",
        "P_2 = np.matmul(df_dataset_x[0], weight[:,1]) + bias[1]\n",
        "P_3 = np.matmul(df_dataset_x[0], weight[:,2]) + bias[2]\n",
        "\n",
        "P_total = np.matmul(df_dataset_x, weight) + bias\n",
        "\n",
        "print(P_1)\n",
        "print(P_2)\n",
        "print(P_3)\n",
        "print()\n",
        "\n",
        "print(P_total)"
      ],
      "execution_count": null,
      "outputs": [
        {
          "output_type": "stream",
          "text": [
            "-74.69444531417737\n",
            "69.40969317574974\n",
            "205.1253316178329\n",
            "\n",
            "[[-74.69444531  69.40969318 205.12533162]]\n"
          ],
          "name": "stdout"
        }
      ]
    },
    {
      "cell_type": "markdown",
      "metadata": {
        "id": "oislME5yr5Va"
      },
      "source": [
        "#### (Model) Parameter - Weight / Bias\n",
        "\n",
        "#### HyperParameter - lr / epoch / std / mean"
      ]
    },
    {
      "cell_type": "code",
      "metadata": {
        "colab": {
          "base_uri": "https://localhost:8080/",
          "height": 623
        },
        "id": "eVr9oPHirVgC",
        "outputId": "4bffe9b9-b1e8-4d19-ba9f-3e402cde8e04"
      },
      "source": [
        "df = pd.read_csv('/content/faults_mini.csv')\n",
        "df.info()\n",
        "display(df)"
      ],
      "execution_count": null,
      "outputs": [
        {
          "output_type": "stream",
          "text": [
            "<class 'pandas.core.frame.DataFrame'>\n",
            "RangeIndex: 10 entries, 0 to 9\n",
            "Data columns (total 7 columns):\n",
            " #   Column                 Non-Null Count  Dtype\n",
            "---  ------                 --------------  -----\n",
            " 0   X_Minimum              10 non-null     int64\n",
            " 1   Y_Minimum              10 non-null     int64\n",
            " 2   Pixels_Areas           10 non-null     int64\n",
            " 3   Steel_Plate_Thickness  10 non-null     int64\n",
            " 4   Pastry                 10 non-null     int64\n",
            " 5   Z_Scratch              10 non-null     int64\n",
            " 6   K_Scatch               10 non-null     int64\n",
            "dtypes: int64(7)\n",
            "memory usage: 688.0 bytes\n"
          ],
          "name": "stdout"
        },
        {
          "output_type": "display_data",
          "data": {
            "text/html": [
              "<div>\n",
              "<style scoped>\n",
              "    .dataframe tbody tr th:only-of-type {\n",
              "        vertical-align: middle;\n",
              "    }\n",
              "\n",
              "    .dataframe tbody tr th {\n",
              "        vertical-align: top;\n",
              "    }\n",
              "\n",
              "    .dataframe thead th {\n",
              "        text-align: right;\n",
              "    }\n",
              "</style>\n",
              "<table border=\"1\" class=\"dataframe\">\n",
              "  <thead>\n",
              "    <tr style=\"text-align: right;\">\n",
              "      <th></th>\n",
              "      <th>X_Minimum</th>\n",
              "      <th>Y_Minimum</th>\n",
              "      <th>Pixels_Areas</th>\n",
              "      <th>Steel_Plate_Thickness</th>\n",
              "      <th>Pastry</th>\n",
              "      <th>Z_Scratch</th>\n",
              "      <th>K_Scatch</th>\n",
              "    </tr>\n",
              "  </thead>\n",
              "  <tbody>\n",
              "    <tr>\n",
              "      <th>0</th>\n",
              "      <td>42</td>\n",
              "      <td>270900</td>\n",
              "      <td>267</td>\n",
              "      <td>80</td>\n",
              "      <td>1</td>\n",
              "      <td>0</td>\n",
              "      <td>0</td>\n",
              "    </tr>\n",
              "    <tr>\n",
              "      <th>1</th>\n",
              "      <td>1084</td>\n",
              "      <td>185575</td>\n",
              "      <td>108</td>\n",
              "      <td>40</td>\n",
              "      <td>0</td>\n",
              "      <td>0</td>\n",
              "      <td>1</td>\n",
              "    </tr>\n",
              "    <tr>\n",
              "      <th>2</th>\n",
              "      <td>1109</td>\n",
              "      <td>1170194</td>\n",
              "      <td>130</td>\n",
              "      <td>175</td>\n",
              "      <td>0</td>\n",
              "      <td>1</td>\n",
              "      <td>0</td>\n",
              "    </tr>\n",
              "    <tr>\n",
              "      <th>3</th>\n",
              "      <td>190</td>\n",
              "      <td>210936</td>\n",
              "      <td>132</td>\n",
              "      <td>150</td>\n",
              "      <td>1</td>\n",
              "      <td>0</td>\n",
              "      <td>0</td>\n",
              "    </tr>\n",
              "    <tr>\n",
              "      <th>4</th>\n",
              "      <td>330</td>\n",
              "      <td>429227</td>\n",
              "      <td>264</td>\n",
              "      <td>150</td>\n",
              "      <td>1</td>\n",
              "      <td>0</td>\n",
              "      <td>0</td>\n",
              "    </tr>\n",
              "    <tr>\n",
              "      <th>5</th>\n",
              "      <td>74</td>\n",
              "      <td>779144</td>\n",
              "      <td>1506</td>\n",
              "      <td>150</td>\n",
              "      <td>1</td>\n",
              "      <td>0</td>\n",
              "      <td>0</td>\n",
              "    </tr>\n",
              "    <tr>\n",
              "      <th>6</th>\n",
              "      <td>51</td>\n",
              "      <td>585861</td>\n",
              "      <td>139</td>\n",
              "      <td>70</td>\n",
              "      <td>0</td>\n",
              "      <td>1</td>\n",
              "      <td>0</td>\n",
              "    </tr>\n",
              "    <tr>\n",
              "      <th>7</th>\n",
              "      <td>397</td>\n",
              "      <td>604478</td>\n",
              "      <td>444</td>\n",
              "      <td>70</td>\n",
              "      <td>0</td>\n",
              "      <td>1</td>\n",
              "      <td>0</td>\n",
              "    </tr>\n",
              "    <tr>\n",
              "      <th>8</th>\n",
              "      <td>43</td>\n",
              "      <td>366881</td>\n",
              "      <td>4048</td>\n",
              "      <td>40</td>\n",
              "      <td>0</td>\n",
              "      <td>0</td>\n",
              "      <td>1</td>\n",
              "    </tr>\n",
              "    <tr>\n",
              "      <th>9</th>\n",
              "      <td>48</td>\n",
              "      <td>377537</td>\n",
              "      <td>3985</td>\n",
              "      <td>40</td>\n",
              "      <td>0</td>\n",
              "      <td>0</td>\n",
              "      <td>1</td>\n",
              "    </tr>\n",
              "  </tbody>\n",
              "</table>\n",
              "</div>"
            ],
            "text/plain": [
              "   X_Minimum  Y_Minimum  Pixels_Areas  ...  Pastry  Z_Scratch  K_Scatch\n",
              "0         42     270900           267  ...       1          0         0\n",
              "1       1084     185575           108  ...       0          0         1\n",
              "2       1109    1170194           130  ...       0          1         0\n",
              "3        190     210936           132  ...       1          0         0\n",
              "4        330     429227           264  ...       1          0         0\n",
              "5         74     779144          1506  ...       1          0         0\n",
              "6         51     585861           139  ...       0          1         0\n",
              "7        397     604478           444  ...       0          1         0\n",
              "8         43     366881          4048  ...       0          0         1\n",
              "9         48     377537          3985  ...       0          0         1\n",
              "\n",
              "[10 rows x 7 columns]"
            ]
          },
          "metadata": {
            "tags": []
          }
        }
      ]
    },
    {
      "cell_type": "code",
      "metadata": {
        "colab": {
          "base_uri": "https://localhost:8080/"
        },
        "id": "jNqKz_d4t5F3",
        "outputId": "b1e58347-f395-4d96-8ca0-48319a06ea62"
      },
      "source": [
        "input_cnt = 4\n",
        "output_cnt = 3\n",
        "data = np.asarray(df, dtype='float32')\n",
        "print(data)"
      ],
      "execution_count": null,
      "outputs": [
        {
          "output_type": "stream",
          "text": [
            "[[4.200000e+01 2.709000e+05 2.670000e+02 8.000000e+01 1.000000e+00\n",
            "  0.000000e+00 0.000000e+00]\n",
            " [1.084000e+03 1.855750e+05 1.080000e+02 4.000000e+01 0.000000e+00\n",
            "  0.000000e+00 1.000000e+00]\n",
            " [1.109000e+03 1.170194e+06 1.300000e+02 1.750000e+02 0.000000e+00\n",
            "  1.000000e+00 0.000000e+00]\n",
            " [1.900000e+02 2.109360e+05 1.320000e+02 1.500000e+02 1.000000e+00\n",
            "  0.000000e+00 0.000000e+00]\n",
            " [3.300000e+02 4.292270e+05 2.640000e+02 1.500000e+02 1.000000e+00\n",
            "  0.000000e+00 0.000000e+00]\n",
            " [7.400000e+01 7.791440e+05 1.506000e+03 1.500000e+02 1.000000e+00\n",
            "  0.000000e+00 0.000000e+00]\n",
            " [5.100000e+01 5.858610e+05 1.390000e+02 7.000000e+01 0.000000e+00\n",
            "  1.000000e+00 0.000000e+00]\n",
            " [3.970000e+02 6.044780e+05 4.440000e+02 7.000000e+01 0.000000e+00\n",
            "  1.000000e+00 0.000000e+00]\n",
            " [4.300000e+01 3.668810e+05 4.048000e+03 4.000000e+01 0.000000e+00\n",
            "  0.000000e+00 1.000000e+00]\n",
            " [4.800000e+01 3.775370e+05 3.985000e+03 4.000000e+01 0.000000e+00\n",
            "  0.000000e+00 1.000000e+00]]\n"
          ],
          "name": "stdout"
        }
      ]
    },
    {
      "cell_type": "code",
      "metadata": {
        "colab": {
          "base_uri": "https://localhost:8080/"
        },
        "id": "cdvmuxd_uM1F",
        "outputId": "b781a78e-cac5-44e7-c8c4-57af028bd0f3"
      },
      "source": [
        "weight = np.random.normal(RND_MEAN, RND_STD, size = [input_cnt, output_cnt])\n",
        "bias = np.random.normal(RND_MEAN, RND_STD, size = [output_cnt])\n",
        "\n",
        "print(\"weight.shape : \", weight.shape)\n",
        "print(\"bias.shape : \", bias.shape)\n",
        "print(\"data.shape : \", data.shape)"
      ],
      "execution_count": null,
      "outputs": [
        {
          "output_type": "stream",
          "text": [
            "weight.shape :  (4, 3)\n",
            "bias.shape :  (3,)\n",
            "data.shape :  (10, 7)\n"
          ],
          "name": "stdout"
        }
      ]
    },
    {
      "cell_type": "code",
      "metadata": {
        "colab": {
          "base_uri": "https://localhost:8080/"
        },
        "id": "IxBfCkfEughG",
        "outputId": "15d8ba98-cfaf-440f-a74c-bb1b2812b0f6"
      },
      "source": [
        "mb_size     = 2   # mini-batch 크기\n",
        "train_ratio = 0.8 \n",
        "\n",
        "MiniBatch_step_count = int(data.shape[0] * train_ratio) // mb_size\n",
        "print(\"MiniBatch_step_count :\", MiniBatch_step_count)\n",
        "\n",
        "test_begin_index = MiniBatch_step_count * mb_size\n",
        "print(\"test_begin_index : \",test_begin_index)"
      ],
      "execution_count": null,
      "outputs": [
        {
          "output_type": "stream",
          "text": [
            "MiniBatch_step_count : 4\n",
            "test_begin_index :  8\n"
          ],
          "name": "stdout"
        }
      ]
    },
    {
      "cell_type": "code",
      "metadata": {
        "colab": {
          "base_uri": "https://localhost:8080/"
        },
        "id": "GvYcVOilvR2K",
        "outputId": "f0f88fd3-9720-45d9-bb0c-398dcf053137"
      },
      "source": [
        "shuffle_map = np.arange(data.shape[0])\n",
        "print(shuffle_map)\n",
        "print()\n",
        "np.random.shuffle(shuffle_map)\n",
        "print(shuffle_map)"
      ],
      "execution_count": null,
      "outputs": [
        {
          "output_type": "stream",
          "text": [
            "[0 1 2 3 4 5 6 7 8 9]\n",
            "\n",
            "[8 0 9 2 4 6 5 7 3 1]\n"
          ],
          "name": "stdout"
        }
      ]
    },
    {
      "cell_type": "code",
      "metadata": {
        "colab": {
          "base_uri": "https://localhost:8080/"
        },
        "id": "SWF1UO4szS0Z",
        "outputId": "8173790e-b6f4-49e9-fb41-530a7fd02413"
      },
      "source": [
        "mb_data_1 = data[shuffle_map[0:2]]\n",
        "mb_data_2 = data[shuffle_map[2:4]]\n",
        "mb_data_3 = data[shuffle_map[4:6]]\n",
        "mb_data_4 = data[shuffle_map[6:8]]\n",
        "\n",
        "print(mb_data_1) \n",
        "print(mb_data_2) \n",
        "print(mb_data_3) \n",
        "print(mb_data_4) "
      ],
      "execution_count": null,
      "outputs": [
        {
          "output_type": "stream",
          "text": [
            "[[1.08400e+03 1.85575e+05 1.08000e+02 4.00000e+01 0.00000e+00 0.00000e+00\n",
            "  1.00000e+00]\n",
            " [3.30000e+02 4.29227e+05 2.64000e+02 1.50000e+02 1.00000e+00 0.00000e+00\n",
            "  0.00000e+00]]\n",
            "[[4.200000e+01 2.709000e+05 2.670000e+02 8.000000e+01 1.000000e+00\n",
            "  0.000000e+00 0.000000e+00]\n",
            " [1.109000e+03 1.170194e+06 1.300000e+02 1.750000e+02 0.000000e+00\n",
            "  1.000000e+00 0.000000e+00]]\n",
            "[[5.10000e+01 5.85861e+05 1.39000e+02 7.00000e+01 0.00000e+00 1.00000e+00\n",
            "  0.00000e+00]\n",
            " [4.80000e+01 3.77537e+05 3.98500e+03 4.00000e+01 0.00000e+00 0.00000e+00\n",
            "  1.00000e+00]]\n",
            "[[4.30000e+01 3.66881e+05 4.04800e+03 4.00000e+01 0.00000e+00 0.00000e+00\n",
            "  1.00000e+00]\n",
            " [7.40000e+01 7.79144e+05 1.50600e+03 1.50000e+02 1.00000e+00 0.00000e+00\n",
            "  0.00000e+00]]\n"
          ],
          "name": "stdout"
        }
      ]
    },
    {
      "cell_type": "code",
      "metadata": {
        "colab": {
          "base_uri": "https://localhost:8080/"
        },
        "id": "Dpi4LJ1o0Kg7",
        "outputId": "3f5f2217-2df0-43b1-d60f-c01e575a5cd2"
      },
      "source": [
        "print(\"====== 첫 번째 미니배치의 독립변수와 종속변수 ======\")\n",
        "mb_1_train_x = mb_data_1[:, :-3]\n",
        "mb_1_train_y = mb_data_1[:, -3:]\n",
        "print(\"mb_1_train_x : \\n\", mb_1_train_x)\n",
        "print(\"mb_1_train_y : \\n\", mb_1_train_y)\n",
        "\n",
        "print(\"\\n====== 두 번째 미니배치의 독립변수와 종속변수 ======\")\n",
        "mb_2_train_x = mb_data_2[:, :-3]\n",
        "mb_2_train_y = mb_data_2[:, -3:]\n",
        "print(\"mb_2_train_x : \\n\", mb_2_train_x)\n",
        "print(\"mb_2_train_y : \\n\", mb_2_train_y)\n",
        "\n",
        "print(\"\\n====== 세 번째 미니배치의 독립변수와 종속변수 ======\")\n",
        "mb_3_train_x = mb_data_3[:, :-3]\n",
        "mb_3_train_y = mb_data_3[:, -3:]\n",
        "print(\"mb_3_train_x : \\n\", mb_3_train_x)\n",
        "print(\"mb_3_train_y : \\n\", mb_3_train_y)\n",
        "\n",
        "print(\"\\n====== 네 번째 미니배치의 독립변수와 종속변수 ======\")\n",
        "mb_4_train_x = mb_data_4[:, :-3]\n",
        "mb_4_train_y = mb_data_4[:, -3:]\n",
        "print(\"mb_4_train_x : \\n\", mb_4_train_x)\n",
        "print(\"mb_4_train_y : \\n\", mb_4_train_y)"
      ],
      "execution_count": null,
      "outputs": [
        {
          "output_type": "stream",
          "text": [
            "====== 첫 번째 미니배치의 독립변수와 종속변수 ======\n",
            "mb_1_train_x : \n",
            " [[1.08400e+03 1.85575e+05 1.08000e+02 4.00000e+01]\n",
            " [3.30000e+02 4.29227e+05 2.64000e+02 1.50000e+02]]\n",
            "mb_1_train_y : \n",
            " [[0. 0. 1.]\n",
            " [1. 0. 0.]]\n",
            "\n",
            "====== 두 번째 미니배치의 독립변수와 종속변수 ======\n",
            "mb_2_train_x : \n",
            " [[4.200000e+01 2.709000e+05 2.670000e+02 8.000000e+01]\n",
            " [1.109000e+03 1.170194e+06 1.300000e+02 1.750000e+02]]\n",
            "mb_2_train_y : \n",
            " [[1. 0. 0.]\n",
            " [0. 1. 0.]]\n",
            "\n",
            "====== 세 번째 미니배치의 독립변수와 종속변수 ======\n",
            "mb_3_train_x : \n",
            " [[5.10000e+01 5.85861e+05 1.39000e+02 7.00000e+01]\n",
            " [4.80000e+01 3.77537e+05 3.98500e+03 4.00000e+01]]\n",
            "mb_3_train_y : \n",
            " [[0. 1. 0.]\n",
            " [0. 0. 1.]]\n",
            "\n",
            "====== 네 번째 미니배치의 독립변수와 종속변수 ======\n",
            "mb_4_train_x : \n",
            " [[4.30000e+01 3.66881e+05 4.04800e+03 4.00000e+01]\n",
            " [7.40000e+01 7.79144e+05 1.50600e+03 1.50000e+02]]\n",
            "mb_4_train_y : \n",
            " [[0. 0. 1.]\n",
            " [1. 0. 0.]]\n"
          ],
          "name": "stdout"
        }
      ]
    },
    {
      "cell_type": "code",
      "metadata": {
        "colab": {
          "base_uri": "https://localhost:8080/"
        },
        "id": "Qqb8vjcyzrzz",
        "outputId": "b96c597a-c1d8-41d3-e28c-b25ce57b507b"
      },
      "source": [
        "print(\"첫 번째 미니배치의 순전파 연산 결과\")\n",
        "mb_1_y_hat_1 = np.matmul(mb_1_train_x, weight[:,0]) + bias[0]\n",
        "mb_1_y_hat_2 = np.matmul(mb_1_train_x, weight[:,1]) + bias[1]\n",
        "mb_1_y_hat_3 = np.matmul(mb_1_train_x, weight[:,2]) + bias[2]\n",
        "\n",
        "print(mb_1_y_hat_1)\n",
        "print(mb_1_y_hat_2)\n",
        "print(mb_1_y_hat_3)\n",
        "\n",
        "\n",
        "print(\"\\n두 번째 미니배치의 순전파 연산 결과\")\n",
        "mb_2_y_hat_1 = np.matmul(mb_2_train_x, weight[:,0]) + bias[0]\n",
        "mb_2_y_hat_2 = np.matmul(mb_2_train_x, weight[:,1]) + bias[1]\n",
        "mb_2_y_hat_3 = np.matmul(mb_2_train_x, weight[:,2]) + bias[2]\n",
        "\n",
        "print(mb_2_y_hat_1)\n",
        "print(mb_2_y_hat_2)\n",
        "print(mb_2_y_hat_3)\n",
        "\n",
        "\n",
        "print(\"\\n세 번째 미니배치의 순전파 연산 결과\")\n",
        "mb_3_y_hat_1 = np.matmul(mb_3_train_x, weight[:,0]) + bias[0]\n",
        "mb_3_y_hat_2 = np.matmul(mb_3_train_x, weight[:,1]) + bias[1]\n",
        "mb_3_y_hat_3 = np.matmul(mb_3_train_x, weight[:,2]) + bias[2]\n",
        "\n",
        "print(mb_3_y_hat_1)\n",
        "print(mb_3_y_hat_2)\n",
        "print(mb_3_y_hat_3)\n",
        "\n",
        "print(\"\\n네 번째 미니배치의 순전파 연산 결과\")\n",
        "mb_4_y_hat_1 = np.matmul(mb_4_train_x, weight[:,0]) + bias[0]\n",
        "mb_4_y_hat_2 = np.matmul(mb_4_train_x, weight[:,1]) + bias[1]\n",
        "mb_4_y_hat_3 = np.matmul(mb_4_train_x, weight[:,2]) + bias[2]\n",
        "\n",
        "print(mb_4_y_hat_1)\n",
        "print(mb_4_y_hat_2)\n",
        "print(mb_4_y_hat_3)"
      ],
      "execution_count": null,
      "outputs": [
        {
          "output_type": "stream",
          "text": [
            "첫 번째 미니배치의 순전파 연산 결과\n",
            "[ 77939.08240854 180219.76678022]\n",
            "[222739.39653297 513833.67739078]\n",
            "[-106051.23404913 -246436.34235448]\n",
            "\n",
            "두 번째 미니배치의 순전파 연산 결과\n",
            "[113828.43858878 490356.57559634]\n",
            "[ 324170.84005123 1401176.72110516]\n",
            "[-155745.83396716 -671553.62772226]\n",
            "\n",
            "세 번째 미니배치의 순전파 연산 결과\n",
            "[245527.33104968 162711.73060027]\n",
            "[701174.86037438 450820.919638  ]\n",
            "[-336596.08995298 -220579.08922849]\n",
            "\n",
            "네 번째 미니배치의 순전파 연산 결과\n",
            "[158322.96241589 328130.21558721]\n",
            "[438047.38872935 932145.9638387 ]\n",
            "[-214518.90834904 -448794.87311767]\n"
          ],
          "name": "stdout"
        }
      ]
    },
    {
      "cell_type": "code",
      "metadata": {
        "colab": {
          "base_uri": "https://localhost:8080/"
        },
        "id": "LS68TNcJ20oS",
        "outputId": "84d6b2c1-7a6a-47e8-d527-b09fe8dbf706"
      },
      "source": [
        "mb_total = np.vstack( (mb_data_1, mb_data_2, mb_data_3, mb_data_4) )\n",
        "mb_total.shape"
      ],
      "execution_count": null,
      "outputs": [
        {
          "output_type": "execute_result",
          "data": {
            "text/plain": [
              "(8, 7)"
            ]
          },
          "metadata": {
            "tags": []
          },
          "execution_count": 29
        }
      ]
    },
    {
      "cell_type": "code",
      "metadata": {
        "colab": {
          "base_uri": "https://localhost:8080/"
        },
        "id": "jdBd18zp3BJD",
        "outputId": "a001e736-b1df-4d58-f7bc-ee85369f7d79"
      },
      "source": [
        "mb_total_x = mb_total[:, :-3] # 독립변수\n",
        "mb_total_x.shape"
      ],
      "execution_count": null,
      "outputs": [
        {
          "output_type": "execute_result",
          "data": {
            "text/plain": [
              "(8, 4)"
            ]
          },
          "metadata": {
            "tags": []
          },
          "execution_count": 30
        }
      ]
    },
    {
      "cell_type": "code",
      "metadata": {
        "colab": {
          "base_uri": "https://localhost:8080/"
        },
        "id": "Z5k5fP6k3QAD",
        "outputId": "67de2702-90d3-4923-8e02-dc594b31226b"
      },
      "source": [
        "# 간단한 방법\n",
        "mb_total_y_hat = np.matmul(mb_total_x, weight) + bias\n",
        "print(mb_total_y_hat)"
      ],
      "execution_count": null,
      "outputs": [
        {
          "output_type": "stream",
          "text": [
            "[[  -13502.25853453  -141012.69786734  -235380.22432272]\n",
            " [  -29629.0359914   -322454.67070004  -546205.58341192]\n",
            " [  -18568.17246307  -203087.10452258  -345030.3363477 ]\n",
            " [  -81251.52811819  -880576.57553093 -1488216.06826291]\n",
            " [  -40314.73217437  -439918.75916136  -745622.6087278 ]\n",
            " [  -25044.03207793  -277320.29521752  -486396.85293893]\n",
            " [  -24290.88905176  -269206.69992444  -472936.95116515]\n",
            " [  -53253.17793371  -582915.69533802  -993571.780734  ]]\n"
          ],
          "name": "stdout"
        }
      ]
    },
    {
      "cell_type": "code",
      "metadata": {
        "colab": {
          "base_uri": "https://localhost:8080/"
        },
        "id": "mjzcIrl53arQ",
        "outputId": "3bfdd9f4-9a4a-4b57-cd01-4cb8bc5edd40"
      },
      "source": [
        "# mb_total_y_hat 값과 동일\n",
        "print(mb_1_y_hat_1,mb_1_y_hat_2,mb_1_y_hat_3)\n",
        "print(mb_2_y_hat_1,mb_2_y_hat_2,mb_2_y_hat_3)\n",
        "print(mb_3_y_hat_1,mb_3_y_hat_2,mb_3_y_hat_3)\n",
        "print(mb_4_y_hat_1,mb_4_y_hat_2,mb_4_y_hat_3)"
      ],
      "execution_count": null,
      "outputs": [
        {
          "output_type": "stream",
          "text": [
            "[-13502.25853453 -29629.0359914 ] [-141012.69786734 -322454.67070004] [-235380.22432272 -546205.58341192]\n",
            "[-18568.17246307 -81251.52811819] [-203087.10452258 -880576.57553093] [ -345030.3363477  -1488216.06826292]\n",
            "[-40314.73217437 -25044.03207793] [-439918.75916136 -277320.29521752] [-745622.6087278  -486396.85293893]\n",
            "[-24290.88905176 -53253.17793371] [-269206.69992444 -582915.69533802] [-472936.95116515 -993571.780734  ]\n"
          ],
          "name": "stdout"
        }
      ]
    }
  ]
}