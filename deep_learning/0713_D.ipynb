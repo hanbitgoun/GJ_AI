{
  "nbformat": 4,
  "nbformat_minor": 0,
  "metadata": {
    "colab": {
      "name": "0713_D.ipynb",
      "provenance": [],
      "collapsed_sections": [],
      "include_colab_link": true
    },
    "kernelspec": {
      "name": "python3",
      "display_name": "Python 3"
    },
    "language_info": {
      "name": "python"
    }
  },
  "cells": [
    {
      "cell_type": "markdown",
      "metadata": {
        "id": "view-in-github",
        "colab_type": "text"
      },
      "source": [
        "<a href=\"https://colab.research.google.com/github/hanbitgoun/GJ_AI/blob/main/deep_learning/0713_D.ipynb\" target=\"_parent\"><img src=\"https://colab.research.google.com/assets/colab-badge.svg\" alt=\"Open In Colab\"/></a>"
      ]
    },
    {
      "cell_type": "code",
      "metadata": {
        "id": "FYJV-AoiKhFL"
      },
      "source": [
        "import tensorflow as tf\n",
        "import pandas as pd\n",
        "import numpy as np\n",
        "import matplotlib.pyplot as plt\n",
        "import seaborn as sns"
      ],
      "execution_count": 2,
      "outputs": []
    },
    {
      "cell_type": "code",
      "metadata": {
        "colab": {
          "base_uri": "https://localhost:8080/",
          "height": 467
        },
        "id": "2daR8mWbQmgg",
        "outputId": "d1632214-3c8f-4ade-d917-d86c6ae84686"
      },
      "source": [
        "faults = pd.read_csv('/content/faults_mini.csv')\n",
        "\n",
        "display(faults.head())\n",
        "display(faults.info())"
      ],
      "execution_count": 3,
      "outputs": [
        {
          "output_type": "display_data",
          "data": {
            "text/html": [
              "<div>\n",
              "<style scoped>\n",
              "    .dataframe tbody tr th:only-of-type {\n",
              "        vertical-align: middle;\n",
              "    }\n",
              "\n",
              "    .dataframe tbody tr th {\n",
              "        vertical-align: top;\n",
              "    }\n",
              "\n",
              "    .dataframe thead th {\n",
              "        text-align: right;\n",
              "    }\n",
              "</style>\n",
              "<table border=\"1\" class=\"dataframe\">\n",
              "  <thead>\n",
              "    <tr style=\"text-align: right;\">\n",
              "      <th></th>\n",
              "      <th>X_Minimum</th>\n",
              "      <th>Y_Minimum</th>\n",
              "      <th>Pixels_Areas</th>\n",
              "      <th>Steel_Plate_Thickness</th>\n",
              "      <th>Pastry</th>\n",
              "      <th>Z_Scratch</th>\n",
              "      <th>K_Scatch</th>\n",
              "    </tr>\n",
              "  </thead>\n",
              "  <tbody>\n",
              "    <tr>\n",
              "      <th>0</th>\n",
              "      <td>42</td>\n",
              "      <td>270900</td>\n",
              "      <td>267</td>\n",
              "      <td>80</td>\n",
              "      <td>1</td>\n",
              "      <td>0</td>\n",
              "      <td>0</td>\n",
              "    </tr>\n",
              "    <tr>\n",
              "      <th>1</th>\n",
              "      <td>1084</td>\n",
              "      <td>185575</td>\n",
              "      <td>108</td>\n",
              "      <td>40</td>\n",
              "      <td>0</td>\n",
              "      <td>0</td>\n",
              "      <td>1</td>\n",
              "    </tr>\n",
              "    <tr>\n",
              "      <th>2</th>\n",
              "      <td>1109</td>\n",
              "      <td>1170194</td>\n",
              "      <td>130</td>\n",
              "      <td>175</td>\n",
              "      <td>0</td>\n",
              "      <td>1</td>\n",
              "      <td>0</td>\n",
              "    </tr>\n",
              "    <tr>\n",
              "      <th>3</th>\n",
              "      <td>190</td>\n",
              "      <td>210936</td>\n",
              "      <td>132</td>\n",
              "      <td>150</td>\n",
              "      <td>1</td>\n",
              "      <td>0</td>\n",
              "      <td>0</td>\n",
              "    </tr>\n",
              "    <tr>\n",
              "      <th>4</th>\n",
              "      <td>330</td>\n",
              "      <td>429227</td>\n",
              "      <td>264</td>\n",
              "      <td>150</td>\n",
              "      <td>1</td>\n",
              "      <td>0</td>\n",
              "      <td>0</td>\n",
              "    </tr>\n",
              "  </tbody>\n",
              "</table>\n",
              "</div>"
            ],
            "text/plain": [
              "   X_Minimum  Y_Minimum  Pixels_Areas  ...  Pastry  Z_Scratch  K_Scatch\n",
              "0         42     270900           267  ...       1          0         0\n",
              "1       1084     185575           108  ...       0          0         1\n",
              "2       1109    1170194           130  ...       0          1         0\n",
              "3        190     210936           132  ...       1          0         0\n",
              "4        330     429227           264  ...       1          0         0\n",
              "\n",
              "[5 rows x 7 columns]"
            ]
          },
          "metadata": {
            "tags": []
          }
        },
        {
          "output_type": "stream",
          "text": [
            "<class 'pandas.core.frame.DataFrame'>\n",
            "RangeIndex: 10 entries, 0 to 9\n",
            "Data columns (total 7 columns):\n",
            " #   Column                 Non-Null Count  Dtype\n",
            "---  ------                 --------------  -----\n",
            " 0   X_Minimum              10 non-null     int64\n",
            " 1   Y_Minimum              10 non-null     int64\n",
            " 2   Pixels_Areas           10 non-null     int64\n",
            " 3   Steel_Plate_Thickness  10 non-null     int64\n",
            " 4   Pastry                 10 non-null     int64\n",
            " 5   Z_Scratch              10 non-null     int64\n",
            " 6   K_Scatch               10 non-null     int64\n",
            "dtypes: int64(7)\n",
            "memory usage: 688.0 bytes\n"
          ],
          "name": "stdout"
        },
        {
          "output_type": "display_data",
          "data": {
            "text/plain": [
              "None"
            ]
          },
          "metadata": {
            "tags": []
          }
        }
      ]
    },
    {
      "cell_type": "code",
      "metadata": {
        "colab": {
          "base_uri": "https://localhost:8080/",
          "height": 295
        },
        "id": "M7DGLEyvQ4qh",
        "outputId": "5cd63360-db33-40cc-c621-a2b5c47488e5"
      },
      "source": [
        "faults.describe()\n",
        "# 값의 대소관계 클수록 > 큰값이 더 많은 영향 : Min-Max Normalization"
      ],
      "execution_count": 4,
      "outputs": [
        {
          "output_type": "execute_result",
          "data": {
            "text/html": [
              "<div>\n",
              "<style scoped>\n",
              "    .dataframe tbody tr th:only-of-type {\n",
              "        vertical-align: middle;\n",
              "    }\n",
              "\n",
              "    .dataframe tbody tr th {\n",
              "        vertical-align: top;\n",
              "    }\n",
              "\n",
              "    .dataframe thead th {\n",
              "        text-align: right;\n",
              "    }\n",
              "</style>\n",
              "<table border=\"1\" class=\"dataframe\">\n",
              "  <thead>\n",
              "    <tr style=\"text-align: right;\">\n",
              "      <th></th>\n",
              "      <th>X_Minimum</th>\n",
              "      <th>Y_Minimum</th>\n",
              "      <th>Pixels_Areas</th>\n",
              "      <th>Steel_Plate_Thickness</th>\n",
              "      <th>Pastry</th>\n",
              "      <th>Z_Scratch</th>\n",
              "      <th>K_Scatch</th>\n",
              "    </tr>\n",
              "  </thead>\n",
              "  <tbody>\n",
              "    <tr>\n",
              "      <th>count</th>\n",
              "      <td>10.000000</td>\n",
              "      <td>1.000000e+01</td>\n",
              "      <td>10.000000</td>\n",
              "      <td>10.000000</td>\n",
              "      <td>10.000000</td>\n",
              "      <td>10.000000</td>\n",
              "      <td>10.000000</td>\n",
              "    </tr>\n",
              "    <tr>\n",
              "      <th>mean</th>\n",
              "      <td>336.800000</td>\n",
              "      <td>4.980733e+05</td>\n",
              "      <td>1102.300000</td>\n",
              "      <td>96.500000</td>\n",
              "      <td>0.400000</td>\n",
              "      <td>0.300000</td>\n",
              "      <td>0.300000</td>\n",
              "    </tr>\n",
              "    <tr>\n",
              "      <th>std</th>\n",
              "      <td>419.946769</td>\n",
              "      <td>3.014717e+05</td>\n",
              "      <td>1591.202973</td>\n",
              "      <td>53.750969</td>\n",
              "      <td>0.516398</td>\n",
              "      <td>0.483046</td>\n",
              "      <td>0.483046</td>\n",
              "    </tr>\n",
              "    <tr>\n",
              "      <th>min</th>\n",
              "      <td>42.000000</td>\n",
              "      <td>1.855750e+05</td>\n",
              "      <td>108.000000</td>\n",
              "      <td>40.000000</td>\n",
              "      <td>0.000000</td>\n",
              "      <td>0.000000</td>\n",
              "      <td>0.000000</td>\n",
              "    </tr>\n",
              "    <tr>\n",
              "      <th>25%</th>\n",
              "      <td>48.750000</td>\n",
              "      <td>2.948952e+05</td>\n",
              "      <td>133.750000</td>\n",
              "      <td>47.500000</td>\n",
              "      <td>0.000000</td>\n",
              "      <td>0.000000</td>\n",
              "      <td>0.000000</td>\n",
              "    </tr>\n",
              "    <tr>\n",
              "      <th>50%</th>\n",
              "      <td>132.000000</td>\n",
              "      <td>4.033820e+05</td>\n",
              "      <td>265.500000</td>\n",
              "      <td>75.000000</td>\n",
              "      <td>0.000000</td>\n",
              "      <td>0.000000</td>\n",
              "      <td>0.000000</td>\n",
              "    </tr>\n",
              "    <tr>\n",
              "      <th>75%</th>\n",
              "      <td>380.250000</td>\n",
              "      <td>5.998238e+05</td>\n",
              "      <td>1240.500000</td>\n",
              "      <td>150.000000</td>\n",
              "      <td>1.000000</td>\n",
              "      <td>0.750000</td>\n",
              "      <td>0.750000</td>\n",
              "    </tr>\n",
              "    <tr>\n",
              "      <th>max</th>\n",
              "      <td>1109.000000</td>\n",
              "      <td>1.170194e+06</td>\n",
              "      <td>4048.000000</td>\n",
              "      <td>175.000000</td>\n",
              "      <td>1.000000</td>\n",
              "      <td>1.000000</td>\n",
              "      <td>1.000000</td>\n",
              "    </tr>\n",
              "  </tbody>\n",
              "</table>\n",
              "</div>"
            ],
            "text/plain": [
              "         X_Minimum     Y_Minimum  Pixels_Areas  ...     Pastry  Z_Scratch   K_Scatch\n",
              "count    10.000000  1.000000e+01     10.000000  ...  10.000000  10.000000  10.000000\n",
              "mean    336.800000  4.980733e+05   1102.300000  ...   0.400000   0.300000   0.300000\n",
              "std     419.946769  3.014717e+05   1591.202973  ...   0.516398   0.483046   0.483046\n",
              "min      42.000000  1.855750e+05    108.000000  ...   0.000000   0.000000   0.000000\n",
              "25%      48.750000  2.948952e+05    133.750000  ...   0.000000   0.000000   0.000000\n",
              "50%     132.000000  4.033820e+05    265.500000  ...   0.000000   0.000000   0.000000\n",
              "75%     380.250000  5.998238e+05   1240.500000  ...   1.000000   0.750000   0.750000\n",
              "max    1109.000000  1.170194e+06   4048.000000  ...   1.000000   1.000000   1.000000\n",
              "\n",
              "[8 rows x 7 columns]"
            ]
          },
          "metadata": {
            "tags": []
          },
          "execution_count": 4
        }
      ]
    },
    {
      "cell_type": "code",
      "metadata": {
        "colab": {
          "base_uri": "https://localhost:8080/"
        },
        "id": "OMwefqVAQ6wW",
        "outputId": "e9a84617-f32c-487b-d911-6c93bc6b34e3"
      },
      "source": [
        "var_x_outlier = [100] \n",
        "var_x = np.random.randint(0,7,size=99)  \n",
        "var_x = np.hstack([var_x,var_x_outlier]) # outlier 포함\n",
        "\n",
        "var_y = np.random.randint(0,40,size=100)\n",
        "\n",
        "print(var_x)\n",
        "print()\n",
        "print(var_y)"
      ],
      "execution_count": 5,
      "outputs": [
        {
          "output_type": "stream",
          "text": [
            "[  6   2   3   3   1   4   2   2   0   0   6   1   3   4   3   2   2   4\n",
            "   2   0   4   6   2   2   6   4   5   5   4   3   0   6   0   4   0   6\n",
            "   0   5   5   2   3   2   1   0   5   5   0   5   4   5   6   5   4   3\n",
            "   4   5   5   3   0   1   6   0   3   0   6   4   4   4   5   4   3   0\n",
            "   6   4   6   6   2   4   3   2   3   6   6   4   3   4   0   1   2   4\n",
            "   1   2   0   2   4   5   3   6   6 100]\n",
            "\n",
            "[36 30 21 12 11 21 21 39 33 34  6 23 28 28 21  7 11 17  9  6 20 37  6 38\n",
            " 30 30 17 10 29 11 16 12 32  1 19 29  1  6 33 18 38  3 10 18 32  7 10 30\n",
            " 36  3 24 35  7 22 39 27 37  5 23 12 18 28 25  2 24  2 29  9 25 37 30  0\n",
            " 19 14 32  5 13 14 26  4 15 15 25 35 37 37 16 32  1 21 35 37  3 23 11  7\n",
            " 27  0 12 39]\n"
          ],
          "name": "stdout"
        }
      ]
    },
    {
      "cell_type": "markdown",
      "metadata": {
        "id": "b5Ksdp0zfge3"
      },
      "source": [
        "#### min-max normalization"
      ]
    },
    {
      "cell_type": "code",
      "metadata": {
        "colab": {
          "base_uri": "https://localhost:8080/"
        },
        "id": "J7Np3tkdTbfC",
        "outputId": "54a0eb05-480c-4516-d09e-d4b42cf379aa"
      },
      "source": [
        "var_x_norm = (var_x - var_x.min()) / (var_x.max() - var_x.min())\n",
        "var_y_norm = (var_y - var_y.min()) / (var_y.max() - var_y.min())\n",
        "\n",
        "print(var_x_norm[-1:])\n",
        "print(var_y_norm[:5])"
      ],
      "execution_count": 6,
      "outputs": [
        {
          "output_type": "stream",
          "text": [
            "[1.]\n",
            "[0.92307692 0.76923077 0.53846154 0.30769231 0.28205128]\n"
          ],
          "name": "stdout"
        }
      ]
    },
    {
      "cell_type": "code",
      "metadata": {
        "colab": {
          "base_uri": "https://localhost:8080/",
          "height": 353
        },
        "id": "b9bAv_6HUF52",
        "outputId": "c406a1cb-f37c-4c87-8f79-c3f50d1dbb43"
      },
      "source": [
        "plt.figure(figsize=(15,3))\n",
        "\n",
        "plt.subplot(1,5,1)\n",
        "sns.scatterplot(var_x, var_y, color='red')\n",
        "plt.title('No Min - Max Normalization')\n",
        "plt.grid()\n",
        "\n",
        "plt.subplot(1,5,3)\n",
        "sns.scatterplot(var_x_norm, var_y_norm, color='orange')\n",
        "plt.title('Min - Max Normalization')\n",
        "plt.grid()\n",
        "\n",
        "var_x = np.random.randint(0,7,size=100)\n",
        "var_y = np.random.randint(0,40,size=100)\n",
        "var_x_norm = (var_x - var_x.min()) / (var_x.max() - var_x.min())\n",
        "var_y_norm = (var_y - var_y.min()) / (var_y.max() - var_y.min())\n",
        "\n",
        "plt.subplot(1,5,5)\n",
        "sns.scatterplot(var_x_norm, var_y_norm, color='blue')\n",
        "plt.title('No Outlier Min Max Normalization')\n",
        "plt.grid()\n",
        "\n",
        "plt.show()"
      ],
      "execution_count": 7,
      "outputs": [
        {
          "output_type": "stream",
          "text": [
            "/usr/local/lib/python3.7/dist-packages/seaborn/_decorators.py:43: FutureWarning: Pass the following variables as keyword args: x, y. From version 0.12, the only valid positional argument will be `data`, and passing other arguments without an explicit keyword will result in an error or misinterpretation.\n",
            "  FutureWarning\n",
            "/usr/local/lib/python3.7/dist-packages/seaborn/_decorators.py:43: FutureWarning: Pass the following variables as keyword args: x, y. From version 0.12, the only valid positional argument will be `data`, and passing other arguments without an explicit keyword will result in an error or misinterpretation.\n",
            "  FutureWarning\n",
            "/usr/local/lib/python3.7/dist-packages/seaborn/_decorators.py:43: FutureWarning: Pass the following variables as keyword args: x, y. From version 0.12, the only valid positional argument will be `data`, and passing other arguments without an explicit keyword will result in an error or misinterpretation.\n",
            "  FutureWarning\n"
          ],
          "name": "stderr"
        },
        {
          "output_type": "display_data",
          "data": {
            "image/png": "[encoded data removed]",
            "text/plain": [
              "<Figure size 1080x216 with 3 Axes>"
            ]
          },
          "metadata": {
            "tags": [],
            "needs_background": "light"
          }
        }
      ]
    },
    {
      "cell_type": "code",
      "metadata": {
        "colab": {
          "base_uri": "https://localhost:8080/"
        },
        "id": "1roo20g_UaPG",
        "outputId": "96928a12-6a08-4ab5-c554-701e7b723090"
      },
      "source": [
        "# min-max normalization\n",
        "faults_norm = (faults - faults.min()) / (faults.max() - faults.min())\n",
        "print(faults_norm.head())"
      ],
      "execution_count": 8,
      "outputs": [
        {
          "output_type": "stream",
          "text": [
            "   X_Minimum  Y_Minimum  Pixels_Areas  ...  Pastry  Z_Scratch  K_Scatch\n",
            "0   0.000000   0.086658      0.040355  ...     1.0        0.0       0.0\n",
            "1   0.976570   0.000000      0.000000  ...     0.0        0.0       1.0\n",
            "2   1.000000   1.000000      0.005584  ...     0.0        1.0       0.0\n",
            "3   0.138707   0.025757      0.006091  ...     1.0        0.0       0.0\n",
            "4   0.269916   0.247458      0.039594  ...     1.0        0.0       0.0\n",
            "\n",
            "[5 rows x 7 columns]\n"
          ],
          "name": "stdout"
        }
      ]
    },
    {
      "cell_type": "code",
      "metadata": {
        "colab": {
          "base_uri": "https://localhost:8080/",
          "height": 295
        },
        "id": "lVCsGGmHWZBX",
        "outputId": "8a03f9f8-8794-4b4c-f78d-eb10d7cc8418"
      },
      "source": [
        "display(faults_norm.describe())"
      ],
      "execution_count": 9,
      "outputs": [
        {
          "output_type": "display_data",
          "data": {
            "text/html": [
              "<div>\n",
              "<style scoped>\n",
              "    .dataframe tbody tr th:only-of-type {\n",
              "        vertical-align: middle;\n",
              "    }\n",
              "\n",
              "    .dataframe tbody tr th {\n",
              "        vertical-align: top;\n",
              "    }\n",
              "\n",
              "    .dataframe thead th {\n",
              "        text-align: right;\n",
              "    }\n",
              "</style>\n",
              "<table border=\"1\" class=\"dataframe\">\n",
              "  <thead>\n",
              "    <tr style=\"text-align: right;\">\n",
              "      <th></th>\n",
              "      <th>X_Minimum</th>\n",
              "      <th>Y_Minimum</th>\n",
              "      <th>Pixels_Areas</th>\n",
              "      <th>Steel_Plate_Thickness</th>\n",
              "      <th>Pastry</th>\n",
              "      <th>Z_Scratch</th>\n",
              "      <th>K_Scatch</th>\n",
              "    </tr>\n",
              "  </thead>\n",
              "  <tbody>\n",
              "    <tr>\n",
              "      <th>count</th>\n",
              "      <td>10.000000</td>\n",
              "      <td>10.000000</td>\n",
              "      <td>10.000000</td>\n",
              "      <td>10.000000</td>\n",
              "      <td>10.000000</td>\n",
              "      <td>10.000000</td>\n",
              "      <td>10.000000</td>\n",
              "    </tr>\n",
              "    <tr>\n",
              "      <th>mean</th>\n",
              "      <td>0.276289</td>\n",
              "      <td>0.317380</td>\n",
              "      <td>0.252360</td>\n",
              "      <td>0.418519</td>\n",
              "      <td>0.400000</td>\n",
              "      <td>0.300000</td>\n",
              "      <td>0.300000</td>\n",
              "    </tr>\n",
              "    <tr>\n",
              "      <th>std</th>\n",
              "      <td>0.393577</td>\n",
              "      <td>0.306181</td>\n",
              "      <td>0.403859</td>\n",
              "      <td>0.398155</td>\n",
              "      <td>0.516398</td>\n",
              "      <td>0.483046</td>\n",
              "      <td>0.483046</td>\n",
              "    </tr>\n",
              "    <tr>\n",
              "      <th>min</th>\n",
              "      <td>0.000000</td>\n",
              "      <td>0.000000</td>\n",
              "      <td>0.000000</td>\n",
              "      <td>0.000000</td>\n",
              "      <td>0.000000</td>\n",
              "      <td>0.000000</td>\n",
              "      <td>0.000000</td>\n",
              "    </tr>\n",
              "    <tr>\n",
              "      <th>25%</th>\n",
              "      <td>0.006326</td>\n",
              "      <td>0.111028</td>\n",
              "      <td>0.006536</td>\n",
              "      <td>0.055556</td>\n",
              "      <td>0.000000</td>\n",
              "      <td>0.000000</td>\n",
              "      <td>0.000000</td>\n",
              "    </tr>\n",
              "    <tr>\n",
              "      <th>50%</th>\n",
              "      <td>0.084349</td>\n",
              "      <td>0.221209</td>\n",
              "      <td>0.039975</td>\n",
              "      <td>0.259259</td>\n",
              "      <td>0.000000</td>\n",
              "      <td>0.000000</td>\n",
              "      <td>0.000000</td>\n",
              "    </tr>\n",
              "    <tr>\n",
              "      <th>75%</th>\n",
              "      <td>0.317010</td>\n",
              "      <td>0.420720</td>\n",
              "      <td>0.287437</td>\n",
              "      <td>0.814815</td>\n",
              "      <td>1.000000</td>\n",
              "      <td>0.750000</td>\n",
              "      <td>0.750000</td>\n",
              "    </tr>\n",
              "    <tr>\n",
              "      <th>max</th>\n",
              "      <td>1.000000</td>\n",
              "      <td>1.000000</td>\n",
              "      <td>1.000000</td>\n",
              "      <td>1.000000</td>\n",
              "      <td>1.000000</td>\n",
              "      <td>1.000000</td>\n",
              "      <td>1.000000</td>\n",
              "    </tr>\n",
              "  </tbody>\n",
              "</table>\n",
              "</div>"
            ],
            "text/plain": [
              "       X_Minimum  Y_Minimum  Pixels_Areas  ...     Pastry  Z_Scratch   K_Scatch\n",
              "count  10.000000  10.000000     10.000000  ...  10.000000  10.000000  10.000000\n",
              "mean    0.276289   0.317380      0.252360  ...   0.400000   0.300000   0.300000\n",
              "std     0.393577   0.306181      0.403859  ...   0.516398   0.483046   0.483046\n",
              "min     0.000000   0.000000      0.000000  ...   0.000000   0.000000   0.000000\n",
              "25%     0.006326   0.111028      0.006536  ...   0.000000   0.000000   0.000000\n",
              "50%     0.084349   0.221209      0.039975  ...   0.000000   0.000000   0.000000\n",
              "75%     0.317010   0.420720      0.287437  ...   1.000000   0.750000   0.750000\n",
              "max     1.000000   1.000000      1.000000  ...   1.000000   1.000000   1.000000\n",
              "\n",
              "[8 rows x 7 columns]"
            ]
          },
          "metadata": {
            "tags": []
          }
        }
      ]
    },
    {
      "cell_type": "code",
      "metadata": {
        "colab": {
          "base_uri": "https://localhost:8080/"
        },
        "id": "Po4ty94RWcFM",
        "outputId": "73376dba-80f1-467c-ea47-720591f81d24"
      },
      "source": [
        "print(faults_norm[:5])\n",
        "faults_shuffle = faults_norm.sample(frac=1) # sample() : 랜덤한 샘플 추출 (frac = 1 : 전체 데이터)\n",
        "print(faults_shuffle[:5])"
      ],
      "execution_count": 10,
      "outputs": [
        {
          "output_type": "stream",
          "text": [
            "   X_Minimum  Y_Minimum  Pixels_Areas  ...  Pastry  Z_Scratch  K_Scatch\n",
            "0   0.000000   0.086658      0.040355  ...     1.0        0.0       0.0\n",
            "1   0.976570   0.000000      0.000000  ...     0.0        0.0       1.0\n",
            "2   1.000000   1.000000      0.005584  ...     0.0        1.0       0.0\n",
            "3   0.138707   0.025757      0.006091  ...     1.0        0.0       0.0\n",
            "4   0.269916   0.247458      0.039594  ...     1.0        0.0       0.0\n",
            "\n",
            "[5 rows x 7 columns]\n",
            "   X_Minimum  Y_Minimum  Pixels_Areas  ...  Pastry  Z_Scratch  K_Scatch\n",
            "2   1.000000   1.000000      0.005584  ...     0.0        1.0       0.0\n",
            "9   0.005623   0.194961      0.984010  ...     0.0        0.0       1.0\n",
            "5   0.029991   0.602841      0.354822  ...     1.0        0.0       0.0\n",
            "8   0.000937   0.184138      1.000000  ...     0.0        0.0       1.0\n",
            "0   0.000000   0.086658      0.040355  ...     1.0        0.0       0.0\n",
            "\n",
            "[5 rows x 7 columns]\n"
          ],
          "name": "stdout"
        }
      ]
    },
    {
      "cell_type": "code",
      "metadata": {
        "colab": {
          "base_uri": "https://localhost:8080/"
        },
        "id": "x_78PQD4W5tU",
        "outputId": "0ccdef27-d35e-4a78-f989-dd3b4a2afc7c"
      },
      "source": [
        "faults_np = faults_shuffle.to_numpy() # numpy 형식으로 변경\n",
        "print(type(faults_np))"
      ],
      "execution_count": 11,
      "outputs": [
        {
          "output_type": "stream",
          "text": [
            "<class 'numpy.ndarray'>\n"
          ],
          "name": "stdout"
        }
      ]
    },
    {
      "cell_type": "code",
      "metadata": {
        "colab": {
          "base_uri": "https://localhost:8080/"
        },
        "id": "5jQWCBkvXQ86",
        "outputId": "089e2c09-f625-43a6-bb95-79ae0e561029"
      },
      "source": [
        "train_ratio = 0.8 # 학습데이터 비율\n",
        "input_cnt = 4 \n",
        "output_cnt = 3\n",
        "\n",
        "train_idx = int(len(faults_np) * train_ratio)\n",
        "print(\"train_idx : \", train_idx)"
      ],
      "execution_count": 12,
      "outputs": [
        {
          "output_type": "stream",
          "text": [
            "train_idx :  8\n"
          ],
          "name": "stdout"
        }
      ]
    },
    {
      "cell_type": "code",
      "metadata": {
        "colab": {
          "base_uri": "https://localhost:8080/"
        },
        "id": "U-kwyOs3XrNo",
        "outputId": "791d4158-54a7-41bd-8527-23cf6e513342"
      },
      "source": [
        "train_X, train_Y = faults_np[:train_idx,:-output_cnt], faults_np[:train_idx,-output_cnt:] # 학습데이터의 독립, 종속변수\n",
        "test_X, test_Y = faults_np[train_idx:,:-output_cnt], faults_np[train_idx:,-output_cnt:]\n",
        "\n",
        "print(train_X.shape)\n",
        "print(train_Y.shape)\n",
        "print(\"======================\")\n",
        "print(test_X.shape)\n",
        "print(test_Y.shape)"
      ],
      "execution_count": 13,
      "outputs": [
        {
          "output_type": "stream",
          "text": [
            "(8, 4)\n",
            "(8, 3)\n",
            "======================\n",
            "(2, 4)\n",
            "(2, 3)\n"
          ],
          "name": "stdout"
        }
      ]
    },
    {
      "cell_type": "code",
      "metadata": {
        "id": "npmcY969YvUe"
      },
      "source": [
        "# loss function : cross entropy 인 이유?\n",
        "# total params : weight + bias"
      ],
      "execution_count": 14,
      "outputs": []
    },
    {
      "cell_type": "code",
      "metadata": {
        "id": "cWQkGOgCeYru"
      },
      "source": [
        "# 모델 설계 방식 수업자료 참고\n",
        "simple_layer_model = tf.keras.Sequential([\n",
        "                                          tf.keras.layers.Dense(units=3,\n",
        "                                                                activation='softmax',\n",
        "                                                                input_shape=(4,))\n",
        "                                          ])"
      ],
      "execution_count": 15,
      "outputs": []
    },
    {
      "cell_type": "code",
      "metadata": {
        "colab": {
          "base_uri": "https://localhost:8080/"
        },
        "id": "63mmqk5lfDBE",
        "outputId": "91414978-4599-474b-d31c-9a96ff9d09be"
      },
      "source": [
        "simple_layer_model.summary()"
      ],
      "execution_count": 16,
      "outputs": [
        {
          "output_type": "stream",
          "text": [
            "Model: \"sequential\"\n",
            "_________________________________________________________________\n",
            "Layer (type)                 Output Shape              Param #   \n",
            "=================================================================\n",
            "dense (Dense)                (None, 3)                 15        \n",
            "=================================================================\n",
            "Total params: 15\n",
            "Trainable params: 15\n",
            "Non-trainable params: 0\n",
            "_________________________________________________________________\n"
          ],
          "name": "stdout"
        }
      ]
    },
    {
      "cell_type": "code",
      "metadata": {
        "id": "6pQ-8tBPfHZh"
      },
      "source": [
        "simple_layer_model.compile(optimizer=tf.keras.optimizers.Adam(learning_rate=0.01),\n",
        "                           loss = 'categorical_crossentropy') # 다중 분류"
      ],
      "execution_count": 17,
      "outputs": []
    },
    {
      "cell_type": "code",
      "metadata": {
        "colab": {
          "base_uri": "https://localhost:8080/"
        },
        "id": "j1j_iPBLfwW0",
        "outputId": "5d117865-95cc-4c3d-9d52-16db61a1b282"
      },
      "source": [
        "history_1 = simple_layer_model.fit(train_X, train_Y,\n",
        "                                  epochs=25, batch_size=2)"
      ],
      "execution_count": 18,
      "outputs": [
        {
          "output_type": "stream",
          "text": [
            "Epoch 1/25\n",
            "4/4 [==============================] - 1s 3ms/step - loss: 1.2209\n",
            "Epoch 2/25\n",
            "4/4 [==============================] - 0s 3ms/step - loss: 1.1893\n",
            "Epoch 3/25\n",
            "4/4 [==============================] - 0s 3ms/step - loss: 1.1615\n",
            "Epoch 4/25\n",
            "4/4 [==============================] - 0s 4ms/step - loss: 1.1309\n",
            "Epoch 5/25\n",
            "4/4 [==============================] - 0s 3ms/step - loss: 1.1062\n",
            "Epoch 6/25\n",
            "4/4 [==============================] - 0s 3ms/step - loss: 1.0767\n",
            "Epoch 7/25\n",
            "4/4 [==============================] - 0s 3ms/step - loss: 1.0557\n",
            "Epoch 8/25\n",
            "4/4 [==============================] - 0s 6ms/step - loss: 1.0295\n",
            "Epoch 9/25\n",
            "4/4 [==============================] - 0s 5ms/step - loss: 1.0079\n",
            "Epoch 10/25\n",
            "4/4 [==============================] - 0s 4ms/step - loss: 0.9884\n",
            "Epoch 11/25\n",
            "4/4 [==============================] - 0s 3ms/step - loss: 0.9670\n",
            "Epoch 12/25\n",
            "4/4 [==============================] - 0s 3ms/step - loss: 0.9464\n",
            "Epoch 13/25\n",
            "4/4 [==============================] - 0s 4ms/step - loss: 0.9284\n",
            "Epoch 14/25\n",
            "4/4 [==============================] - 0s 3ms/step - loss: 0.9100\n",
            "Epoch 15/25\n",
            "4/4 [==============================] - 0s 4ms/step - loss: 0.8922\n",
            "Epoch 16/25\n",
            "4/4 [==============================] - 0s 5ms/step - loss: 0.8754\n",
            "Epoch 17/25\n",
            "4/4 [==============================] - 0s 4ms/step - loss: 0.8600\n",
            "Epoch 18/25\n",
            "4/4 [==============================] - 0s 3ms/step - loss: 0.8444\n",
            "Epoch 19/25\n",
            "4/4 [==============================] - 0s 3ms/step - loss: 0.8279\n",
            "Epoch 20/25\n",
            "4/4 [==============================] - 0s 9ms/step - loss: 0.8160\n",
            "Epoch 21/25\n",
            "4/4 [==============================] - 0s 5ms/step - loss: 0.8014\n",
            "Epoch 22/25\n",
            "4/4 [==============================] - 0s 3ms/step - loss: 0.7860\n",
            "Epoch 23/25\n",
            "4/4 [==============================] - 0s 4ms/step - loss: 0.7731\n",
            "Epoch 24/25\n",
            "4/4 [==============================] - 0s 4ms/step - loss: 0.7611\n",
            "Epoch 25/25\n",
            "4/4 [==============================] - 0s 4ms/step - loss: 0.7475\n"
          ],
          "name": "stdout"
        }
      ]
    },
    {
      "cell_type": "code",
      "metadata": {
        "colab": {
          "base_uri": "https://localhost:8080/"
        },
        "id": "QT5r03s8gBZY",
        "outputId": "b6fc9d75-7da1-409c-c071-91d191d78836"
      },
      "source": [
        "simple_layer_model.evaluate(test_X, test_Y)"
      ],
      "execution_count": 19,
      "outputs": [
        {
          "output_type": "stream",
          "text": [
            "1/1 [==============================] - 0s 152ms/step - loss: 1.1218\n"
          ],
          "name": "stdout"
        },
        {
          "output_type": "execute_result",
          "data": {
            "text/plain": [
              "1.121754765510559"
            ]
          },
          "metadata": {
            "tags": []
          },
          "execution_count": 19
        }
      ]
    },
    {
      "cell_type": "code",
      "metadata": {
        "colab": {
          "base_uri": "https://localhost:8080/",
          "height": 279
        },
        "id": "xfFQE_EbgeUf",
        "outputId": "87aba868-1439-4961-8343-d4279763e7c5"
      },
      "source": [
        "plt.figure(figsize=(12,4))\n",
        "plt.plot(history_1.history['loss'], 'b--o', label = 'loss') \n",
        "plt.xlabel('Epochs')\n",
        "plt.ylabel('Loss')\n",
        "plt.legend()\n",
        "plt.grid()\n",
        "plt.show()"
      ],
      "execution_count": 20,
      "outputs": [
        {
          "output_type": "display_data",
          "data": {
            "image/png": "[encoded data removed]",
            "text/plain": [
              "<Figure size 864x288 with 1 Axes>"
            ]
          },
          "metadata": {
            "tags": [],
            "needs_background": "light"
          }
        }
      ]
    },
    {
      "cell_type": "code",
      "metadata": {
        "colab": {
          "base_uri": "https://localhost:8080/"
        },
        "id": "-vx6tR64hGYz",
        "outputId": "dda6e09c-9a57-40ef-ce94-c1172a4c0d01"
      },
      "source": [
        "pred_Y = simple_layer_model.predict(test_X)\n",
        "print(pred_Y)"
      ],
      "execution_count": 21,
      "outputs": [
        {
          "output_type": "stream",
          "text": [
            "[[0.31720555 0.40322286 0.2795716 ]\n",
            " [0.3677472  0.3794575  0.25279528]]\n"
          ],
          "name": "stdout"
        }
      ]
    },
    {
      "cell_type": "code",
      "metadata": {
        "colab": {
          "base_uri": "https://localhost:8080/"
        },
        "id": "zF7hDU6DhOqh",
        "outputId": "37031f6a-3d6d-4ebf-f9f5-8a49a663284b"
      },
      "source": [
        "pred_Y = np.argmax(pred_Y, axis=1)\n",
        "print(pred_Y)"
      ],
      "execution_count": 22,
      "outputs": [
        {
          "output_type": "stream",
          "text": [
            "[1 1]\n"
          ],
          "name": "stdout"
        }
      ]
    },
    {
      "cell_type": "code",
      "metadata": {
        "colab": {
          "base_uri": "https://localhost:8080/"
        },
        "id": "Ox2NwWZrhob2",
        "outputId": "dfcba35a-d8ca-4137-ea87-c87efe550b6a"
      },
      "source": [
        "test_Y = np.argmax(test_Y, axis=1)\n",
        "print(test_Y)"
      ],
      "execution_count": 23,
      "outputs": [
        {
          "output_type": "stream",
          "text": [
            "[2 1]\n"
          ],
          "name": "stdout"
        }
      ]
    },
    {
      "cell_type": "code",
      "metadata": {
        "colab": {
          "base_uri": "https://localhost:8080/"
        },
        "id": "5gDUH-btiSnM",
        "outputId": "60fb3a18-3a95-4717-aaa1-7b6906834520"
      },
      "source": [
        "acc = np.mean(np.equal(pred_Y, test_Y))\n",
        "print(\"ACC : {} %\".format(acc))"
      ],
      "execution_count": 24,
      "outputs": [
        {
          "output_type": "stream",
          "text": [
            "ACC : 0.5 %\n"
          ],
          "name": "stdout"
        }
      ]
    }
  ]
}