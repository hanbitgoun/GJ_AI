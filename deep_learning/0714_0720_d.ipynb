{
  "nbformat": 4,
  "nbformat_minor": 0,
  "metadata": {
    "colab": {
      "name": "0714-0720_d.ipynb",
      "provenance": [],
      "collapsed_sections": [],
      "authorship_tag": "ABX9TyMpkJqIkMDCiij5GtfOTlPj",
      "include_colab_link": true
    },
    "kernelspec": {
      "name": "python3",
      "display_name": "Python 3"
    },
    "language_info": {
      "name": "python"
    }
  },
  "cells": [
    {
      "cell_type": "markdown",
      "metadata": {
        "id": "view-in-github",
        "colab_type": "text"
      },
      "source": [
        "<a href=\"https://colab.research.google.com/github/hanbitgoun/GJ_AI/blob/main/deep_learning/0714_0720_d.ipynb\" target=\"_parent\"><img src=\"https://colab.research.google.com/assets/colab-badge.svg\" alt=\"Open In Colab\"/></a>"
      ]
    },
    {
      "cell_type": "code",
      "metadata": {
        "id": "FCpO48DQdCM_"
      },
      "source": [
        "import pandas as pd\n",
        "import tensorflow as tf\n",
        "import numpy as np\n",
        "import matplotlib.pyplot as plt\n",
        "import seaborn as sns"
      ],
      "execution_count": null,
      "outputs": []
    },
    {
      "cell_type": "code",
      "metadata": {
        "colab": {
          "base_uri": "https://localhost:8080/"
        },
        "id": "5NtX5Dyxiyfo",
        "outputId": "9d8ff458-2599-4d21-e34a-733cbd833c04"
      },
      "source": [
        "df_dataset = pd.read_csv('/content/faults.csv')\n",
        "df_dataset.info()"
      ],
      "execution_count": null,
      "outputs": [
        {
          "output_type": "stream",
          "text": [
            "<class 'pandas.core.frame.DataFrame'>\n",
            "RangeIndex: 1941 entries, 0 to 1940\n",
            "Data columns (total 34 columns):\n",
            " #   Column                 Non-Null Count  Dtype  \n",
            "---  ------                 --------------  -----  \n",
            " 0   X_Minimum              1941 non-null   int64  \n",
            " 1   X_Maximum              1941 non-null   int64  \n",
            " 2   Y_Minimum              1941 non-null   int64  \n",
            " 3   Y_Maximum              1941 non-null   int64  \n",
            " 4   Pixels_Areas           1941 non-null   int64  \n",
            " 5   X_Perimeter            1941 non-null   int64  \n",
            " 6   Y_Perimeter            1941 non-null   int64  \n",
            " 7   Sum_of_Luminosity      1941 non-null   int64  \n",
            " 8   Minimum_of_Luminosity  1941 non-null   int64  \n",
            " 9   Maximum_of_Luminosity  1941 non-null   int64  \n",
            " 10  Length_of_Conveyer     1941 non-null   int64  \n",
            " 11  TypeOfSteel_A300       1941 non-null   int64  \n",
            " 12  TypeOfSteel_A400       1941 non-null   int64  \n",
            " 13  Steel_Plate_Thickness  1941 non-null   int64  \n",
            " 14  Edges_Index            1941 non-null   float64\n",
            " 15  Empty_Index            1941 non-null   float64\n",
            " 16  Square_Index           1941 non-null   float64\n",
            " 17  Outside_X_Index        1941 non-null   float64\n",
            " 18  Edges_X_Index          1941 non-null   float64\n",
            " 19  Edges_Y_Index          1941 non-null   float64\n",
            " 20  Outside_Global_Index   1941 non-null   float64\n",
            " 21  LogOfAreas             1941 non-null   float64\n",
            " 22  Log_X_Index            1941 non-null   float64\n",
            " 23  Log_Y_Index            1941 non-null   float64\n",
            " 24  Orientation_Index      1941 non-null   float64\n",
            " 25  Luminosity_Index       1941 non-null   float64\n",
            " 26  SigmoidOfAreas         1941 non-null   float64\n",
            " 27  Pastry                 1941 non-null   int64  \n",
            " 28  Z_Scratch              1941 non-null   int64  \n",
            " 29  K_Scatch               1941 non-null   int64  \n",
            " 30  Stains                 1941 non-null   int64  \n",
            " 31  Dirtiness              1941 non-null   int64  \n",
            " 32  Bumps                  1941 non-null   int64  \n",
            " 33  Other_Faults           1941 non-null   int64  \n",
            "dtypes: float64(13), int64(21)\n",
            "memory usage: 515.7 KB\n"
          ],
          "name": "stdout"
        }
      ]
    },
    {
      "cell_type": "code",
      "metadata": {
        "colab": {
          "base_uri": "https://localhost:8080/",
          "height": 315
        },
        "id": "mLNqCCJKi-Wg",
        "outputId": "eeadb6c1-601d-470e-f203-df38438350f5"
      },
      "source": [
        "df_dataset.describe() #변수간 값의 차이 큼 > normalization"
      ],
      "execution_count": null,
      "outputs": [
        {
          "output_type": "execute_result",
          "data": {
            "text/html": [
              "<div>\n",
              "<style scoped>\n",
              "    .dataframe tbody tr th:only-of-type {\n",
              "        vertical-align: middle;\n",
              "    }\n",
              "\n",
              "    .dataframe tbody tr th {\n",
              "        vertical-align: top;\n",
              "    }\n",
              "\n",
              "    .dataframe thead th {\n",
              "        text-align: right;\n",
              "    }\n",
              "</style>\n",
              "<table border=\"1\" class=\"dataframe\">\n",
              "  <thead>\n",
              "    <tr style=\"text-align: right;\">\n",
              "      <th></th>\n",
              "      <th>X_Minimum</th>\n",
              "      <th>X_Maximum</th>\n",
              "      <th>Y_Minimum</th>\n",
              "      <th>Y_Maximum</th>\n",
              "      <th>Pixels_Areas</th>\n",
              "      <th>X_Perimeter</th>\n",
              "      <th>Y_Perimeter</th>\n",
              "      <th>Sum_of_Luminosity</th>\n",
              "      <th>Minimum_of_Luminosity</th>\n",
              "      <th>Maximum_of_Luminosity</th>\n",
              "      <th>Length_of_Conveyer</th>\n",
              "      <th>TypeOfSteel_A300</th>\n",
              "      <th>TypeOfSteel_A400</th>\n",
              "      <th>Steel_Plate_Thickness</th>\n",
              "      <th>Edges_Index</th>\n",
              "      <th>Empty_Index</th>\n",
              "      <th>Square_Index</th>\n",
              "      <th>Outside_X_Index</th>\n",
              "      <th>Edges_X_Index</th>\n",
              "      <th>Edges_Y_Index</th>\n",
              "      <th>Outside_Global_Index</th>\n",
              "      <th>LogOfAreas</th>\n",
              "      <th>Log_X_Index</th>\n",
              "      <th>Log_Y_Index</th>\n",
              "      <th>Orientation_Index</th>\n",
              "      <th>Luminosity_Index</th>\n",
              "      <th>SigmoidOfAreas</th>\n",
              "      <th>Pastry</th>\n",
              "      <th>Z_Scratch</th>\n",
              "      <th>K_Scatch</th>\n",
              "      <th>Stains</th>\n",
              "      <th>Dirtiness</th>\n",
              "      <th>Bumps</th>\n",
              "      <th>Other_Faults</th>\n",
              "    </tr>\n",
              "  </thead>\n",
              "  <tbody>\n",
              "    <tr>\n",
              "      <th>count</th>\n",
              "      <td>1941.000000</td>\n",
              "      <td>1941.000000</td>\n",
              "      <td>1.941000e+03</td>\n",
              "      <td>1.941000e+03</td>\n",
              "      <td>1941.000000</td>\n",
              "      <td>1941.000000</td>\n",
              "      <td>1941.000000</td>\n",
              "      <td>1.941000e+03</td>\n",
              "      <td>1941.000000</td>\n",
              "      <td>1941.000000</td>\n",
              "      <td>1941.000000</td>\n",
              "      <td>1941.000000</td>\n",
              "      <td>1941.000000</td>\n",
              "      <td>1941.000000</td>\n",
              "      <td>1941.000000</td>\n",
              "      <td>1941.000000</td>\n",
              "      <td>1941.000000</td>\n",
              "      <td>1941.000000</td>\n",
              "      <td>1941.000000</td>\n",
              "      <td>1941.000000</td>\n",
              "      <td>1941.000000</td>\n",
              "      <td>1941.000000</td>\n",
              "      <td>1941.000000</td>\n",
              "      <td>1941.000000</td>\n",
              "      <td>1941.000000</td>\n",
              "      <td>1941.000000</td>\n",
              "      <td>1941.000000</td>\n",
              "      <td>1941.000000</td>\n",
              "      <td>1941.000000</td>\n",
              "      <td>1941.000000</td>\n",
              "      <td>1941.000000</td>\n",
              "      <td>1941.000000</td>\n",
              "      <td>1941.000000</td>\n",
              "      <td>1941.000000</td>\n",
              "    </tr>\n",
              "    <tr>\n",
              "      <th>mean</th>\n",
              "      <td>571.136012</td>\n",
              "      <td>617.964451</td>\n",
              "      <td>1.650685e+06</td>\n",
              "      <td>1.650739e+06</td>\n",
              "      <td>1893.878413</td>\n",
              "      <td>111.855229</td>\n",
              "      <td>82.965997</td>\n",
              "      <td>2.063121e+05</td>\n",
              "      <td>84.548686</td>\n",
              "      <td>130.193715</td>\n",
              "      <td>1459.160227</td>\n",
              "      <td>0.400309</td>\n",
              "      <td>0.599691</td>\n",
              "      <td>78.737764</td>\n",
              "      <td>0.331715</td>\n",
              "      <td>0.414203</td>\n",
              "      <td>0.570767</td>\n",
              "      <td>0.033361</td>\n",
              "      <td>0.610529</td>\n",
              "      <td>0.813472</td>\n",
              "      <td>0.575734</td>\n",
              "      <td>2.492388</td>\n",
              "      <td>1.335686</td>\n",
              "      <td>1.403271</td>\n",
              "      <td>0.083288</td>\n",
              "      <td>-0.131305</td>\n",
              "      <td>0.585420</td>\n",
              "      <td>0.081401</td>\n",
              "      <td>0.097888</td>\n",
              "      <td>0.201443</td>\n",
              "      <td>0.037094</td>\n",
              "      <td>0.028336</td>\n",
              "      <td>0.207110</td>\n",
              "      <td>0.346728</td>\n",
              "    </tr>\n",
              "    <tr>\n",
              "      <th>std</th>\n",
              "      <td>520.690671</td>\n",
              "      <td>497.627410</td>\n",
              "      <td>1.774578e+06</td>\n",
              "      <td>1.774590e+06</td>\n",
              "      <td>5168.459560</td>\n",
              "      <td>301.209187</td>\n",
              "      <td>426.482879</td>\n",
              "      <td>5.122936e+05</td>\n",
              "      <td>32.134276</td>\n",
              "      <td>18.690992</td>\n",
              "      <td>144.577823</td>\n",
              "      <td>0.490087</td>\n",
              "      <td>0.490087</td>\n",
              "      <td>55.086032</td>\n",
              "      <td>0.299712</td>\n",
              "      <td>0.137261</td>\n",
              "      <td>0.271058</td>\n",
              "      <td>0.058961</td>\n",
              "      <td>0.243277</td>\n",
              "      <td>0.234274</td>\n",
              "      <td>0.482352</td>\n",
              "      <td>0.788930</td>\n",
              "      <td>0.481612</td>\n",
              "      <td>0.454345</td>\n",
              "      <td>0.500868</td>\n",
              "      <td>0.148767</td>\n",
              "      <td>0.339452</td>\n",
              "      <td>0.273521</td>\n",
              "      <td>0.297239</td>\n",
              "      <td>0.401181</td>\n",
              "      <td>0.189042</td>\n",
              "      <td>0.165973</td>\n",
              "      <td>0.405339</td>\n",
              "      <td>0.476051</td>\n",
              "    </tr>\n",
              "    <tr>\n",
              "      <th>min</th>\n",
              "      <td>0.000000</td>\n",
              "      <td>4.000000</td>\n",
              "      <td>6.712000e+03</td>\n",
              "      <td>6.724000e+03</td>\n",
              "      <td>2.000000</td>\n",
              "      <td>2.000000</td>\n",
              "      <td>1.000000</td>\n",
              "      <td>2.500000e+02</td>\n",
              "      <td>0.000000</td>\n",
              "      <td>37.000000</td>\n",
              "      <td>1227.000000</td>\n",
              "      <td>0.000000</td>\n",
              "      <td>0.000000</td>\n",
              "      <td>40.000000</td>\n",
              "      <td>0.000000</td>\n",
              "      <td>0.000000</td>\n",
              "      <td>0.008300</td>\n",
              "      <td>0.001500</td>\n",
              "      <td>0.014400</td>\n",
              "      <td>0.048400</td>\n",
              "      <td>0.000000</td>\n",
              "      <td>0.301000</td>\n",
              "      <td>0.301000</td>\n",
              "      <td>0.000000</td>\n",
              "      <td>-0.991000</td>\n",
              "      <td>-0.998900</td>\n",
              "      <td>0.119000</td>\n",
              "      <td>0.000000</td>\n",
              "      <td>0.000000</td>\n",
              "      <td>0.000000</td>\n",
              "      <td>0.000000</td>\n",
              "      <td>0.000000</td>\n",
              "      <td>0.000000</td>\n",
              "      <td>0.000000</td>\n",
              "    </tr>\n",
              "    <tr>\n",
              "      <th>25%</th>\n",
              "      <td>51.000000</td>\n",
              "      <td>192.000000</td>\n",
              "      <td>4.712530e+05</td>\n",
              "      <td>4.712810e+05</td>\n",
              "      <td>84.000000</td>\n",
              "      <td>15.000000</td>\n",
              "      <td>13.000000</td>\n",
              "      <td>9.522000e+03</td>\n",
              "      <td>63.000000</td>\n",
              "      <td>124.000000</td>\n",
              "      <td>1358.000000</td>\n",
              "      <td>0.000000</td>\n",
              "      <td>0.000000</td>\n",
              "      <td>40.000000</td>\n",
              "      <td>0.060400</td>\n",
              "      <td>0.315800</td>\n",
              "      <td>0.361300</td>\n",
              "      <td>0.006600</td>\n",
              "      <td>0.411800</td>\n",
              "      <td>0.596800</td>\n",
              "      <td>0.000000</td>\n",
              "      <td>1.924300</td>\n",
              "      <td>1.000000</td>\n",
              "      <td>1.079200</td>\n",
              "      <td>-0.333300</td>\n",
              "      <td>-0.195000</td>\n",
              "      <td>0.248200</td>\n",
              "      <td>0.000000</td>\n",
              "      <td>0.000000</td>\n",
              "      <td>0.000000</td>\n",
              "      <td>0.000000</td>\n",
              "      <td>0.000000</td>\n",
              "      <td>0.000000</td>\n",
              "      <td>0.000000</td>\n",
              "    </tr>\n",
              "    <tr>\n",
              "      <th>50%</th>\n",
              "      <td>435.000000</td>\n",
              "      <td>467.000000</td>\n",
              "      <td>1.204128e+06</td>\n",
              "      <td>1.204136e+06</td>\n",
              "      <td>174.000000</td>\n",
              "      <td>26.000000</td>\n",
              "      <td>25.000000</td>\n",
              "      <td>1.920200e+04</td>\n",
              "      <td>90.000000</td>\n",
              "      <td>127.000000</td>\n",
              "      <td>1364.000000</td>\n",
              "      <td>0.000000</td>\n",
              "      <td>1.000000</td>\n",
              "      <td>70.000000</td>\n",
              "      <td>0.227300</td>\n",
              "      <td>0.412100</td>\n",
              "      <td>0.555600</td>\n",
              "      <td>0.010100</td>\n",
              "      <td>0.636400</td>\n",
              "      <td>0.947400</td>\n",
              "      <td>1.000000</td>\n",
              "      <td>2.240600</td>\n",
              "      <td>1.176100</td>\n",
              "      <td>1.322200</td>\n",
              "      <td>0.095200</td>\n",
              "      <td>-0.133000</td>\n",
              "      <td>0.506300</td>\n",
              "      <td>0.000000</td>\n",
              "      <td>0.000000</td>\n",
              "      <td>0.000000</td>\n",
              "      <td>0.000000</td>\n",
              "      <td>0.000000</td>\n",
              "      <td>0.000000</td>\n",
              "      <td>0.000000</td>\n",
              "    </tr>\n",
              "    <tr>\n",
              "      <th>75%</th>\n",
              "      <td>1053.000000</td>\n",
              "      <td>1072.000000</td>\n",
              "      <td>2.183073e+06</td>\n",
              "      <td>2.183084e+06</td>\n",
              "      <td>822.000000</td>\n",
              "      <td>84.000000</td>\n",
              "      <td>83.000000</td>\n",
              "      <td>8.301100e+04</td>\n",
              "      <td>106.000000</td>\n",
              "      <td>140.000000</td>\n",
              "      <td>1650.000000</td>\n",
              "      <td>1.000000</td>\n",
              "      <td>1.000000</td>\n",
              "      <td>80.000000</td>\n",
              "      <td>0.573800</td>\n",
              "      <td>0.501600</td>\n",
              "      <td>0.818200</td>\n",
              "      <td>0.023500</td>\n",
              "      <td>0.800000</td>\n",
              "      <td>1.000000</td>\n",
              "      <td>1.000000</td>\n",
              "      <td>2.914900</td>\n",
              "      <td>1.518500</td>\n",
              "      <td>1.732400</td>\n",
              "      <td>0.511600</td>\n",
              "      <td>-0.066600</td>\n",
              "      <td>0.999800</td>\n",
              "      <td>0.000000</td>\n",
              "      <td>0.000000</td>\n",
              "      <td>0.000000</td>\n",
              "      <td>0.000000</td>\n",
              "      <td>0.000000</td>\n",
              "      <td>0.000000</td>\n",
              "      <td>1.000000</td>\n",
              "    </tr>\n",
              "    <tr>\n",
              "      <th>max</th>\n",
              "      <td>1705.000000</td>\n",
              "      <td>1713.000000</td>\n",
              "      <td>1.298766e+07</td>\n",
              "      <td>1.298769e+07</td>\n",
              "      <td>152655.000000</td>\n",
              "      <td>10449.000000</td>\n",
              "      <td>18152.000000</td>\n",
              "      <td>1.159141e+07</td>\n",
              "      <td>203.000000</td>\n",
              "      <td>253.000000</td>\n",
              "      <td>1794.000000</td>\n",
              "      <td>1.000000</td>\n",
              "      <td>1.000000</td>\n",
              "      <td>300.000000</td>\n",
              "      <td>0.995200</td>\n",
              "      <td>0.943900</td>\n",
              "      <td>1.000000</td>\n",
              "      <td>0.875900</td>\n",
              "      <td>1.000000</td>\n",
              "      <td>1.000000</td>\n",
              "      <td>1.000000</td>\n",
              "      <td>5.183700</td>\n",
              "      <td>3.074100</td>\n",
              "      <td>4.258700</td>\n",
              "      <td>0.991700</td>\n",
              "      <td>0.642100</td>\n",
              "      <td>1.000000</td>\n",
              "      <td>1.000000</td>\n",
              "      <td>1.000000</td>\n",
              "      <td>1.000000</td>\n",
              "      <td>1.000000</td>\n",
              "      <td>1.000000</td>\n",
              "      <td>1.000000</td>\n",
              "      <td>1.000000</td>\n",
              "    </tr>\n",
              "  </tbody>\n",
              "</table>\n",
              "</div>"
            ],
            "text/plain": [
              "         X_Minimum    X_Maximum  ...        Bumps  Other_Faults\n",
              "count  1941.000000  1941.000000  ...  1941.000000   1941.000000\n",
              "mean    571.136012   617.964451  ...     0.207110      0.346728\n",
              "std     520.690671   497.627410  ...     0.405339      0.476051\n",
              "min       0.000000     4.000000  ...     0.000000      0.000000\n",
              "25%      51.000000   192.000000  ...     0.000000      0.000000\n",
              "50%     435.000000   467.000000  ...     0.000000      0.000000\n",
              "75%    1053.000000  1072.000000  ...     0.000000      1.000000\n",
              "max    1705.000000  1713.000000  ...     1.000000      1.000000\n",
              "\n",
              "[8 rows x 34 columns]"
            ]
          },
          "metadata": {
            "tags": []
          },
          "execution_count": 6
        }
      ]
    },
    {
      "cell_type": "code",
      "metadata": {
        "id": "d2sVYfDtjPEd"
      },
      "source": [
        "#min-max normalization : 이상치에 민감\n",
        "faults_norm = (df_dataset - df_dataset.min()) / (df_dataset.max() - df_dataset.min())"
      ],
      "execution_count": null,
      "outputs": []
    },
    {
      "cell_type": "code",
      "metadata": {
        "colab": {
          "base_uri": "https://localhost:8080/",
          "height": 315
        },
        "id": "GBQMLPYZlHsI",
        "outputId": "7c0cfea9-5033-48b7-918c-d965a3366a29"
      },
      "source": [
        "faults_norm.describe()"
      ],
      "execution_count": null,
      "outputs": [
        {
          "output_type": "execute_result",
          "data": {
            "text/html": [
              "<div>\n",
              "<style scoped>\n",
              "    .dataframe tbody tr th:only-of-type {\n",
              "        vertical-align: middle;\n",
              "    }\n",
              "\n",
              "    .dataframe tbody tr th {\n",
              "        vertical-align: top;\n",
              "    }\n",
              "\n",
              "    .dataframe thead th {\n",
              "        text-align: right;\n",
              "    }\n",
              "</style>\n",
              "<table border=\"1\" class=\"dataframe\">\n",
              "  <thead>\n",
              "    <tr style=\"text-align: right;\">\n",
              "      <th></th>\n",
              "      <th>X_Minimum</th>\n",
              "      <th>X_Maximum</th>\n",
              "      <th>Y_Minimum</th>\n",
              "      <th>Y_Maximum</th>\n",
              "      <th>Pixels_Areas</th>\n",
              "      <th>X_Perimeter</th>\n",
              "      <th>Y_Perimeter</th>\n",
              "      <th>Sum_of_Luminosity</th>\n",
              "      <th>Minimum_of_Luminosity</th>\n",
              "      <th>Maximum_of_Luminosity</th>\n",
              "      <th>Length_of_Conveyer</th>\n",
              "      <th>TypeOfSteel_A300</th>\n",
              "      <th>TypeOfSteel_A400</th>\n",
              "      <th>Steel_Plate_Thickness</th>\n",
              "      <th>Edges_Index</th>\n",
              "      <th>Empty_Index</th>\n",
              "      <th>Square_Index</th>\n",
              "      <th>Outside_X_Index</th>\n",
              "      <th>Edges_X_Index</th>\n",
              "      <th>Edges_Y_Index</th>\n",
              "      <th>Outside_Global_Index</th>\n",
              "      <th>LogOfAreas</th>\n",
              "      <th>Log_X_Index</th>\n",
              "      <th>Log_Y_Index</th>\n",
              "      <th>Orientation_Index</th>\n",
              "      <th>Luminosity_Index</th>\n",
              "      <th>SigmoidOfAreas</th>\n",
              "      <th>Pastry</th>\n",
              "      <th>Z_Scratch</th>\n",
              "      <th>K_Scatch</th>\n",
              "      <th>Stains</th>\n",
              "      <th>Dirtiness</th>\n",
              "      <th>Bumps</th>\n",
              "      <th>Other_Faults</th>\n",
              "    </tr>\n",
              "  </thead>\n",
              "  <tbody>\n",
              "    <tr>\n",
              "      <th>count</th>\n",
              "      <td>1941.000000</td>\n",
              "      <td>1941.000000</td>\n",
              "      <td>1941.000000</td>\n",
              "      <td>1941.000000</td>\n",
              "      <td>1941.000000</td>\n",
              "      <td>1941.000000</td>\n",
              "      <td>1941.000000</td>\n",
              "      <td>1941.000000</td>\n",
              "      <td>1941.000000</td>\n",
              "      <td>1941.000000</td>\n",
              "      <td>1941.000000</td>\n",
              "      <td>1941.000000</td>\n",
              "      <td>1941.000000</td>\n",
              "      <td>1941.000000</td>\n",
              "      <td>1941.000000</td>\n",
              "      <td>1941.000000</td>\n",
              "      <td>1941.000000</td>\n",
              "      <td>1941.000000</td>\n",
              "      <td>1941.000000</td>\n",
              "      <td>1941.000000</td>\n",
              "      <td>1941.000000</td>\n",
              "      <td>1941.000000</td>\n",
              "      <td>1941.000000</td>\n",
              "      <td>1941.000000</td>\n",
              "      <td>1941.000000</td>\n",
              "      <td>1941.000000</td>\n",
              "      <td>1941.000000</td>\n",
              "      <td>1941.000000</td>\n",
              "      <td>1941.000000</td>\n",
              "      <td>1941.000000</td>\n",
              "      <td>1941.000000</td>\n",
              "      <td>1941.000000</td>\n",
              "      <td>1941.000000</td>\n",
              "      <td>1941.000000</td>\n",
              "    </tr>\n",
              "    <tr>\n",
              "      <th>mean</th>\n",
              "      <td>0.334977</td>\n",
              "      <td>0.359254</td>\n",
              "      <td>0.126645</td>\n",
              "      <td>0.126648</td>\n",
              "      <td>0.012393</td>\n",
              "      <td>0.010515</td>\n",
              "      <td>0.004516</td>\n",
              "      <td>0.017778</td>\n",
              "      <td>0.416496</td>\n",
              "      <td>0.431452</td>\n",
              "      <td>0.409454</td>\n",
              "      <td>0.400309</td>\n",
              "      <td>0.599691</td>\n",
              "      <td>0.148991</td>\n",
              "      <td>0.333315</td>\n",
              "      <td>0.438821</td>\n",
              "      <td>0.567175</td>\n",
              "      <td>0.036438</td>\n",
              "      <td>0.604838</td>\n",
              "      <td>0.803985</td>\n",
              "      <td>0.575734</td>\n",
              "      <td>0.448807</td>\n",
              "      <td>0.373115</td>\n",
              "      <td>0.329507</td>\n",
              "      <td>0.541831</td>\n",
              "      <td>0.528699</td>\n",
              "      <td>0.529422</td>\n",
              "      <td>0.081401</td>\n",
              "      <td>0.097888</td>\n",
              "      <td>0.201443</td>\n",
              "      <td>0.037094</td>\n",
              "      <td>0.028336</td>\n",
              "      <td>0.207110</td>\n",
              "      <td>0.346728</td>\n",
              "    </tr>\n",
              "    <tr>\n",
              "      <th>std</th>\n",
              "      <td>0.305390</td>\n",
              "      <td>0.291180</td>\n",
              "      <td>0.136706</td>\n",
              "      <td>0.136707</td>\n",
              "      <td>0.033858</td>\n",
              "      <td>0.028832</td>\n",
              "      <td>0.023496</td>\n",
              "      <td>0.044197</td>\n",
              "      <td>0.158297</td>\n",
              "      <td>0.086532</td>\n",
              "      <td>0.254987</td>\n",
              "      <td>0.490087</td>\n",
              "      <td>0.490087</td>\n",
              "      <td>0.211869</td>\n",
              "      <td>0.301157</td>\n",
              "      <td>0.145420</td>\n",
              "      <td>0.273327</td>\n",
              "      <td>0.067430</td>\n",
              "      <td>0.246831</td>\n",
              "      <td>0.246189</td>\n",
              "      <td>0.482352</td>\n",
              "      <td>0.161577</td>\n",
              "      <td>0.173673</td>\n",
              "      <td>0.106686</td>\n",
              "      <td>0.252619</td>\n",
              "      <td>0.090656</td>\n",
              "      <td>0.385303</td>\n",
              "      <td>0.273521</td>\n",
              "      <td>0.297239</td>\n",
              "      <td>0.401181</td>\n",
              "      <td>0.189042</td>\n",
              "      <td>0.165973</td>\n",
              "      <td>0.405339</td>\n",
              "      <td>0.476051</td>\n",
              "    </tr>\n",
              "    <tr>\n",
              "      <th>min</th>\n",
              "      <td>0.000000</td>\n",
              "      <td>0.000000</td>\n",
              "      <td>0.000000</td>\n",
              "      <td>0.000000</td>\n",
              "      <td>0.000000</td>\n",
              "      <td>0.000000</td>\n",
              "      <td>0.000000</td>\n",
              "      <td>0.000000</td>\n",
              "      <td>0.000000</td>\n",
              "      <td>0.000000</td>\n",
              "      <td>0.000000</td>\n",
              "      <td>0.000000</td>\n",
              "      <td>0.000000</td>\n",
              "      <td>0.000000</td>\n",
              "      <td>0.000000</td>\n",
              "      <td>0.000000</td>\n",
              "      <td>0.000000</td>\n",
              "      <td>0.000000</td>\n",
              "      <td>0.000000</td>\n",
              "      <td>0.000000</td>\n",
              "      <td>0.000000</td>\n",
              "      <td>0.000000</td>\n",
              "      <td>0.000000</td>\n",
              "      <td>0.000000</td>\n",
              "      <td>0.000000</td>\n",
              "      <td>0.000000</td>\n",
              "      <td>0.000000</td>\n",
              "      <td>0.000000</td>\n",
              "      <td>0.000000</td>\n",
              "      <td>0.000000</td>\n",
              "      <td>0.000000</td>\n",
              "      <td>0.000000</td>\n",
              "      <td>0.000000</td>\n",
              "      <td>0.000000</td>\n",
              "    </tr>\n",
              "    <tr>\n",
              "      <th>25%</th>\n",
              "      <td>0.029912</td>\n",
              "      <td>0.110006</td>\n",
              "      <td>0.035786</td>\n",
              "      <td>0.035788</td>\n",
              "      <td>0.000537</td>\n",
              "      <td>0.001244</td>\n",
              "      <td>0.000661</td>\n",
              "      <td>0.000800</td>\n",
              "      <td>0.310345</td>\n",
              "      <td>0.402778</td>\n",
              "      <td>0.231041</td>\n",
              "      <td>0.000000</td>\n",
              "      <td>0.000000</td>\n",
              "      <td>0.000000</td>\n",
              "      <td>0.060691</td>\n",
              "      <td>0.334569</td>\n",
              "      <td>0.355954</td>\n",
              "      <td>0.005833</td>\n",
              "      <td>0.403206</td>\n",
              "      <td>0.576293</td>\n",
              "      <td>0.000000</td>\n",
              "      <td>0.332459</td>\n",
              "      <td>0.252064</td>\n",
              "      <td>0.253411</td>\n",
              "      <td>0.331719</td>\n",
              "      <td>0.489884</td>\n",
              "      <td>0.146652</td>\n",
              "      <td>0.000000</td>\n",
              "      <td>0.000000</td>\n",
              "      <td>0.000000</td>\n",
              "      <td>0.000000</td>\n",
              "      <td>0.000000</td>\n",
              "      <td>0.000000</td>\n",
              "      <td>0.000000</td>\n",
              "    </tr>\n",
              "    <tr>\n",
              "      <th>50%</th>\n",
              "      <td>0.255132</td>\n",
              "      <td>0.270919</td>\n",
              "      <td>0.092244</td>\n",
              "      <td>0.092244</td>\n",
              "      <td>0.001127</td>\n",
              "      <td>0.002297</td>\n",
              "      <td>0.001322</td>\n",
              "      <td>0.001635</td>\n",
              "      <td>0.443350</td>\n",
              "      <td>0.416667</td>\n",
              "      <td>0.241623</td>\n",
              "      <td>0.000000</td>\n",
              "      <td>1.000000</td>\n",
              "      <td>0.115385</td>\n",
              "      <td>0.228396</td>\n",
              "      <td>0.436593</td>\n",
              "      <td>0.551881</td>\n",
              "      <td>0.009835</td>\n",
              "      <td>0.631088</td>\n",
              "      <td>0.944725</td>\n",
              "      <td>1.000000</td>\n",
              "      <td>0.397239</td>\n",
              "      <td>0.315567</td>\n",
              "      <td>0.310470</td>\n",
              "      <td>0.547839</td>\n",
              "      <td>0.527666</td>\n",
              "      <td>0.439614</td>\n",
              "      <td>0.000000</td>\n",
              "      <td>0.000000</td>\n",
              "      <td>0.000000</td>\n",
              "      <td>0.000000</td>\n",
              "      <td>0.000000</td>\n",
              "      <td>0.000000</td>\n",
              "      <td>0.000000</td>\n",
              "    </tr>\n",
              "    <tr>\n",
              "      <th>75%</th>\n",
              "      <td>0.617595</td>\n",
              "      <td>0.624927</td>\n",
              "      <td>0.167658</td>\n",
              "      <td>0.167658</td>\n",
              "      <td>0.005372</td>\n",
              "      <td>0.007849</td>\n",
              "      <td>0.004518</td>\n",
              "      <td>0.007140</td>\n",
              "      <td>0.522167</td>\n",
              "      <td>0.476852</td>\n",
              "      <td>0.746032</td>\n",
              "      <td>1.000000</td>\n",
              "      <td>1.000000</td>\n",
              "      <td>0.153846</td>\n",
              "      <td>0.576568</td>\n",
              "      <td>0.531412</td>\n",
              "      <td>0.816678</td>\n",
              "      <td>0.025160</td>\n",
              "      <td>0.797078</td>\n",
              "      <td>1.000000</td>\n",
              "      <td>1.000000</td>\n",
              "      <td>0.535339</td>\n",
              "      <td>0.439039</td>\n",
              "      <td>0.406791</td>\n",
              "      <td>0.757855</td>\n",
              "      <td>0.568129</td>\n",
              "      <td>0.999773</td>\n",
              "      <td>0.000000</td>\n",
              "      <td>0.000000</td>\n",
              "      <td>0.000000</td>\n",
              "      <td>0.000000</td>\n",
              "      <td>0.000000</td>\n",
              "      <td>0.000000</td>\n",
              "      <td>1.000000</td>\n",
              "    </tr>\n",
              "    <tr>\n",
              "      <th>max</th>\n",
              "      <td>1.000000</td>\n",
              "      <td>1.000000</td>\n",
              "      <td>1.000000</td>\n",
              "      <td>1.000000</td>\n",
              "      <td>1.000000</td>\n",
              "      <td>1.000000</td>\n",
              "      <td>1.000000</td>\n",
              "      <td>1.000000</td>\n",
              "      <td>1.000000</td>\n",
              "      <td>1.000000</td>\n",
              "      <td>1.000000</td>\n",
              "      <td>1.000000</td>\n",
              "      <td>1.000000</td>\n",
              "      <td>1.000000</td>\n",
              "      <td>1.000000</td>\n",
              "      <td>1.000000</td>\n",
              "      <td>1.000000</td>\n",
              "      <td>1.000000</td>\n",
              "      <td>1.000000</td>\n",
              "      <td>1.000000</td>\n",
              "      <td>1.000000</td>\n",
              "      <td>1.000000</td>\n",
              "      <td>1.000000</td>\n",
              "      <td>1.000000</td>\n",
              "      <td>1.000000</td>\n",
              "      <td>1.000000</td>\n",
              "      <td>1.000000</td>\n",
              "      <td>1.000000</td>\n",
              "      <td>1.000000</td>\n",
              "      <td>1.000000</td>\n",
              "      <td>1.000000</td>\n",
              "      <td>1.000000</td>\n",
              "      <td>1.000000</td>\n",
              "      <td>1.000000</td>\n",
              "    </tr>\n",
              "  </tbody>\n",
              "</table>\n",
              "</div>"
            ],
            "text/plain": [
              "         X_Minimum    X_Maximum  ...        Bumps  Other_Faults\n",
              "count  1941.000000  1941.000000  ...  1941.000000   1941.000000\n",
              "mean      0.334977     0.359254  ...     0.207110      0.346728\n",
              "std       0.305390     0.291180  ...     0.405339      0.476051\n",
              "min       0.000000     0.000000  ...     0.000000      0.000000\n",
              "25%       0.029912     0.110006  ...     0.000000      0.000000\n",
              "50%       0.255132     0.270919  ...     0.000000      0.000000\n",
              "75%       0.617595     0.624927  ...     0.000000      1.000000\n",
              "max       1.000000     1.000000  ...     1.000000      1.000000\n",
              "\n",
              "[8 rows x 34 columns]"
            ]
          },
          "metadata": {
            "tags": []
          },
          "execution_count": 8
        }
      ]
    },
    {
      "cell_type": "code",
      "metadata": {
        "colab": {
          "base_uri": "https://localhost:8080/"
        },
        "id": "L8kReXdKlJSh",
        "outputId": "21bdca09-2481-41da-90ee-47128f77428f"
      },
      "source": [
        "faults_shuffle = faults_norm.sample(frac = 1) #데이터 섞어줌\n",
        "print(faults_shuffle[:5])"
      ],
      "execution_count": null,
      "outputs": [
        {
          "output_type": "stream",
          "text": [
            "      X_Minimum  X_Maximum  Y_Minimum  ...  Dirtiness  Bumps  Other_Faults\n",
            "1087   0.165396   0.167934   0.034601  ...        0.0    1.0           0.0\n",
            "116    0.989443   0.988882   0.026309  ...        0.0    0.0           0.0\n",
            "965    0.665103   0.674078   0.055587  ...        0.0    1.0           0.0\n",
            "1031   0.337830   0.338795   0.325751  ...        0.0    1.0           0.0\n",
            "375    0.547214   0.547689   0.046680  ...        0.0    0.0           0.0\n",
            "\n",
            "[5 rows x 34 columns]\n"
          ],
          "name": "stdout"
        }
      ]
    },
    {
      "cell_type": "code",
      "metadata": {
        "colab": {
          "base_uri": "https://localhost:8080/"
        },
        "id": "hI7qpnFfllZb",
        "outputId": "2e981a1c-c1a1-4725-b8bf-3628c18ff574"
      },
      "source": [
        "faults_np = faults_shuffle.to_numpy() #to_numpy()\n",
        "print(type(faults_np))"
      ],
      "execution_count": null,
      "outputs": [
        {
          "output_type": "stream",
          "text": [
            "<class 'numpy.ndarray'>\n"
          ],
          "name": "stdout"
        }
      ]
    },
    {
      "cell_type": "code",
      "metadata": {
        "id": "Gn15P0NvlwQt"
      },
      "source": [
        "train_ratio = 0.92\n",
        "input_cnt = 27 \n",
        "output_cnt = 7"
      ],
      "execution_count": null,
      "outputs": []
    },
    {
      "cell_type": "code",
      "metadata": {
        "colab": {
          "base_uri": "https://localhost:8080/"
        },
        "id": "i00ZloMhmCYT",
        "outputId": "0c6ca0e2-7893-4f8c-a143-a6fd4cb7dd6f"
      },
      "source": [
        "train_index = int(len(faults_np) * train_ratio)\n",
        "print(train_index)"
      ],
      "execution_count": null,
      "outputs": [
        {
          "output_type": "stream",
          "text": [
            "1785\n"
          ],
          "name": "stdout"
        }
      ]
    },
    {
      "cell_type": "code",
      "metadata": {
        "id": "53LitIcVmO08"
      },
      "source": [
        "train_X, train_Y = faults_np[:train_index, :-output_cnt], faults_np[:train_index, -output_cnt:]\n",
        "test_X, test_Y = faults_np[train_index:,:-output_cnt], faults_np[train_index:,-output_cnt:]"
      ],
      "execution_count": null,
      "outputs": []
    },
    {
      "cell_type": "code",
      "metadata": {
        "colab": {
          "base_uri": "https://localhost:8080/"
        },
        "id": "lw5fydpWnK8x",
        "outputId": "c856e068-c6e0-48ff-afc3-4c62a906eaa9"
      },
      "source": [
        "print(train_X.shape)\n",
        "print(train_Y.shape)\n",
        "\n",
        "print(test_X.shape)\n",
        "print(test_Y.shape)"
      ],
      "execution_count": null,
      "outputs": [
        {
          "output_type": "stream",
          "text": [
            "(1785, 27)\n",
            "(1785, 7)\n",
            "(156, 27)\n",
            "(156, 7)\n"
          ],
          "name": "stdout"
        }
      ]
    },
    {
      "cell_type": "code",
      "metadata": {
        "id": "koQ5RxMwQQED"
      },
      "source": [
        "#마지막 계층에서 softmax 사용하는 이유 ?"
      ],
      "execution_count": null,
      "outputs": []
    },
    {
      "cell_type": "code",
      "metadata": {
        "id": "xeyBS61tnTgg"
      },
      "source": [
        "multi_layer_model = tf.keras.Sequential( [\n",
        "                                          tf.keras.layers.Dense(units=48,\n",
        "                                                                activation='elu',\n",
        "                                                                input_shape=(27,)),\n",
        "                                          tf.keras.layers.Dense(units=24,\n",
        "                                                                activation='elu'),\n",
        "                                          tf.keras.layers.Dense(units=12,\n",
        "                                                                activation='elu'),\n",
        "                                          tf.keras.layers.Dense(units=7, \n",
        "                                                                activation='softmax') # 종속변수 개수\n",
        "] )"
      ],
      "execution_count": null,
      "outputs": []
    },
    {
      "cell_type": "code",
      "metadata": {
        "colab": {
          "base_uri": "https://localhost:8080/"
        },
        "id": "MEYlqXutpfN6",
        "outputId": "a9e8ea68-8af0-4f97-b77e-656298da84dd"
      },
      "source": [
        "multi_layer_model.summary()"
      ],
      "execution_count": null,
      "outputs": [
        {
          "output_type": "stream",
          "text": [
            "Model: \"sequential\"\n",
            "_________________________________________________________________\n",
            "Layer (type)                 Output Shape              Param #   \n",
            "=================================================================\n",
            "dense (Dense)                (None, 48)                1344      \n",
            "_________________________________________________________________\n",
            "dense_1 (Dense)              (None, 24)                1176      \n",
            "_________________________________________________________________\n",
            "dense_2 (Dense)              (None, 12)                300       \n",
            "_________________________________________________________________\n",
            "dense_3 (Dense)              (None, 7)                 91        \n",
            "=================================================================\n",
            "Total params: 2,911\n",
            "Trainable params: 2,911\n",
            "Non-trainable params: 0\n",
            "_________________________________________________________________\n"
          ],
          "name": "stdout"
        }
      ]
    },
    {
      "cell_type": "code",
      "metadata": {
        "id": "E4hNig0GpiEf"
      },
      "source": [
        "multi_layer_model.compile(optimizer=tf.keras.optimizers.Adam(learning_rate=0.01),\n",
        "                         loss='categorical_crossentropy')"
      ],
      "execution_count": null,
      "outputs": []
    },
    {
      "cell_type": "code",
      "metadata": {
        "colab": {
          "base_uri": "https://localhost:8080/"
        },
        "id": "8ATfMsUUp81f",
        "outputId": "9c3ac4cd-8d11-4164-e872-1f4ed0a8b4d5"
      },
      "source": [
        "history = multi_layer_model.fit(train_X, train_Y,\n",
        "                      epochs=400, batch_size=10)"
      ],
      "execution_count": null,
      "outputs": [
        {
          "output_type": "stream",
          "text": [
            "Epoch 1/400\n",
            "179/179 [==============================] - 1s 2ms/step - loss: 1.1351\n",
            "Epoch 2/400\n",
            "179/179 [==============================] - 0s 2ms/step - loss: 0.9265\n",
            "Epoch 3/400\n",
            "179/179 [==============================] - 0s 1ms/step - loss: 0.8517\n",
            "Epoch 4/400\n",
            "179/179 [==============================] - 0s 1ms/step - loss: 0.8156\n",
            "Epoch 5/400\n",
            "179/179 [==============================] - 0s 1ms/step - loss: 0.7792\n",
            "Epoch 6/400\n",
            "179/179 [==============================] - 0s 1ms/step - loss: 0.7863\n",
            "Epoch 7/400\n",
            "179/179 [==============================] - 0s 1ms/step - loss: 0.7572\n",
            "Epoch 8/400\n",
            "179/179 [==============================] - 0s 1ms/step - loss: 0.7177\n",
            "Epoch 9/400\n",
            "179/179 [==============================] - 0s 1ms/step - loss: 0.7084\n",
            "Epoch 10/400\n",
            "179/179 [==============================] - 0s 1ms/step - loss: 0.7103\n",
            "Epoch 11/400\n",
            "179/179 [==============================] - 0s 1ms/step - loss: 0.7107\n",
            "Epoch 12/400\n",
            "179/179 [==============================] - 0s 1ms/step - loss: 0.6945\n",
            "Epoch 13/400\n",
            "179/179 [==============================] - 0s 1ms/step - loss: 0.6811\n",
            "Epoch 14/400\n",
            "179/179 [==============================] - 0s 1ms/step - loss: 0.6800\n",
            "Epoch 15/400\n",
            "179/179 [==============================] - 0s 1ms/step - loss: 0.7059\n",
            "Epoch 16/400\n",
            "179/179 [==============================] - 0s 1ms/step - loss: 0.6566\n",
            "Epoch 17/400\n",
            "179/179 [==============================] - 0s 1ms/step - loss: 0.6599\n",
            "Epoch 18/400\n",
            "179/179 [==============================] - 0s 1ms/step - loss: 0.6526\n",
            "Epoch 19/400\n",
            "179/179 [==============================] - 0s 1ms/step - loss: 0.6469\n",
            "Epoch 20/400\n",
            "179/179 [==============================] - 0s 1ms/step - loss: 0.6223\n",
            "Epoch 21/400\n",
            "179/179 [==============================] - 0s 1ms/step - loss: 0.6412\n",
            "Epoch 22/400\n",
            "179/179 [==============================] - 0s 1ms/step - loss: 0.6289\n",
            "Epoch 23/400\n",
            "179/179 [==============================] - 0s 1ms/step - loss: 0.6127\n",
            "Epoch 24/400\n",
            "179/179 [==============================] - 0s 1ms/step - loss: 0.6303\n",
            "Epoch 25/400\n",
            "179/179 [==============================] - 0s 1ms/step - loss: 0.6289\n",
            "Epoch 26/400\n",
            "179/179 [==============================] - 0s 1ms/step - loss: 0.6222\n",
            "Epoch 27/400\n",
            "179/179 [==============================] - 0s 1ms/step - loss: 0.5923\n",
            "Epoch 28/400\n",
            "179/179 [==============================] - 0s 1ms/step - loss: 0.6037\n",
            "Epoch 29/400\n",
            "179/179 [==============================] - 0s 1ms/step - loss: 0.5851\n",
            "Epoch 30/400\n",
            "179/179 [==============================] - 0s 1ms/step - loss: 0.5959\n",
            "Epoch 31/400\n",
            "179/179 [==============================] - 0s 1ms/step - loss: 0.5713\n",
            "Epoch 32/400\n",
            "179/179 [==============================] - 0s 1ms/step - loss: 0.5636\n",
            "Epoch 33/400\n",
            "179/179 [==============================] - 0s 1ms/step - loss: 0.6277\n",
            "Epoch 34/400\n",
            "179/179 [==============================] - 0s 1ms/step - loss: 0.5700\n",
            "Epoch 35/400\n",
            "179/179 [==============================] - 0s 1ms/step - loss: 0.5664\n",
            "Epoch 36/400\n",
            "179/179 [==============================] - 0s 1ms/step - loss: 0.5675\n",
            "Epoch 37/400\n",
            "179/179 [==============================] - 0s 1ms/step - loss: 0.5525\n",
            "Epoch 38/400\n",
            "179/179 [==============================] - 0s 1ms/step - loss: 0.5495\n",
            "Epoch 39/400\n",
            "179/179 [==============================] - 0s 1ms/step - loss: 0.5471\n",
            "Epoch 40/400\n",
            "179/179 [==============================] - 0s 1ms/step - loss: 0.5466\n",
            "Epoch 41/400\n",
            "179/179 [==============================] - 0s 1ms/step - loss: 0.5779\n",
            "Epoch 42/400\n",
            "179/179 [==============================] - 0s 1ms/step - loss: 0.5361\n",
            "Epoch 43/400\n",
            "179/179 [==============================] - 0s 1ms/step - loss: 0.5416\n",
            "Epoch 44/400\n",
            "179/179 [==============================] - 0s 1ms/step - loss: 0.5359\n",
            "Epoch 45/400\n",
            "179/179 [==============================] - 0s 1ms/step - loss: 0.5326\n",
            "Epoch 46/400\n",
            "179/179 [==============================] - 0s 1ms/step - loss: 0.5278\n",
            "Epoch 47/400\n",
            "179/179 [==============================] - 0s 1ms/step - loss: 0.5498\n",
            "Epoch 48/400\n",
            "179/179 [==============================] - 0s 1ms/step - loss: 0.5564\n",
            "Epoch 49/400\n",
            "179/179 [==============================] - 0s 1ms/step - loss: 0.4969\n",
            "Epoch 50/400\n",
            "179/179 [==============================] - 0s 1ms/step - loss: 0.4856\n",
            "Epoch 51/400\n",
            "179/179 [==============================] - 0s 2ms/step - loss: 0.5165\n",
            "Epoch 52/400\n",
            "179/179 [==============================] - 0s 1ms/step - loss: 0.5406\n",
            "Epoch 53/400\n",
            "179/179 [==============================] - 0s 1ms/step - loss: 0.5087\n",
            "Epoch 54/400\n",
            "179/179 [==============================] - 0s 1ms/step - loss: 0.5134\n",
            "Epoch 55/400\n",
            "179/179 [==============================] - 0s 1ms/step - loss: 0.5111\n",
            "Epoch 56/400\n",
            "179/179 [==============================] - 0s 1ms/step - loss: 0.5322\n",
            "Epoch 57/400\n",
            "179/179 [==============================] - 0s 1ms/step - loss: 0.5343\n",
            "Epoch 58/400\n",
            "179/179 [==============================] - 0s 1ms/step - loss: 0.5131\n",
            "Epoch 59/400\n",
            "179/179 [==============================] - 0s 1ms/step - loss: 0.5008\n",
            "Epoch 60/400\n",
            "179/179 [==============================] - 0s 1ms/step - loss: 0.4960\n",
            "Epoch 61/400\n",
            "179/179 [==============================] - 0s 1ms/step - loss: 0.5164\n",
            "Epoch 62/400\n",
            "179/179 [==============================] - 0s 1ms/step - loss: 0.4594\n",
            "Epoch 63/400\n",
            "179/179 [==============================] - 0s 1ms/step - loss: 0.4881\n",
            "Epoch 64/400\n",
            "179/179 [==============================] - 0s 1ms/step - loss: 0.4596\n",
            "Epoch 65/400\n",
            "179/179 [==============================] - 0s 1ms/step - loss: 0.4701\n",
            "Epoch 66/400\n",
            "179/179 [==============================] - 0s 1ms/step - loss: 0.4617\n",
            "Epoch 67/400\n",
            "179/179 [==============================] - 0s 1ms/step - loss: 0.4784\n",
            "Epoch 68/400\n",
            "179/179 [==============================] - 0s 2ms/step - loss: 0.4984\n",
            "Epoch 69/400\n",
            "179/179 [==============================] - 0s 1ms/step - loss: 0.4905\n",
            "Epoch 70/400\n",
            "179/179 [==============================] - 0s 1ms/step - loss: 0.4544\n",
            "Epoch 71/400\n",
            "179/179 [==============================] - 0s 1ms/step - loss: 0.4342\n",
            "Epoch 72/400\n",
            "179/179 [==============================] - 0s 1ms/step - loss: 0.4458\n",
            "Epoch 73/400\n",
            "179/179 [==============================] - 0s 1ms/step - loss: 0.4412\n",
            "Epoch 74/400\n",
            "179/179 [==============================] - 0s 1ms/step - loss: 0.4879\n",
            "Epoch 75/400\n",
            "179/179 [==============================] - 0s 1ms/step - loss: 0.4829\n",
            "Epoch 76/400\n",
            "179/179 [==============================] - 0s 1ms/step - loss: 0.4475\n",
            "Epoch 77/400\n",
            "179/179 [==============================] - 0s 1ms/step - loss: 0.4281\n",
            "Epoch 78/400\n",
            "179/179 [==============================] - 0s 1ms/step - loss: 0.4848\n",
            "Epoch 79/400\n",
            "179/179 [==============================] - 0s 1ms/step - loss: 0.5115\n",
            "Epoch 80/400\n",
            "179/179 [==============================] - 0s 1ms/step - loss: 0.4453\n",
            "Epoch 81/400\n",
            "179/179 [==============================] - 0s 1ms/step - loss: 0.4617\n",
            "Epoch 82/400\n",
            "179/179 [==============================] - 0s 1ms/step - loss: 0.4546\n",
            "Epoch 83/400\n",
            "179/179 [==============================] - 0s 1ms/step - loss: 0.4327\n",
            "Epoch 84/400\n",
            "179/179 [==============================] - 0s 1ms/step - loss: 0.4285\n",
            "Epoch 85/400\n",
            "179/179 [==============================] - 0s 1ms/step - loss: 0.4248\n",
            "Epoch 86/400\n",
            "179/179 [==============================] - 0s 1ms/step - loss: 0.4116\n",
            "Epoch 87/400\n",
            "179/179 [==============================] - 0s 1ms/step - loss: 0.4144\n",
            "Epoch 88/400\n",
            "179/179 [==============================] - 0s 1ms/step - loss: 0.4119\n",
            "Epoch 89/400\n",
            "179/179 [==============================] - 0s 1ms/step - loss: 0.4778\n",
            "Epoch 90/400\n",
            "179/179 [==============================] - 0s 1ms/step - loss: 0.4454\n",
            "Epoch 91/400\n",
            "179/179 [==============================] - 0s 1ms/step - loss: 0.3805\n",
            "Epoch 92/400\n",
            "179/179 [==============================] - 0s 1ms/step - loss: 0.4011\n",
            "Epoch 93/400\n",
            "179/179 [==============================] - 0s 1ms/step - loss: 0.4440\n",
            "Epoch 94/400\n",
            "179/179 [==============================] - 0s 1ms/step - loss: 0.5093\n",
            "Epoch 95/400\n",
            "179/179 [==============================] - 0s 1ms/step - loss: 0.4393\n",
            "Epoch 96/400\n",
            "179/179 [==============================] - 0s 1ms/step - loss: 0.4907\n",
            "Epoch 97/400\n",
            "179/179 [==============================] - 0s 1ms/step - loss: 0.4939\n",
            "Epoch 98/400\n",
            "179/179 [==============================] - 0s 2ms/step - loss: 0.4057\n",
            "Epoch 99/400\n",
            "179/179 [==============================] - 0s 1ms/step - loss: 0.4805\n",
            "Epoch 100/400\n",
            "179/179 [==============================] - 0s 1ms/step - loss: 0.3965\n",
            "Epoch 101/400\n",
            "179/179 [==============================] - 0s 1ms/step - loss: 0.3639\n",
            "Epoch 102/400\n",
            "179/179 [==============================] - 0s 1ms/step - loss: 0.3948\n",
            "Epoch 103/400\n",
            "179/179 [==============================] - 0s 1ms/step - loss: 0.3927\n",
            "Epoch 104/400\n",
            "179/179 [==============================] - 0s 2ms/step - loss: 0.4258\n",
            "Epoch 105/400\n",
            "179/179 [==============================] - 0s 1ms/step - loss: 0.4572\n",
            "Epoch 106/400\n",
            "179/179 [==============================] - 0s 1ms/step - loss: 0.4125\n",
            "Epoch 107/400\n",
            "179/179 [==============================] - 0s 1ms/step - loss: 0.4000\n",
            "Epoch 108/400\n",
            "179/179 [==============================] - 0s 1ms/step - loss: 0.3944\n",
            "Epoch 109/400\n",
            "179/179 [==============================] - 0s 1ms/step - loss: 0.3895\n",
            "Epoch 110/400\n",
            "179/179 [==============================] - 0s 1ms/step - loss: 0.4066\n",
            "Epoch 111/400\n",
            "179/179 [==============================] - 0s 1ms/step - loss: 0.4029\n",
            "Epoch 112/400\n",
            "179/179 [==============================] - 0s 1ms/step - loss: 0.4747\n",
            "Epoch 113/400\n",
            "179/179 [==============================] - 0s 1ms/step - loss: 0.3884\n",
            "Epoch 114/400\n",
            "179/179 [==============================] - 0s 1ms/step - loss: 0.3790\n",
            "Epoch 115/400\n",
            "179/179 [==============================] - 0s 1ms/step - loss: 0.3863\n",
            "Epoch 116/400\n",
            "179/179 [==============================] - 0s 1ms/step - loss: 0.3838\n",
            "Epoch 117/400\n",
            "179/179 [==============================] - 0s 1ms/step - loss: 0.3688\n",
            "Epoch 118/400\n",
            "179/179 [==============================] - 0s 1ms/step - loss: 0.4079\n",
            "Epoch 119/400\n",
            "179/179 [==============================] - 0s 1ms/step - loss: 0.3995\n",
            "Epoch 120/400\n",
            "179/179 [==============================] - 0s 1ms/step - loss: 0.3657\n",
            "Epoch 121/400\n",
            "179/179 [==============================] - 0s 1ms/step - loss: 0.3951\n",
            "Epoch 122/400\n",
            "179/179 [==============================] - 0s 1ms/step - loss: 0.4602\n",
            "Epoch 123/400\n",
            "179/179 [==============================] - 0s 1ms/step - loss: 0.3964\n",
            "Epoch 124/400\n",
            "179/179 [==============================] - 0s 1ms/step - loss: 0.3881\n",
            "Epoch 125/400\n",
            "179/179 [==============================] - 0s 1ms/step - loss: 0.3838\n",
            "Epoch 126/400\n",
            "179/179 [==============================] - 0s 1ms/step - loss: 0.3613\n",
            "Epoch 127/400\n",
            "179/179 [==============================] - 0s 1ms/step - loss: 0.3971\n",
            "Epoch 128/400\n",
            "179/179 [==============================] - 0s 1ms/step - loss: 0.3729\n",
            "Epoch 129/400\n",
            "179/179 [==============================] - 0s 1ms/step - loss: 0.3498\n",
            "Epoch 130/400\n",
            "179/179 [==============================] - 0s 1ms/step - loss: 0.4091\n",
            "Epoch 131/400\n",
            "179/179 [==============================] - 0s 1ms/step - loss: 0.4068\n",
            "Epoch 132/400\n",
            "179/179 [==============================] - 0s 1ms/step - loss: 0.3724\n",
            "Epoch 133/400\n",
            "179/179 [==============================] - 0s 1ms/step - loss: 0.3581\n",
            "Epoch 134/400\n",
            "179/179 [==============================] - 0s 1ms/step - loss: 0.3751\n",
            "Epoch 135/400\n",
            "179/179 [==============================] - 0s 1ms/step - loss: 0.3764\n",
            "Epoch 136/400\n",
            "179/179 [==============================] - 0s 1ms/step - loss: 0.3555\n",
            "Epoch 137/400\n",
            "179/179 [==============================] - 0s 1ms/step - loss: 0.3963\n",
            "Epoch 138/400\n",
            "179/179 [==============================] - 0s 1ms/step - loss: 0.3581\n",
            "Epoch 139/400\n",
            "179/179 [==============================] - 0s 1ms/step - loss: 0.3214\n",
            "Epoch 140/400\n",
            "179/179 [==============================] - 0s 2ms/step - loss: 0.3621\n",
            "Epoch 141/400\n",
            "179/179 [==============================] - 0s 1ms/step - loss: 0.3514\n",
            "Epoch 142/400\n",
            "179/179 [==============================] - 0s 1ms/step - loss: 0.3305\n",
            "Epoch 143/400\n",
            "179/179 [==============================] - 0s 1ms/step - loss: 0.3135\n",
            "Epoch 144/400\n",
            "179/179 [==============================] - 0s 1ms/step - loss: 0.3525\n",
            "Epoch 145/400\n",
            "179/179 [==============================] - 0s 1ms/step - loss: 0.3538\n",
            "Epoch 146/400\n",
            "179/179 [==============================] - 0s 1ms/step - loss: 0.3737\n",
            "Epoch 147/400\n",
            "179/179 [==============================] - 0s 1ms/step - loss: 0.3505\n",
            "Epoch 148/400\n",
            "179/179 [==============================] - 0s 1ms/step - loss: 0.3533\n",
            "Epoch 149/400\n",
            "179/179 [==============================] - 0s 1ms/step - loss: 0.4285\n",
            "Epoch 150/400\n",
            "179/179 [==============================] - 0s 1ms/step - loss: 0.5616\n",
            "Epoch 151/400\n",
            "179/179 [==============================] - 0s 1ms/step - loss: 0.3515\n",
            "Epoch 152/400\n",
            "179/179 [==============================] - 0s 1ms/step - loss: 0.4581\n",
            "Epoch 153/400\n",
            "179/179 [==============================] - 0s 1ms/step - loss: 0.3568\n",
            "Epoch 154/400\n",
            "179/179 [==============================] - 0s 1ms/step - loss: 0.3399\n",
            "Epoch 155/400\n",
            "179/179 [==============================] - 0s 1ms/step - loss: 0.4260\n",
            "Epoch 156/400\n",
            "179/179 [==============================] - 0s 1ms/step - loss: 0.3365\n",
            "Epoch 157/400\n",
            "179/179 [==============================] - 0s 1ms/step - loss: 0.3225\n",
            "Epoch 158/400\n",
            "179/179 [==============================] - 0s 1ms/step - loss: 0.2954\n",
            "Epoch 159/400\n",
            "179/179 [==============================] - 0s 1ms/step - loss: 0.3901\n",
            "Epoch 160/400\n",
            "179/179 [==============================] - 0s 1ms/step - loss: 0.3533\n",
            "Epoch 161/400\n",
            "179/179 [==============================] - 0s 1ms/step - loss: 0.4707\n",
            "Epoch 162/400\n",
            "179/179 [==============================] - 0s 1ms/step - loss: 0.4645\n",
            "Epoch 163/400\n",
            "179/179 [==============================] - 0s 2ms/step - loss: 0.3177\n",
            "Epoch 164/400\n",
            "179/179 [==============================] - 0s 1ms/step - loss: 0.3176\n",
            "Epoch 165/400\n",
            "179/179 [==============================] - 0s 1ms/step - loss: 0.3433\n",
            "Epoch 166/400\n",
            "179/179 [==============================] - 0s 1ms/step - loss: 0.3162\n",
            "Epoch 167/400\n",
            "179/179 [==============================] - 0s 2ms/step - loss: 0.3364\n",
            "Epoch 168/400\n",
            "179/179 [==============================] - 0s 1ms/step - loss: 0.3082\n",
            "Epoch 169/400\n",
            "179/179 [==============================] - 0s 1ms/step - loss: 0.3175\n",
            "Epoch 170/400\n",
            "179/179 [==============================] - 0s 1ms/step - loss: 0.3504\n",
            "Epoch 171/400\n",
            "179/179 [==============================] - 0s 1ms/step - loss: 0.3841\n",
            "Epoch 172/400\n",
            "179/179 [==============================] - 0s 1ms/step - loss: 0.3297\n",
            "Epoch 173/400\n",
            "179/179 [==============================] - 0s 1ms/step - loss: 0.5980\n",
            "Epoch 174/400\n",
            "179/179 [==============================] - 0s 1ms/step - loss: 0.3259\n",
            "Epoch 175/400\n",
            "179/179 [==============================] - 0s 1ms/step - loss: 0.3347\n",
            "Epoch 176/400\n",
            "179/179 [==============================] - 0s 1ms/step - loss: 0.3291\n",
            "Epoch 177/400\n",
            "179/179 [==============================] - 0s 1ms/step - loss: 0.2930\n",
            "Epoch 178/400\n",
            "179/179 [==============================] - 0s 1ms/step - loss: 0.3115\n",
            "Epoch 179/400\n",
            "179/179 [==============================] - 0s 1ms/step - loss: 0.2970\n",
            "Epoch 180/400\n",
            "179/179 [==============================] - 0s 1ms/step - loss: 0.3334\n",
            "Epoch 181/400\n",
            "179/179 [==============================] - 0s 1ms/step - loss: 0.3521\n",
            "Epoch 182/400\n",
            "179/179 [==============================] - 0s 1ms/step - loss: 0.3233\n",
            "Epoch 183/400\n",
            "179/179 [==============================] - 0s 2ms/step - loss: 0.3159\n",
            "Epoch 184/400\n",
            "179/179 [==============================] - 0s 1ms/step - loss: 0.3258\n",
            "Epoch 185/400\n",
            "179/179 [==============================] - 0s 1ms/step - loss: 0.3296\n",
            "Epoch 186/400\n",
            "179/179 [==============================] - 0s 1ms/step - loss: 0.3048\n",
            "Epoch 187/400\n",
            "179/179 [==============================] - 0s 1ms/step - loss: 0.3836\n",
            "Epoch 188/400\n",
            "179/179 [==============================] - 0s 2ms/step - loss: 0.4317\n",
            "Epoch 189/400\n",
            "179/179 [==============================] - 0s 1ms/step - loss: 0.2994\n",
            "Epoch 190/400\n",
            "179/179 [==============================] - 0s 1ms/step - loss: 0.3219\n",
            "Epoch 191/400\n",
            "179/179 [==============================] - 0s 1ms/step - loss: 0.3693\n",
            "Epoch 192/400\n",
            "179/179 [==============================] - 0s 1ms/step - loss: 0.3454\n",
            "Epoch 193/400\n",
            "179/179 [==============================] - 0s 1ms/step - loss: 0.3505\n",
            "Epoch 194/400\n",
            "179/179 [==============================] - 0s 1ms/step - loss: 0.3484\n",
            "Epoch 195/400\n",
            "179/179 [==============================] - 0s 1ms/step - loss: 0.3989\n",
            "Epoch 196/400\n",
            "179/179 [==============================] - 0s 1ms/step - loss: 0.3628\n",
            "Epoch 197/400\n",
            "179/179 [==============================] - 0s 1ms/step - loss: 0.3740\n",
            "Epoch 198/400\n",
            "179/179 [==============================] - 0s 1ms/step - loss: 0.2796\n",
            "Epoch 199/400\n",
            "179/179 [==============================] - 0s 1ms/step - loss: 0.3031\n",
            "Epoch 200/400\n",
            "179/179 [==============================] - 0s 2ms/step - loss: 0.2892\n",
            "Epoch 201/400\n",
            "179/179 [==============================] - 0s 2ms/step - loss: 0.3282\n",
            "Epoch 202/400\n",
            "179/179 [==============================] - 0s 1ms/step - loss: 0.3976\n",
            "Epoch 203/400\n",
            "179/179 [==============================] - 0s 1ms/step - loss: 0.3227\n",
            "Epoch 204/400\n",
            "179/179 [==============================] - 0s 1ms/step - loss: 0.4652\n",
            "Epoch 205/400\n",
            "179/179 [==============================] - 0s 1ms/step - loss: 0.3109\n",
            "Epoch 206/400\n",
            "179/179 [==============================] - 0s 2ms/step - loss: 0.2927\n",
            "Epoch 207/400\n",
            "179/179 [==============================] - 0s 1ms/step - loss: 0.3351\n",
            "Epoch 208/400\n",
            "179/179 [==============================] - 0s 1ms/step - loss: 0.3746\n",
            "Epoch 209/400\n",
            "179/179 [==============================] - 0s 2ms/step - loss: 0.2989\n",
            "Epoch 210/400\n",
            "179/179 [==============================] - 0s 2ms/step - loss: 0.2723\n",
            "Epoch 211/400\n",
            "179/179 [==============================] - 0s 1ms/step - loss: 0.2861\n",
            "Epoch 212/400\n",
            "179/179 [==============================] - 0s 1ms/step - loss: 0.2870\n",
            "Epoch 213/400\n",
            "179/179 [==============================] - 0s 1ms/step - loss: 0.3867\n",
            "Epoch 214/400\n",
            "179/179 [==============================] - 0s 1ms/step - loss: 0.3220\n",
            "Epoch 215/400\n",
            "179/179 [==============================] - 0s 1ms/step - loss: 0.3333\n",
            "Epoch 216/400\n",
            "179/179 [==============================] - 0s 1ms/step - loss: 0.2553\n",
            "Epoch 217/400\n",
            "179/179 [==============================] - 0s 2ms/step - loss: 0.3193\n",
            "Epoch 218/400\n",
            "179/179 [==============================] - 0s 1ms/step - loss: 0.3430\n",
            "Epoch 219/400\n",
            "179/179 [==============================] - 0s 1ms/step - loss: 0.2984\n",
            "Epoch 220/400\n",
            "179/179 [==============================] - 0s 1ms/step - loss: 0.3365\n",
            "Epoch 221/400\n",
            "179/179 [==============================] - 0s 2ms/step - loss: 0.3507\n",
            "Epoch 222/400\n",
            "179/179 [==============================] - 0s 1ms/step - loss: 0.3855\n",
            "Epoch 223/400\n",
            "179/179 [==============================] - 0s 1ms/step - loss: 0.3107\n",
            "Epoch 224/400\n",
            "179/179 [==============================] - 0s 1ms/step - loss: 0.2388\n",
            "Epoch 225/400\n",
            "179/179 [==============================] - 0s 1ms/step - loss: 0.2397\n",
            "Epoch 226/400\n",
            "179/179 [==============================] - 0s 1ms/step - loss: 0.4322\n",
            "Epoch 227/400\n",
            "179/179 [==============================] - 0s 1ms/step - loss: 0.3672\n",
            "Epoch 228/400\n",
            "179/179 [==============================] - 0s 1ms/step - loss: 0.2788\n",
            "Epoch 229/400\n",
            "179/179 [==============================] - 0s 1ms/step - loss: 0.2858\n",
            "Epoch 230/400\n",
            "179/179 [==============================] - 0s 1ms/step - loss: 0.2872\n",
            "Epoch 231/400\n",
            "179/179 [==============================] - 0s 1ms/step - loss: 0.3313\n",
            "Epoch 232/400\n",
            "179/179 [==============================] - 0s 1ms/step - loss: 0.4031\n",
            "Epoch 233/400\n",
            "179/179 [==============================] - 0s 1ms/step - loss: 0.3343\n",
            "Epoch 234/400\n",
            "179/179 [==============================] - 0s 1ms/step - loss: 0.2883\n",
            "Epoch 235/400\n",
            "179/179 [==============================] - 0s 2ms/step - loss: 0.2766\n",
            "Epoch 236/400\n",
            "179/179 [==============================] - 0s 1ms/step - loss: 0.2902\n",
            "Epoch 237/400\n",
            "179/179 [==============================] - 0s 1ms/step - loss: 0.3257\n",
            "Epoch 238/400\n",
            "179/179 [==============================] - 0s 2ms/step - loss: 0.2213\n",
            "Epoch 239/400\n",
            "179/179 [==============================] - 0s 1ms/step - loss: 0.2280\n",
            "Epoch 240/400\n",
            "179/179 [==============================] - 0s 2ms/step - loss: 0.2753\n",
            "Epoch 241/400\n",
            "179/179 [==============================] - 0s 1ms/step - loss: 0.4264\n",
            "Epoch 242/400\n",
            "179/179 [==============================] - 0s 1ms/step - loss: 0.3245\n",
            "Epoch 243/400\n",
            "179/179 [==============================] - 0s 1ms/step - loss: 0.3490\n",
            "Epoch 244/400\n",
            "179/179 [==============================] - 0s 2ms/step - loss: 0.4002\n",
            "Epoch 245/400\n",
            "179/179 [==============================] - 0s 1ms/step - loss: 0.3840\n",
            "Epoch 246/400\n",
            "179/179 [==============================] - 0s 1ms/step - loss: 0.2592\n",
            "Epoch 247/400\n",
            "179/179 [==============================] - 0s 1ms/step - loss: 0.3095\n",
            "Epoch 248/400\n",
            "179/179 [==============================] - 0s 1ms/step - loss: 0.2912\n",
            "Epoch 249/400\n",
            "179/179 [==============================] - 0s 1ms/step - loss: 0.2446\n",
            "Epoch 250/400\n",
            "179/179 [==============================] - 0s 1ms/step - loss: 0.2796\n",
            "Epoch 251/400\n",
            "179/179 [==============================] - 0s 2ms/step - loss: 0.2606\n",
            "Epoch 252/400\n",
            "179/179 [==============================] - 0s 1ms/step - loss: 0.2672\n",
            "Epoch 253/400\n",
            "179/179 [==============================] - 0s 1ms/step - loss: 0.2906\n",
            "Epoch 254/400\n",
            "179/179 [==============================] - 0s 1ms/step - loss: 0.3500\n",
            "Epoch 255/400\n",
            "179/179 [==============================] - 0s 2ms/step - loss: 0.3607\n",
            "Epoch 256/400\n",
            "179/179 [==============================] - 0s 2ms/step - loss: 0.3500\n",
            "Epoch 257/400\n",
            "179/179 [==============================] - 0s 1ms/step - loss: 0.3214\n",
            "Epoch 258/400\n",
            "179/179 [==============================] - 0s 1ms/step - loss: 0.2713\n",
            "Epoch 259/400\n",
            "179/179 [==============================] - 0s 2ms/step - loss: 0.2817\n",
            "Epoch 260/400\n",
            "179/179 [==============================] - 0s 1ms/step - loss: 0.2273\n",
            "Epoch 261/400\n",
            "179/179 [==============================] - 0s 2ms/step - loss: 0.3164\n",
            "Epoch 262/400\n",
            "179/179 [==============================] - 0s 1ms/step - loss: 0.3666\n",
            "Epoch 263/400\n",
            "179/179 [==============================] - 0s 1ms/step - loss: 0.3386\n",
            "Epoch 264/400\n",
            "179/179 [==============================] - 0s 2ms/step - loss: 0.3372\n",
            "Epoch 265/400\n",
            "179/179 [==============================] - 0s 1ms/step - loss: 0.5040\n",
            "Epoch 266/400\n",
            "179/179 [==============================] - 0s 2ms/step - loss: 0.3192\n",
            "Epoch 267/400\n",
            "179/179 [==============================] - 0s 1ms/step - loss: 0.2961\n",
            "Epoch 268/400\n",
            "179/179 [==============================] - 0s 1ms/step - loss: 0.3255\n",
            "Epoch 269/400\n",
            "179/179 [==============================] - 0s 1ms/step - loss: 0.2720\n",
            "Epoch 270/400\n",
            "179/179 [==============================] - 0s 1ms/step - loss: 0.2262\n",
            "Epoch 271/400\n",
            "179/179 [==============================] - 0s 1ms/step - loss: 0.2738\n",
            "Epoch 272/400\n",
            "179/179 [==============================] - 0s 2ms/step - loss: 0.2454\n",
            "Epoch 273/400\n",
            "179/179 [==============================] - 0s 1ms/step - loss: 0.2790\n",
            "Epoch 274/400\n",
            "179/179 [==============================] - 0s 1ms/step - loss: 0.3058\n",
            "Epoch 275/400\n",
            "179/179 [==============================] - 0s 1ms/step - loss: 0.3322\n",
            "Epoch 276/400\n",
            "179/179 [==============================] - 0s 1ms/step - loss: 0.2983\n",
            "Epoch 277/400\n",
            "179/179 [==============================] - 0s 1ms/step - loss: 0.2435\n",
            "Epoch 278/400\n",
            "179/179 [==============================] - 0s 2ms/step - loss: 0.3585\n",
            "Epoch 279/400\n",
            "179/179 [==============================] - 0s 1ms/step - loss: 0.2581\n",
            "Epoch 280/400\n",
            "179/179 [==============================] - 0s 1ms/step - loss: 0.2427\n",
            "Epoch 281/400\n",
            "179/179 [==============================] - 0s 1ms/step - loss: 0.2938\n",
            "Epoch 282/400\n",
            "179/179 [==============================] - 0s 2ms/step - loss: 0.3091\n",
            "Epoch 283/400\n",
            "179/179 [==============================] - 0s 1ms/step - loss: 0.3708\n",
            "Epoch 284/400\n",
            "179/179 [==============================] - 0s 1ms/step - loss: 0.2714\n",
            "Epoch 285/400\n",
            "179/179 [==============================] - 0s 2ms/step - loss: 0.2219\n",
            "Epoch 286/400\n",
            "179/179 [==============================] - 0s 1ms/step - loss: 0.2348\n",
            "Epoch 287/400\n",
            "179/179 [==============================] - 0s 1ms/step - loss: 0.2678\n",
            "Epoch 288/400\n",
            "179/179 [==============================] - 0s 1ms/step - loss: 0.2838\n",
            "Epoch 289/400\n",
            "179/179 [==============================] - 0s 2ms/step - loss: 0.3465\n",
            "Epoch 290/400\n",
            "179/179 [==============================] - 0s 1ms/step - loss: 0.3287\n",
            "Epoch 291/400\n",
            "179/179 [==============================] - 0s 1ms/step - loss: 0.3537\n",
            "Epoch 292/400\n",
            "179/179 [==============================] - 0s 1ms/step - loss: 0.4211\n",
            "Epoch 293/400\n",
            "179/179 [==============================] - 0s 2ms/step - loss: 0.4154\n",
            "Epoch 294/400\n",
            "179/179 [==============================] - 0s 1ms/step - loss: 0.2687\n",
            "Epoch 295/400\n",
            "179/179 [==============================] - 0s 2ms/step - loss: 0.3058\n",
            "Epoch 296/400\n",
            "179/179 [==============================] - 0s 2ms/step - loss: 0.2543\n",
            "Epoch 297/400\n",
            "179/179 [==============================] - 0s 2ms/step - loss: 0.2806\n",
            "Epoch 298/400\n",
            "179/179 [==============================] - 0s 1ms/step - loss: 0.3249\n",
            "Epoch 299/400\n",
            "179/179 [==============================] - 0s 2ms/step - loss: 0.2367\n",
            "Epoch 300/400\n",
            "179/179 [==============================] - 0s 1ms/step - loss: 0.3391\n",
            "Epoch 301/400\n",
            "179/179 [==============================] - 0s 1ms/step - loss: 0.2796\n",
            "Epoch 302/400\n",
            "179/179 [==============================] - 0s 2ms/step - loss: 0.2040\n",
            "Epoch 303/400\n",
            "179/179 [==============================] - 0s 2ms/step - loss: 0.2412\n",
            "Epoch 304/400\n",
            "179/179 [==============================] - 0s 1ms/step - loss: 0.2625\n",
            "Epoch 305/400\n",
            "179/179 [==============================] - 0s 1ms/step - loss: 0.2770\n",
            "Epoch 306/400\n",
            "179/179 [==============================] - 0s 1ms/step - loss: 0.2416\n",
            "Epoch 307/400\n",
            "179/179 [==============================] - 0s 1ms/step - loss: 0.2149\n",
            "Epoch 308/400\n",
            "179/179 [==============================] - 0s 1ms/step - loss: 0.2385\n",
            "Epoch 309/400\n",
            "179/179 [==============================] - 0s 1ms/step - loss: 0.1977\n",
            "Epoch 310/400\n",
            "179/179 [==============================] - 0s 2ms/step - loss: 0.2352\n",
            "Epoch 311/400\n",
            "179/179 [==============================] - 0s 1ms/step - loss: 0.2394\n",
            "Epoch 312/400\n",
            "179/179 [==============================] - 0s 1ms/step - loss: 0.3582\n",
            "Epoch 313/400\n",
            "179/179 [==============================] - 0s 2ms/step - loss: 0.3870\n",
            "Epoch 314/400\n",
            "179/179 [==============================] - 0s 1ms/step - loss: 0.4600\n",
            "Epoch 315/400\n",
            "179/179 [==============================] - 0s 1ms/step - loss: 0.2763\n",
            "Epoch 316/400\n",
            "179/179 [==============================] - 0s 1ms/step - loss: 0.2484\n",
            "Epoch 317/400\n",
            "179/179 [==============================] - 0s 1ms/step - loss: 0.4867\n",
            "Epoch 318/400\n",
            "179/179 [==============================] - 0s 1ms/step - loss: 0.3118\n",
            "Epoch 319/400\n",
            "179/179 [==============================] - 0s 1ms/step - loss: 0.2262\n",
            "Epoch 320/400\n",
            "179/179 [==============================] - 0s 2ms/step - loss: 0.2644\n",
            "Epoch 321/400\n",
            "179/179 [==============================] - 0s 2ms/step - loss: 0.2700\n",
            "Epoch 322/400\n",
            "179/179 [==============================] - 0s 1ms/step - loss: 0.2744\n",
            "Epoch 323/400\n",
            "179/179 [==============================] - 0s 2ms/step - loss: 0.2580\n",
            "Epoch 324/400\n",
            "179/179 [==============================] - 0s 2ms/step - loss: 0.3906\n",
            "Epoch 325/400\n",
            "179/179 [==============================] - 0s 1ms/step - loss: 0.2367\n",
            "Epoch 326/400\n",
            "179/179 [==============================] - 0s 2ms/step - loss: 0.2289\n",
            "Epoch 327/400\n",
            "179/179 [==============================] - 0s 1ms/step - loss: 0.2128\n",
            "Epoch 328/400\n",
            "179/179 [==============================] - 0s 2ms/step - loss: 0.2434\n",
            "Epoch 329/400\n",
            "179/179 [==============================] - 0s 2ms/step - loss: 0.3078\n",
            "Epoch 330/400\n",
            "179/179 [==============================] - 0s 1ms/step - loss: 0.2991\n",
            "Epoch 331/400\n",
            "179/179 [==============================] - 0s 1ms/step - loss: 0.2431\n",
            "Epoch 332/400\n",
            "179/179 [==============================] - 0s 1ms/step - loss: 0.2449\n",
            "Epoch 333/400\n",
            "179/179 [==============================] - 0s 1ms/step - loss: 0.4225\n",
            "Epoch 334/400\n",
            "179/179 [==============================] - 0s 2ms/step - loss: 0.3333\n",
            "Epoch 335/400\n",
            "179/179 [==============================] - 0s 2ms/step - loss: 0.3071\n",
            "Epoch 336/400\n",
            "179/179 [==============================] - 0s 2ms/step - loss: 0.2511\n",
            "Epoch 337/400\n",
            "179/179 [==============================] - 0s 1ms/step - loss: 0.2677\n",
            "Epoch 338/400\n",
            "179/179 [==============================] - 0s 2ms/step - loss: 0.5864\n",
            "Epoch 339/400\n",
            "179/179 [==============================] - 0s 1ms/step - loss: 0.2935\n",
            "Epoch 340/400\n",
            "179/179 [==============================] - 0s 2ms/step - loss: 0.3047\n",
            "Epoch 341/400\n",
            "179/179 [==============================] - 0s 2ms/step - loss: 0.2884\n",
            "Epoch 342/400\n",
            "179/179 [==============================] - 0s 1ms/step - loss: 0.2112\n",
            "Epoch 343/400\n",
            "179/179 [==============================] - 0s 1ms/step - loss: 0.2612\n",
            "Epoch 344/400\n",
            "179/179 [==============================] - 0s 2ms/step - loss: 0.3309\n",
            "Epoch 345/400\n",
            "179/179 [==============================] - 0s 1ms/step - loss: 0.2385\n",
            "Epoch 346/400\n",
            "179/179 [==============================] - 0s 2ms/step - loss: 0.2465\n",
            "Epoch 347/400\n",
            "179/179 [==============================] - 0s 2ms/step - loss: 0.2306\n",
            "Epoch 348/400\n",
            "179/179 [==============================] - 0s 1ms/step - loss: 0.2650\n",
            "Epoch 349/400\n",
            "179/179 [==============================] - 0s 2ms/step - loss: 0.2364\n",
            "Epoch 350/400\n",
            "179/179 [==============================] - 0s 2ms/step - loss: 0.2805\n",
            "Epoch 351/400\n",
            "179/179 [==============================] - 0s 1ms/step - loss: 0.2846\n",
            "Epoch 352/400\n",
            "179/179 [==============================] - 0s 1ms/step - loss: 0.3683\n",
            "Epoch 353/400\n",
            "179/179 [==============================] - 0s 2ms/step - loss: 0.5337\n",
            "Epoch 354/400\n",
            "179/179 [==============================] - 0s 2ms/step - loss: 0.2877\n",
            "Epoch 355/400\n",
            "179/179 [==============================] - 0s 2ms/step - loss: 0.2361\n",
            "Epoch 356/400\n",
            "179/179 [==============================] - 0s 2ms/step - loss: 0.2770\n",
            "Epoch 357/400\n",
            "179/179 [==============================] - 0s 2ms/step - loss: 0.2223\n",
            "Epoch 358/400\n",
            "179/179 [==============================] - 0s 2ms/step - loss: 0.2239\n",
            "Epoch 359/400\n",
            "179/179 [==============================] - 0s 2ms/step - loss: 0.3968\n",
            "Epoch 360/400\n",
            "179/179 [==============================] - 0s 1ms/step - loss: 0.4146\n",
            "Epoch 361/400\n",
            "179/179 [==============================] - 0s 2ms/step - loss: 0.2876\n",
            "Epoch 362/400\n",
            "179/179 [==============================] - 0s 2ms/step - loss: 0.2115\n",
            "Epoch 363/400\n",
            "179/179 [==============================] - 0s 2ms/step - loss: 0.2096\n",
            "Epoch 364/400\n",
            "179/179 [==============================] - 0s 2ms/step - loss: 0.2115\n",
            "Epoch 365/400\n",
            "179/179 [==============================] - 0s 1ms/step - loss: 0.2524\n",
            "Epoch 366/400\n",
            "179/179 [==============================] - 0s 1ms/step - loss: 0.3384\n",
            "Epoch 367/400\n",
            "179/179 [==============================] - 0s 2ms/step - loss: 0.3267\n",
            "Epoch 368/400\n",
            "179/179 [==============================] - 0s 1ms/step - loss: 0.2312\n",
            "Epoch 369/400\n",
            "179/179 [==============================] - 0s 1ms/step - loss: 0.1968\n",
            "Epoch 370/400\n",
            "179/179 [==============================] - 0s 2ms/step - loss: 0.2943\n",
            "Epoch 371/400\n",
            "179/179 [==============================] - 0s 2ms/step - loss: 0.5301\n",
            "Epoch 372/400\n",
            "179/179 [==============================] - 0s 2ms/step - loss: 0.5037\n",
            "Epoch 373/400\n",
            "179/179 [==============================] - 0s 2ms/step - loss: 0.2939\n",
            "Epoch 374/400\n",
            "179/179 [==============================] - 0s 2ms/step - loss: 0.2096\n",
            "Epoch 375/400\n",
            "179/179 [==============================] - 0s 1ms/step - loss: 0.1972\n",
            "Epoch 376/400\n",
            "179/179 [==============================] - 0s 1ms/step - loss: 0.2598\n",
            "Epoch 377/400\n",
            "179/179 [==============================] - 0s 2ms/step - loss: 0.2564\n",
            "Epoch 378/400\n",
            "179/179 [==============================] - 0s 2ms/step - loss: 0.3140\n",
            "Epoch 379/400\n",
            "179/179 [==============================] - 0s 2ms/step - loss: 0.3574\n",
            "Epoch 380/400\n",
            "179/179 [==============================] - 0s 1ms/step - loss: 0.2791\n",
            "Epoch 381/400\n",
            "179/179 [==============================] - 0s 1ms/step - loss: 0.2739\n",
            "Epoch 382/400\n",
            "179/179 [==============================] - 0s 2ms/step - loss: 0.2775\n",
            "Epoch 383/400\n",
            "179/179 [==============================] - 0s 2ms/step - loss: 0.2930\n",
            "Epoch 384/400\n",
            "179/179 [==============================] - 0s 2ms/step - loss: 0.3090\n",
            "Epoch 385/400\n",
            "179/179 [==============================] - 0s 2ms/step - loss: 0.3220\n",
            "Epoch 386/400\n",
            "179/179 [==============================] - 0s 2ms/step - loss: 0.1968\n",
            "Epoch 387/400\n",
            "179/179 [==============================] - 0s 2ms/step - loss: 0.2366\n",
            "Epoch 388/400\n",
            "179/179 [==============================] - 0s 1ms/step - loss: 0.2308\n",
            "Epoch 389/400\n",
            "179/179 [==============================] - 0s 2ms/step - loss: 0.1979\n",
            "Epoch 390/400\n",
            "179/179 [==============================] - 0s 2ms/step - loss: 0.2274\n",
            "Epoch 391/400\n",
            "179/179 [==============================] - 0s 1ms/step - loss: 0.2514\n",
            "Epoch 392/400\n",
            "179/179 [==============================] - 0s 1ms/step - loss: 0.3226\n",
            "Epoch 393/400\n",
            "179/179 [==============================] - 0s 2ms/step - loss: 0.2232\n",
            "Epoch 394/400\n",
            "179/179 [==============================] - 0s 2ms/step - loss: 0.2591\n",
            "Epoch 395/400\n",
            "179/179 [==============================] - 0s 1ms/step - loss: 0.2758\n",
            "Epoch 396/400\n",
            "179/179 [==============================] - 0s 2ms/step - loss: 0.2928\n",
            "Epoch 397/400\n",
            "179/179 [==============================] - 0s 2ms/step - loss: 0.2279\n",
            "Epoch 398/400\n",
            "179/179 [==============================] - 0s 2ms/step - loss: 0.2653\n",
            "Epoch 399/400\n",
            "179/179 [==============================] - 0s 1ms/step - loss: 0.3071\n",
            "Epoch 400/400\n",
            "179/179 [==============================] - 0s 2ms/step - loss: 0.3259\n"
          ],
          "name": "stdout"
        }
      ]
    },
    {
      "cell_type": "code",
      "metadata": {
        "colab": {
          "base_uri": "https://localhost:8080/",
          "height": 162
        },
        "id": "k0iJPPnGq5PU",
        "outputId": "d4d94435-aaee-45b8-fa20-ed34178002f8"
      },
      "source": [
        "plt.figure(figsize = (20, 4))\n",
        "plt.plot(history.history['loss'], '--o', color='blue',label='Loss')\n",
        "plt.xlabel('Epoch')\n",
        "plt.ylabel('Loss')\n",
        "plt.legend()\n",
        "plt.grid()\n",
        "plt.show()"
      ],
      "execution_count": null,
      "outputs": [
        {
          "output_type": "display_data",
          "data": {
            "image/png": "[encoded data removed]",
            "text/plain": [
              "<Figure size 1440x288 with 1 Axes>"
            ]
          },
          "metadata": {
            "tags": [],
            "needs_background": "light"
          }
        }
      ]
    },
    {
      "cell_type": "code",
      "metadata": {
        "colab": {
          "base_uri": "https://localhost:8080/"
        },
        "id": "N9bGLCXArOap",
        "outputId": "cd2d5ebb-ba5d-4198-d98f-dba1bfaefbc6"
      },
      "source": [
        "multi_layer_model.evaluate(test_X, test_Y)"
      ],
      "execution_count": null,
      "outputs": [
        {
          "output_type": "stream",
          "text": [
            "5/5 [==============================] - 0s 2ms/step - loss: 1.0368\n"
          ],
          "name": "stdout"
        },
        {
          "output_type": "execute_result",
          "data": {
            "text/plain": [
              "1.0368225574493408"
            ]
          },
          "metadata": {
            "tags": []
          },
          "execution_count": 21
        }
      ]
    },
    {
      "cell_type": "code",
      "metadata": {
        "colab": {
          "base_uri": "https://localhost:8080/"
        },
        "id": "nKLPY8n2rhl4",
        "outputId": "004cec41-3958-4af2-c931-8f95810116f7"
      },
      "source": [
        "pred_Y = multi_layer_model.predict(test_X) \n",
        "print(pred_Y) # 확률값"
      ],
      "execution_count": null,
      "outputs": [
        {
          "output_type": "stream",
          "text": [
            "[[2.2417763e-02 2.2249895e-03 2.8482684e-06 ... 1.4439514e-03\n",
            "  6.5628117e-01 3.1669244e-01]\n",
            " [3.9979984e-08 3.7095711e-02 6.8379636e-03 ... 7.8057760e-10\n",
            "  5.6092581e-03 9.5043796e-01]\n",
            " [1.3555990e-14 1.2501159e-05 4.4464085e-17 ... 8.0365114e-20\n",
            "  1.8367952e-08 9.9998271e-01]\n",
            " ...\n",
            " [4.6227598e-03 3.6546781e-12 3.7913914e-18 ... 9.8902237e-01\n",
            "  4.2073170e-06 6.3505815e-03]\n",
            " [3.4056949e-08 9.6652746e-01 1.9876756e-05 ... 6.1185471e-17\n",
            "  8.5204485e-04 3.2600567e-02]\n",
            " [1.8640320e-17 9.9976474e-01 1.1851718e-04 ... 3.1678375e-33\n",
            "  3.8759129e-08 1.1680075e-04]]\n"
          ],
          "name": "stdout"
        }
      ]
    },
    {
      "cell_type": "code",
      "metadata": {
        "colab": {
          "base_uri": "https://localhost:8080/"
        },
        "id": "HKKNGT-brw9z",
        "outputId": "2f8ce80b-5b5b-4cf3-9bc2-8169a1645632"
      },
      "source": [
        "pred_Y = np.argmax(pred_Y, axis=1)\n",
        "print(pred_Y) # 예측한 라벨값"
      ],
      "execution_count": null,
      "outputs": [
        {
          "output_type": "stream",
          "text": [
            "[5 6 6 5 0 3 6 1 2 0 2 1 2 2 2 0 2 5 1 2 2 5 5 2 6 3 6 6 0 6 5 5 4 5 6 0 6\n",
            " 2 4 5 1 6 5 5 5 2 1 4 3 0 4 0 6 2 0 4 3 5 5 5 6 2 6 5 6 4 0 1 6 5 6 5 2 1\n",
            " 2 1 5 5 5 2 5 5 5 5 5 4 2 0 0 2 5 6 3 5 5 5 6 2 1 6 2 1 1 0 5 1 6 5 5 5 5\n",
            " 3 2 5 5 5 6 5 6 6 6 3 6 2 2 4 2 6 5 2 3 6 0 6 6 2 2 6 6 5 5 1 1 6 6 6 6 6\n",
            " 5 2 6 5 6 4 1 1]\n"
          ],
          "name": "stdout"
        }
      ]
    },
    {
      "cell_type": "code",
      "metadata": {
        "colab": {
          "base_uri": "https://localhost:8080/"
        },
        "id": "Lg_1Z2qTr_h_",
        "outputId": "115c287b-7d5e-4206-9d5f-550eca74eec3"
      },
      "source": [
        "test_Y"
      ],
      "execution_count": null,
      "outputs": [
        {
          "output_type": "execute_result",
          "data": {
            "text/plain": [
              "array([[0., 0., 0., ..., 0., 1., 0.],\n",
              "       [0., 0., 0., ..., 0., 0., 1.],\n",
              "       [0., 0., 0., ..., 0., 0., 1.],\n",
              "       ...,\n",
              "       [0., 0., 0., ..., 1., 0., 0.],\n",
              "       [0., 1., 0., ..., 0., 0., 0.],\n",
              "       [0., 1., 0., ..., 0., 0., 0.]])"
            ]
          },
          "metadata": {
            "tags": []
          },
          "execution_count": 24
        }
      ]
    },
    {
      "cell_type": "code",
      "metadata": {
        "colab": {
          "base_uri": "https://localhost:8080/"
        },
        "id": "4XRYRqXBsE1C",
        "outputId": "92d4e948-56cf-4f4e-cafc-b928ba0b071f"
      },
      "source": [
        "test_Y = np.argmax(test_Y, axis=1)\n",
        "print(test_Y)"
      ],
      "execution_count": null,
      "outputs": [
        {
          "output_type": "stream",
          "text": [
            "[5 6 6 5 5 3 6 1 2 6 2 1 2 2 2 0 2 6 6 2 2 5 5 5 5 3 6 6 6 6 5 5 4 5 5 6 6\n",
            " 2 4 6 1 5 5 6 6 2 1 4 6 6 4 6 6 2 4 4 3 6 5 5 6 2 6 5 6 6 0 1 6 3 6 6 2 1\n",
            " 2 1 6 5 5 2 6 5 6 5 5 4 2 0 6 2 1 5 6 5 5 5 5 2 1 6 2 1 1 6 5 6 6 5 5 5 5\n",
            " 3 2 5 6 0 1 5 5 0 6 3 6 2 2 4 6 0 6 2 3 6 5 0 6 2 2 5 1 5 6 1 1 0 5 6 6 6\n",
            " 5 2 6 6 6 4 1 1]\n"
          ],
          "name": "stdout"
        }
      ]
    },
    {
      "cell_type": "code",
      "metadata": {
        "colab": {
          "base_uri": "https://localhost:8080/"
        },
        "id": "BZhiaJTIsM8r",
        "outputId": "5e5157ab-94d3-4d01-c7c1-0adf54e98332"
      },
      "source": [
        "acc = np.mean(np.equal(pred_Y, test_Y)) # 정확도\n",
        "print(np.round(acc*100, 3))"
      ],
      "execution_count": null,
      "outputs": [
        {
          "output_type": "stream",
          "text": [
            "69.872\n"
          ],
          "name": "stdout"
        }
      ]
    },
    {
      "cell_type": "code",
      "metadata": {
        "colab": {
          "base_uri": "https://localhost:8080/"
        },
        "id": "oYpktnKIsXew",
        "outputId": "94d4d2a0-98ee-4fab-bec0-03ecad2da55c"
      },
      "source": [
        "df = pd.read_csv('/content/abalone.csv')\n",
        "df.info() # 종속변수 : Rings , Sex > one-hot vector 처리"
      ],
      "execution_count": null,
      "outputs": [
        {
          "output_type": "stream",
          "text": [
            "<class 'pandas.core.frame.DataFrame'>\n",
            "RangeIndex: 4177 entries, 0 to 4176\n",
            "Data columns (total 9 columns):\n",
            " #   Column          Non-Null Count  Dtype  \n",
            "---  ------          --------------  -----  \n",
            " 0   Sex             4177 non-null   object \n",
            " 1   Length          4177 non-null   float64\n",
            " 2   Diameter        4177 non-null   float64\n",
            " 3   Height          4177 non-null   float64\n",
            " 4   Whole weight    4177 non-null   float64\n",
            " 5   Shucked weight  4177 non-null   float64\n",
            " 6   Viscera weight  4177 non-null   float64\n",
            " 7   Shell weight    4177 non-null   float64\n",
            " 8   Rings           4177 non-null   int64  \n",
            "dtypes: float64(7), int64(1), object(1)\n",
            "memory usage: 293.8+ KB\n"
          ],
          "name": "stdout"
        }
      ]
    },
    {
      "cell_type": "code",
      "metadata": {
        "colab": {
          "base_uri": "https://localhost:8080/",
          "height": 332
        },
        "id": "uxhtNjHey44R",
        "outputId": "6a3e0e81-dbb8-4bd0-8ef8-62ad03ec2e21"
      },
      "source": [
        "df.describe()"
      ],
      "execution_count": null,
      "outputs": [
        {
          "output_type": "execute_result",
          "data": {
            "text/html": [
              "<div>\n",
              "<style scoped>\n",
              "    .dataframe tbody tr th:only-of-type {\n",
              "        vertical-align: middle;\n",
              "    }\n",
              "\n",
              "    .dataframe tbody tr th {\n",
              "        vertical-align: top;\n",
              "    }\n",
              "\n",
              "    .dataframe thead th {\n",
              "        text-align: right;\n",
              "    }\n",
              "</style>\n",
              "<table border=\"1\" class=\"dataframe\">\n",
              "  <thead>\n",
              "    <tr style=\"text-align: right;\">\n",
              "      <th></th>\n",
              "      <th>Length</th>\n",
              "      <th>Diameter</th>\n",
              "      <th>Height</th>\n",
              "      <th>Whole weight</th>\n",
              "      <th>Shucked weight</th>\n",
              "      <th>Viscera weight</th>\n",
              "      <th>Shell weight</th>\n",
              "      <th>Rings</th>\n",
              "    </tr>\n",
              "  </thead>\n",
              "  <tbody>\n",
              "    <tr>\n",
              "      <th>count</th>\n",
              "      <td>4177.000000</td>\n",
              "      <td>4177.000000</td>\n",
              "      <td>4177.000000</td>\n",
              "      <td>4177.000000</td>\n",
              "      <td>4177.000000</td>\n",
              "      <td>4177.000000</td>\n",
              "      <td>4177.000000</td>\n",
              "      <td>4177.000000</td>\n",
              "    </tr>\n",
              "    <tr>\n",
              "      <th>mean</th>\n",
              "      <td>0.523992</td>\n",
              "      <td>0.407881</td>\n",
              "      <td>0.139516</td>\n",
              "      <td>0.828742</td>\n",
              "      <td>0.359367</td>\n",
              "      <td>0.180594</td>\n",
              "      <td>0.238831</td>\n",
              "      <td>9.933684</td>\n",
              "    </tr>\n",
              "    <tr>\n",
              "      <th>std</th>\n",
              "      <td>0.120093</td>\n",
              "      <td>0.099240</td>\n",
              "      <td>0.041827</td>\n",
              "      <td>0.490389</td>\n",
              "      <td>0.221963</td>\n",
              "      <td>0.109614</td>\n",
              "      <td>0.139203</td>\n",
              "      <td>3.224169</td>\n",
              "    </tr>\n",
              "    <tr>\n",
              "      <th>min</th>\n",
              "      <td>0.075000</td>\n",
              "      <td>0.055000</td>\n",
              "      <td>0.000000</td>\n",
              "      <td>0.002000</td>\n",
              "      <td>0.001000</td>\n",
              "      <td>0.000500</td>\n",
              "      <td>0.001500</td>\n",
              "      <td>1.000000</td>\n",
              "    </tr>\n",
              "    <tr>\n",
              "      <th>25%</th>\n",
              "      <td>0.450000</td>\n",
              "      <td>0.350000</td>\n",
              "      <td>0.115000</td>\n",
              "      <td>0.441500</td>\n",
              "      <td>0.186000</td>\n",
              "      <td>0.093500</td>\n",
              "      <td>0.130000</td>\n",
              "      <td>8.000000</td>\n",
              "    </tr>\n",
              "    <tr>\n",
              "      <th>50%</th>\n",
              "      <td>0.545000</td>\n",
              "      <td>0.425000</td>\n",
              "      <td>0.140000</td>\n",
              "      <td>0.799500</td>\n",
              "      <td>0.336000</td>\n",
              "      <td>0.171000</td>\n",
              "      <td>0.234000</td>\n",
              "      <td>9.000000</td>\n",
              "    </tr>\n",
              "    <tr>\n",
              "      <th>75%</th>\n",
              "      <td>0.615000</td>\n",
              "      <td>0.480000</td>\n",
              "      <td>0.165000</td>\n",
              "      <td>1.153000</td>\n",
              "      <td>0.502000</td>\n",
              "      <td>0.253000</td>\n",
              "      <td>0.329000</td>\n",
              "      <td>11.000000</td>\n",
              "    </tr>\n",
              "    <tr>\n",
              "      <th>max</th>\n",
              "      <td>0.815000</td>\n",
              "      <td>0.650000</td>\n",
              "      <td>1.130000</td>\n",
              "      <td>2.825500</td>\n",
              "      <td>1.488000</td>\n",
              "      <td>0.760000</td>\n",
              "      <td>1.005000</td>\n",
              "      <td>29.000000</td>\n",
              "    </tr>\n",
              "  </tbody>\n",
              "</table>\n",
              "</div>"
            ],
            "text/plain": [
              "            Length     Diameter  ...  Shell weight        Rings\n",
              "count  4177.000000  4177.000000  ...   4177.000000  4177.000000\n",
              "mean      0.523992     0.407881  ...      0.238831     9.933684\n",
              "std       0.120093     0.099240  ...      0.139203     3.224169\n",
              "min       0.075000     0.055000  ...      0.001500     1.000000\n",
              "25%       0.450000     0.350000  ...      0.130000     8.000000\n",
              "50%       0.545000     0.425000  ...      0.234000     9.000000\n",
              "75%       0.615000     0.480000  ...      0.329000    11.000000\n",
              "max       0.815000     0.650000  ...      1.005000    29.000000\n",
              "\n",
              "[8 rows x 8 columns]"
            ]
          },
          "metadata": {
            "tags": []
          },
          "execution_count": 28
        }
      ]
    },
    {
      "cell_type": "code",
      "metadata": {
        "id": "3nK5gvjfzEGZ"
      },
      "source": [
        "# 특징에 맞는 정규화기법 선택"
      ],
      "execution_count": null,
      "outputs": []
    },
    {
      "cell_type": "code",
      "metadata": {
        "id": "VUdSYeLW0PUh"
      },
      "source": [
        "import csv\n",
        "with open('/content/abalone.csv') as csvfile:\n",
        "  csvreader = csv.reader(csvfile)\n",
        "  next(csvreader) # 첫번째 행(문자열) 건너뜀 \n",
        "  rows= []\n",
        "  for row in csvreader:\n",
        "    rows.append(row)"
      ],
      "execution_count": null,
      "outputs": []
    },
    {
      "cell_type": "code",
      "metadata": {
        "colab": {
          "base_uri": "https://localhost:8080/"
        },
        "id": "gbLqLXTj03oG",
        "outputId": "ccbae5ca-b9aa-4ad5-91ab-3b8811e815a1"
      },
      "source": [
        "rows[:5]"
      ],
      "execution_count": null,
      "outputs": [
        {
          "output_type": "execute_result",
          "data": {
            "text/plain": [
              "[['M', '0.455', '0.365', '0.095', '0.514', '0.2245', '0.101', '0.15', '15'],\n",
              " ['M', '0.35', '0.265', '0.09', '0.2255', '0.0995', '0.0485', '0.07', '7'],\n",
              " ['F', '0.53', '0.42', '0.135', '0.677', '0.2565', '0.1415', '0.21', '9'],\n",
              " ['M', '0.44', '0.365', '0.125', '0.516', '0.2155', '0.114', '0.155', '10'],\n",
              " ['I', '0.33', '0.255', '0.08', '0.205', '0.0895', '0.0395', '0.055', '7']]"
            ]
          },
          "metadata": {
            "tags": []
          },
          "execution_count": 31
        }
      ]
    },
    {
      "cell_type": "code",
      "metadata": {
        "colab": {
          "base_uri": "https://localhost:8080/"
        },
        "id": "fxGqcMM21BpB",
        "outputId": "8062a11f-ce69-4cb1-87f5-2ee7d200071c"
      },
      "source": [
        "# one-hot vector\n",
        "input_cnt, output_cnt = 10, 1\n",
        "data = np.zeros( [len(rows), input_cnt+output_cnt] )\n",
        "print(data.shape)"
      ],
      "execution_count": null,
      "outputs": [
        {
          "output_type": "stream",
          "text": [
            "(4177, 11)\n"
          ],
          "name": "stdout"
        }
      ]
    },
    {
      "cell_type": "code",
      "metadata": {
        "id": "mABNAnuN1TUX"
      },
      "source": [
        "for n, row in enumerate(rows):\n",
        "  if row[0] == 'M': data[n, 0] = 1\n",
        "  if row[0] == 'F': data[n, 1] = 1\n",
        "  if row[0] == 'I': data[n, 2] = 1\n",
        "  data[n,3:] = row[1:]"
      ],
      "execution_count": null,
      "outputs": []
    },
    {
      "cell_type": "code",
      "metadata": {
        "colab": {
          "base_uri": "https://localhost:8080/"
        },
        "id": "ONVe_L2S13BZ",
        "outputId": "de59d92f-ee70-4616-8ab9-29aae488a3d2"
      },
      "source": [
        "data"
      ],
      "execution_count": null,
      "outputs": [
        {
          "output_type": "execute_result",
          "data": {
            "text/plain": [
              "array([[ 1.    ,  0.    ,  0.    , ...,  0.101 ,  0.15  , 15.    ],\n",
              "       [ 1.    ,  0.    ,  0.    , ...,  0.0485,  0.07  ,  7.    ],\n",
              "       [ 0.    ,  1.    ,  0.    , ...,  0.1415,  0.21  ,  9.    ],\n",
              "       ...,\n",
              "       [ 1.    ,  0.    ,  0.    , ...,  0.2875,  0.308 ,  9.    ],\n",
              "       [ 0.    ,  1.    ,  0.    , ...,  0.261 ,  0.296 , 10.    ],\n",
              "       [ 1.    ,  0.    ,  0.    , ...,  0.3765,  0.495 , 12.    ]])"
            ]
          },
          "metadata": {
            "tags": []
          },
          "execution_count": 34
        }
      ]
    },
    {
      "cell_type": "code",
      "metadata": {
        "colab": {
          "base_uri": "https://localhost:8080/"
        },
        "id": "PfqYpn9H164S",
        "outputId": "5447469b-aa3f-490e-a353-6ce9892b32ca"
      },
      "source": [
        "# 학습데이터 분류\n",
        "train_ratio = 0.8\n",
        "test_begin_index = int(data.shape[0] * train_ratio)\n",
        "print(test_begin_index)"
      ],
      "execution_count": null,
      "outputs": [
        {
          "output_type": "stream",
          "text": [
            "3341\n"
          ],
          "name": "stdout"
        }
      ]
    },
    {
      "cell_type": "code",
      "metadata": {
        "colab": {
          "base_uri": "https://localhost:8080/"
        },
        "id": "w3OPoorF2QH7",
        "outputId": "04f27ee1-c0ad-40f0-de82-7429468eecac"
      },
      "source": [
        "shuffle_map = np.arange(data.shape[0])\n",
        "np.random.shuffle(shuffle_map)\n",
        "print(shuffle_map[:10])"
      ],
      "execution_count": null,
      "outputs": [
        {
          "output_type": "stream",
          "text": [
            "[ 314  939 1130 2997 4142 4104 2892 1997  537 3742]\n"
          ],
          "name": "stdout"
        }
      ]
    },
    {
      "cell_type": "code",
      "metadata": {
        "colab": {
          "base_uri": "https://localhost:8080/"
        },
        "id": "cmprkWpe2p1B",
        "outputId": "52b9f9f1-581e-4aa8-bff3-c3f037d1eef8"
      },
      "source": [
        "train_data = data[shuffle_map[:test_begin_index]]\n",
        "print(train_data.shape)"
      ],
      "execution_count": null,
      "outputs": [
        {
          "output_type": "stream",
          "text": [
            "(3341, 11)\n"
          ],
          "name": "stdout"
        }
      ]
    },
    {
      "cell_type": "code",
      "metadata": {
        "colab": {
          "base_uri": "https://localhost:8080/"
        },
        "id": "N3b8YBaa2_xO",
        "outputId": "079a7aa4-c8dc-4269-dce5-ad8c7f510b4a"
      },
      "source": [
        "test_data = data[shuffle_map[test_begin_index:]]\n",
        "print(test_data.shape)"
      ],
      "execution_count": null,
      "outputs": [
        {
          "output_type": "stream",
          "text": [
            "(836, 11)\n"
          ],
          "name": "stdout"
        }
      ]
    },
    {
      "cell_type": "code",
      "metadata": {
        "colab": {
          "base_uri": "https://localhost:8080/"
        },
        "id": "6LhUcsnt3J3s",
        "outputId": "231cdc14-4c01-4d60-d02d-2be94babc8ac"
      },
      "source": [
        "# 데이터 분리\n",
        "train_X, train_Y = train_data[:, : -output_cnt], train_data[:, -output_cnt : ]\n",
        "test_X, test_Y = test_data[:, : -output_cnt], test_data[:, -output_cnt : ]\n",
        "print(train_X.shape)\n",
        "print(train_Y.shape)\n",
        "\n",
        "print(test_X.shape)\n",
        "print(test_Y.shape)"
      ],
      "execution_count": null,
      "outputs": [
        {
          "output_type": "stream",
          "text": [
            "(3341, 10)\n",
            "(3341, 1)\n",
            "(836, 10)\n",
            "(836, 1)\n"
          ],
          "name": "stdout"
        }
      ]
    },
    {
      "cell_type": "code",
      "metadata": {
        "id": "jeR0doer3x6J"
      },
      "source": [
        "# z-score normalization : 서로 다른데이터 > 정규분포, 이상치에 둔감 / min-max와비교"
      ],
      "execution_count": null,
      "outputs": []
    },
    {
      "cell_type": "markdown",
      "metadata": {
        "id": "QkYESA0Uqpvi"
      },
      "source": [
        "##### 0716"
      ]
    },
    {
      "cell_type": "code",
      "metadata": {
        "id": "ylbnXZ903-bS",
        "colab": {
          "base_uri": "https://localhost:8080/"
        },
        "outputId": "8f801679-c89c-4bd7-c967-e436b9585d3b"
      },
      "source": [
        "train_X_mean = np.mean(train_X, axis = 0)\n",
        "print(train_X_mean)"
      ],
      "execution_count": null,
      "outputs": [
        {
          "output_type": "stream",
          "text": [
            "[0.37114636 0.307393   0.32146064 0.52402424 0.40799761 0.13972912\n",
            " 0.82955058 0.35992981 0.18104145 0.23910281]\n"
          ],
          "name": "stdout"
        }
      ]
    },
    {
      "cell_type": "code",
      "metadata": {
        "colab": {
          "base_uri": "https://localhost:8080/"
        },
        "id": "1HaXwyH9qnlr",
        "outputId": "2f6331a7-36fe-41b8-e766-d981ca694e5c"
      },
      "source": [
        "train_X_std = train_X.std(axis=0)\n",
        "print(train_X_std)"
      ],
      "execution_count": null,
      "outputs": [
        {
          "output_type": "stream",
          "text": [
            "[0.48311152 0.46141363 0.46703715 0.12035549 0.09960398 0.04274543\n",
            " 0.49141513 0.22202338 0.11004149 0.13971866]\n"
          ],
          "name": "stdout"
        }
      ]
    },
    {
      "cell_type": "code",
      "metadata": {
        "id": "yqJklNBhq9BL"
      },
      "source": [
        "train_X -= train_X_mean\n",
        "train_X /= train_X_std"
      ],
      "execution_count": null,
      "outputs": []
    },
    {
      "cell_type": "code",
      "metadata": {
        "id": "PUEX6GOQrb_G"
      },
      "source": [
        "test_X -= train_X_mean\n",
        "test_X /= train_X_std"
      ],
      "execution_count": null,
      "outputs": []
    },
    {
      "cell_type": "code",
      "metadata": {
        "id": "ZUXr_4UJsH4j"
      },
      "source": [
        "# 마지막 계층 활성함수 사용 x"
      ],
      "execution_count": null,
      "outputs": []
    },
    {
      "cell_type": "code",
      "metadata": {
        "id": "jLWTp69dsSO9"
      },
      "source": [
        "GJ_NET_MODEL_V1 = tf.keras.Sequential([\n",
        "                                        # 첫번째 은닉계층\n",
        "                                        tf.keras.layers.Dense(units=10,\n",
        "                                                             activation='elu',\n",
        "                                                             input_shape=(10,)),\n",
        "                                        tf.keras.layers.Dense(units=24,\n",
        "                                                             activation='elu'),\n",
        "                                        tf.keras.layers.Dense(units=36,\n",
        "                                                             activation='elu'),\n",
        "                                        tf.keras.layers.Dense(units=1)                                                        \n",
        "])"
      ],
      "execution_count": null,
      "outputs": []
    },
    {
      "cell_type": "code",
      "metadata": {
        "colab": {
          "base_uri": "https://localhost:8080/"
        },
        "id": "V1Fvdk2VtS5P",
        "outputId": "3b800b37-22bf-427e-bd06-eda17e5fb185"
      },
      "source": [
        "GJ_NET_MODEL_V1.summary()"
      ],
      "execution_count": null,
      "outputs": [
        {
          "output_type": "stream",
          "text": [
            "Model: \"sequential_1\"\n",
            "_________________________________________________________________\n",
            "Layer (type)                 Output Shape              Param #   \n",
            "=================================================================\n",
            "dense_4 (Dense)              (None, 10)                110       \n",
            "_________________________________________________________________\n",
            "dense_5 (Dense)              (None, 24)                264       \n",
            "_________________________________________________________________\n",
            "dense_6 (Dense)              (None, 36)                900       \n",
            "_________________________________________________________________\n",
            "dense_7 (Dense)              (None, 1)                 37        \n",
            "=================================================================\n",
            "Total params: 1,311\n",
            "Trainable params: 1,311\n",
            "Non-trainable params: 0\n",
            "_________________________________________________________________\n"
          ],
          "name": "stdout"
        }
      ]
    },
    {
      "cell_type": "code",
      "metadata": {
        "id": "lkWA5kSbtftI"
      },
      "source": [
        "# SGD , mini batch SGD\n",
        "GJ_NET_MODEL_V1.compile(optimizer=tf.keras.optimizers.Adam(learning_rate=0.07),\n",
        "                        loss = 'mse')"
      ],
      "execution_count": null,
      "outputs": []
    },
    {
      "cell_type": "code",
      "metadata": {
        "colab": {
          "base_uri": "https://localhost:8080/"
        },
        "id": "EVXTTpXbvAqf",
        "outputId": "e4e2bb79-fdda-44ed-d1a5-c6b03c338d18"
      },
      "source": [
        "# 학습\n",
        "history_1 = GJ_NET_MODEL_V1.fit(train_X, train_Y,\n",
        "                                epochs = 25,\n",
        "                                batch_size = 32,\n",
        "                                # 학습데이터 비율중 20% 검증 데이터\n",
        "                                validation_split = 0.2 )"
      ],
      "execution_count": null,
      "outputs": [
        {
          "output_type": "stream",
          "text": [
            "Epoch 1/25\n",
            "84/84 [==============================] - 1s 3ms/step - loss: 10.3139 - val_loss: 6.3505\n",
            "Epoch 2/25\n",
            "84/84 [==============================] - 0s 2ms/step - loss: 5.5869 - val_loss: 4.3194\n",
            "Epoch 3/25\n",
            "84/84 [==============================] - 0s 2ms/step - loss: 5.9512 - val_loss: 4.5635\n",
            "Epoch 4/25\n",
            "84/84 [==============================] - 0s 2ms/step - loss: 5.3215 - val_loss: 6.3980\n",
            "Epoch 5/25\n",
            "84/84 [==============================] - 0s 2ms/step - loss: 5.2480 - val_loss: 4.4831\n",
            "Epoch 6/25\n",
            "84/84 [==============================] - 0s 2ms/step - loss: 5.5228 - val_loss: 4.1626\n",
            "Epoch 7/25\n",
            "84/84 [==============================] - 0s 2ms/step - loss: 5.0239 - val_loss: 4.6004\n",
            "Epoch 8/25\n",
            "84/84 [==============================] - 0s 2ms/step - loss: 5.1974 - val_loss: 4.3268\n",
            "Epoch 9/25\n",
            "84/84 [==============================] - 0s 2ms/step - loss: 5.2544 - val_loss: 4.8739\n",
            "Epoch 10/25\n",
            "84/84 [==============================] - 0s 2ms/step - loss: 5.2783 - val_loss: 4.9703\n",
            "Epoch 11/25\n",
            "84/84 [==============================] - 0s 2ms/step - loss: 5.3903 - val_loss: 4.2254\n",
            "Epoch 12/25\n",
            "84/84 [==============================] - 0s 2ms/step - loss: 5.1645 - val_loss: 4.3013\n",
            "Epoch 13/25\n",
            "84/84 [==============================] - 0s 2ms/step - loss: 5.2629 - val_loss: 5.5291\n",
            "Epoch 14/25\n",
            "84/84 [==============================] - 0s 2ms/step - loss: 4.9358 - val_loss: 4.4016\n",
            "Epoch 15/25\n",
            "84/84 [==============================] - 0s 2ms/step - loss: 5.0804 - val_loss: 5.9667\n",
            "Epoch 16/25\n",
            "84/84 [==============================] - 0s 2ms/step - loss: 25.5680 - val_loss: 10.6117\n",
            "Epoch 17/25\n",
            "84/84 [==============================] - 0s 2ms/step - loss: 11.0080 - val_loss: 9.9196\n",
            "Epoch 18/25\n",
            "84/84 [==============================] - 0s 2ms/step - loss: 10.8062 - val_loss: 11.1894\n",
            "Epoch 19/25\n",
            "84/84 [==============================] - 0s 2ms/step - loss: 10.9682 - val_loss: 9.8943\n",
            "Epoch 20/25\n",
            "84/84 [==============================] - 0s 2ms/step - loss: 11.0814 - val_loss: 11.4665\n",
            "Epoch 21/25\n",
            "84/84 [==============================] - 0s 2ms/step - loss: 10.8986 - val_loss: 10.2991\n",
            "Epoch 22/25\n",
            "84/84 [==============================] - 0s 2ms/step - loss: 10.9214 - val_loss: 9.8098\n",
            "Epoch 23/25\n",
            "84/84 [==============================] - 0s 2ms/step - loss: 10.8103 - val_loss: 9.8952\n",
            "Epoch 24/25\n",
            "84/84 [==============================] - 0s 2ms/step - loss: 10.9617 - val_loss: 9.8555\n",
            "Epoch 25/25\n",
            "84/84 [==============================] - 0s 2ms/step - loss: 10.8321 - val_loss: 9.8710\n"
          ],
          "name": "stdout"
        }
      ]
    },
    {
      "cell_type": "code",
      "metadata": {
        "colab": {
          "base_uri": "https://localhost:8080/",
          "height": 279
        },
        "id": "jNj7bceewIql",
        "outputId": "23c9c9ec-c654-481b-eba9-3a8ce2dde531"
      },
      "source": [
        "plt.plot(history_1.history['loss'], '--o', color = 'red', label = 'Train_LOSS')\n",
        "\n",
        "# 검증데이터에 대한 손실\n",
        "plt.plot(history_1.history['val_loss'], '-o', color = 'blue', label = 'Val_LOSS')\n",
        "\n",
        "plt.xlabel(\"Epochs\")\n",
        "plt.ylabel('LOSS')\n",
        "plt.legend()\n",
        "plt.grid()\n",
        "plt.show()"
      ],
      "execution_count": null,
      "outputs": [
        {
          "output_type": "display_data",
          "data": {
            "image/png": "[encoded data removed]",
            "text/plain": [
              "<Figure size 432x288 with 1 Axes>"
            ]
          },
          "metadata": {
            "tags": [],
            "needs_background": "light"
          }
        }
      ]
    },
    {
      "cell_type": "code",
      "metadata": {
        "colab": {
          "base_uri": "https://localhost:8080/"
        },
        "id": "uRAdI_pBxNAI",
        "outputId": "d11a7591-7bd5-4208-cb2b-6f5cdb07c256"
      },
      "source": [
        "GJ_NET_MODEL_V1.evaluate(test_X, test_Y)"
      ],
      "execution_count": null,
      "outputs": [
        {
          "output_type": "stream",
          "text": [
            "27/27 [==============================] - 0s 1ms/step - loss: 9.9721\n"
          ],
          "name": "stdout"
        },
        {
          "output_type": "execute_result",
          "data": {
            "text/plain": [
              "9.97208309173584"
            ]
          },
          "metadata": {
            "tags": []
          },
          "execution_count": 51
        }
      ]
    },
    {
      "cell_type": "code",
      "metadata": {
        "colab": {
          "base_uri": "https://localhost:8080/"
        },
        "id": "y23K_UpVwwU8",
        "outputId": "65e75e6e-9746-46f2-9426-4f84a7d4e3c6"
      },
      "source": [
        "pred_Y = GJ_NET_MODEL_V1.predict(test_X)\n",
        "print(pred_Y)"
      ],
      "execution_count": null,
      "outputs": [
        {
          "output_type": "stream",
          "text": [
            "[[10.096677]\n",
            " [10.096677]\n",
            " [10.096677]\n",
            " [10.096677]\n",
            " [10.096677]\n",
            " [10.096677]\n",
            " [10.096677]\n",
            " [10.096677]\n",
            " [10.096677]\n",
            " [10.096677]\n",
            " [10.096677]\n",
            " [10.096677]\n",
            " [10.096677]\n",
            " [10.096677]\n",
            " [10.096677]\n",
            " [10.096677]\n",
            " [10.096677]\n",
            " [10.096677]\n",
            " [10.096677]\n",
            " [10.096677]\n",
            " [10.096677]\n",
            " [10.096677]\n",
            " [10.096677]\n",
            " [10.096677]\n",
            " [10.096677]\n",
            " [10.096677]\n",
            " [10.096677]\n",
            " [10.096677]\n",
            " [10.096677]\n",
            " [10.096677]\n",
            " [10.096677]\n",
            " [10.096677]\n",
            " [10.096677]\n",
            " [10.096677]\n",
            " [10.096677]\n",
            " [10.096677]\n",
            " [10.096677]\n",
            " [10.096677]\n",
            " [10.096677]\n",
            " [10.096677]\n",
            " [10.096677]\n",
            " [10.096677]\n",
            " [10.096677]\n",
            " [10.096677]\n",
            " [10.096677]\n",
            " [10.096677]\n",
            " [10.096677]\n",
            " [10.096677]\n",
            " [10.096677]\n",
            " [10.096677]\n",
            " [10.096677]\n",
            " [10.096677]\n",
            " [10.096677]\n",
            " [10.096677]\n",
            " [10.096677]\n",
            " [10.096677]\n",
            " [10.096677]\n",
            " [10.096677]\n",
            " [10.096677]\n",
            " [10.096677]\n",
            " [10.096677]\n",
            " [10.096677]\n",
            " [10.096677]\n",
            " [10.096677]\n",
            " [10.096677]\n",
            " [10.096677]\n",
            " [10.096677]\n",
            " [10.096677]\n",
            " [10.096677]\n",
            " [10.096677]\n",
            " [10.096677]\n",
            " [10.096677]\n",
            " [10.096677]\n",
            " [10.096677]\n",
            " [10.096677]\n",
            " [10.096677]\n",
            " [10.096677]\n",
            " [10.096677]\n",
            " [10.096677]\n",
            " [10.096677]\n",
            " [10.096677]\n",
            " [10.096677]\n",
            " [10.096677]\n",
            " [10.096677]\n",
            " [10.096677]\n",
            " [10.096677]\n",
            " [10.096677]\n",
            " [10.096677]\n",
            " [10.096677]\n",
            " [10.096677]\n",
            " [10.096677]\n",
            " [10.096677]\n",
            " [10.096677]\n",
            " [10.096677]\n",
            " [10.096677]\n",
            " [10.096677]\n",
            " [10.096677]\n",
            " [10.096677]\n",
            " [10.096677]\n",
            " [10.096677]\n",
            " [10.096677]\n",
            " [10.096677]\n",
            " [10.096677]\n",
            " [10.096677]\n",
            " [10.096677]\n",
            " [10.096677]\n",
            " [10.096677]\n",
            " [10.096677]\n",
            " [10.096677]\n",
            " [10.096677]\n",
            " [10.096677]\n",
            " [10.096677]\n",
            " [10.096677]\n",
            " [10.096677]\n",
            " [10.096677]\n",
            " [10.096677]\n",
            " [10.096677]\n",
            " [10.096677]\n",
            " [10.096677]\n",
            " [10.096677]\n",
            " [10.096677]\n",
            " [10.096677]\n",
            " [10.096677]\n",
            " [10.096677]\n",
            " [10.096677]\n",
            " [10.096677]\n",
            " [10.096677]\n",
            " [10.096677]\n",
            " [10.096677]\n",
            " [10.096677]\n",
            " [10.096677]\n",
            " [10.096677]\n",
            " [10.096677]\n",
            " [10.096677]\n",
            " [10.096677]\n",
            " [10.096677]\n",
            " [10.096677]\n",
            " [10.096677]\n",
            " [10.096677]\n",
            " [10.096677]\n",
            " [10.096677]\n",
            " [10.096677]\n",
            " [10.096677]\n",
            " [10.096677]\n",
            " [10.096677]\n",
            " [10.096677]\n",
            " [10.096677]\n",
            " [10.096677]\n",
            " [10.096677]\n",
            " [10.096677]\n",
            " [10.096677]\n",
            " [10.096677]\n",
            " [10.096677]\n",
            " [10.096677]\n",
            " [10.096677]\n",
            " [10.096677]\n",
            " [10.096677]\n",
            " [10.096677]\n",
            " [10.096677]\n",
            " [10.096677]\n",
            " [10.096677]\n",
            " [10.096677]\n",
            " [10.096677]\n",
            " [10.096677]\n",
            " [10.096677]\n",
            " [10.096677]\n",
            " [10.096677]\n",
            " [10.096677]\n",
            " [10.096677]\n",
            " [10.096677]\n",
            " [10.096677]\n",
            " [10.096677]\n",
            " [10.096677]\n",
            " [10.096677]\n",
            " [10.096677]\n",
            " [10.096677]\n",
            " [10.096677]\n",
            " [10.096677]\n",
            " [10.096677]\n",
            " [10.096677]\n",
            " [10.096677]\n",
            " [10.096677]\n",
            " [10.096677]\n",
            " [10.096677]\n",
            " [10.096677]\n",
            " [10.096677]\n",
            " [10.096677]\n",
            " [10.096677]\n",
            " [10.096677]\n",
            " [10.096677]\n",
            " [10.096677]\n",
            " [10.096677]\n",
            " [10.096677]\n",
            " [10.096677]\n",
            " [10.096677]\n",
            " [10.096677]\n",
            " [10.096677]\n",
            " [10.096677]\n",
            " [10.096677]\n",
            " [10.096677]\n",
            " [10.096677]\n",
            " [10.096677]\n",
            " [10.096677]\n",
            " [10.096677]\n",
            " [10.096677]\n",
            " [10.096677]\n",
            " [10.096677]\n",
            " [10.096677]\n",
            " [10.096677]\n",
            " [10.096677]\n",
            " [10.096677]\n",
            " [10.096677]\n",
            " [10.096677]\n",
            " [10.096677]\n",
            " [10.096677]\n",
            " [10.096677]\n",
            " [10.096677]\n",
            " [10.096677]\n",
            " [10.096677]\n",
            " [10.096677]\n",
            " [10.096677]\n",
            " [10.096677]\n",
            " [10.096677]\n",
            " [10.096677]\n",
            " [10.096677]\n",
            " [10.096677]\n",
            " [10.096677]\n",
            " [10.096677]\n",
            " [10.096677]\n",
            " [10.096677]\n",
            " [10.096677]\n",
            " [10.096677]\n",
            " [10.096677]\n",
            " [10.096677]\n",
            " [10.096677]\n",
            " [10.096677]\n",
            " [10.096677]\n",
            " [10.096677]\n",
            " [10.096677]\n",
            " [10.096677]\n",
            " [10.096677]\n",
            " [10.096677]\n",
            " [10.096677]\n",
            " [10.096677]\n",
            " [10.096677]\n",
            " [10.096677]\n",
            " [10.096677]\n",
            " [10.096677]\n",
            " [10.096677]\n",
            " [10.096677]\n",
            " [10.096677]\n",
            " [10.096677]\n",
            " [10.096677]\n",
            " [10.096677]\n",
            " [10.096677]\n",
            " [10.096677]\n",
            " [10.096677]\n",
            " [10.096677]\n",
            " [10.096677]\n",
            " [10.096677]\n",
            " [10.096677]\n",
            " [10.096677]\n",
            " [10.096677]\n",
            " [10.096677]\n",
            " [10.096677]\n",
            " [10.096677]\n",
            " [10.096677]\n",
            " [10.096677]\n",
            " [10.096677]\n",
            " [10.096677]\n",
            " [10.096677]\n",
            " [10.096677]\n",
            " [10.096677]\n",
            " [10.096677]\n",
            " [10.096677]\n",
            " [10.096677]\n",
            " [10.096677]\n",
            " [10.096677]\n",
            " [10.096677]\n",
            " [10.096677]\n",
            " [10.096677]\n",
            " [10.096677]\n",
            " [10.096677]\n",
            " [10.096677]\n",
            " [10.096677]\n",
            " [10.096677]\n",
            " [10.096677]\n",
            " [10.096677]\n",
            " [10.096677]\n",
            " [10.096677]\n",
            " [10.096677]\n",
            " [10.096677]\n",
            " [10.096677]\n",
            " [10.096677]\n",
            " [10.096677]\n",
            " [10.096677]\n",
            " [10.096677]\n",
            " [10.096677]\n",
            " [10.096677]\n",
            " [10.096677]\n",
            " [10.096677]\n",
            " [10.096677]\n",
            " [10.096677]\n",
            " [10.096677]\n",
            " [10.096677]\n",
            " [10.096677]\n",
            " [10.096677]\n",
            " [10.096677]\n",
            " [10.096677]\n",
            " [10.096677]\n",
            " [10.096677]\n",
            " [10.096677]\n",
            " [10.096677]\n",
            " [10.096677]\n",
            " [10.096677]\n",
            " [10.096677]\n",
            " [10.096677]\n",
            " [10.096677]\n",
            " [10.096677]\n",
            " [10.096677]\n",
            " [10.096677]\n",
            " [10.096677]\n",
            " [10.096677]\n",
            " [10.096677]\n",
            " [10.096677]\n",
            " [10.096677]\n",
            " [10.096677]\n",
            " [10.096677]\n",
            " [10.096677]\n",
            " [10.096677]\n",
            " [10.096677]\n",
            " [10.096677]\n",
            " [10.096677]\n",
            " [10.096677]\n",
            " [10.096677]\n",
            " [10.096677]\n",
            " [10.096677]\n",
            " [10.096677]\n",
            " [10.096677]\n",
            " [10.096677]\n",
            " [10.096677]\n",
            " [10.096677]\n",
            " [10.096677]\n",
            " [10.096677]\n",
            " [10.096677]\n",
            " [10.096677]\n",
            " [10.096677]\n",
            " [10.096677]\n",
            " [10.096677]\n",
            " [10.096677]\n",
            " [10.096677]\n",
            " [10.096677]\n",
            " [10.096677]\n",
            " [10.096677]\n",
            " [10.096677]\n",
            " [10.096677]\n",
            " [10.096677]\n",
            " [10.096677]\n",
            " [10.096677]\n",
            " [10.096677]\n",
            " [10.096677]\n",
            " [10.096677]\n",
            " [10.096677]\n",
            " [10.096677]\n",
            " [10.096677]\n",
            " [10.096677]\n",
            " [10.096677]\n",
            " [10.096677]\n",
            " [10.096677]\n",
            " [10.096677]\n",
            " [10.096677]\n",
            " [10.096677]\n",
            " [10.096677]\n",
            " [10.096677]\n",
            " [10.096677]\n",
            " [10.096677]\n",
            " [10.096677]\n",
            " [10.096677]\n",
            " [10.096677]\n",
            " [10.096677]\n",
            " [10.096677]\n",
            " [10.096677]\n",
            " [10.096677]\n",
            " [10.096677]\n",
            " [10.096677]\n",
            " [10.096677]\n",
            " [10.096677]\n",
            " [10.096677]\n",
            " [10.096677]\n",
            " [10.096677]\n",
            " [10.096677]\n",
            " [10.096677]\n",
            " [10.096677]\n",
            " [10.096677]\n",
            " [10.096677]\n",
            " [10.096677]\n",
            " [10.096677]\n",
            " [10.096677]\n",
            " [10.096677]\n",
            " [10.096677]\n",
            " [10.096677]\n",
            " [10.096677]\n",
            " [10.096677]\n",
            " [10.096677]\n",
            " [10.096677]\n",
            " [10.096677]\n",
            " [10.096677]\n",
            " [10.096677]\n",
            " [10.096677]\n",
            " [10.096677]\n",
            " [10.096677]\n",
            " [10.096677]\n",
            " [10.096677]\n",
            " [10.096677]\n",
            " [10.096677]\n",
            " [10.096677]\n",
            " [10.096677]\n",
            " [10.096677]\n",
            " [10.096677]\n",
            " [10.096677]\n",
            " [10.096677]\n",
            " [10.096677]\n",
            " [10.096677]\n",
            " [10.096677]\n",
            " [10.096677]\n",
            " [10.096677]\n",
            " [10.096677]\n",
            " [10.096677]\n",
            " [10.096677]\n",
            " [10.096677]\n",
            " [10.096677]\n",
            " [10.096677]\n",
            " [10.096677]\n",
            " [10.096677]\n",
            " [10.096677]\n",
            " [10.096677]\n",
            " [10.096677]\n",
            " [10.096677]\n",
            " [10.096677]\n",
            " [10.096677]\n",
            " [10.096677]\n",
            " [10.096677]\n",
            " [10.096677]\n",
            " [10.096677]\n",
            " [10.096677]\n",
            " [10.096677]\n",
            " [10.096677]\n",
            " [10.096677]\n",
            " [10.096677]\n",
            " [10.096677]\n",
            " [10.096677]\n",
            " [10.096677]\n",
            " [10.096677]\n",
            " [10.096677]\n",
            " [10.096677]\n",
            " [10.096677]\n",
            " [10.096677]\n",
            " [10.096677]\n",
            " [10.096677]\n",
            " [10.096677]\n",
            " [10.096677]\n",
            " [10.096677]\n",
            " [10.096677]\n",
            " [10.096677]\n",
            " [10.096677]\n",
            " [10.096677]\n",
            " [10.096677]\n",
            " [10.096677]\n",
            " [10.096677]\n",
            " [10.096677]\n",
            " [10.096677]\n",
            " [10.096677]\n",
            " [10.096677]\n",
            " [10.096677]\n",
            " [10.096677]\n",
            " [10.096677]\n",
            " [10.096677]\n",
            " [10.096677]\n",
            " [10.096677]\n",
            " [10.096677]\n",
            " [10.096677]\n",
            " [10.096677]\n",
            " [10.096677]\n",
            " [10.096677]\n",
            " [10.096677]\n",
            " [10.096677]\n",
            " [10.096677]\n",
            " [10.096677]\n",
            " [10.096677]\n",
            " [10.096677]\n",
            " [10.096677]\n",
            " [10.096677]\n",
            " [10.096677]\n",
            " [10.096677]\n",
            " [10.096677]\n",
            " [10.096677]\n",
            " [10.096677]\n",
            " [10.096677]\n",
            " [10.096677]\n",
            " [10.096677]\n",
            " [10.096677]\n",
            " [10.096677]\n",
            " [10.096677]\n",
            " [10.096677]\n",
            " [10.096677]\n",
            " [10.096677]\n",
            " [10.096677]\n",
            " [10.096677]\n",
            " [10.096677]\n",
            " [10.096677]\n",
            " [10.096677]\n",
            " [10.096677]\n",
            " [10.096677]\n",
            " [10.096677]\n",
            " [10.096677]\n",
            " [10.096677]\n",
            " [10.096677]\n",
            " [10.096677]\n",
            " [10.096677]\n",
            " [10.096677]\n",
            " [10.096677]\n",
            " [10.096677]\n",
            " [10.096677]\n",
            " [10.096677]\n",
            " [10.096677]\n",
            " [10.096677]\n",
            " [10.096677]\n",
            " [10.096677]\n",
            " [10.096677]\n",
            " [10.096677]\n",
            " [10.096677]\n",
            " [10.096677]\n",
            " [10.096677]\n",
            " [10.096677]\n",
            " [10.096677]\n",
            " [10.096677]\n",
            " [10.096677]\n",
            " [10.096677]\n",
            " [10.096677]\n",
            " [10.096677]\n",
            " [10.096677]\n",
            " [10.096677]\n",
            " [10.096677]\n",
            " [10.096677]\n",
            " [10.096677]\n",
            " [10.096677]\n",
            " [10.096677]\n",
            " [10.096677]\n",
            " [10.096677]\n",
            " [10.096677]\n",
            " [10.096677]\n",
            " [10.096677]\n",
            " [10.096677]\n",
            " [10.096677]\n",
            " [10.096677]\n",
            " [10.096677]\n",
            " [10.096677]\n",
            " [10.096677]\n",
            " [10.096677]\n",
            " [10.096677]\n",
            " [10.096677]\n",
            " [10.096677]\n",
            " [10.096677]\n",
            " [10.096677]\n",
            " [10.096677]\n",
            " [10.096677]\n",
            " [10.096677]\n",
            " [10.096677]\n",
            " [10.096677]\n",
            " [10.096677]\n",
            " [10.096677]\n",
            " [10.096677]\n",
            " [10.096677]\n",
            " [10.096677]\n",
            " [10.096677]\n",
            " [10.096677]\n",
            " [10.096677]\n",
            " [10.096677]\n",
            " [10.096677]\n",
            " [10.096677]\n",
            " [10.096677]\n",
            " [10.096677]\n",
            " [10.096677]\n",
            " [10.096677]\n",
            " [10.096677]\n",
            " [10.096677]\n",
            " [10.096677]\n",
            " [10.096677]\n",
            " [10.096677]\n",
            " [10.096677]\n",
            " [10.096677]\n",
            " [10.096677]\n",
            " [10.096677]\n",
            " [10.096677]\n",
            " [10.096677]\n",
            " [10.096677]\n",
            " [10.096677]\n",
            " [10.096677]\n",
            " [10.096677]\n",
            " [10.096677]\n",
            " [10.096677]\n",
            " [10.096677]\n",
            " [10.096677]\n",
            " [10.096677]\n",
            " [10.096677]\n",
            " [10.096677]\n",
            " [10.096677]\n",
            " [10.096677]\n",
            " [10.096677]\n",
            " [10.096677]\n",
            " [10.096677]\n",
            " [10.096677]\n",
            " [10.096677]\n",
            " [10.096677]\n",
            " [10.096677]\n",
            " [10.096677]\n",
            " [10.096677]\n",
            " [10.096677]\n",
            " [10.096677]\n",
            " [10.096677]\n",
            " [10.096677]\n",
            " [10.096677]\n",
            " [10.096677]\n",
            " [10.096677]\n",
            " [10.096677]\n",
            " [10.096677]\n",
            " [10.096677]\n",
            " [10.096677]\n",
            " [10.096677]\n",
            " [10.096677]\n",
            " [10.096677]\n",
            " [10.096677]\n",
            " [10.096677]\n",
            " [10.096677]\n",
            " [10.096677]\n",
            " [10.096677]\n",
            " [10.096677]\n",
            " [10.096677]\n",
            " [10.096677]\n",
            " [10.096677]\n",
            " [10.096677]\n",
            " [10.096677]\n",
            " [10.096677]\n",
            " [10.096677]\n",
            " [10.096677]\n",
            " [10.096677]\n",
            " [10.096677]\n",
            " [10.096677]\n",
            " [10.096677]\n",
            " [10.096677]\n",
            " [10.096677]\n",
            " [10.096677]\n",
            " [10.096677]\n",
            " [10.096677]\n",
            " [10.096677]\n",
            " [10.096677]\n",
            " [10.096677]\n",
            " [10.096677]\n",
            " [10.096677]\n",
            " [10.096677]\n",
            " [10.096677]\n",
            " [10.096677]\n",
            " [10.096677]\n",
            " [10.096677]\n",
            " [10.096677]\n",
            " [10.096677]\n",
            " [10.096677]\n",
            " [10.096677]\n",
            " [10.096677]\n",
            " [10.096677]\n",
            " [10.096677]\n",
            " [10.096677]\n",
            " [10.096677]\n",
            " [10.096677]\n",
            " [10.096677]\n",
            " [10.096677]\n",
            " [10.096677]\n",
            " [10.096677]\n",
            " [10.096677]\n",
            " [10.096677]\n",
            " [10.096677]\n",
            " [10.096677]\n",
            " [10.096677]\n",
            " [10.096677]\n",
            " [10.096677]\n",
            " [10.096677]\n",
            " [10.096677]\n",
            " [10.096677]\n",
            " [10.096677]\n",
            " [10.096677]\n",
            " [10.096677]\n",
            " [10.096677]\n",
            " [10.096677]\n",
            " [10.096677]\n",
            " [10.096677]\n",
            " [10.096677]\n",
            " [10.096677]\n",
            " [10.096677]\n",
            " [10.096677]\n",
            " [10.096677]\n",
            " [10.096677]\n",
            " [10.096677]\n",
            " [10.096677]\n",
            " [10.096677]\n",
            " [10.096677]\n",
            " [10.096677]\n",
            " [10.096677]\n",
            " [10.096677]\n",
            " [10.096677]\n",
            " [10.096677]\n",
            " [10.096677]\n",
            " [10.096677]\n",
            " [10.096677]\n",
            " [10.096677]\n",
            " [10.096677]\n",
            " [10.096677]\n",
            " [10.096677]\n",
            " [10.096677]\n",
            " [10.096677]\n",
            " [10.096677]\n",
            " [10.096677]\n",
            " [10.096677]\n",
            " [10.096677]\n",
            " [10.096677]\n",
            " [10.096677]\n",
            " [10.096677]\n",
            " [10.096677]\n",
            " [10.096677]\n",
            " [10.096677]\n",
            " [10.096677]\n",
            " [10.096677]\n",
            " [10.096677]\n",
            " [10.096677]\n",
            " [10.096677]\n",
            " [10.096677]\n",
            " [10.096677]\n",
            " [10.096677]\n",
            " [10.096677]\n",
            " [10.096677]\n",
            " [10.096677]\n",
            " [10.096677]\n",
            " [10.096677]\n",
            " [10.096677]\n",
            " [10.096677]\n",
            " [10.096677]\n",
            " [10.096677]\n",
            " [10.096677]\n",
            " [10.096677]\n",
            " [10.096677]\n",
            " [10.096677]\n",
            " [10.096677]\n",
            " [10.096677]\n",
            " [10.096677]\n",
            " [10.096677]\n",
            " [10.096677]\n",
            " [10.096677]\n",
            " [10.096677]\n",
            " [10.096677]\n",
            " [10.096677]\n",
            " [10.096677]\n",
            " [10.096677]\n",
            " [10.096677]\n",
            " [10.096677]\n",
            " [10.096677]\n",
            " [10.096677]\n",
            " [10.096677]\n",
            " [10.096677]\n",
            " [10.096677]\n",
            " [10.096677]\n",
            " [10.096677]\n",
            " [10.096677]\n",
            " [10.096677]\n",
            " [10.096677]\n",
            " [10.096677]\n",
            " [10.096677]\n",
            " [10.096677]\n",
            " [10.096677]\n",
            " [10.096677]\n",
            " [10.096677]\n",
            " [10.096677]\n",
            " [10.096677]\n",
            " [10.096677]\n",
            " [10.096677]\n",
            " [10.096677]\n",
            " [10.096677]\n",
            " [10.096677]\n",
            " [10.096677]\n",
            " [10.096677]\n",
            " [10.096677]\n",
            " [10.096677]\n",
            " [10.096677]\n",
            " [10.096677]\n",
            " [10.096677]\n",
            " [10.096677]\n",
            " [10.096677]\n",
            " [10.096677]\n",
            " [10.096677]\n",
            " [10.096677]\n",
            " [10.096677]\n",
            " [10.096677]\n",
            " [10.096677]\n",
            " [10.096677]\n",
            " [10.096677]\n",
            " [10.096677]\n",
            " [10.096677]\n",
            " [10.096677]\n",
            " [10.096677]\n",
            " [10.096677]\n",
            " [10.096677]\n",
            " [10.096677]\n",
            " [10.096677]\n",
            " [10.096677]\n",
            " [10.096677]\n",
            " [10.096677]\n",
            " [10.096677]\n",
            " [10.096677]\n",
            " [10.096677]\n",
            " [10.096677]\n",
            " [10.096677]\n",
            " [10.096677]\n",
            " [10.096677]\n",
            " [10.096677]\n",
            " [10.096677]\n",
            " [10.096677]\n",
            " [10.096677]\n",
            " [10.096677]\n",
            " [10.096677]\n",
            " [10.096677]\n",
            " [10.096677]\n",
            " [10.096677]\n",
            " [10.096677]\n",
            " [10.096677]\n",
            " [10.096677]\n",
            " [10.096677]\n",
            " [10.096677]\n",
            " [10.096677]]\n"
          ],
          "name": "stdout"
        }
      ]
    },
    {
      "cell_type": "code",
      "metadata": {
        "colab": {
          "base_uri": "https://localhost:8080/",
          "height": 265
        },
        "id": "84W25f5YxdPk",
        "outputId": "e808fcb3-72fa-422e-b663-fbd98342e443"
      },
      "source": [
        "plt.plot(pred_Y[:], 'o', color = 'red', label = \"Pred_Y\") # 예측 데이터\n",
        "plt.plot(test_Y[:], '+', color = 'blue', label = 'Test_Y')\n",
        "\n",
        "plt.legend()\n",
        "plt.grid()\n",
        "\n",
        "plt.show()"
      ],
      "execution_count": null,
      "outputs": [
        {
          "output_type": "display_data",
          "data": {
            "image/png": "[encoded data removed]",
            "text/plain": [
              "<Figure size 432x288 with 1 Axes>"
            ]
          },
          "metadata": {
            "tags": [],
            "needs_background": "light"
          }
        }
      ]
    },
    {
      "cell_type": "code",
      "metadata": {
        "colab": {
          "base_uri": "https://localhost:8080/"
        },
        "id": "_YGMoeq2xzdj",
        "outputId": "ede93084-3cd7-42de-9023-121268427ff1"
      },
      "source": [
        "acc = 1 - np.mean(np.abs((pred_Y - test_Y) / test_Y))\n",
        "print(\"GJ_NET_MODEL_V1 - ACC : {} %\".format(np.round(acc * 100,3)))"
      ],
      "execution_count": null,
      "outputs": [
        {
          "output_type": "stream",
          "text": [
            "GJ_NET_MODEL_V1 - ACC : 72.642 %\n"
          ],
          "name": "stdout"
        }
      ]
    },
    {
      "cell_type": "markdown",
      "metadata": {
        "id": "YZ--nppH3Tzs"
      },
      "source": [
        "#### 2번째 모델"
      ]
    },
    {
      "cell_type": "code",
      "metadata": {
        "id": "0DCrytye3VZb"
      },
      "source": [
        "GJ_NET_MODEL_V2 = tf.keras.Sequential([\n",
        "                                       tf.keras.layers.Dense(units = 1, \n",
        "                                                             input_shape = (10,))\n",
        "])"
      ],
      "execution_count": null,
      "outputs": []
    },
    {
      "cell_type": "code",
      "metadata": {
        "colab": {
          "base_uri": "https://localhost:8080/"
        },
        "id": "d6OQl1xe4BIE",
        "outputId": "dbe7af97-c295-404a-f821-d867c0722496"
      },
      "source": [
        "GJ_NET_MODEL_V2.summary()"
      ],
      "execution_count": null,
      "outputs": [
        {
          "output_type": "stream",
          "text": [
            "Model: \"sequential_2\"\n",
            "_________________________________________________________________\n",
            "Layer (type)                 Output Shape              Param #   \n",
            "=================================================================\n",
            "dense_8 (Dense)              (None, 1)                 11        \n",
            "=================================================================\n",
            "Total params: 11\n",
            "Trainable params: 11\n",
            "Non-trainable params: 0\n",
            "_________________________________________________________________\n"
          ],
          "name": "stdout"
        }
      ]
    },
    {
      "cell_type": "code",
      "metadata": {
        "id": "TbtciuMx3UAy"
      },
      "source": [
        "GJ_NET_MODEL_V2.compile(optimizer=tf.keras.optimizers.Adam(learning_rate=0.07),\n",
        "                        loss = 'mse',\n",
        "                        )"
      ],
      "execution_count": null,
      "outputs": []
    },
    {
      "cell_type": "code",
      "metadata": {
        "colab": {
          "base_uri": "https://localhost:8080/"
        },
        "id": "3eBw-N0T3-So",
        "outputId": "30e87e22-9c03-4074-ad06-641663c49eaf"
      },
      "source": [
        "history_2 = GJ_NET_MODEL_V2.fit(train_X, train_Y,\n",
        "                                epochs = 200, batch_size = 32,\n",
        "                                validation_split = 0.2,\n",
        "                                # callbacks 조기중단\n",
        "                                callbacks = [tf.keras.callbacks.EarlyStopping(monitor='val_loss',\n",
        "                                                                              patience = 5)]) "
      ],
      "execution_count": null,
      "outputs": [
        {
          "output_type": "stream",
          "text": [
            "Epoch 1/200\n",
            "84/84 [==============================] - 0s 2ms/step - loss: 61.8362 - val_loss: 26.7437\n",
            "Epoch 2/200\n",
            "84/84 [==============================] - 0s 1ms/step - loss: 15.8345 - val_loss: 6.9481\n",
            "Epoch 3/200\n",
            "84/84 [==============================] - 0s 1ms/step - loss: 6.4609 - val_loss: 4.4007\n",
            "Epoch 4/200\n",
            "84/84 [==============================] - 0s 1ms/step - loss: 5.3523 - val_loss: 4.4573\n",
            "Epoch 5/200\n",
            "84/84 [==============================] - 0s 1ms/step - loss: 5.3035 - val_loss: 4.1892\n",
            "Epoch 6/200\n",
            "84/84 [==============================] - 0s 1ms/step - loss: 5.2800 - val_loss: 4.2640\n",
            "Epoch 7/200\n",
            "84/84 [==============================] - 0s 1ms/step - loss: 5.2452 - val_loss: 4.1643\n",
            "Epoch 8/200\n",
            "84/84 [==============================] - 0s 1ms/step - loss: 5.2791 - val_loss: 4.4536\n",
            "Epoch 9/200\n",
            "84/84 [==============================] - 0s 1ms/step - loss: 5.2342 - val_loss: 4.1428\n",
            "Epoch 10/200\n",
            "84/84 [==============================] - 0s 1ms/step - loss: 5.2260 - val_loss: 4.1562\n",
            "Epoch 11/200\n",
            "84/84 [==============================] - 0s 1ms/step - loss: 5.1987 - val_loss: 4.1587\n",
            "Epoch 12/200\n",
            "84/84 [==============================] - 0s 1ms/step - loss: 5.2591 - val_loss: 4.1889\n",
            "Epoch 13/200\n",
            "84/84 [==============================] - 0s 1ms/step - loss: 5.2931 - val_loss: 4.3354\n",
            "Epoch 14/200\n",
            "84/84 [==============================] - 0s 1ms/step - loss: 5.2045 - val_loss: 4.2818\n"
          ],
          "name": "stdout"
        }
      ]
    },
    {
      "cell_type": "code",
      "metadata": {
        "colab": {
          "base_uri": "https://localhost:8080/",
          "height": 295
        },
        "id": "3kmMggNs5Avz",
        "outputId": "ac8c4083-e4ad-46db-9ef5-efe26840367c"
      },
      "source": [
        "plt.plot(history_2.history['loss'], '--o', color = 'red', label = 'Train LOSS')\n",
        "plt.plot(history_2.history['val_loss'], '-o', color = 'blue', label = 'Val_LOSS')\n",
        "\n",
        "plt.title('GJ_NET_MODEL_V2')\n",
        "plt.xlabel('Epochs')\n",
        "plt.ylabel('Loss')\n",
        "plt.legend()\n",
        "plt.grid()\n",
        "plt.show()"
      ],
      "execution_count": null,
      "outputs": [
        {
          "output_type": "display_data",
          "data": {
            "image/png": "[encoded data removed]",
            "text/plain": [
              "<Figure size 432x288 with 1 Axes>"
            ]
          },
          "metadata": {
            "tags": [],
            "needs_background": "light"
          }
        }
      ]
    },
    {
      "cell_type": "code",
      "metadata": {
        "colab": {
          "base_uri": "https://localhost:8080/"
        },
        "id": "GaMIU7IX5e0e",
        "outputId": "f0b584a2-f79e-4850-95c6-2f6e5988e9c5"
      },
      "source": [
        "# predict\n",
        "pred_Y =GJ_NET_MODEL_V2.predict(test_X)\n",
        "print(pred_Y[:10])"
      ],
      "execution_count": null,
      "outputs": [
        {
          "output_type": "stream",
          "text": [
            "[[ 8.297011 ]\n",
            " [ 9.390346 ]\n",
            " [ 7.6265135]\n",
            " [ 9.088039 ]\n",
            " [10.119396 ]\n",
            " [ 7.5732555]\n",
            " [13.021049 ]\n",
            " [ 9.163686 ]\n",
            " [ 8.380068 ]\n",
            " [12.864763 ]]\n"
          ],
          "name": "stdout"
        }
      ]
    },
    {
      "cell_type": "code",
      "metadata": {
        "colab": {
          "base_uri": "https://localhost:8080/"
        },
        "id": "6bO4n_-K5xkJ",
        "outputId": "4eed5b66-e33f-4b66-f24c-46cbe99cb5a9"
      },
      "source": [
        "test_Y[:10]"
      ],
      "execution_count": null,
      "outputs": [
        {
          "output_type": "execute_result",
          "data": {
            "text/plain": [
              "array([[ 6.],\n",
              "       [11.],\n",
              "       [ 7.],\n",
              "       [14.],\n",
              "       [10.],\n",
              "       [ 6.],\n",
              "       [13.],\n",
              "       [10.],\n",
              "       [ 9.],\n",
              "       [11.]])"
            ]
          },
          "metadata": {
            "tags": []
          },
          "execution_count": 61
        }
      ]
    },
    {
      "cell_type": "code",
      "metadata": {
        "colab": {
          "base_uri": "https://localhost:8080/",
          "height": 265
        },
        "id": "NKel_mbP5zr3",
        "outputId": "73f35211-dab5-4acc-aaa6-f1e7c2dd61ee"
      },
      "source": [
        "plt.plot(pred_Y[:], 'o', color = 'red', label='Pred_Y')\n",
        "plt.plot(test_Y[:], '+', color = 'blue', label='Test_Y')\n",
        "\n",
        "plt.legend()\n",
        "plt.grid()\n",
        "plt.show()"
      ],
      "execution_count": null,
      "outputs": [
        {
          "output_type": "display_data",
          "data": {
            "image/png": "[encoded data removed]",
            "text/plain": [
              "<Figure size 432x288 with 1 Axes>"
            ]
          },
          "metadata": {
            "tags": [],
            "needs_background": "light"
          }
        }
      ]
    },
    {
      "cell_type": "code",
      "metadata": {
        "colab": {
          "base_uri": "https://localhost:8080/"
        },
        "id": "Gy0KDb8U6GBa",
        "outputId": "ccda6c68-058a-4f66-ac14-56c6bdd2b20c"
      },
      "source": [
        "acc = 1 - np.mean(np.abs((pred_Y - test_Y) / test_Y))\n",
        "print(\"GJ_NET_MODEL_V2 - ACC {}\".format(np.round(acc*100),2))"
      ],
      "execution_count": null,
      "outputs": [
        {
          "output_type": "stream",
          "text": [
            "GJ_NET_MODEL_V2 - ACC 83.0\n"
          ],
          "name": "stdout"
        }
      ]
    },
    {
      "cell_type": "markdown",
      "metadata": {
        "id": "AH9jfLaR7eAr"
      },
      "source": [
        "7/20"
      ]
    },
    {
      "cell_type": "code",
      "metadata": {
        "id": "4GI4hqub6nvi",
        "colab": {
          "base_uri": "https://localhost:8080/"
        },
        "outputId": "bc488a85-2e14-4522-b942-11e7b22d0822"
      },
      "source": [
        "params = GJ_NET_MODEL_V2.get_weights()\n",
        "print(parmas)"
      ],
      "execution_count": null,
      "outputs": [
        {
          "output_type": "stream",
          "text": [
            "[array([[ 0.12762856],\n",
            "       [ 0.3537215 ],\n",
            "       [-0.16342077],\n",
            "       [ 0.13394286],\n",
            "       [ 0.8534785 ],\n",
            "       [ 0.3404339 ],\n",
            "       [ 2.7911813 ],\n",
            "       [-3.7958314 ],\n",
            "       [-0.772447  ],\n",
            "       [ 1.7653527 ]], dtype=float32), array([9.974518], dtype=float32)]\n"
          ],
          "name": "stdout"
        }
      ]
    },
    {
      "cell_type": "code",
      "metadata": {
        "colab": {
          "base_uri": "https://localhost:8080/"
        },
        "id": "zl4lz23vRJoj",
        "outputId": "d7b52d75-6331-469c-feca-28f5f9b139bf"
      },
      "source": [
        "print('weight \\n', parmas[0])\n",
        "print('bias \\n', params[1])"
      ],
      "execution_count": null,
      "outputs": [
        {
          "output_type": "stream",
          "text": [
            "weight \n",
            " [[ 0.12762856]\n",
            " [ 0.3537215 ]\n",
            " [-0.16342077]\n",
            " [ 0.13394286]\n",
            " [ 0.8534785 ]\n",
            " [ 0.3404339 ]\n",
            " [ 2.7911813 ]\n",
            " [-3.7958314 ]\n",
            " [-0.772447  ]\n",
            " [ 1.7653527 ]]\n",
            "bias \n",
            " [9.974518]\n"
          ],
          "name": "stdout"
        }
      ]
    },
    {
      "cell_type": "code",
      "metadata": {
        "colab": {
          "base_uri": "https://localhost:8080/"
        },
        "id": "JmmOJcLYRVXr",
        "outputId": "dac01140-5b75-4b70-fcc7-b127ea86846f"
      },
      "source": [
        "# 모델 저장\n",
        "GJ_NET_MODEL_V2.save('my_model.')"
      ],
      "execution_count": null,
      "outputs": [
        {
          "output_type": "stream",
          "text": [
            "INFO:tensorflow:Assets written to: my_model./assets\n"
          ],
          "name": "stdout"
        }
      ]
    },
    {
      "cell_type": "code",
      "metadata": {
        "id": "VNYNf4VCRsNl"
      },
      "source": [
        "# 모델 불러오기\n",
        "load_model = tf.keras.models.load_model('/content/my_model.')"
      ],
      "execution_count": null,
      "outputs": []
    },
    {
      "cell_type": "code",
      "metadata": {
        "colab": {
          "base_uri": "https://localhost:8080/"
        },
        "id": "1GiJrYxQSChb",
        "outputId": "8fc5a20c-e7af-41e1-b1fb-9df02d43639d"
      },
      "source": [
        "# 불러온 모델 사용하기\n",
        "load_model.evaluate(test_X,test_Y)"
      ],
      "execution_count": null,
      "outputs": [
        {
          "output_type": "stream",
          "text": [
            "27/27 [==============================] - 0s 927us/step - loss: 4.7417\n"
          ],
          "name": "stdout"
        },
        {
          "output_type": "execute_result",
          "data": {
            "text/plain": [
              "4.741687774658203"
            ]
          },
          "metadata": {
            "tags": []
          },
          "execution_count": 71
        }
      ]
    },
    {
      "cell_type": "code",
      "metadata": {
        "colab": {
          "base_uri": "https://localhost:8080/"
        },
        "id": "a6POQVu3SlDt",
        "outputId": "8e2c50c7-29fa-4b18-f07d-665194e382d8"
      },
      "source": [
        "load_model.summary()"
      ],
      "execution_count": null,
      "outputs": [
        {
          "output_type": "stream",
          "text": [
            "Model: \"sequential_2\"\n",
            "_________________________________________________________________\n",
            "Layer (type)                 Output Shape              Param #   \n",
            "=================================================================\n",
            "dense_8 (Dense)              (None, 1)                 11        \n",
            "=================================================================\n",
            "Total params: 11\n",
            "Trainable params: 11\n",
            "Non-trainable params: 0\n",
            "_________________________________________________________________\n"
          ],
          "name": "stdout"
        }
      ]
    },
    {
      "cell_type": "code",
      "metadata": {
        "colab": {
          "base_uri": "https://localhost:8080/"
        },
        "id": "g0lFDydaSmEv",
        "outputId": "808349e9-bedc-4028-c045-0ca7af9e3032"
      },
      "source": [
        "pred_Y = load_model.predict(test_X)\n",
        "print(pred_Y[:10])"
      ],
      "execution_count": null,
      "outputs": [
        {
          "output_type": "stream",
          "text": [
            "[[ 8.297011 ]\n",
            " [ 9.390346 ]\n",
            " [ 7.6265135]\n",
            " [ 9.088039 ]\n",
            " [10.119396 ]\n",
            " [ 7.5732555]\n",
            " [13.021049 ]\n",
            " [ 9.163686 ]\n",
            " [ 8.380068 ]\n",
            " [12.864763 ]]\n"
          ],
          "name": "stdout"
        }
      ]
    }
  ]
}