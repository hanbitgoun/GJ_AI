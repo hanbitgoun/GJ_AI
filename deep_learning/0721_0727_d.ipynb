{
  "nbformat": 4,
  "nbformat_minor": 0,
  "metadata": {
    "colab": {
      "name": "0721-0727_d.ipynb",
      "provenance": [],
      "collapsed_sections": [],
      "authorship_tag": "ABX9TyM3mgVCDwDtPGFsgzPEmhPP",
      "include_colab_link": true
    },
    "kernelspec": {
      "name": "python3",
      "display_name": "Python 3"
    },
    "language_info": {
      "name": "python"
    }
  },
  "cells": [
    {
      "cell_type": "markdown",
      "metadata": {
        "id": "view-in-github",
        "colab_type": "text"
      },
      "source": [
        "<a href=\"https://colab.research.google.com/github/hanbitgoun/GJ_AI/blob/main/deep_learning/0721_0727_d.ipynb\" target=\"_parent\"><img src=\"https://colab.research.google.com/assets/colab-badge.svg\" alt=\"Open In Colab\"/></a>"
      ]
    },
    {
      "cell_type": "code",
      "metadata": {
        "id": "qJxD3AqHjtAS"
      },
      "source": [
        "import pandas as pd"
      ],
      "execution_count": null,
      "outputs": []
    },
    {
      "cell_type": "code",
      "metadata": {
        "colab": {
          "base_uri": "https://localhost:8080/"
        },
        "id": "cIZ75OZVkRX0",
        "outputId": "19abe751-4686-4214-8f4f-8c6355ce48d0"
      },
      "source": [
        "df = pd.read_csv('/content/abalone_mini.csv')\n",
        "df.info()"
      ],
      "execution_count": null,
      "outputs": [
        {
          "output_type": "stream",
          "text": [
            "<class 'pandas.core.frame.DataFrame'>\n",
            "RangeIndex: 4 entries, 0 to 3\n",
            "Data columns (total 9 columns):\n",
            " #   Column  Non-Null Count  Dtype  \n",
            "---  ------  --------------  -----  \n",
            " 0   M       4 non-null      object \n",
            " 1   0.455   4 non-null      float64\n",
            " 2   0.365   4 non-null      float64\n",
            " 3   0.095   4 non-null      float64\n",
            " 4   0.514   4 non-null      float64\n",
            " 5   0.2245  4 non-null      float64\n",
            " 6   0.101   4 non-null      float64\n",
            " 7   0.15    4 non-null      float64\n",
            " 8   15      4 non-null      int64  \n",
            "dtypes: float64(7), int64(1), object(1)\n",
            "memory usage: 416.0+ bytes\n"
          ],
          "name": "stdout"
        }
      ]
    },
    {
      "cell_type": "code",
      "metadata": {
        "colab": {
          "base_uri": "https://localhost:8080/"
        },
        "id": "8Zd2Kek2x7tt",
        "outputId": "434c458a-199d-4b46-a143-a333c3f3f392"
      },
      "source": [
        "from google.colab import drive\n",
        "drive.mount('/content/drive')"
      ],
      "execution_count": null,
      "outputs": [
        {
          "output_type": "stream",
          "text": [
            "Mounted at /content/drive\n"
          ],
          "name": "stdout"
        }
      ]
    },
    {
      "cell_type": "markdown",
      "metadata": {
        "id": "QniVnExClWK3"
      },
      "source": [
        "데이터 불러오기\n",
        "\n",
        "데이터 분할하기 \n",
        "\n",
        "파라미터 생성하기 \n",
        "\n",
        "신경망 연산하기 \n",
        "\n",
        "역전파 연산하기 \n",
        "\n",
        "성능 확인하기 "
      ]
    },
    {
      "cell_type": "code",
      "metadata": {
        "id": "YxJMtrlnkXxA"
      },
      "source": [
        "def main_execute(epoch_count = 10, mb_size = 2, report = 2, train_ratio = 0.8):\n",
        "  load_dataset()\n",
        "  weight_initial, bias_initial = init_param()\n",
        "  losses_mean_row, accs_mean_row, final_acc = train_and_test(epoch_count, mb_size, report, train_ratio)\n",
        "  \n",
        "  return weight_initial, bias_initial, losses_mean_row, accs_mean_row, final_acc"
      ],
      "execution_count": null,
      "outputs": []
    },
    {
      "cell_type": "code",
      "metadata": {
        "id": "NhZb4Z0QnuKl"
      },
      "source": [
        "# 데이터 로드 & 원핫벡터 처리\n",
        "def load_dataset():\n",
        "  with open('/content/abalone.csv' ) as csvfile:\n",
        "    csvreader = csv.reader(csvfile)\n",
        "    next(csvreader)\n",
        "    rows = []  \n",
        "    for row in csvreader:\n",
        "      rows.append(row)\n",
        "  \n",
        "  global data, input_cnt, output_cnt\n",
        "  \n",
        "  input_cnt, output_cnt = 10, 1\n",
        "  data = np.zeros( [len(rows),input_cnt + output_cnt] )\n",
        "\n",
        "  for n, row in enumerate(rows):\n",
        "    if row[0] == 'M': data[n, 0] = 1\n",
        "    if row[0] == 'F': data[n, 1] = 1\n",
        "    if row[0] == 'I': data[n, 2] = 1\n",
        "    data[n, 3:] = row[1:]  "
      ],
      "execution_count": null,
      "outputs": []
    },
    {
      "cell_type": "code",
      "metadata": {
        "id": "O4kgU1owq1mi"
      },
      "source": [
        "%run /content/MathUtils.ipynb\n",
        "load_dataset()"
      ],
      "execution_count": null,
      "outputs": []
    },
    {
      "cell_type": "code",
      "metadata": {
        "colab": {
          "base_uri": "https://localhost:8080/"
        },
        "id": "lZUsRYoDrtnl",
        "outputId": "6099b01c-f78b-4579-b4d0-ab6e35b81f05"
      },
      "source": [
        "print(data)"
      ],
      "execution_count": null,
      "outputs": [
        {
          "output_type": "stream",
          "text": [
            "[[ 1.      0.      0.     ...  0.101   0.15   15.    ]\n",
            " [ 1.      0.      0.     ...  0.0485  0.07    7.    ]\n",
            " [ 0.      1.      0.     ...  0.1415  0.21    9.    ]\n",
            " ...\n",
            " [ 1.      0.      0.     ...  0.2875  0.308   9.    ]\n",
            " [ 0.      1.      0.     ...  0.261   0.296  10.    ]\n",
            " [ 1.      0.      0.     ...  0.3765  0.495  12.    ]]\n"
          ],
          "name": "stdout"
        }
      ]
    },
    {
      "cell_type": "code",
      "metadata": {
        "id": "cwEf9OGzrvBI"
      },
      "source": [
        "# 가중치와 편향 설정\n",
        "def init_param():\n",
        "  global weight, bias\n",
        "\n",
        "  weight_initial = []\n",
        "  bias_initial = []\n",
        "  weight = np.random.normal(RND_MEAN, RND_STD, size=[input_cnt, output_cnt])\n",
        "  bias = np.zeros([output_cnt]) # np.zeros 쓰는 이유 : bias 값에 많은영향 따라서 초기값 0으로 설정\n",
        "  print('initial Weight Value : \\n{} '.format(weight))\n",
        "  print('Initial Bias Value : \\n{} '.format(bias))\n",
        "\n",
        "  weight_initial.append(weight)\n",
        "  bias_initial.append(bias)\n",
        "\n",
        "  return weight_initial, bias_initial"
      ],
      "execution_count": null,
      "outputs": []
    },
    {
      "cell_type": "code",
      "metadata": {
        "colab": {
          "base_uri": "https://localhost:8080/"
        },
        "id": "_SYtZp3HtJSK",
        "outputId": "f24de4dc-6e0c-4598-cf2b-3b7aba2d4cf3"
      },
      "source": [
        "weight_initial, bias_initial = init_param()"
      ],
      "execution_count": null,
      "outputs": [
        {
          "output_type": "stream",
          "text": [
            "initial Weight Value : \n",
            "[[-0.04572553]\n",
            " [-0.02540183]\n",
            " [ 0.04501336]\n",
            " [ 0.02834907]\n",
            " [-0.02457969]\n",
            " [ 0.03824517]\n",
            " [-0.00993385]\n",
            " [-0.05345577]\n",
            " [ 0.03465681]\n",
            " [ 0.00118109]] \n",
            "Initial Bias Value : \n",
            "[0.] \n"
          ],
          "name": "stdout"
        }
      ]
    },
    {
      "cell_type": "code",
      "metadata": {
        "id": "gdQQyyoHtR02"
      },
      "source": [
        "def train_and_test():\n",
        "  pass"
      ],
      "execution_count": null,
      "outputs": []
    },
    {
      "cell_type": "code",
      "metadata": {
        "id": "VaCEqpAtt_-1"
      },
      "source": [
        "# 데이터 셔플, mini_batch_step_count & test_idx 반환\n",
        "def arrange_data(mb_size, train_ratio):\n",
        "  global shuffle_map, test_begin_index\n",
        "\n",
        "  shuffle_map = np.arange(data.shape[0])\n",
        "  np.random.shuffle(shuffle_map)\n",
        "\n",
        "  mini_batch_step_count = int(data.shape[0] * train_ratio) // mb_size\n",
        "  test_begin_index = mini_batch_step_count * mb_size\n",
        "\n",
        "  return mini_batch_step_count"
      ],
      "execution_count": null,
      "outputs": []
    },
    {
      "cell_type": "code",
      "metadata": {
        "id": "Nd4Gsw_pywKt"
      },
      "source": [
        "mini_batch_step_count = arrange_data(mb_size = 2, train_ratio = 0.8)"
      ],
      "execution_count": null,
      "outputs": []
    },
    {
      "cell_type": "code",
      "metadata": {
        "colab": {
          "base_uri": "https://localhost:8080/"
        },
        "id": "0tjnEqKo0A-8",
        "outputId": "69e02322-9787-4bf9-fa2a-1727110bdd71"
      },
      "source": [
        "print(\"mini_batch_step_count :\", mini_batch_step_count)\n",
        "print(\"shuffle_map :\", shuffle_map[:3])\n",
        "print(\"test_begin_index : \", test_begin_index)"
      ],
      "execution_count": null,
      "outputs": [
        {
          "output_type": "stream",
          "text": [
            "mini_batch_step_count : 1670\n",
            "shuffle_map : [2630 3675 3669]\n",
            "test_begin_index :  3340\n"
          ],
          "name": "stdout"
        }
      ]
    },
    {
      "cell_type": "code",
      "metadata": {
        "id": "pd1HY_Kl0BT-"
      },
      "source": [
        "def get_test_data():\n",
        "  # shuffle된 index로 test_data 분할\n",
        "  test_data = data[shuffle_map[ test_begin_index: ] ] \n",
        "  return test_data[:, :-output_cnt], test_data[:, -output_cnt:]                 "
      ],
      "execution_count": null,
      "outputs": []
    },
    {
      "cell_type": "code",
      "metadata": {
        "colab": {
          "base_uri": "https://localhost:8080/"
        },
        "id": "WsiULTGP0gDg",
        "outputId": "842df7a3-6f6b-498b-c96a-6e730c7cfa1e"
      },
      "source": [
        "test_x, test_y = get_test_data()\n",
        "print(test_x)\n",
        "print(\"============================\")\n",
        "print(test_y)"
      ],
      "execution_count": null,
      "outputs": [
        {
          "output_type": "stream",
          "text": [
            "[[0.     1.     0.     ... 0.186  0.11   0.145 ]\n",
            " [0.     1.     0.     ... 0.3005 0.131  0.15  ]\n",
            " [0.     1.     0.     ... 0.281  0.117  0.1335]\n",
            " ...\n",
            " [0.     1.     0.     ... 0.1945 0.103  0.155 ]\n",
            " [0.     1.     0.     ... 0.643  0.2465 0.416 ]\n",
            " [1.     0.     0.     ... 0.4375 0.196  0.325 ]]\n",
            "============================\n",
            "[[10.]\n",
            " [ 6.]\n",
            " [ 7.]\n",
            " [11.]\n",
            " [15.]\n",
            " [12.]\n",
            " [11.]\n",
            " [10.]\n",
            " [ 8.]\n",
            " [ 3.]\n",
            " [15.]\n",
            " [13.]\n",
            " [ 6.]\n",
            " [10.]\n",
            " [14.]\n",
            " [ 8.]\n",
            " [13.]\n",
            " [13.]\n",
            " [ 8.]\n",
            " [ 8.]\n",
            " [ 9.]\n",
            " [15.]\n",
            " [11.]\n",
            " [ 9.]\n",
            " [11.]\n",
            " [ 7.]\n",
            " [12.]\n",
            " [10.]\n",
            " [13.]\n",
            " [ 9.]\n",
            " [ 7.]\n",
            " [13.]\n",
            " [ 7.]\n",
            " [ 7.]\n",
            " [ 9.]\n",
            " [ 6.]\n",
            " [11.]\n",
            " [12.]\n",
            " [10.]\n",
            " [10.]\n",
            " [10.]\n",
            " [ 9.]\n",
            " [ 7.]\n",
            " [ 8.]\n",
            " [ 7.]\n",
            " [ 6.]\n",
            " [14.]\n",
            " [ 8.]\n",
            " [ 7.]\n",
            " [ 8.]\n",
            " [ 9.]\n",
            " [16.]\n",
            " [ 7.]\n",
            " [ 8.]\n",
            " [10.]\n",
            " [ 5.]\n",
            " [11.]\n",
            " [11.]\n",
            " [ 7.]\n",
            " [20.]\n",
            " [ 8.]\n",
            " [ 6.]\n",
            " [11.]\n",
            " [10.]\n",
            " [ 8.]\n",
            " [13.]\n",
            " [21.]\n",
            " [11.]\n",
            " [ 9.]\n",
            " [ 8.]\n",
            " [ 8.]\n",
            " [ 8.]\n",
            " [22.]\n",
            " [13.]\n",
            " [13.]\n",
            " [12.]\n",
            " [ 7.]\n",
            " [10.]\n",
            " [ 8.]\n",
            " [10.]\n",
            " [ 6.]\n",
            " [ 7.]\n",
            " [ 8.]\n",
            " [13.]\n",
            " [12.]\n",
            " [12.]\n",
            " [11.]\n",
            " [12.]\n",
            " [14.]\n",
            " [11.]\n",
            " [ 9.]\n",
            " [ 8.]\n",
            " [10.]\n",
            " [17.]\n",
            " [20.]\n",
            " [14.]\n",
            " [ 8.]\n",
            " [ 8.]\n",
            " [ 4.]\n",
            " [11.]\n",
            " [11.]\n",
            " [14.]\n",
            " [11.]\n",
            " [ 7.]\n",
            " [ 8.]\n",
            " [ 9.]\n",
            " [11.]\n",
            " [14.]\n",
            " [10.]\n",
            " [11.]\n",
            " [ 9.]\n",
            " [ 9.]\n",
            " [10.]\n",
            " [11.]\n",
            " [11.]\n",
            " [ 7.]\n",
            " [11.]\n",
            " [ 9.]\n",
            " [15.]\n",
            " [ 8.]\n",
            " [10.]\n",
            " [ 9.]\n",
            " [11.]\n",
            " [12.]\n",
            " [11.]\n",
            " [15.]\n",
            " [13.]\n",
            " [ 9.]\n",
            " [ 9.]\n",
            " [13.]\n",
            " [11.]\n",
            " [23.]\n",
            " [ 8.]\n",
            " [ 8.]\n",
            " [ 9.]\n",
            " [10.]\n",
            " [11.]\n",
            " [ 9.]\n",
            " [10.]\n",
            " [ 7.]\n",
            " [ 8.]\n",
            " [10.]\n",
            " [10.]\n",
            " [18.]\n",
            " [11.]\n",
            " [10.]\n",
            " [ 7.]\n",
            " [ 6.]\n",
            " [17.]\n",
            " [12.]\n",
            " [ 8.]\n",
            " [ 6.]\n",
            " [17.]\n",
            " [ 9.]\n",
            " [ 8.]\n",
            " [10.]\n",
            " [11.]\n",
            " [11.]\n",
            " [ 4.]\n",
            " [11.]\n",
            " [ 5.]\n",
            " [ 5.]\n",
            " [ 7.]\n",
            " [ 7.]\n",
            " [11.]\n",
            " [11.]\n",
            " [ 7.]\n",
            " [ 9.]\n",
            " [ 7.]\n",
            " [10.]\n",
            " [ 8.]\n",
            " [ 5.]\n",
            " [10.]\n",
            " [ 9.]\n",
            " [ 7.]\n",
            " [11.]\n",
            " [12.]\n",
            " [10.]\n",
            " [10.]\n",
            " [ 7.]\n",
            " [ 6.]\n",
            " [19.]\n",
            " [17.]\n",
            " [ 6.]\n",
            " [ 6.]\n",
            " [10.]\n",
            " [10.]\n",
            " [11.]\n",
            " [ 5.]\n",
            " [10.]\n",
            " [ 6.]\n",
            " [10.]\n",
            " [10.]\n",
            " [12.]\n",
            " [10.]\n",
            " [ 9.]\n",
            " [ 7.]\n",
            " [ 9.]\n",
            " [12.]\n",
            " [ 7.]\n",
            " [10.]\n",
            " [11.]\n",
            " [10.]\n",
            " [10.]\n",
            " [11.]\n",
            " [ 7.]\n",
            " [10.]\n",
            " [ 6.]\n",
            " [11.]\n",
            " [ 9.]\n",
            " [ 9.]\n",
            " [ 5.]\n",
            " [10.]\n",
            " [12.]\n",
            " [12.]\n",
            " [ 8.]\n",
            " [10.]\n",
            " [12.]\n",
            " [ 9.]\n",
            " [ 9.]\n",
            " [ 8.]\n",
            " [10.]\n",
            " [15.]\n",
            " [ 8.]\n",
            " [ 9.]\n",
            " [10.]\n",
            " [ 6.]\n",
            " [15.]\n",
            " [ 7.]\n",
            " [ 8.]\n",
            " [10.]\n",
            " [ 9.]\n",
            " [12.]\n",
            " [ 7.]\n",
            " [ 5.]\n",
            " [12.]\n",
            " [ 9.]\n",
            " [13.]\n",
            " [ 6.]\n",
            " [ 8.]\n",
            " [11.]\n",
            " [ 9.]\n",
            " [10.]\n",
            " [14.]\n",
            " [10.]\n",
            " [ 7.]\n",
            " [ 8.]\n",
            " [ 9.]\n",
            " [17.]\n",
            " [ 7.]\n",
            " [ 9.]\n",
            " [11.]\n",
            " [19.]\n",
            " [10.]\n",
            " [ 8.]\n",
            " [10.]\n",
            " [ 7.]\n",
            " [11.]\n",
            " [13.]\n",
            " [10.]\n",
            " [10.]\n",
            " [ 8.]\n",
            " [13.]\n",
            " [ 9.]\n",
            " [11.]\n",
            " [ 7.]\n",
            " [ 7.]\n",
            " [ 6.]\n",
            " [ 9.]\n",
            " [ 9.]\n",
            " [15.]\n",
            " [ 8.]\n",
            " [ 9.]\n",
            " [ 7.]\n",
            " [ 5.]\n",
            " [ 6.]\n",
            " [15.]\n",
            " [ 9.]\n",
            " [ 6.]\n",
            " [12.]\n",
            " [14.]\n",
            " [ 9.]\n",
            " [ 9.]\n",
            " [ 9.]\n",
            " [ 3.]\n",
            " [ 7.]\n",
            " [10.]\n",
            " [11.]\n",
            " [20.]\n",
            " [11.]\n",
            " [10.]\n",
            " [10.]\n",
            " [20.]\n",
            " [13.]\n",
            " [ 8.]\n",
            " [10.]\n",
            " [14.]\n",
            " [ 7.]\n",
            " [20.]\n",
            " [11.]\n",
            " [13.]\n",
            " [ 8.]\n",
            " [10.]\n",
            " [11.]\n",
            " [ 9.]\n",
            " [ 8.]\n",
            " [ 8.]\n",
            " [ 7.]\n",
            " [ 9.]\n",
            " [ 9.]\n",
            " [12.]\n",
            " [ 6.]\n",
            " [12.]\n",
            " [ 5.]\n",
            " [13.]\n",
            " [10.]\n",
            " [11.]\n",
            " [10.]\n",
            " [12.]\n",
            " [ 6.]\n",
            " [10.]\n",
            " [10.]\n",
            " [ 9.]\n",
            " [ 4.]\n",
            " [ 8.]\n",
            " [ 7.]\n",
            " [11.]\n",
            " [ 8.]\n",
            " [12.]\n",
            " [12.]\n",
            " [11.]\n",
            " [ 6.]\n",
            " [ 7.]\n",
            " [ 6.]\n",
            " [ 9.]\n",
            " [11.]\n",
            " [12.]\n",
            " [ 7.]\n",
            " [10.]\n",
            " [11.]\n",
            " [17.]\n",
            " [ 8.]\n",
            " [10.]\n",
            " [10.]\n",
            " [ 8.]\n",
            " [ 8.]\n",
            " [11.]\n",
            " [10.]\n",
            " [12.]\n",
            " [12.]\n",
            " [10.]\n",
            " [11.]\n",
            " [ 9.]\n",
            " [ 7.]\n",
            " [11.]\n",
            " [14.]\n",
            " [ 9.]\n",
            " [12.]\n",
            " [13.]\n",
            " [ 9.]\n",
            " [ 7.]\n",
            " [10.]\n",
            " [ 6.]\n",
            " [10.]\n",
            " [14.]\n",
            " [21.]\n",
            " [ 9.]\n",
            " [11.]\n",
            " [ 9.]\n",
            " [ 8.]\n",
            " [10.]\n",
            " [ 9.]\n",
            " [ 7.]\n",
            " [ 5.]\n",
            " [10.]\n",
            " [ 9.]\n",
            " [10.]\n",
            " [11.]\n",
            " [12.]\n",
            " [10.]\n",
            " [ 8.]\n",
            " [ 7.]\n",
            " [11.]\n",
            " [ 8.]\n",
            " [ 8.]\n",
            " [ 8.]\n",
            " [ 8.]\n",
            " [14.]\n",
            " [12.]\n",
            " [ 7.]\n",
            " [ 9.]\n",
            " [10.]\n",
            " [13.]\n",
            " [19.]\n",
            " [16.]\n",
            " [ 5.]\n",
            " [16.]\n",
            " [ 9.]\n",
            " [10.]\n",
            " [11.]\n",
            " [ 6.]\n",
            " [11.]\n",
            " [ 6.]\n",
            " [ 4.]\n",
            " [ 6.]\n",
            " [ 7.]\n",
            " [10.]\n",
            " [ 8.]\n",
            " [15.]\n",
            " [ 5.]\n",
            " [ 9.]\n",
            " [ 7.]\n",
            " [ 5.]\n",
            " [ 7.]\n",
            " [10.]\n",
            " [15.]\n",
            " [11.]\n",
            " [ 7.]\n",
            " [ 9.]\n",
            " [ 8.]\n",
            " [12.]\n",
            " [ 7.]\n",
            " [ 6.]\n",
            " [19.]\n",
            " [ 9.]\n",
            " [ 9.]\n",
            " [11.]\n",
            " [ 9.]\n",
            " [10.]\n",
            " [ 6.]\n",
            " [11.]\n",
            " [22.]\n",
            " [10.]\n",
            " [11.]\n",
            " [ 9.]\n",
            " [ 4.]\n",
            " [ 8.]\n",
            " [ 7.]\n",
            " [12.]\n",
            " [ 9.]\n",
            " [ 9.]\n",
            " [10.]\n",
            " [11.]\n",
            " [ 6.]\n",
            " [10.]\n",
            " [ 9.]\n",
            " [12.]\n",
            " [ 7.]\n",
            " [11.]\n",
            " [ 6.]\n",
            " [ 7.]\n",
            " [10.]\n",
            " [ 9.]\n",
            " [ 8.]\n",
            " [10.]\n",
            " [10.]\n",
            " [ 9.]\n",
            " [10.]\n",
            " [20.]\n",
            " [12.]\n",
            " [ 9.]\n",
            " [11.]\n",
            " [17.]\n",
            " [ 4.]\n",
            " [ 6.]\n",
            " [ 7.]\n",
            " [ 9.]\n",
            " [ 8.]\n",
            " [ 6.]\n",
            " [13.]\n",
            " [ 6.]\n",
            " [12.]\n",
            " [13.]\n",
            " [18.]\n",
            " [ 9.]\n",
            " [10.]\n",
            " [10.]\n",
            " [11.]\n",
            " [18.]\n",
            " [ 8.]\n",
            " [ 9.]\n",
            " [10.]\n",
            " [ 8.]\n",
            " [10.]\n",
            " [ 9.]\n",
            " [10.]\n",
            " [ 9.]\n",
            " [ 7.]\n",
            " [12.]\n",
            " [ 8.]\n",
            " [22.]\n",
            " [ 7.]\n",
            " [ 8.]\n",
            " [ 9.]\n",
            " [14.]\n",
            " [ 6.]\n",
            " [11.]\n",
            " [ 7.]\n",
            " [11.]\n",
            " [ 8.]\n",
            " [27.]\n",
            " [10.]\n",
            " [ 9.]\n",
            " [11.]\n",
            " [ 7.]\n",
            " [10.]\n",
            " [ 9.]\n",
            " [ 6.]\n",
            " [10.]\n",
            " [12.]\n",
            " [ 8.]\n",
            " [11.]\n",
            " [ 8.]\n",
            " [ 8.]\n",
            " [ 9.]\n",
            " [ 7.]\n",
            " [ 9.]\n",
            " [12.]\n",
            " [ 6.]\n",
            " [ 9.]\n",
            " [ 8.]\n",
            " [13.]\n",
            " [11.]\n",
            " [ 9.]\n",
            " [ 9.]\n",
            " [ 9.]\n",
            " [ 7.]\n",
            " [ 6.]\n",
            " [14.]\n",
            " [ 8.]\n",
            " [ 5.]\n",
            " [ 6.]\n",
            " [ 7.]\n",
            " [ 5.]\n",
            " [ 7.]\n",
            " [11.]\n",
            " [ 8.]\n",
            " [ 8.]\n",
            " [12.]\n",
            " [ 7.]\n",
            " [15.]\n",
            " [10.]\n",
            " [ 8.]\n",
            " [16.]\n",
            " [10.]\n",
            " [19.]\n",
            " [ 7.]\n",
            " [ 8.]\n",
            " [ 9.]\n",
            " [ 9.]\n",
            " [12.]\n",
            " [11.]\n",
            " [ 9.]\n",
            " [ 9.]\n",
            " [ 9.]\n",
            " [13.]\n",
            " [ 6.]\n",
            " [12.]\n",
            " [ 6.]\n",
            " [10.]\n",
            " [ 8.]\n",
            " [ 7.]\n",
            " [ 7.]\n",
            " [10.]\n",
            " [ 9.]\n",
            " [ 5.]\n",
            " [ 5.]\n",
            " [12.]\n",
            " [ 9.]\n",
            " [ 7.]\n",
            " [ 9.]\n",
            " [ 8.]\n",
            " [12.]\n",
            " [ 9.]\n",
            " [10.]\n",
            " [10.]\n",
            " [10.]\n",
            " [17.]\n",
            " [14.]\n",
            " [ 6.]\n",
            " [11.]\n",
            " [15.]\n",
            " [12.]\n",
            " [11.]\n",
            " [ 8.]\n",
            " [10.]\n",
            " [11.]\n",
            " [ 7.]\n",
            " [ 9.]\n",
            " [10.]\n",
            " [ 6.]\n",
            " [ 7.]\n",
            " [ 7.]\n",
            " [11.]\n",
            " [14.]\n",
            " [14.]\n",
            " [13.]\n",
            " [25.]\n",
            " [ 5.]\n",
            " [11.]\n",
            " [ 9.]\n",
            " [11.]\n",
            " [ 8.]\n",
            " [12.]\n",
            " [ 5.]\n",
            " [ 8.]\n",
            " [ 9.]\n",
            " [10.]\n",
            " [ 8.]\n",
            " [10.]\n",
            " [ 9.]\n",
            " [ 7.]\n",
            " [ 6.]\n",
            " [10.]\n",
            " [ 5.]\n",
            " [13.]\n",
            " [ 8.]\n",
            " [10.]\n",
            " [ 8.]\n",
            " [10.]\n",
            " [ 6.]\n",
            " [ 8.]\n",
            " [ 5.]\n",
            " [17.]\n",
            " [16.]\n",
            " [11.]\n",
            " [ 6.]\n",
            " [17.]\n",
            " [ 6.]\n",
            " [ 8.]\n",
            " [ 8.]\n",
            " [ 9.]\n",
            " [ 9.]\n",
            " [ 9.]\n",
            " [ 9.]\n",
            " [11.]\n",
            " [ 9.]\n",
            " [13.]\n",
            " [12.]\n",
            " [ 9.]\n",
            " [ 9.]\n",
            " [11.]\n",
            " [11.]\n",
            " [10.]\n",
            " [10.]\n",
            " [13.]\n",
            " [11.]\n",
            " [ 7.]\n",
            " [ 6.]\n",
            " [ 8.]\n",
            " [10.]\n",
            " [ 6.]\n",
            " [11.]\n",
            " [ 9.]\n",
            " [11.]\n",
            " [ 4.]\n",
            " [13.]\n",
            " [12.]\n",
            " [23.]\n",
            " [ 9.]\n",
            " [ 7.]\n",
            " [ 9.]\n",
            " [10.]\n",
            " [ 6.]\n",
            " [ 9.]\n",
            " [ 9.]\n",
            " [ 7.]\n",
            " [ 5.]\n",
            " [ 9.]\n",
            " [10.]\n",
            " [10.]\n",
            " [11.]\n",
            " [12.]\n",
            " [ 9.]\n",
            " [ 9.]\n",
            " [10.]\n",
            " [ 6.]\n",
            " [ 9.]\n",
            " [ 9.]\n",
            " [14.]\n",
            " [ 9.]\n",
            " [10.]\n",
            " [ 8.]\n",
            " [ 4.]\n",
            " [10.]\n",
            " [ 9.]\n",
            " [ 5.]\n",
            " [ 9.]\n",
            " [10.]\n",
            " [10.]\n",
            " [ 7.]\n",
            " [11.]\n",
            " [ 9.]\n",
            " [11.]\n",
            " [10.]\n",
            " [ 4.]\n",
            " [ 8.]\n",
            " [10.]\n",
            " [ 7.]\n",
            " [10.]\n",
            " [ 9.]\n",
            " [ 9.]\n",
            " [13.]\n",
            " [ 9.]\n",
            " [10.]\n",
            " [ 5.]\n",
            " [ 9.]\n",
            " [10.]\n",
            " [ 9.]\n",
            " [ 8.]\n",
            " [ 4.]\n",
            " [10.]\n",
            " [ 7.]\n",
            " [17.]\n",
            " [16.]\n",
            " [ 9.]\n",
            " [ 6.]\n",
            " [ 9.]\n",
            " [ 7.]\n",
            " [ 3.]\n",
            " [10.]\n",
            " [10.]\n",
            " [10.]\n",
            " [ 9.]\n",
            " [10.]\n",
            " [10.]\n",
            " [10.]\n",
            " [11.]\n",
            " [ 9.]\n",
            " [ 7.]\n",
            " [ 4.]\n",
            " [10.]\n",
            " [10.]\n",
            " [10.]\n",
            " [ 6.]\n",
            " [ 9.]\n",
            " [15.]\n",
            " [ 9.]\n",
            " [10.]\n",
            " [ 9.]\n",
            " [ 8.]\n",
            " [11.]\n",
            " [15.]\n",
            " [10.]\n",
            " [10.]\n",
            " [ 6.]\n",
            " [10.]\n",
            " [10.]\n",
            " [ 5.]\n",
            " [ 7.]\n",
            " [13.]\n",
            " [10.]\n",
            " [ 4.]\n",
            " [ 8.]\n",
            " [11.]\n",
            " [ 4.]\n",
            " [11.]\n",
            " [ 4.]\n",
            " [ 6.]\n",
            " [ 7.]\n",
            " [ 8.]\n",
            " [ 8.]\n",
            " [15.]\n",
            " [ 9.]\n",
            " [11.]\n",
            " [ 6.]\n",
            " [ 9.]\n",
            " [20.]\n",
            " [ 8.]\n",
            " [ 9.]\n",
            " [11.]\n",
            " [12.]\n",
            " [ 9.]\n",
            " [ 9.]\n",
            " [14.]\n",
            " [ 8.]\n",
            " [17.]\n",
            " [ 6.]\n",
            " [10.]\n",
            " [ 9.]\n",
            " [12.]\n",
            " [11.]\n",
            " [11.]\n",
            " [ 8.]\n",
            " [ 9.]\n",
            " [10.]\n",
            " [ 9.]\n",
            " [ 8.]\n",
            " [21.]\n",
            " [16.]\n",
            " [ 9.]\n",
            " [11.]\n",
            " [ 9.]\n",
            " [11.]\n",
            " [ 9.]\n",
            " [ 9.]\n",
            " [ 8.]\n",
            " [ 9.]\n",
            " [ 8.]\n",
            " [12.]\n",
            " [10.]\n",
            " [ 7.]\n",
            " [11.]\n",
            " [14.]\n",
            " [ 8.]\n",
            " [10.]\n",
            " [ 7.]\n",
            " [20.]\n",
            " [24.]\n",
            " [16.]\n",
            " [11.]\n",
            " [17.]\n",
            " [ 9.]\n",
            " [ 7.]\n",
            " [ 8.]\n",
            " [ 9.]\n",
            " [11.]\n",
            " [ 6.]\n",
            " [10.]\n",
            " [ 9.]\n",
            " [13.]\n",
            " [ 8.]\n",
            " [ 6.]\n",
            " [ 9.]\n",
            " [18.]\n",
            " [10.]\n",
            " [ 6.]\n",
            " [ 8.]\n",
            " [14.]\n",
            " [ 6.]\n",
            " [ 7.]\n",
            " [ 8.]\n",
            " [14.]\n",
            " [ 9.]\n",
            " [18.]\n",
            " [12.]\n",
            " [20.]]\n"
          ],
          "name": "stdout"
        }
      ]
    },
    {
      "cell_type": "code",
      "metadata": {
        "id": "8gDMcMvg0oB-"
      },
      "source": [
        "def get_train_data(mb_size, n):\n",
        "    if n == 0 :\n",
        "        np.random.shuffle(shuffle_map[:test_begin_index])\n",
        "\n",
        "    train_data = data[shuffle_map[mb_size * n : mb_size * (n+1)]]\n",
        "\n",
        "    return train_data[:, : -output_cnt], train_data[:, -output_cnt : ]"
      ],
      "execution_count": null,
      "outputs": []
    },
    {
      "cell_type": "code",
      "metadata": {
        "colab": {
          "base_uri": "https://localhost:8080/"
        },
        "id": "2fzEw6Py3WF5",
        "outputId": "4958eeee-f455-4539-8ab4-7743194d8ee3"
      },
      "source": [
        "train_x, train_y = get_train_data(mb_size = 2 , n = 0)\n",
        "print(train_x)\n",
        "print(\"========================\")\n",
        "print(train_y)"
      ],
      "execution_count": null,
      "outputs": [
        {
          "output_type": "stream",
          "text": [
            "[[1.     0.     0.     0.615  0.49   0.17   1.145  0.4915 0.208  0.343 ]\n",
            " [1.     0.     0.     0.61   0.48   0.15   1.1495 0.564  0.274  0.264 ]]\n",
            "========================\n",
            "[[13.]\n",
            " [ 8.]]\n"
          ],
          "name": "stdout"
        }
      ]
    },
    {
      "cell_type": "code",
      "metadata": {
        "id": "AHHDCU9I2R3-"
      },
      "source": [
        "mb_size = 2\n",
        "\n",
        "train_data_mini_1 = data[shuffle_map[ 0 : 2 ]]\n",
        "train_data_mini_2 = data[shuffle_map[ 2 : 4 ]]\n",
        "train_data_mini_3 = data[shuffle_map[ 4 : 6 ]]\n",
        "train_data_mini_4 = data[shuffle_map[ 6 : 8 ]]\n",
        "\n",
        "train_data_mini_n = data[shuffle_map[ mb_size * 0 : mb_size * (0+1)]]\n",
        "train_data_mini_n = data[shuffle_map[ mb_size * 1 : mb_size * (1+1)]]\n",
        "train_data_mini_n = data[shuffle_map[ mb_size * 2 : mb_size * (2+1)]]\n",
        "train_data_mini_n = data[shuffle_map[ mb_size * 3 : mb_size * (3+1)]]\n",
        "\n",
        "#train_data_mini_n = data[shuffle_map[ mb_size * n : mb_size * (n+1)]]"
      ],
      "execution_count": null,
      "outputs": []
    },
    {
      "cell_type": "code",
      "metadata": {
        "colab": {
          "base_uri": "https://localhost:8080/"
        },
        "id": "jT7gkmKK2ScZ",
        "outputId": "a6420c2c-70a0-4214-9e07-896b1b8d8979"
      },
      "source": [
        "def run_train(x, y):\n",
        "    loss = 0\n",
        "    accuracy = 100\n",
        "    return loss, accuracy\n",
        "\n",
        "run_train(0,0)"
      ],
      "execution_count": null,
      "outputs": [
        {
          "output_type": "execute_result",
          "data": {
            "text/plain": [
              "(0, 100)"
            ]
          },
          "metadata": {
            "tags": []
          },
          "execution_count": 22
        }
      ]
    },
    {
      "cell_type": "code",
      "metadata": {
        "colab": {
          "base_uri": "https://localhost:8080/"
        },
        "id": "v2KuxEZR4yxp",
        "outputId": "4608ffe2-c1cc-480b-d46b-63b1e9c67fb7"
      },
      "source": [
        "def run_test(x, y):\n",
        "    accuracy = 95\n",
        "    return accuracy\n",
        "\n",
        "run_test(0,0)"
      ],
      "execution_count": null,
      "outputs": [
        {
          "output_type": "execute_result",
          "data": {
            "text/plain": [
              "95"
            ]
          },
          "metadata": {
            "tags": []
          },
          "execution_count": 23
        }
      ]
    },
    {
      "cell_type": "markdown",
      "metadata": {
        "id": "sVE4QtjcxGzT"
      },
      "source": [
        "#### 07_23"
      ]
    },
    {
      "cell_type": "code",
      "metadata": {
        "id": "Tr6W2f-u4zqH"
      },
      "source": [
        "def train_and_test(epoch_count, mb_size, report, train_ratio):\n",
        "    mini_batch_step_count = arrange_data(mb_size, train_ratio)\n",
        "\n",
        "    test_x, test_y = get_test_data()\n",
        "    losses_mean_row, accs_mean_row = [], []\n",
        "\n",
        "    for epoch in range(epoch_count):\n",
        "        losses = []\n",
        "        accs   = []\n",
        "        for n in range(mini_batch_step_count):\n",
        "            train_x ,train_y = get_train_data(mb_size, n)\n",
        "            loss, acc = run_train(train_x, train_y)\n",
        "            losses.append(loss)\n",
        "            accs.append(acc)\n",
        "        \n",
        "        if report > 0 and (epoch + 1) % report == 0:\n",
        "            acc = run_test(test_x, test_y)\n",
        "            print(\"Epoch {} : Train - Loss = {:.3f}, Accuracy = {:.3f} / Test - Accuracy = {:.3f}\".\\\n",
        "                  format(epoch + 1, np.mean(losses), np.mean(accs), acc))\n",
        "            \n",
        "        losses_mean = np.mean(losses)\n",
        "        accs_mean   = np.mean(accs) * 100\n",
        "\n",
        "        losses_mean_row.append(losses_mean)\n",
        "        accs_mean_row.append(accs_mean)\n",
        "\n",
        "    final_acc = run_test(test_x, test_y)\n",
        "    print(\"=\"*30, \"Final TEST\", \"=\"*30)\n",
        "    print(\"\\nFinal Accuracy : {}\".format(final_acc))\n",
        "\n",
        "    return losses_mean_row, accs_mean_row, final_acc"
      ],
      "execution_count": null,
      "outputs": []
    },
    {
      "cell_type": "code",
      "metadata": {
        "colab": {
          "base_uri": "https://localhost:8080/"
        },
        "id": "g3oEKbdsnzsO",
        "outputId": "de5340dd-02a9-48d0-ccee-89ea4f9707c1"
      },
      "source": [
        "losses_mean_row, accs_mean_row, final_acc = train_and_test(epoch_count = 10,\n",
        "                                                           mb_size = 2, \n",
        "                                                           report = 1, \n",
        "                                                           train_ratio = 0.8)"
      ],
      "execution_count": null,
      "outputs": [
        {
          "output_type": "stream",
          "text": [
            "Epoch 1 : Train - Loss = 0.000, Accuracy = 100.000 / Test - Accuracy = 95.000\n",
            "Epoch 2 : Train - Loss = 0.000, Accuracy = 100.000 / Test - Accuracy = 95.000\n",
            "Epoch 3 : Train - Loss = 0.000, Accuracy = 100.000 / Test - Accuracy = 95.000\n",
            "Epoch 4 : Train - Loss = 0.000, Accuracy = 100.000 / Test - Accuracy = 95.000\n",
            "Epoch 5 : Train - Loss = 0.000, Accuracy = 100.000 / Test - Accuracy = 95.000\n",
            "Epoch 6 : Train - Loss = 0.000, Accuracy = 100.000 / Test - Accuracy = 95.000\n",
            "Epoch 7 : Train - Loss = 0.000, Accuracy = 100.000 / Test - Accuracy = 95.000\n",
            "Epoch 8 : Train - Loss = 0.000, Accuracy = 100.000 / Test - Accuracy = 95.000\n",
            "Epoch 9 : Train - Loss = 0.000, Accuracy = 100.000 / Test - Accuracy = 95.000\n",
            "Epoch 10 : Train - Loss = 0.000, Accuracy = 100.000 / Test - Accuracy = 95.000\n",
            "============================== Final TEST ==============================\n",
            "\n",
            "Final Accuracy : 95\n"
          ],
          "name": "stdout"
        }
      ]
    },
    {
      "cell_type": "code",
      "metadata": {
        "colab": {
          "base_uri": "https://localhost:8080/"
        },
        "id": "ne_X9TCNyidp",
        "outputId": "d7c1968f-d126-42d1-b556-efe9364c9332"
      },
      "source": [
        "epoch_count = 10\n",
        "report      = 4\n",
        "\n",
        "for epoch in range(epoch_count):\n",
        "    print((epoch + 1) % report == 0)"
      ],
      "execution_count": null,
      "outputs": [
        {
          "output_type": "stream",
          "text": [
            "False\n",
            "False\n",
            "False\n",
            "True\n",
            "False\n",
            "False\n",
            "False\n",
            "True\n",
            "False\n",
            "False\n"
          ],
          "name": "stdout"
        }
      ]
    },
    {
      "cell_type": "code",
      "metadata": {
        "id": "0IPfJBUTy1kE"
      },
      "source": [
        "def forward_neuralnet(x):\n",
        "    y_hat = np.matmul(x, weight) + bias \n",
        "    # x > backprop_neuralnet\n",
        "    return y_hat, x                     "
      ],
      "execution_count": null,
      "outputs": []
    },
    {
      "cell_type": "code",
      "metadata": {
        "colab": {
          "base_uri": "https://localhost:8080/"
        },
        "id": "Ylj6xmLDzO-I",
        "outputId": "099dc5a1-2f38-4032-97e0-c7f2e2556903"
      },
      "source": [
        "y_hat, _ = forward_neuralnet(train_x)\n",
        "print(y_hat)\n",
        "print(y_hat.shape)"
      ],
      "execution_count": null,
      "outputs": [
        {
          "output_type": "stream",
          "text": [
            "[[-0.06386726]\n",
            " [-0.06625431]]\n",
            "(2, 1)\n"
          ],
          "name": "stdout"
        }
      ]
    },
    {
      "cell_type": "code",
      "metadata": {
        "id": "ecLYKbEkzUa8"
      },
      "source": [
        "def forward_postproc(y_hat, y):\n",
        "  diff = y_hat - y\n",
        "  square = np.square(diff)\n",
        "  loss = np.mean(square)\n",
        "  # diff > backprop_postproc\n",
        "  return loss, diff             "
      ],
      "execution_count": null,
      "outputs": []
    },
    {
      "cell_type": "code",
      "metadata": {
        "colab": {
          "base_uri": "https://localhost:8080/"
        },
        "id": "EsBSWw4Tz6Ww",
        "outputId": "64ec29fd-aa00-4680-e97c-a20ac69170a6"
      },
      "source": [
        "loss = forward_postproc(y_hat, train_y)\n",
        "print('MSE : ', loss)"
      ],
      "execution_count": null,
      "outputs": [
        {
          "output_type": "stream",
          "text": [
            "MSE :  (117.86454321815947, array([[-13.06386726],\n",
            "       [ -8.06625431]]))\n"
          ],
          "name": "stdout"
        }
      ]
    },
    {
      "cell_type": "code",
      "metadata": {
        "id": "HpK5ZfdM0IWa"
      },
      "source": [
        "def eval_accuracy(y_hat, y):\n",
        "  # 오차율 mdiff , 하나의 값으로 만들기 위해 np.mean 사용\n",
        "  mdiff = np.mean(np.abs((y_hat - y) / y))  \n",
        "  return 1 - mdiff"
      ],
      "execution_count": null,
      "outputs": []
    },
    {
      "cell_type": "code",
      "metadata": {
        "colab": {
          "base_uri": "https://localhost:8080/"
        },
        "id": "D34FSfeH0yhB",
        "outputId": "04778a11-5e50-4ff0-c475-b34d8a5cc96a"
      },
      "source": [
        "acc = eval_accuracy(y_hat, train_y)\n",
        "print('ACC : {:.3f}'.format(acc * 100))"
      ],
      "execution_count": null,
      "outputs": [
        {
          "output_type": "stream",
          "text": [
            "ACC : -0.660\n"
          ],
          "name": "stdout"
        }
      ]
    },
    {
      "cell_type": "code",
      "metadata": {
        "id": "urZoQwmE1EB2"
      },
      "source": [
        "# backprop_nueralnet : 가중치, 편향 경사하강법 연산 (수업자료 참고)\n",
        "def backprop_nueralnet(G_output, x):\n",
        "  global weight, bias\n",
        "  x_transpose = x.transpose()\n",
        "  G_w = np.matmul(x_transpose, G_output)\n",
        "  G_b = np.sum(G_output, axis = 0)\n",
        "\n",
        "  weight -= LEARNING_RATE * G_w\n",
        "  bias   -= LEARNING_RATE * G_b"
      ],
      "execution_count": null,
      "outputs": []
    },
    {
      "cell_type": "code",
      "metadata": {
        "colab": {
          "base_uri": "https://localhost:8080/"
        },
        "id": "nN4dCW8c3wao",
        "outputId": "0815d144-a99d-426a-8018-3d98f747ac3b"
      },
      "source": [
        "diff = y_hat - train_y\n",
        "square = np.square(diff)\n",
        "print('square : \\n', square)\n",
        "print('diff shape ; ', diff.shape)\n",
        "\n",
        "row_count_M = diff.shape[0]\n",
        "col_count_N = diff.shape[1]\n",
        "print('row_count_M : ', row_count_M)\n",
        "print('col_count_N : ', col_count_N)"
      ],
      "execution_count": null,
      "outputs": [
        {
          "output_type": "stream",
          "text": [
            "square : \n",
            " [[170.66462778]\n",
            " [ 65.06445866]]\n",
            "diff shape ;  (2, 1)\n",
            "row_count_M :  2\n",
            "col_count_N :  1\n"
          ],
          "name": "stdout"
        }
      ]
    },
    {
      "cell_type": "code",
      "metadata": {
        "colab": {
          "base_uri": "https://localhost:8080/"
        },
        "id": "fJZHcR86-74K",
        "outputId": "c98f9bbe-29e6-4655-b34b-0708b60ce9e2"
      },
      "source": [
        "mse = (square[0][0] + square[1][0]) / (row_count_M + col_count_N)\n",
        "print('MSE : ', mse)"
      ],
      "execution_count": null,
      "outputs": [
        {
          "output_type": "stream",
          "text": [
            "MSE :  78.57636214543965\n"
          ],
          "name": "stdout"
        }
      ]
    },
    {
      "cell_type": "code",
      "metadata": {
        "id": "gW1trdxh_mui"
      },
      "source": [
        "def backprop_postproc(diff):\n",
        "  M_N = diff.shape\n",
        "  g_mse_square = np.ones(M_N) / np.prod(M_N)\n",
        "  g_square_diff = 2 * diff\n",
        "  g_diff_output = 1\n",
        "\n",
        "  G_diff = g_mse_square * g_square_diff\n",
        "  G_output = g_diff_output * G_diff\n",
        "\n",
        "  return G_output"
      ],
      "execution_count": null,
      "outputs": []
    },
    {
      "cell_type": "code",
      "metadata": {
        "id": "CKkXbU2oAPqK"
      },
      "source": [
        "def run_train(x, y):\n",
        "  # 순전파\n",
        "  y_hat, aux_nn_x = forward_neuralnet(x)\n",
        "  loss, aux_pp_diff = forward_postproc(y_hat, y)\n",
        "\n",
        "  accuracy = eval_accuracy(y_hat, y)\n",
        "  \n",
        "  # 역전파\n",
        "  G_output = backprop_postproc(aux_pp_diff)\n",
        "  backprop_nueralnet(G_output, aux_nn_x)\n",
        "\n",
        "  return loss, accuracy"
      ],
      "execution_count": null,
      "outputs": []
    },
    {
      "cell_type": "code",
      "metadata": {
        "id": "FegDSQ15CgIh"
      },
      "source": [
        "def run_test(x, y):\n",
        "  y_hat, _ = forward_neuralnet(x)\n",
        "  accuracy = eval_accuracy(y_hat, y)\n",
        "\n",
        "  return accuracy"
      ],
      "execution_count": null,
      "outputs": []
    },
    {
      "cell_type": "code",
      "metadata": {
        "colab": {
          "base_uri": "https://localhost:8080/"
        },
        "id": "sol-I68RC2ez",
        "outputId": "a97b0335-7cbc-4303-9023-b7e4afd2c8d9"
      },
      "source": [
        "weight_initial, bias_initial, losses_mean_row, accs_mean_row, final_acc = main_execute(epoch_count = 1000, mb_size = 36, report = 50, train_ratio = 0.8)"
      ],
      "execution_count": null,
      "outputs": [
        {
          "output_type": "stream",
          "text": [
            "initial Weight Value : \n",
            "[[-0.03867246]\n",
            " [-0.04705227]\n",
            " [ 0.00877279]\n",
            " [-0.01016111]\n",
            " [ 0.02459196]\n",
            " [ 0.05817322]\n",
            " [ 0.03484871]\n",
            " [ 0.02605906]\n",
            " [-0.00691521]\n",
            " [ 0.00746208]] \n",
            "Initial Bias Value : \n",
            "[0.] \n",
            "Epoch 50 : Train - Loss = 4.835, Accuracy = 0.838 / Test - Accuracy = 0.848\n",
            "Epoch 100 : Train - Loss = 4.796, Accuracy = 0.839 / Test - Accuracy = 0.840\n",
            "Epoch 150 : Train - Loss = 4.780, Accuracy = 0.839 / Test - Accuracy = 0.829\n",
            "Epoch 200 : Train - Loss = 4.778, Accuracy = 0.839 / Test - Accuracy = 0.841\n",
            "Epoch 250 : Train - Loss = 4.777, Accuracy = 0.839 / Test - Accuracy = 0.837\n",
            "Epoch 300 : Train - Loss = 4.760, Accuracy = 0.839 / Test - Accuracy = 0.848\n",
            "Epoch 350 : Train - Loss = 4.762, Accuracy = 0.839 / Test - Accuracy = 0.844\n",
            "Epoch 400 : Train - Loss = 4.778, Accuracy = 0.840 / Test - Accuracy = 0.837\n",
            "Epoch 450 : Train - Loss = 4.773, Accuracy = 0.840 / Test - Accuracy = 0.835\n",
            "Epoch 500 : Train - Loss = 4.784, Accuracy = 0.839 / Test - Accuracy = 0.848\n",
            "Epoch 550 : Train - Loss = 4.762, Accuracy = 0.840 / Test - Accuracy = 0.843\n",
            "Epoch 600 : Train - Loss = 4.760, Accuracy = 0.840 / Test - Accuracy = 0.844\n",
            "Epoch 650 : Train - Loss = 4.754, Accuracy = 0.841 / Test - Accuracy = 0.838\n",
            "Epoch 700 : Train - Loss = 4.770, Accuracy = 0.840 / Test - Accuracy = 0.815\n",
            "Epoch 750 : Train - Loss = 4.774, Accuracy = 0.839 / Test - Accuracy = 0.842\n",
            "Epoch 800 : Train - Loss = 4.781, Accuracy = 0.839 / Test - Accuracy = 0.846\n",
            "Epoch 850 : Train - Loss = 4.767, Accuracy = 0.839 / Test - Accuracy = 0.842\n",
            "Epoch 900 : Train - Loss = 4.760, Accuracy = 0.840 / Test - Accuracy = 0.840\n",
            "Epoch 950 : Train - Loss = 4.752, Accuracy = 0.840 / Test - Accuracy = 0.838\n",
            "Epoch 1000 : Train - Loss = 4.757, Accuracy = 0.840 / Test - Accuracy = 0.843\n",
            "============================== Final TEST ==============================\n",
            "\n",
            "Final Accuracy : 0.8431010064806703\n"
          ],
          "name": "stdout"
        }
      ]
    },
    {
      "cell_type": "markdown",
      "metadata": {
        "id": "1GNqDMbalAy8"
      },
      "source": [
        "#### 0727 + 저번시간복습"
      ]
    },
    {
      "cell_type": "code",
      "metadata": {
        "colab": {
          "base_uri": "https://localhost:8080/"
        },
        "id": "6BOW0lv2RSxC",
        "outputId": "229c8f74-5d2b-4b3e-bf13-d7c9c397c11e"
      },
      "source": [
        "print('weight : \\n', weight)\n",
        "print('bias : \\n', bias)"
      ],
      "execution_count": null,
      "outputs": [
        {
          "output_type": "stream",
          "text": [
            "weight : \n",
            " [[  1.29792306]\n",
            " [  1.04462238]\n",
            " [  0.38715993]\n",
            " [  0.02335522]\n",
            " [ 10.45666974]\n",
            " [  9.72304926]\n",
            " [  8.1872382 ]\n",
            " [-19.18394693]\n",
            " [ -9.25774857]\n",
            " [  9.44206416]]\n",
            "bias : \n",
            " [2.8066573]\n"
          ],
          "name": "stdout"
        }
      ]
    },
    {
      "cell_type": "code",
      "metadata": {
        "colab": {
          "base_uri": "https://localhost:8080/"
        },
        "id": "84S-S999ijlC",
        "outputId": "a63a4d45-913b-4107-b56e-4cb87d463977"
      },
      "source": [
        "new_x = [0, 1, 0, 0.685,0.545, 0.18,1.42,0.674,0.392,0.5]\n",
        "\n",
        "pred_Y, _ = forward_neuralnet(new_x)\n",
        "print('pred_Y : ', pred_Y)"
      ],
      "execution_count": null,
      "outputs": [
        {
          "output_type": "stream",
          "text": [
            "pred_Y :  [11.10420454]\n"
          ],
          "name": "stdout"
        }
      ]
    },
    {
      "cell_type": "code",
      "metadata": {
        "id": "XdNcQIETjqjL"
      },
      "source": [
        "import matplotlib.pyplot as plt"
      ],
      "execution_count": null,
      "outputs": []
    },
    {
      "cell_type": "code",
      "metadata": {
        "colab": {
          "base_uri": "https://localhost:8080/",
          "height": 295
        },
        "id": "U3Y7uDPKjiwM",
        "outputId": "e8746ad2-048b-4710-ba2b-856c3ada1d04"
      },
      "source": [
        "# 시각화\n",
        "plt.plot(losses_mean_row, '--o', color='purple', label='Loss')\n",
        "plt.plot(accs_mean_row, '--o', color='yellow', label='Acc')\n",
        "\n",
        "plt.title('Single layer Perceptron Model - ACC : {:.3f}'.\\\n",
        "          format(final_acc * 100))\n",
        "\n",
        "plt.xlabel('Epochs')\n",
        "plt.ylabel('Indicators')\n",
        "plt.grid()\n",
        "plt.legend()\n",
        "\n",
        "plt.show()"
      ],
      "execution_count": null,
      "outputs": [
        {
          "output_type": "display_data",
          "data": {
            "image/png": "[encoded data removed]",
            "text/plain": [
              "<Figure size 432x288 with 1 Axes>"
            ]
          },
          "metadata": {
            "tags": [],
            "needs_background": "light"
          }
        }
      ]
    }
  ]
}