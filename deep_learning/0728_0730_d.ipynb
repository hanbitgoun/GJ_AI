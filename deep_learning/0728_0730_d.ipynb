{
  "nbformat": 4,
  "nbformat_minor": 0,
  "metadata": {
    "colab": {
      "name": "0728-0730_d.ipynb",
      "provenance": [],
      "collapsed_sections": [],
      "authorship_tag": "ABX9TyPZMNJkmw58Aqn/yI/CjmLu",
      "include_colab_link": true
    },
    "kernelspec": {
      "name": "python3",
      "display_name": "Python 3"
    },
    "language_info": {
      "name": "python"
    }
  },
  "cells": [
    {
      "cell_type": "markdown",
      "metadata": {
        "id": "view-in-github",
        "colab_type": "text"
      },
      "source": [
        "<a href=\"https://colab.research.google.com/github/hanbitgoun/GJ_AI/blob/main/deep_learning/0728_0730_d.ipynb\" target=\"_parent\"><img src=\"https://colab.research.google.com/assets/colab-badge.svg\" alt=\"Open In Colab\"/></a>"
      ]
    },
    {
      "cell_type": "code",
      "metadata": {
        "id": "EzKaOT1vmSA4"
      },
      "source": [
        "import numpy as np\n",
        "import pandas as pd\n",
        "import matplotlib.pyplot as plt\n",
        "import seaborn as sns \n",
        "import tensorflow as tf"
      ],
      "execution_count": null,
      "outputs": []
    },
    {
      "cell_type": "code",
      "metadata": {
        "colab": {
          "base_uri": "https://localhost:8080/",
          "height": 389
        },
        "id": "d7j_McEhpjnN",
        "outputId": "7195c314-66f2-4bd6-8e3b-87f8382477fb"
      },
      "source": [
        "red = pd.read_csv('/content/winequality-red.csv', sep = ';') # : 기점으로 데이터 분리\n",
        "white = pd.read_csv('/content/winequality-white.csv', sep=';')\n",
        "display(red.head())\n",
        "display(white.head())"
      ],
      "execution_count": null,
      "outputs": [
        {
          "output_type": "display_data",
          "data": {
            "text/html": [
              "<div>\n",
              "<style scoped>\n",
              "    .dataframe tbody tr th:only-of-type {\n",
              "        vertical-align: middle;\n",
              "    }\n",
              "\n",
              "    .dataframe tbody tr th {\n",
              "        vertical-align: top;\n",
              "    }\n",
              "\n",
              "    .dataframe thead th {\n",
              "        text-align: right;\n",
              "    }\n",
              "</style>\n",
              "<table border=\"1\" class=\"dataframe\">\n",
              "  <thead>\n",
              "    <tr style=\"text-align: right;\">\n",
              "      <th></th>\n",
              "      <th>fixed acidity</th>\n",
              "      <th>volatile acidity</th>\n",
              "      <th>citric acid</th>\n",
              "      <th>residual sugar</th>\n",
              "      <th>chlorides</th>\n",
              "      <th>free sulfur dioxide</th>\n",
              "      <th>total sulfur dioxide</th>\n",
              "      <th>density</th>\n",
              "      <th>pH</th>\n",
              "      <th>sulphates</th>\n",
              "      <th>alcohol</th>\n",
              "      <th>quality</th>\n",
              "    </tr>\n",
              "  </thead>\n",
              "  <tbody>\n",
              "    <tr>\n",
              "      <th>0</th>\n",
              "      <td>7.4</td>\n",
              "      <td>0.70</td>\n",
              "      <td>0.00</td>\n",
              "      <td>1.9</td>\n",
              "      <td>0.076</td>\n",
              "      <td>11.0</td>\n",
              "      <td>34.0</td>\n",
              "      <td>0.9978</td>\n",
              "      <td>3.51</td>\n",
              "      <td>0.56</td>\n",
              "      <td>9.4</td>\n",
              "      <td>5</td>\n",
              "    </tr>\n",
              "    <tr>\n",
              "      <th>1</th>\n",
              "      <td>7.8</td>\n",
              "      <td>0.88</td>\n",
              "      <td>0.00</td>\n",
              "      <td>2.6</td>\n",
              "      <td>0.098</td>\n",
              "      <td>25.0</td>\n",
              "      <td>67.0</td>\n",
              "      <td>0.9968</td>\n",
              "      <td>3.20</td>\n",
              "      <td>0.68</td>\n",
              "      <td>9.8</td>\n",
              "      <td>5</td>\n",
              "    </tr>\n",
              "    <tr>\n",
              "      <th>2</th>\n",
              "      <td>7.8</td>\n",
              "      <td>0.76</td>\n",
              "      <td>0.04</td>\n",
              "      <td>2.3</td>\n",
              "      <td>0.092</td>\n",
              "      <td>15.0</td>\n",
              "      <td>54.0</td>\n",
              "      <td>0.9970</td>\n",
              "      <td>3.26</td>\n",
              "      <td>0.65</td>\n",
              "      <td>9.8</td>\n",
              "      <td>5</td>\n",
              "    </tr>\n",
              "    <tr>\n",
              "      <th>3</th>\n",
              "      <td>11.2</td>\n",
              "      <td>0.28</td>\n",
              "      <td>0.56</td>\n",
              "      <td>1.9</td>\n",
              "      <td>0.075</td>\n",
              "      <td>17.0</td>\n",
              "      <td>60.0</td>\n",
              "      <td>0.9980</td>\n",
              "      <td>3.16</td>\n",
              "      <td>0.58</td>\n",
              "      <td>9.8</td>\n",
              "      <td>6</td>\n",
              "    </tr>\n",
              "    <tr>\n",
              "      <th>4</th>\n",
              "      <td>7.4</td>\n",
              "      <td>0.70</td>\n",
              "      <td>0.00</td>\n",
              "      <td>1.9</td>\n",
              "      <td>0.076</td>\n",
              "      <td>11.0</td>\n",
              "      <td>34.0</td>\n",
              "      <td>0.9978</td>\n",
              "      <td>3.51</td>\n",
              "      <td>0.56</td>\n",
              "      <td>9.4</td>\n",
              "      <td>5</td>\n",
              "    </tr>\n",
              "  </tbody>\n",
              "</table>\n",
              "</div>"
            ],
            "text/plain": [
              "   fixed acidity  volatile acidity  citric acid  ...  sulphates  alcohol  quality\n",
              "0            7.4              0.70         0.00  ...       0.56      9.4        5\n",
              "1            7.8              0.88         0.00  ...       0.68      9.8        5\n",
              "2            7.8              0.76         0.04  ...       0.65      9.8        5\n",
              "3           11.2              0.28         0.56  ...       0.58      9.8        6\n",
              "4            7.4              0.70         0.00  ...       0.56      9.4        5\n",
              "\n",
              "[5 rows x 12 columns]"
            ]
          },
          "metadata": {
            "tags": []
          }
        },
        {
          "output_type": "display_data",
          "data": {
            "text/html": [
              "<div>\n",
              "<style scoped>\n",
              "    .dataframe tbody tr th:only-of-type {\n",
              "        vertical-align: middle;\n",
              "    }\n",
              "\n",
              "    .dataframe tbody tr th {\n",
              "        vertical-align: top;\n",
              "    }\n",
              "\n",
              "    .dataframe thead th {\n",
              "        text-align: right;\n",
              "    }\n",
              "</style>\n",
              "<table border=\"1\" class=\"dataframe\">\n",
              "  <thead>\n",
              "    <tr style=\"text-align: right;\">\n",
              "      <th></th>\n",
              "      <th>fixed acidity</th>\n",
              "      <th>volatile acidity</th>\n",
              "      <th>citric acid</th>\n",
              "      <th>residual sugar</th>\n",
              "      <th>chlorides</th>\n",
              "      <th>free sulfur dioxide</th>\n",
              "      <th>total sulfur dioxide</th>\n",
              "      <th>density</th>\n",
              "      <th>pH</th>\n",
              "      <th>sulphates</th>\n",
              "      <th>alcohol</th>\n",
              "      <th>quality</th>\n",
              "    </tr>\n",
              "  </thead>\n",
              "  <tbody>\n",
              "    <tr>\n",
              "      <th>0</th>\n",
              "      <td>7.0</td>\n",
              "      <td>0.27</td>\n",
              "      <td>0.36</td>\n",
              "      <td>20.7</td>\n",
              "      <td>0.045</td>\n",
              "      <td>45.0</td>\n",
              "      <td>170.0</td>\n",
              "      <td>1.0010</td>\n",
              "      <td>3.00</td>\n",
              "      <td>0.45</td>\n",
              "      <td>8.8</td>\n",
              "      <td>6</td>\n",
              "    </tr>\n",
              "    <tr>\n",
              "      <th>1</th>\n",
              "      <td>6.3</td>\n",
              "      <td>0.30</td>\n",
              "      <td>0.34</td>\n",
              "      <td>1.6</td>\n",
              "      <td>0.049</td>\n",
              "      <td>14.0</td>\n",
              "      <td>132.0</td>\n",
              "      <td>0.9940</td>\n",
              "      <td>3.30</td>\n",
              "      <td>0.49</td>\n",
              "      <td>9.5</td>\n",
              "      <td>6</td>\n",
              "    </tr>\n",
              "    <tr>\n",
              "      <th>2</th>\n",
              "      <td>8.1</td>\n",
              "      <td>0.28</td>\n",
              "      <td>0.40</td>\n",
              "      <td>6.9</td>\n",
              "      <td>0.050</td>\n",
              "      <td>30.0</td>\n",
              "      <td>97.0</td>\n",
              "      <td>0.9951</td>\n",
              "      <td>3.26</td>\n",
              "      <td>0.44</td>\n",
              "      <td>10.1</td>\n",
              "      <td>6</td>\n",
              "    </tr>\n",
              "    <tr>\n",
              "      <th>3</th>\n",
              "      <td>7.2</td>\n",
              "      <td>0.23</td>\n",
              "      <td>0.32</td>\n",
              "      <td>8.5</td>\n",
              "      <td>0.058</td>\n",
              "      <td>47.0</td>\n",
              "      <td>186.0</td>\n",
              "      <td>0.9956</td>\n",
              "      <td>3.19</td>\n",
              "      <td>0.40</td>\n",
              "      <td>9.9</td>\n",
              "      <td>6</td>\n",
              "    </tr>\n",
              "    <tr>\n",
              "      <th>4</th>\n",
              "      <td>7.2</td>\n",
              "      <td>0.23</td>\n",
              "      <td>0.32</td>\n",
              "      <td>8.5</td>\n",
              "      <td>0.058</td>\n",
              "      <td>47.0</td>\n",
              "      <td>186.0</td>\n",
              "      <td>0.9956</td>\n",
              "      <td>3.19</td>\n",
              "      <td>0.40</td>\n",
              "      <td>9.9</td>\n",
              "      <td>6</td>\n",
              "    </tr>\n",
              "  </tbody>\n",
              "</table>\n",
              "</div>"
            ],
            "text/plain": [
              "   fixed acidity  volatile acidity  citric acid  ...  sulphates  alcohol  quality\n",
              "0            7.0              0.27         0.36  ...       0.45      8.8        6\n",
              "1            6.3              0.30         0.34  ...       0.49      9.5        6\n",
              "2            8.1              0.28         0.40  ...       0.44     10.1        6\n",
              "3            7.2              0.23         0.32  ...       0.40      9.9        6\n",
              "4            7.2              0.23         0.32  ...       0.40      9.9        6\n",
              "\n",
              "[5 rows x 12 columns]"
            ]
          },
          "metadata": {
            "tags": []
          }
        }
      ]
    },
    {
      "cell_type": "code",
      "metadata": {
        "colab": {
          "base_uri": "https://localhost:8080/"
        },
        "id": "0CFzhfhVpubP",
        "outputId": "e60a06ad-de3f-4fa6-fd0a-c79cf4336e7b"
      },
      "source": [
        "# 데이터 통합 & red / white 구분 > 변수 추가\n",
        "red['type'] = 0\n",
        "white['type'] = 1\n",
        "print(red.head(2))\n",
        "print(white.head(2))"
      ],
      "execution_count": null,
      "outputs": [
        {
          "output_type": "stream",
          "text": [
            "   fixed acidity  volatile acidity  citric acid  ...  alcohol  quality  type\n",
            "0            7.4              0.70          0.0  ...      9.4        5     0\n",
            "1            7.8              0.88          0.0  ...      9.8        5     0\n",
            "\n",
            "[2 rows x 13 columns]\n",
            "   fixed acidity  volatile acidity  citric acid  ...  alcohol  quality  type\n",
            "0            7.0              0.27         0.36  ...      8.8        6     1\n",
            "1            6.3              0.30         0.34  ...      9.5        6     1\n",
            "\n",
            "[2 rows x 13 columns]\n"
          ],
          "name": "stdout"
        }
      ]
    },
    {
      "cell_type": "markdown",
      "metadata": {
        "id": "miKh2PxorqP3"
      },
      "source": [
        "#### 데이터 확인"
      ]
    },
    {
      "cell_type": "code",
      "metadata": {
        "colab": {
          "base_uri": "https://localhost:8080/",
          "height": 312
        },
        "id": "0s05o2_0qaDI",
        "outputId": "3386ddf1-81be-493a-fe97-b5441facd4ad"
      },
      "source": [
        "wine = pd.concat( [red, white] )\n",
        "display(wine.describe())\n",
        "# 결측치 x / total sulfur dioxide 편차 큼 "
      ],
      "execution_count": null,
      "outputs": [
        {
          "output_type": "display_data",
          "data": {
            "text/html": [
              "<div>\n",
              "<style scoped>\n",
              "    .dataframe tbody tr th:only-of-type {\n",
              "        vertical-align: middle;\n",
              "    }\n",
              "\n",
              "    .dataframe tbody tr th {\n",
              "        vertical-align: top;\n",
              "    }\n",
              "\n",
              "    .dataframe thead th {\n",
              "        text-align: right;\n",
              "    }\n",
              "</style>\n",
              "<table border=\"1\" class=\"dataframe\">\n",
              "  <thead>\n",
              "    <tr style=\"text-align: right;\">\n",
              "      <th></th>\n",
              "      <th>fixed acidity</th>\n",
              "      <th>volatile acidity</th>\n",
              "      <th>citric acid</th>\n",
              "      <th>residual sugar</th>\n",
              "      <th>chlorides</th>\n",
              "      <th>free sulfur dioxide</th>\n",
              "      <th>total sulfur dioxide</th>\n",
              "      <th>density</th>\n",
              "      <th>pH</th>\n",
              "      <th>sulphates</th>\n",
              "      <th>alcohol</th>\n",
              "      <th>quality</th>\n",
              "      <th>type</th>\n",
              "    </tr>\n",
              "  </thead>\n",
              "  <tbody>\n",
              "    <tr>\n",
              "      <th>count</th>\n",
              "      <td>6497.000000</td>\n",
              "      <td>6497.000000</td>\n",
              "      <td>6497.000000</td>\n",
              "      <td>6497.000000</td>\n",
              "      <td>6497.000000</td>\n",
              "      <td>6497.000000</td>\n",
              "      <td>6497.000000</td>\n",
              "      <td>6497.000000</td>\n",
              "      <td>6497.000000</td>\n",
              "      <td>6497.000000</td>\n",
              "      <td>6497.000000</td>\n",
              "      <td>6497.000000</td>\n",
              "      <td>6497.000000</td>\n",
              "    </tr>\n",
              "    <tr>\n",
              "      <th>mean</th>\n",
              "      <td>7.215307</td>\n",
              "      <td>0.339666</td>\n",
              "      <td>0.318633</td>\n",
              "      <td>5.443235</td>\n",
              "      <td>0.056034</td>\n",
              "      <td>30.525319</td>\n",
              "      <td>115.744574</td>\n",
              "      <td>0.994697</td>\n",
              "      <td>3.218501</td>\n",
              "      <td>0.531268</td>\n",
              "      <td>10.491801</td>\n",
              "      <td>5.818378</td>\n",
              "      <td>0.753886</td>\n",
              "    </tr>\n",
              "    <tr>\n",
              "      <th>std</th>\n",
              "      <td>1.296434</td>\n",
              "      <td>0.164636</td>\n",
              "      <td>0.145318</td>\n",
              "      <td>4.757804</td>\n",
              "      <td>0.035034</td>\n",
              "      <td>17.749400</td>\n",
              "      <td>56.521855</td>\n",
              "      <td>0.002999</td>\n",
              "      <td>0.160787</td>\n",
              "      <td>0.148806</td>\n",
              "      <td>1.192712</td>\n",
              "      <td>0.873255</td>\n",
              "      <td>0.430779</td>\n",
              "    </tr>\n",
              "    <tr>\n",
              "      <th>min</th>\n",
              "      <td>3.800000</td>\n",
              "      <td>0.080000</td>\n",
              "      <td>0.000000</td>\n",
              "      <td>0.600000</td>\n",
              "      <td>0.009000</td>\n",
              "      <td>1.000000</td>\n",
              "      <td>6.000000</td>\n",
              "      <td>0.987110</td>\n",
              "      <td>2.720000</td>\n",
              "      <td>0.220000</td>\n",
              "      <td>8.000000</td>\n",
              "      <td>3.000000</td>\n",
              "      <td>0.000000</td>\n",
              "    </tr>\n",
              "    <tr>\n",
              "      <th>25%</th>\n",
              "      <td>6.400000</td>\n",
              "      <td>0.230000</td>\n",
              "      <td>0.250000</td>\n",
              "      <td>1.800000</td>\n",
              "      <td>0.038000</td>\n",
              "      <td>17.000000</td>\n",
              "      <td>77.000000</td>\n",
              "      <td>0.992340</td>\n",
              "      <td>3.110000</td>\n",
              "      <td>0.430000</td>\n",
              "      <td>9.500000</td>\n",
              "      <td>5.000000</td>\n",
              "      <td>1.000000</td>\n",
              "    </tr>\n",
              "    <tr>\n",
              "      <th>50%</th>\n",
              "      <td>7.000000</td>\n",
              "      <td>0.290000</td>\n",
              "      <td>0.310000</td>\n",
              "      <td>3.000000</td>\n",
              "      <td>0.047000</td>\n",
              "      <td>29.000000</td>\n",
              "      <td>118.000000</td>\n",
              "      <td>0.994890</td>\n",
              "      <td>3.210000</td>\n",
              "      <td>0.510000</td>\n",
              "      <td>10.300000</td>\n",
              "      <td>6.000000</td>\n",
              "      <td>1.000000</td>\n",
              "    </tr>\n",
              "    <tr>\n",
              "      <th>75%</th>\n",
              "      <td>7.700000</td>\n",
              "      <td>0.400000</td>\n",
              "      <td>0.390000</td>\n",
              "      <td>8.100000</td>\n",
              "      <td>0.065000</td>\n",
              "      <td>41.000000</td>\n",
              "      <td>156.000000</td>\n",
              "      <td>0.996990</td>\n",
              "      <td>3.320000</td>\n",
              "      <td>0.600000</td>\n",
              "      <td>11.300000</td>\n",
              "      <td>6.000000</td>\n",
              "      <td>1.000000</td>\n",
              "    </tr>\n",
              "    <tr>\n",
              "      <th>max</th>\n",
              "      <td>15.900000</td>\n",
              "      <td>1.580000</td>\n",
              "      <td>1.660000</td>\n",
              "      <td>65.800000</td>\n",
              "      <td>0.611000</td>\n",
              "      <td>289.000000</td>\n",
              "      <td>440.000000</td>\n",
              "      <td>1.038980</td>\n",
              "      <td>4.010000</td>\n",
              "      <td>2.000000</td>\n",
              "      <td>14.900000</td>\n",
              "      <td>9.000000</td>\n",
              "      <td>1.000000</td>\n",
              "    </tr>\n",
              "  </tbody>\n",
              "</table>\n",
              "</div>"
            ],
            "text/plain": [
              "       fixed acidity  volatile acidity  ...      quality         type\n",
              "count    6497.000000       6497.000000  ...  6497.000000  6497.000000\n",
              "mean        7.215307          0.339666  ...     5.818378     0.753886\n",
              "std         1.296434          0.164636  ...     0.873255     0.430779\n",
              "min         3.800000          0.080000  ...     3.000000     0.000000\n",
              "25%         6.400000          0.230000  ...     5.000000     1.000000\n",
              "50%         7.000000          0.290000  ...     6.000000     1.000000\n",
              "75%         7.700000          0.400000  ...     6.000000     1.000000\n",
              "max        15.900000          1.580000  ...     9.000000     1.000000\n",
              "\n",
              "[8 rows x 13 columns]"
            ]
          },
          "metadata": {
            "tags": []
          }
        }
      ]
    },
    {
      "cell_type": "code",
      "metadata": {
        "colab": {
          "base_uri": "https://localhost:8080/",
          "height": 325
        },
        "id": "eWY_h_mjqtsj",
        "outputId": "856c5b8d-d7ae-413a-dc17-cc5b141ccd36"
      },
      "source": [
        "# type 평균 0.7 > 데이터 1로 쏠려있음 > 확인하기 위해 시각화\n",
        "sns.histplot(wine['type'], color='red')\n",
        "plt.title('{}'.format(wine['type'].value_counts()))\n",
        "\n",
        "plt.grid()\n",
        "plt.show()\n",
        "# 다음시간에 0 두배로 키우는 방법"
      ],
      "execution_count": null,
      "outputs": [
        {
          "output_type": "display_data",
          "data": {
            "image/png": "[encoded data removed]",
            "text/plain": [
              "<Figure size 432x288 with 1 Axes>"
            ]
          },
          "metadata": {
            "tags": [],
            "needs_background": "light"
          }
        }
      ]
    },
    {
      "cell_type": "markdown",
      "metadata": {
        "id": "IVrIIqETroeD"
      },
      "source": [
        "#### 데이터 분리"
      ]
    },
    {
      "cell_type": "code",
      "metadata": {
        "colab": {
          "base_uri": "https://localhost:8080/",
          "height": 203
        },
        "id": "Cj5fk96CrWSp",
        "outputId": "62f04482-8e51-4e5a-8a1c-526b01283c27"
      },
      "source": [
        "# 셔플 왜? 학습불균형 막기위함\n",
        "wine_shuflle = wine.sample(frac=1)\n",
        "wine_shuflle.head()"
      ],
      "execution_count": null,
      "outputs": [
        {
          "output_type": "execute_result",
          "data": {
            "text/html": [
              "<div>\n",
              "<style scoped>\n",
              "    .dataframe tbody tr th:only-of-type {\n",
              "        vertical-align: middle;\n",
              "    }\n",
              "\n",
              "    .dataframe tbody tr th {\n",
              "        vertical-align: top;\n",
              "    }\n",
              "\n",
              "    .dataframe thead th {\n",
              "        text-align: right;\n",
              "    }\n",
              "</style>\n",
              "<table border=\"1\" class=\"dataframe\">\n",
              "  <thead>\n",
              "    <tr style=\"text-align: right;\">\n",
              "      <th></th>\n",
              "      <th>fixed acidity</th>\n",
              "      <th>volatile acidity</th>\n",
              "      <th>citric acid</th>\n",
              "      <th>residual sugar</th>\n",
              "      <th>chlorides</th>\n",
              "      <th>free sulfur dioxide</th>\n",
              "      <th>total sulfur dioxide</th>\n",
              "      <th>density</th>\n",
              "      <th>pH</th>\n",
              "      <th>sulphates</th>\n",
              "      <th>alcohol</th>\n",
              "      <th>quality</th>\n",
              "      <th>type</th>\n",
              "    </tr>\n",
              "  </thead>\n",
              "  <tbody>\n",
              "    <tr>\n",
              "      <th>83</th>\n",
              "      <td>7.3</td>\n",
              "      <td>0.22</td>\n",
              "      <td>0.30</td>\n",
              "      <td>8.2</td>\n",
              "      <td>0.047</td>\n",
              "      <td>42.0</td>\n",
              "      <td>207.0</td>\n",
              "      <td>0.99660</td>\n",
              "      <td>3.33</td>\n",
              "      <td>0.46</td>\n",
              "      <td>9.5</td>\n",
              "      <td>6</td>\n",
              "      <td>1</td>\n",
              "    </tr>\n",
              "    <tr>\n",
              "      <th>1068</th>\n",
              "      <td>11.1</td>\n",
              "      <td>0.31</td>\n",
              "      <td>0.53</td>\n",
              "      <td>2.2</td>\n",
              "      <td>0.060</td>\n",
              "      <td>3.0</td>\n",
              "      <td>10.0</td>\n",
              "      <td>0.99572</td>\n",
              "      <td>3.02</td>\n",
              "      <td>0.83</td>\n",
              "      <td>10.9</td>\n",
              "      <td>7</td>\n",
              "      <td>0</td>\n",
              "    </tr>\n",
              "    <tr>\n",
              "      <th>3852</th>\n",
              "      <td>5.9</td>\n",
              "      <td>0.20</td>\n",
              "      <td>0.23</td>\n",
              "      <td>1.5</td>\n",
              "      <td>0.037</td>\n",
              "      <td>38.0</td>\n",
              "      <td>93.0</td>\n",
              "      <td>0.99021</td>\n",
              "      <td>3.36</td>\n",
              "      <td>0.49</td>\n",
              "      <td>12.0</td>\n",
              "      <td>6</td>\n",
              "      <td>1</td>\n",
              "    </tr>\n",
              "    <tr>\n",
              "      <th>4669</th>\n",
              "      <td>5.9</td>\n",
              "      <td>0.44</td>\n",
              "      <td>0.33</td>\n",
              "      <td>1.2</td>\n",
              "      <td>0.049</td>\n",
              "      <td>12.0</td>\n",
              "      <td>117.0</td>\n",
              "      <td>0.99134</td>\n",
              "      <td>3.46</td>\n",
              "      <td>0.44</td>\n",
              "      <td>11.5</td>\n",
              "      <td>5</td>\n",
              "      <td>1</td>\n",
              "    </tr>\n",
              "    <tr>\n",
              "      <th>1081</th>\n",
              "      <td>7.9</td>\n",
              "      <td>0.30</td>\n",
              "      <td>0.68</td>\n",
              "      <td>8.3</td>\n",
              "      <td>0.050</td>\n",
              "      <td>37.5</td>\n",
              "      <td>289.0</td>\n",
              "      <td>0.99316</td>\n",
              "      <td>3.01</td>\n",
              "      <td>0.51</td>\n",
              "      <td>12.3</td>\n",
              "      <td>7</td>\n",
              "      <td>0</td>\n",
              "    </tr>\n",
              "  </tbody>\n",
              "</table>\n",
              "</div>"
            ],
            "text/plain": [
              "      fixed acidity  volatile acidity  citric acid  ...  alcohol  quality  type\n",
              "83              7.3              0.22         0.30  ...      9.5        6     1\n",
              "1068           11.1              0.31         0.53  ...     10.9        7     0\n",
              "3852            5.9              0.20         0.23  ...     12.0        6     1\n",
              "4669            5.9              0.44         0.33  ...     11.5        5     1\n",
              "1081            7.9              0.30         0.68  ...     12.3        7     0\n",
              "\n",
              "[5 rows x 13 columns]"
            ]
          },
          "metadata": {
            "tags": []
          },
          "execution_count": 8
        }
      ]
    },
    {
      "cell_type": "code",
      "metadata": {
        "colab": {
          "base_uri": "https://localhost:8080/"
        },
        "id": "M-L_KQtlr_wP",
        "outputId": "3d29e59d-e817-466f-895d-00a2717b05cf"
      },
      "source": [
        "# to_numpy\n",
        "wine_np = wine_shuflle.to_numpy()\n",
        "type(wine_np)"
      ],
      "execution_count": null,
      "outputs": [
        {
          "output_type": "execute_result",
          "data": {
            "text/plain": [
              "numpy.ndarray"
            ]
          },
          "metadata": {
            "tags": []
          },
          "execution_count": 9
        }
      ]
    },
    {
      "cell_type": "code",
      "metadata": {
        "colab": {
          "base_uri": "https://localhost:8080/"
        },
        "id": "Bw_f91frsMrN",
        "outputId": "eedef9f5-bf01-4567-f434-d7501dc1b9e1"
      },
      "source": [
        "train_ratio = 0.8\n",
        "\n",
        "print(\"Total Datset Index : \", len(wine_np))\n",
        "test_begin_index = int(len(wine_np) * train_ratio) # 테스트 데이터 시작하는 위치\n",
        "print(\"test_begin_index : \", test_begin_index)"
      ],
      "execution_count": null,
      "outputs": [
        {
          "output_type": "stream",
          "text": [
            "Total Datset Index :  6497\n",
            "test_begin_index :  5197\n"
          ],
          "name": "stdout"
        }
      ]
    },
    {
      "cell_type": "code",
      "metadata": {
        "id": "UWY6yCFhtDYh"
      },
      "source": [
        "train_X, train_Y = wine_np[ :test_begin_index, :-1 ], wine_np[ :test_begin_index, -1]\n",
        "test_X, test_Y   = wine_np[ test_begin_index:, :-1 ], wine_np[ test_begin_index:, -1]"
      ],
      "execution_count": null,
      "outputs": []
    },
    {
      "cell_type": "code",
      "metadata": {
        "colab": {
          "base_uri": "https://localhost:8080/"
        },
        "id": "KB55dDD6vkLX",
        "outputId": "ef761531-d12b-4eb4-b602-6b34572f140c"
      },
      "source": [
        "print(train_X.shape)\n",
        "print(train_Y.shape)\n",
        "print(test_X.shape)\n",
        "print(test_Y.shape)"
      ],
      "execution_count": null,
      "outputs": [
        {
          "output_type": "stream",
          "text": [
            "(5197, 12)\n",
            "(5197,)\n",
            "(1300, 12)\n",
            "(1300,)\n"
          ],
          "name": "stdout"
        }
      ]
    },
    {
      "cell_type": "code",
      "metadata": {
        "colab": {
          "base_uri": "https://localhost:8080/"
        },
        "id": "eCNolHXfts5n",
        "outputId": "bb1065a4-e05f-4b5a-f072-7d01e843da8f"
      },
      "source": [
        "print('Before categorical : \\n')\n",
        "print(train_Y[0])\n",
        "print(train_Y[1])\n",
        "print(train_Y[2])"
      ],
      "execution_count": null,
      "outputs": [
        {
          "output_type": "stream",
          "text": [
            "Before categorical : \n",
            "\n",
            "1.0\n",
            "1.0\n",
            "1.0\n"
          ],
          "name": "stdout"
        }
      ]
    },
    {
      "cell_type": "markdown",
      "metadata": {
        "id": "t9mV4ngpuRGt"
      },
      "source": [
        "red_wine   = 0 > (1, 0)\n",
        "\n",
        "white_wine = 1 > (0, 1)\n",
        "\n"
      ]
    },
    {
      "cell_type": "code",
      "metadata": {
        "colab": {
          "base_uri": "https://localhost:8080/"
        },
        "id": "CDPUSYnSuVDG",
        "outputId": "8d263508-e2fb-4a8f-e834-43d620142d30"
      },
      "source": [
        "train_Y_to_categorical = tf.keras.utils.to_categorical(train_Y, num_classes = 2)\n",
        "test_Y_to_categorical  = tf.keras.utils.to_categorical(test_Y, num_classes =  2)\n",
        "\n",
        "print('After categorical : \\n')\n",
        "print(train_Y_to_categorical[0])\n",
        "print(train_Y_to_categorical[1])\n",
        "print(train_Y_to_categorical[2])"
      ],
      "execution_count": null,
      "outputs": [
        {
          "output_type": "stream",
          "text": [
            "After categorical : \n",
            "\n",
            "[0. 1.]\n",
            "[1. 0.]\n",
            "[0. 1.]\n"
          ],
          "name": "stdout"
        }
      ]
    },
    {
      "cell_type": "code",
      "metadata": {
        "colab": {
          "base_uri": "https://localhost:8080/"
        },
        "id": "yW3c12EE2LwS",
        "outputId": "5478d50d-178b-4d63-8f2f-0e5c5cd646d6"
      },
      "source": [
        "train_Y_to_categorical.shape"
      ],
      "execution_count": null,
      "outputs": [
        {
          "output_type": "execute_result",
          "data": {
            "text/plain": [
              "(5197, 2)"
            ]
          },
          "metadata": {
            "tags": []
          },
          "execution_count": 52
        }
      ]
    },
    {
      "cell_type": "markdown",
      "metadata": {
        "id": "a3UOZ4G9vms6"
      },
      "source": [
        "#### model"
      ]
    },
    {
      "cell_type": "code",
      "metadata": {
        "id": "RoByGNWdvmKS"
      },
      "source": [
        "model_swish_sigmoid = tf.keras.Sequential([\n",
        "                                           tf.keras.layers.Dense(units=48, activation='swish', input_shape = (12,)),\n",
        "                                           tf.keras.layers.Dense(units=24, activation='swish'),\n",
        "                                           tf.keras.layers.Dense(units=12, activation='swish'),\n",
        "                                           tf.keras.layers.Dense(units=2, activation='sigmoid')\n",
        "])"
      ],
      "execution_count": null,
      "outputs": []
    },
    {
      "cell_type": "code",
      "metadata": {
        "id": "Ol52l0A3xfn7"
      },
      "source": [
        "model_swish_sigmoid.compile(optimizer=tf.keras.optimizers.Adam(learning_rate=0.07),\n",
        "                            loss = 'binary_crossentropy',\n",
        "                            metrics = ['accuracy'])"
      ],
      "execution_count": null,
      "outputs": []
    },
    {
      "cell_type": "code",
      "metadata": {
        "colab": {
          "base_uri": "https://localhost:8080/"
        },
        "id": "4oiEDZwUyJIB",
        "outputId": "0aa36eab-ec94-4b2a-f1d1-642b38de8bfa"
      },
      "source": [
        "model_swish_sigmoid.summary()"
      ],
      "execution_count": null,
      "outputs": [
        {
          "output_type": "stream",
          "text": [
            "Model: \"sequential_3\"\n",
            "_________________________________________________________________\n",
            "Layer (type)                 Output Shape              Param #   \n",
            "=================================================================\n",
            "dense_12 (Dense)             (None, 48)                624       \n",
            "_________________________________________________________________\n",
            "dense_13 (Dense)             (None, 24)                1176      \n",
            "_________________________________________________________________\n",
            "dense_14 (Dense)             (None, 12)                300       \n",
            "_________________________________________________________________\n",
            "dense_15 (Dense)             (None, 2)                 26        \n",
            "=================================================================\n",
            "Total params: 2,126\n",
            "Trainable params: 2,126\n",
            "Non-trainable params: 0\n",
            "_________________________________________________________________\n"
          ],
          "name": "stdout"
        }
      ]
    },
    {
      "cell_type": "code",
      "metadata": {
        "colab": {
          "base_uri": "https://localhost:8080/"
        },
        "id": "eyxPEkzAySyp",
        "outputId": "960053c5-e534-4605-e170-eb89b192aab4"
      },
      "source": [
        "history = model_swish_sigmoid.fit(train_X, train_Y_to_categorical,\n",
        "                                 epochs = 25, batch_size = 32, validation_split = 0.2,\n",
        "                                 callbacks = [tf.keras.callbacks.EarlyStopping(patience=3,\n",
        "                                                                      monitor = 'val_loss')])"
      ],
      "execution_count": null,
      "outputs": [
        {
          "output_type": "stream",
          "text": [
            "Epoch 1/25\n",
            "130/130 [==============================] - 1s 3ms/step - loss: 0.3732 - accuracy: 0.9011 - val_loss: 0.1814 - val_accuracy: 0.9413\n",
            "Epoch 2/25\n",
            "130/130 [==============================] - 0s 2ms/step - loss: 0.2681 - accuracy: 0.9180 - val_loss: 0.1719 - val_accuracy: 0.9481\n",
            "Epoch 3/25\n",
            "130/130 [==============================] - 0s 2ms/step - loss: 0.2294 - accuracy: 0.9274 - val_loss: 0.1654 - val_accuracy: 0.9433\n",
            "Epoch 4/25\n",
            "130/130 [==============================] - 0s 2ms/step - loss: 0.1714 - accuracy: 0.9427 - val_loss: 0.2136 - val_accuracy: 0.9442\n",
            "Epoch 5/25\n",
            "130/130 [==============================] - 0s 2ms/step - loss: 0.1762 - accuracy: 0.9437 - val_loss: 0.1661 - val_accuracy: 0.9567\n",
            "Epoch 6/25\n",
            "130/130 [==============================] - 0s 2ms/step - loss: 0.1795 - accuracy: 0.9466 - val_loss: 0.0852 - val_accuracy: 0.9760\n",
            "Epoch 7/25\n",
            "130/130 [==============================] - 0s 2ms/step - loss: 0.6935 - accuracy: 0.7686 - val_loss: 0.5562 - val_accuracy: 0.7567\n",
            "Epoch 8/25\n",
            "130/130 [==============================] - 0s 2ms/step - loss: 0.5282 - accuracy: 0.7753 - val_loss: 0.2887 - val_accuracy: 0.9385\n",
            "Epoch 9/25\n",
            "130/130 [==============================] - 0s 2ms/step - loss: 0.4238 - accuracy: 0.8441 - val_loss: 0.4356 - val_accuracy: 0.8365\n"
          ],
          "name": "stdout"
        }
      ]
    },
    {
      "cell_type": "code",
      "metadata": {
        "colab": {
          "base_uri": "https://localhost:8080/"
        },
        "id": "yRbQlFoR2XJp",
        "outputId": "f836f009-6fab-46f5-e511-c5728fd3ac4d"
      },
      "source": [
        "model_swish_sigmoid.evaluate(test_X, test_Y_to_categorical)"
      ],
      "execution_count": null,
      "outputs": [
        {
          "output_type": "stream",
          "text": [
            "41/41 [==============================] - 0s 1ms/step - loss: 0.4616 - accuracy: 0.8208\n"
          ],
          "name": "stdout"
        },
        {
          "output_type": "execute_result",
          "data": {
            "text/plain": [
              "[0.461570143699646, 0.8207692503929138]"
            ]
          },
          "metadata": {
            "tags": []
          },
          "execution_count": 57
        }
      ]
    },
    {
      "cell_type": "code",
      "metadata": {
        "colab": {
          "base_uri": "https://localhost:8080/"
        },
        "id": "RK_oczSC2pZX",
        "outputId": "7da97da8-0b11-4647-9849-7b2a26d52d13"
      },
      "source": [
        "pred_Y = model_swish_sigmoid.predict(test_X)\n",
        "print(np.round(pred_Y[:20], 2))"
      ],
      "execution_count": null,
      "outputs": [
        {
          "output_type": "stream",
          "text": [
            "[[0.15 0.85]\n",
            " [0.15 0.85]\n",
            " [0.15 0.85]\n",
            " [0.15 0.85]\n",
            " [0.15 0.85]\n",
            " [0.15 0.85]\n",
            " [0.15 0.85]\n",
            " [0.15 0.85]\n",
            " [0.15 0.85]\n",
            " [0.15 0.85]\n",
            " [0.15 0.85]\n",
            " [0.15 0.85]\n",
            " [0.15 0.85]\n",
            " [0.15 0.85]\n",
            " [0.15 0.85]\n",
            " [0.15 0.85]\n",
            " [1.   0.  ]\n",
            " [0.15 0.85]\n",
            " [0.15 0.85]\n",
            " [0.15 0.85]]\n"
          ],
          "name": "stdout"
        }
      ]
    },
    {
      "cell_type": "code",
      "metadata": {
        "colab": {
          "base_uri": "https://localhost:8080/"
        },
        "id": "7CfXD4WC2_ZN",
        "outputId": "35135b5a-0d45-47e5-fa33-759f44ab4b9f"
      },
      "source": [
        "print(np.round(pred_Y[:10]))"
      ],
      "execution_count": null,
      "outputs": [
        {
          "output_type": "stream",
          "text": [
            "[[0. 1.]\n",
            " [0. 1.]\n",
            " [0. 1.]\n",
            " [0. 1.]\n",
            " [0. 1.]\n",
            " [0. 1.]\n",
            " [0. 1.]\n",
            " [0. 1.]\n",
            " [0. 1.]\n",
            " [0. 1.]]\n"
          ],
          "name": "stdout"
        }
      ]
    },
    {
      "cell_type": "code",
      "metadata": {
        "colab": {
          "base_uri": "https://localhost:8080/"
        },
        "id": "VKfk8igk5xB7",
        "outputId": "5284c5af-cb59-4367-e36a-9977401abc77"
      },
      "source": [
        "print(np.round(test_Y_to_categorical[:10]))"
      ],
      "execution_count": null,
      "outputs": [
        {
          "output_type": "stream",
          "text": [
            "[[0. 1.]\n",
            " [0. 1.]\n",
            " [0. 1.]\n",
            " [1. 0.]\n",
            " [0. 1.]\n",
            " [0. 1.]\n",
            " [1. 0.]\n",
            " [0. 1.]\n",
            " [0. 1.]\n",
            " [0. 1.]]\n"
          ],
          "name": "stdout"
        }
      ]
    },
    {
      "cell_type": "markdown",
      "metadata": {
        "id": "R92OLyja57jA"
      },
      "source": [
        "#### 시각화"
      ]
    },
    {
      "cell_type": "code",
      "metadata": {
        "id": "JtoRvZxP58a2"
      },
      "source": [
        "val_accuracy = history.history['val_accuracy']\n",
        "accuracy = history.history['accuracy']\n",
        "\n",
        "val_loss = history.history['val_loss']\n",
        "loss = history.history['loss']"
      ],
      "execution_count": null,
      "outputs": []
    },
    {
      "cell_type": "code",
      "metadata": {
        "colab": {
          "base_uri": "https://localhost:8080/"
        },
        "id": "bJAqxchv6NHC",
        "outputId": "8e4baac0-34eb-45a6-bbb3-91099f983b90"
      },
      "source": [
        "val_accuracy # epoch = 7 "
      ],
      "execution_count": null,
      "outputs": [
        {
          "output_type": "execute_result",
          "data": {
            "text/plain": [
              "[0.9413461685180664,\n",
              " 0.9480769038200378,\n",
              " 0.9432692527770996,\n",
              " 0.9442307949066162,\n",
              " 0.9567307829856873,\n",
              " 0.9759615659713745,\n",
              " 0.7567307949066162,\n",
              " 0.9384615421295166,\n",
              " 0.8365384340286255]"
            ]
          },
          "metadata": {
            "tags": []
          },
          "execution_count": 62
        }
      ]
    },
    {
      "cell_type": "code",
      "metadata": {
        "colab": {
          "base_uri": "https://localhost:8080/",
          "height": 316
        },
        "id": "BoWXz5Sz6WFG",
        "outputId": "012f08d9-f543-4f80-d8f8-a1365fcc4b7e"
      },
      "source": [
        "plt.figure(figsize = (12, 4) )\n",
        "plt.subplot(1, 2, 1)\n",
        "\n",
        "plt.plot(history.history['loss'], 'b--', label = 'Train loss')\n",
        "plt.plot(history.history['val_loss'], 'r--', label = 'Val loss')\n",
        "\n",
        "plt.xlabel('Epochs')\n",
        "\n",
        "plt.title('Train_Loss : {:.3f}\\nVal_Loss : {:.3f}'.\\\n",
        "          format(loss[-1], val_loss[-1]), fontsize=15)\n",
        "\n",
        "plt.legend()\n",
        "plt.grid()\n",
        "\n",
        "plt.subplot(1, 2, 2)\n",
        "\n",
        "plt.plot(history.history['accuracy'], 'b--', label = 'Train Accuracy')\n",
        "plt.plot(history.history['val_accuracy'], 'r--', label = 'Val Accuracy')\n",
        "\n",
        "plt.xlabel('Epochs')\n",
        "\n",
        "plt.title('Train_Accuracy : {:.3f}\\nVal_Accuracy : {:.3f}'.\\\n",
        "          format(accuracy[-1], val_accuracy[-1]), fontsize=15)\n",
        "\n",
        "plt.legend()\n",
        "plt.grid()\n",
        "plt.show()"
      ],
      "execution_count": null,
      "outputs": [
        {
          "output_type": "display_data",
          "data": {
            "image/png": "[encoded data removed]",
            "text/plain": [
              "<Figure size 864x288 with 2 Axes>"
            ]
          },
          "metadata": {
            "tags": [],
            "needs_background": "light"
          }
        }
      ]
    },
    {
      "cell_type": "markdown",
      "metadata": {
        "id": "9JytZYDI8s5v"
      },
      "source": [
        "#### 모델 저장"
      ]
    },
    {
      "cell_type": "code",
      "metadata": {
        "id": "bdCUVgAy7-Nk"
      },
      "source": [
        "model_swish_sigmoid_no_onehot.save('model_swish_sigmoid_no_onehot.h5')"
      ],
      "execution_count": null,
      "outputs": []
    },
    {
      "cell_type": "markdown",
      "metadata": {
        "id": "YaHRScAOwQ7i"
      },
      "source": [
        "#### 0730"
      ]
    },
    {
      "cell_type": "code",
      "metadata": {
        "id": "9ry-RhTc8WDJ",
        "colab": {
          "base_uri": "https://localhost:8080/",
          "height": 417
        },
        "outputId": "abfe1ec6-037f-4ff5-ea5f-fd7068ff80b2"
      },
      "source": [
        "wine"
      ],
      "execution_count": null,
      "outputs": [
        {
          "output_type": "execute_result",
          "data": {
            "text/html": [
              "<div>\n",
              "<style scoped>\n",
              "    .dataframe tbody tr th:only-of-type {\n",
              "        vertical-align: middle;\n",
              "    }\n",
              "\n",
              "    .dataframe tbody tr th {\n",
              "        vertical-align: top;\n",
              "    }\n",
              "\n",
              "    .dataframe thead th {\n",
              "        text-align: right;\n",
              "    }\n",
              "</style>\n",
              "<table border=\"1\" class=\"dataframe\">\n",
              "  <thead>\n",
              "    <tr style=\"text-align: right;\">\n",
              "      <th></th>\n",
              "      <th>fixed acidity</th>\n",
              "      <th>volatile acidity</th>\n",
              "      <th>citric acid</th>\n",
              "      <th>residual sugar</th>\n",
              "      <th>chlorides</th>\n",
              "      <th>free sulfur dioxide</th>\n",
              "      <th>total sulfur dioxide</th>\n",
              "      <th>density</th>\n",
              "      <th>pH</th>\n",
              "      <th>sulphates</th>\n",
              "      <th>alcohol</th>\n",
              "      <th>quality</th>\n",
              "      <th>type</th>\n",
              "    </tr>\n",
              "  </thead>\n",
              "  <tbody>\n",
              "    <tr>\n",
              "      <th>0</th>\n",
              "      <td>7.4</td>\n",
              "      <td>0.70</td>\n",
              "      <td>0.00</td>\n",
              "      <td>1.9</td>\n",
              "      <td>0.076</td>\n",
              "      <td>11.0</td>\n",
              "      <td>34.0</td>\n",
              "      <td>0.99780</td>\n",
              "      <td>3.51</td>\n",
              "      <td>0.56</td>\n",
              "      <td>9.4</td>\n",
              "      <td>5</td>\n",
              "      <td>0</td>\n",
              "    </tr>\n",
              "    <tr>\n",
              "      <th>1</th>\n",
              "      <td>7.8</td>\n",
              "      <td>0.88</td>\n",
              "      <td>0.00</td>\n",
              "      <td>2.6</td>\n",
              "      <td>0.098</td>\n",
              "      <td>25.0</td>\n",
              "      <td>67.0</td>\n",
              "      <td>0.99680</td>\n",
              "      <td>3.20</td>\n",
              "      <td>0.68</td>\n",
              "      <td>9.8</td>\n",
              "      <td>5</td>\n",
              "      <td>0</td>\n",
              "    </tr>\n",
              "    <tr>\n",
              "      <th>2</th>\n",
              "      <td>7.8</td>\n",
              "      <td>0.76</td>\n",
              "      <td>0.04</td>\n",
              "      <td>2.3</td>\n",
              "      <td>0.092</td>\n",
              "      <td>15.0</td>\n",
              "      <td>54.0</td>\n",
              "      <td>0.99700</td>\n",
              "      <td>3.26</td>\n",
              "      <td>0.65</td>\n",
              "      <td>9.8</td>\n",
              "      <td>5</td>\n",
              "      <td>0</td>\n",
              "    </tr>\n",
              "    <tr>\n",
              "      <th>3</th>\n",
              "      <td>11.2</td>\n",
              "      <td>0.28</td>\n",
              "      <td>0.56</td>\n",
              "      <td>1.9</td>\n",
              "      <td>0.075</td>\n",
              "      <td>17.0</td>\n",
              "      <td>60.0</td>\n",
              "      <td>0.99800</td>\n",
              "      <td>3.16</td>\n",
              "      <td>0.58</td>\n",
              "      <td>9.8</td>\n",
              "      <td>6</td>\n",
              "      <td>0</td>\n",
              "    </tr>\n",
              "    <tr>\n",
              "      <th>4</th>\n",
              "      <td>7.4</td>\n",
              "      <td>0.70</td>\n",
              "      <td>0.00</td>\n",
              "      <td>1.9</td>\n",
              "      <td>0.076</td>\n",
              "      <td>11.0</td>\n",
              "      <td>34.0</td>\n",
              "      <td>0.99780</td>\n",
              "      <td>3.51</td>\n",
              "      <td>0.56</td>\n",
              "      <td>9.4</td>\n",
              "      <td>5</td>\n",
              "      <td>0</td>\n",
              "    </tr>\n",
              "    <tr>\n",
              "      <th>...</th>\n",
              "      <td>...</td>\n",
              "      <td>...</td>\n",
              "      <td>...</td>\n",
              "      <td>...</td>\n",
              "      <td>...</td>\n",
              "      <td>...</td>\n",
              "      <td>...</td>\n",
              "      <td>...</td>\n",
              "      <td>...</td>\n",
              "      <td>...</td>\n",
              "      <td>...</td>\n",
              "      <td>...</td>\n",
              "      <td>...</td>\n",
              "    </tr>\n",
              "    <tr>\n",
              "      <th>4893</th>\n",
              "      <td>6.2</td>\n",
              "      <td>0.21</td>\n",
              "      <td>0.29</td>\n",
              "      <td>1.6</td>\n",
              "      <td>0.039</td>\n",
              "      <td>24.0</td>\n",
              "      <td>92.0</td>\n",
              "      <td>0.99114</td>\n",
              "      <td>3.27</td>\n",
              "      <td>0.50</td>\n",
              "      <td>11.2</td>\n",
              "      <td>6</td>\n",
              "      <td>1</td>\n",
              "    </tr>\n",
              "    <tr>\n",
              "      <th>4894</th>\n",
              "      <td>6.6</td>\n",
              "      <td>0.32</td>\n",
              "      <td>0.36</td>\n",
              "      <td>8.0</td>\n",
              "      <td>0.047</td>\n",
              "      <td>57.0</td>\n",
              "      <td>168.0</td>\n",
              "      <td>0.99490</td>\n",
              "      <td>3.15</td>\n",
              "      <td>0.46</td>\n",
              "      <td>9.6</td>\n",
              "      <td>5</td>\n",
              "      <td>1</td>\n",
              "    </tr>\n",
              "    <tr>\n",
              "      <th>4895</th>\n",
              "      <td>6.5</td>\n",
              "      <td>0.24</td>\n",
              "      <td>0.19</td>\n",
              "      <td>1.2</td>\n",
              "      <td>0.041</td>\n",
              "      <td>30.0</td>\n",
              "      <td>111.0</td>\n",
              "      <td>0.99254</td>\n",
              "      <td>2.99</td>\n",
              "      <td>0.46</td>\n",
              "      <td>9.4</td>\n",
              "      <td>6</td>\n",
              "      <td>1</td>\n",
              "    </tr>\n",
              "    <tr>\n",
              "      <th>4896</th>\n",
              "      <td>5.5</td>\n",
              "      <td>0.29</td>\n",
              "      <td>0.30</td>\n",
              "      <td>1.1</td>\n",
              "      <td>0.022</td>\n",
              "      <td>20.0</td>\n",
              "      <td>110.0</td>\n",
              "      <td>0.98869</td>\n",
              "      <td>3.34</td>\n",
              "      <td>0.38</td>\n",
              "      <td>12.8</td>\n",
              "      <td>7</td>\n",
              "      <td>1</td>\n",
              "    </tr>\n",
              "    <tr>\n",
              "      <th>4897</th>\n",
              "      <td>6.0</td>\n",
              "      <td>0.21</td>\n",
              "      <td>0.38</td>\n",
              "      <td>0.8</td>\n",
              "      <td>0.020</td>\n",
              "      <td>22.0</td>\n",
              "      <td>98.0</td>\n",
              "      <td>0.98941</td>\n",
              "      <td>3.26</td>\n",
              "      <td>0.32</td>\n",
              "      <td>11.8</td>\n",
              "      <td>6</td>\n",
              "      <td>1</td>\n",
              "    </tr>\n",
              "  </tbody>\n",
              "</table>\n",
              "<p>6497 rows × 13 columns</p>\n",
              "</div>"
            ],
            "text/plain": [
              "      fixed acidity  volatile acidity  citric acid  ...  alcohol  quality  type\n",
              "0               7.4              0.70         0.00  ...      9.4        5     0\n",
              "1               7.8              0.88         0.00  ...      9.8        5     0\n",
              "2               7.8              0.76         0.04  ...      9.8        5     0\n",
              "3              11.2              0.28         0.56  ...      9.8        6     0\n",
              "4               7.4              0.70         0.00  ...      9.4        5     0\n",
              "...             ...               ...          ...  ...      ...      ...   ...\n",
              "4893            6.2              0.21         0.29  ...     11.2        6     1\n",
              "4894            6.6              0.32         0.36  ...      9.6        5     1\n",
              "4895            6.5              0.24         0.19  ...      9.4        6     1\n",
              "4896            5.5              0.29         0.30  ...     12.8        7     1\n",
              "4897            6.0              0.21         0.38  ...     11.8        6     1\n",
              "\n",
              "[6497 rows x 13 columns]"
            ]
          },
          "metadata": {
            "tags": []
          },
          "execution_count": 13
        }
      ]
    },
    {
      "cell_type": "code",
      "metadata": {
        "colab": {
          "base_uri": "https://localhost:8080/"
        },
        "id": "w6Suy7wnwdfI",
        "outputId": "f2d16cbf-45a0-4f73-80c4-28ba3ad325bb"
      },
      "source": [
        "wine['quality'].value_counts()"
      ],
      "execution_count": null,
      "outputs": [
        {
          "output_type": "execute_result",
          "data": {
            "text/plain": [
              "6    2836\n",
              "5    2138\n",
              "7    1079\n",
              "4     216\n",
              "8     193\n",
              "3      30\n",
              "9       5\n",
              "Name: quality, dtype: int64"
            ]
          },
          "metadata": {
            "tags": []
          },
          "execution_count": 16
        }
      ]
    },
    {
      "cell_type": "code",
      "metadata": {
        "colab": {
          "base_uri": "https://localhost:8080/",
          "height": 279
        },
        "id": "DBwZxaDxwf93",
        "outputId": "8ba0bb9a-33f0-4880-8ee4-d1dbeee853aa"
      },
      "source": [
        "import seaborn as sns\n",
        "import matplotlib.pyplot as plt\n",
        "\n",
        "sns.histplot(wine['quality'], color='pink',binwidth=0.5)\n",
        "plt.show()"
      ],
      "execution_count": null,
      "outputs": [
        {
          "output_type": "display_data",
          "data": {
            "image/png": "[encoded data removed]",
            "text/plain": [
              "<Figure size 432x288 with 1 Axes>"
            ]
          },
          "metadata": {
            "tags": [],
            "needs_background": "light"
          }
        }
      ]
    },
    {
      "cell_type": "markdown",
      "metadata": {
        "id": "IqsskWWWxOgM"
      },
      "source": [
        "#### 데이터 묶어주기"
      ]
    },
    {
      "cell_type": "code",
      "metadata": {
        "id": "Vej1XE40w4gK"
      },
      "source": [
        "wine.loc[ wine['quality'] <= 5, 'new_quality' ] = 0\n",
        "wine.loc[ wine['quality'] == 6, 'new_quality' ] = 1\n",
        "wine.loc[ wine['quality'] >= 7, 'new_quality' ] = 2"
      ],
      "execution_count": null,
      "outputs": []
    },
    {
      "cell_type": "code",
      "metadata": {
        "colab": {
          "base_uri": "https://localhost:8080/"
        },
        "id": "55vI3UG7xtn5",
        "outputId": "8c5f1d5a-7324-4a58-86ab-4256f90b1df1"
      },
      "source": [
        "wine['new_quality'].value_counts()"
      ],
      "execution_count": null,
      "outputs": [
        {
          "output_type": "execute_result",
          "data": {
            "text/plain": [
              "1.0    2836\n",
              "0.0    2384\n",
              "2.0    1277\n",
              "Name: new_quality, dtype: int64"
            ]
          },
          "metadata": {
            "tags": []
          },
          "execution_count": 19
        }
      ]
    },
    {
      "cell_type": "code",
      "metadata": {
        "colab": {
          "base_uri": "https://localhost:8080/",
          "height": 280
        },
        "id": "8CTtDfAuxxyC",
        "outputId": "a6a5668d-4ef3-4111-df6c-d8af31d499f9"
      },
      "source": [
        "sns.histplot(wine['new_quality'], color='pink',binwidth=0.3)\n",
        "plt.xticks(ticks=[0, 2, 1])\n",
        "plt.show()"
      ],
      "execution_count": null,
      "outputs": [
        {
          "output_type": "display_data",
          "data": {
            "image/png": "[encoded data removed]",
            "text/plain": [
              "<Figure size 432x288 with 1 Axes>"
            ]
          },
          "metadata": {
            "tags": [],
            "needs_background": "light"
          }
        }
      ]
    },
    {
      "cell_type": "code",
      "metadata": {
        "colab": {
          "base_uri": "https://localhost:8080/",
          "height": 470
        },
        "id": "Adfis5gfyUk5",
        "outputId": "d30f2265-141a-4ffd-9f08-a6d8f917536f"
      },
      "source": [
        "# quality 삭제\n",
        "del wine['quality']\n",
        "display(wine)"
      ],
      "execution_count": null,
      "outputs": [
        {
          "output_type": "display_data",
          "data": {
            "text/html": [
              "<div>\n",
              "<style scoped>\n",
              "    .dataframe tbody tr th:only-of-type {\n",
              "        vertical-align: middle;\n",
              "    }\n",
              "\n",
              "    .dataframe tbody tr th {\n",
              "        vertical-align: top;\n",
              "    }\n",
              "\n",
              "    .dataframe thead th {\n",
              "        text-align: right;\n",
              "    }\n",
              "</style>\n",
              "<table border=\"1\" class=\"dataframe\">\n",
              "  <thead>\n",
              "    <tr style=\"text-align: right;\">\n",
              "      <th></th>\n",
              "      <th>fixed acidity</th>\n",
              "      <th>volatile acidity</th>\n",
              "      <th>citric acid</th>\n",
              "      <th>residual sugar</th>\n",
              "      <th>chlorides</th>\n",
              "      <th>free sulfur dioxide</th>\n",
              "      <th>total sulfur dioxide</th>\n",
              "      <th>density</th>\n",
              "      <th>pH</th>\n",
              "      <th>sulphates</th>\n",
              "      <th>alcohol</th>\n",
              "      <th>type</th>\n",
              "      <th>new_quality</th>\n",
              "    </tr>\n",
              "  </thead>\n",
              "  <tbody>\n",
              "    <tr>\n",
              "      <th>0</th>\n",
              "      <td>7.4</td>\n",
              "      <td>0.70</td>\n",
              "      <td>0.00</td>\n",
              "      <td>1.9</td>\n",
              "      <td>0.076</td>\n",
              "      <td>11.0</td>\n",
              "      <td>34.0</td>\n",
              "      <td>0.99780</td>\n",
              "      <td>3.51</td>\n",
              "      <td>0.56</td>\n",
              "      <td>9.4</td>\n",
              "      <td>0</td>\n",
              "      <td>0.0</td>\n",
              "    </tr>\n",
              "    <tr>\n",
              "      <th>1</th>\n",
              "      <td>7.8</td>\n",
              "      <td>0.88</td>\n",
              "      <td>0.00</td>\n",
              "      <td>2.6</td>\n",
              "      <td>0.098</td>\n",
              "      <td>25.0</td>\n",
              "      <td>67.0</td>\n",
              "      <td>0.99680</td>\n",
              "      <td>3.20</td>\n",
              "      <td>0.68</td>\n",
              "      <td>9.8</td>\n",
              "      <td>0</td>\n",
              "      <td>0.0</td>\n",
              "    </tr>\n",
              "    <tr>\n",
              "      <th>2</th>\n",
              "      <td>7.8</td>\n",
              "      <td>0.76</td>\n",
              "      <td>0.04</td>\n",
              "      <td>2.3</td>\n",
              "      <td>0.092</td>\n",
              "      <td>15.0</td>\n",
              "      <td>54.0</td>\n",
              "      <td>0.99700</td>\n",
              "      <td>3.26</td>\n",
              "      <td>0.65</td>\n",
              "      <td>9.8</td>\n",
              "      <td>0</td>\n",
              "      <td>0.0</td>\n",
              "    </tr>\n",
              "    <tr>\n",
              "      <th>3</th>\n",
              "      <td>11.2</td>\n",
              "      <td>0.28</td>\n",
              "      <td>0.56</td>\n",
              "      <td>1.9</td>\n",
              "      <td>0.075</td>\n",
              "      <td>17.0</td>\n",
              "      <td>60.0</td>\n",
              "      <td>0.99800</td>\n",
              "      <td>3.16</td>\n",
              "      <td>0.58</td>\n",
              "      <td>9.8</td>\n",
              "      <td>0</td>\n",
              "      <td>1.0</td>\n",
              "    </tr>\n",
              "    <tr>\n",
              "      <th>4</th>\n",
              "      <td>7.4</td>\n",
              "      <td>0.70</td>\n",
              "      <td>0.00</td>\n",
              "      <td>1.9</td>\n",
              "      <td>0.076</td>\n",
              "      <td>11.0</td>\n",
              "      <td>34.0</td>\n",
              "      <td>0.99780</td>\n",
              "      <td>3.51</td>\n",
              "      <td>0.56</td>\n",
              "      <td>9.4</td>\n",
              "      <td>0</td>\n",
              "      <td>0.0</td>\n",
              "    </tr>\n",
              "    <tr>\n",
              "      <th>...</th>\n",
              "      <td>...</td>\n",
              "      <td>...</td>\n",
              "      <td>...</td>\n",
              "      <td>...</td>\n",
              "      <td>...</td>\n",
              "      <td>...</td>\n",
              "      <td>...</td>\n",
              "      <td>...</td>\n",
              "      <td>...</td>\n",
              "      <td>...</td>\n",
              "      <td>...</td>\n",
              "      <td>...</td>\n",
              "      <td>...</td>\n",
              "    </tr>\n",
              "    <tr>\n",
              "      <th>4893</th>\n",
              "      <td>6.2</td>\n",
              "      <td>0.21</td>\n",
              "      <td>0.29</td>\n",
              "      <td>1.6</td>\n",
              "      <td>0.039</td>\n",
              "      <td>24.0</td>\n",
              "      <td>92.0</td>\n",
              "      <td>0.99114</td>\n",
              "      <td>3.27</td>\n",
              "      <td>0.50</td>\n",
              "      <td>11.2</td>\n",
              "      <td>1</td>\n",
              "      <td>1.0</td>\n",
              "    </tr>\n",
              "    <tr>\n",
              "      <th>4894</th>\n",
              "      <td>6.6</td>\n",
              "      <td>0.32</td>\n",
              "      <td>0.36</td>\n",
              "      <td>8.0</td>\n",
              "      <td>0.047</td>\n",
              "      <td>57.0</td>\n",
              "      <td>168.0</td>\n",
              "      <td>0.99490</td>\n",
              "      <td>3.15</td>\n",
              "      <td>0.46</td>\n",
              "      <td>9.6</td>\n",
              "      <td>1</td>\n",
              "      <td>0.0</td>\n",
              "    </tr>\n",
              "    <tr>\n",
              "      <th>4895</th>\n",
              "      <td>6.5</td>\n",
              "      <td>0.24</td>\n",
              "      <td>0.19</td>\n",
              "      <td>1.2</td>\n",
              "      <td>0.041</td>\n",
              "      <td>30.0</td>\n",
              "      <td>111.0</td>\n",
              "      <td>0.99254</td>\n",
              "      <td>2.99</td>\n",
              "      <td>0.46</td>\n",
              "      <td>9.4</td>\n",
              "      <td>1</td>\n",
              "      <td>1.0</td>\n",
              "    </tr>\n",
              "    <tr>\n",
              "      <th>4896</th>\n",
              "      <td>5.5</td>\n",
              "      <td>0.29</td>\n",
              "      <td>0.30</td>\n",
              "      <td>1.1</td>\n",
              "      <td>0.022</td>\n",
              "      <td>20.0</td>\n",
              "      <td>110.0</td>\n",
              "      <td>0.98869</td>\n",
              "      <td>3.34</td>\n",
              "      <td>0.38</td>\n",
              "      <td>12.8</td>\n",
              "      <td>1</td>\n",
              "      <td>2.0</td>\n",
              "    </tr>\n",
              "    <tr>\n",
              "      <th>4897</th>\n",
              "      <td>6.0</td>\n",
              "      <td>0.21</td>\n",
              "      <td>0.38</td>\n",
              "      <td>0.8</td>\n",
              "      <td>0.020</td>\n",
              "      <td>22.0</td>\n",
              "      <td>98.0</td>\n",
              "      <td>0.98941</td>\n",
              "      <td>3.26</td>\n",
              "      <td>0.32</td>\n",
              "      <td>11.8</td>\n",
              "      <td>1</td>\n",
              "      <td>1.0</td>\n",
              "    </tr>\n",
              "  </tbody>\n",
              "</table>\n",
              "<p>6497 rows × 13 columns</p>\n",
              "</div>"
            ],
            "text/plain": [
              "      fixed acidity  volatile acidity  citric acid  ...  alcohol  type  new_quality\n",
              "0               7.4              0.70         0.00  ...      9.4     0          0.0\n",
              "1               7.8              0.88         0.00  ...      9.8     0          0.0\n",
              "2               7.8              0.76         0.04  ...      9.8     0          0.0\n",
              "3              11.2              0.28         0.56  ...      9.8     0          1.0\n",
              "4               7.4              0.70         0.00  ...      9.4     0          0.0\n",
              "...             ...               ...          ...  ...      ...   ...          ...\n",
              "4893            6.2              0.21         0.29  ...     11.2     1          1.0\n",
              "4894            6.6              0.32         0.36  ...      9.6     1          0.0\n",
              "4895            6.5              0.24         0.19  ...      9.4     1          1.0\n",
              "4896            5.5              0.29         0.30  ...     12.8     1          2.0\n",
              "4897            6.0              0.21         0.38  ...     11.8     1          1.0\n",
              "\n",
              "[6497 rows x 13 columns]"
            ]
          },
          "metadata": {
            "tags": []
          }
        }
      ]
    },
    {
      "cell_type": "markdown",
      "metadata": {
        "id": "SVVpQTxHyl-5"
      },
      "source": [
        "#### 정규화"
      ]
    },
    {
      "cell_type": "code",
      "metadata": {
        "id": "FspsGTVbyjHN"
      },
      "source": [
        "wine_norm = (wine - wine.min()) / (wine.max() - wine.min())"
      ],
      "execution_count": null,
      "outputs": []
    },
    {
      "cell_type": "code",
      "metadata": {
        "colab": {
          "base_uri": "https://localhost:8080/",
          "height": 470
        },
        "id": "-uTxxThczB5V",
        "outputId": "08a7a6c6-b1a1-4742-c711-69c7776ce572"
      },
      "source": [
        "display(wine_norm)"
      ],
      "execution_count": null,
      "outputs": [
        {
          "output_type": "display_data",
          "data": {
            "text/html": [
              "<div>\n",
              "<style scoped>\n",
              "    .dataframe tbody tr th:only-of-type {\n",
              "        vertical-align: middle;\n",
              "    }\n",
              "\n",
              "    .dataframe tbody tr th {\n",
              "        vertical-align: top;\n",
              "    }\n",
              "\n",
              "    .dataframe thead th {\n",
              "        text-align: right;\n",
              "    }\n",
              "</style>\n",
              "<table border=\"1\" class=\"dataframe\">\n",
              "  <thead>\n",
              "    <tr style=\"text-align: right;\">\n",
              "      <th></th>\n",
              "      <th>fixed acidity</th>\n",
              "      <th>volatile acidity</th>\n",
              "      <th>citric acid</th>\n",
              "      <th>residual sugar</th>\n",
              "      <th>chlorides</th>\n",
              "      <th>free sulfur dioxide</th>\n",
              "      <th>total sulfur dioxide</th>\n",
              "      <th>density</th>\n",
              "      <th>pH</th>\n",
              "      <th>sulphates</th>\n",
              "      <th>alcohol</th>\n",
              "      <th>type</th>\n",
              "      <th>new_quality</th>\n",
              "    </tr>\n",
              "  </thead>\n",
              "  <tbody>\n",
              "    <tr>\n",
              "      <th>0</th>\n",
              "      <td>0.297521</td>\n",
              "      <td>0.413333</td>\n",
              "      <td>0.000000</td>\n",
              "      <td>0.019939</td>\n",
              "      <td>0.111296</td>\n",
              "      <td>0.034722</td>\n",
              "      <td>0.064516</td>\n",
              "      <td>0.206092</td>\n",
              "      <td>0.612403</td>\n",
              "      <td>0.191011</td>\n",
              "      <td>0.202899</td>\n",
              "      <td>0.0</td>\n",
              "      <td>0.0</td>\n",
              "    </tr>\n",
              "    <tr>\n",
              "      <th>1</th>\n",
              "      <td>0.330579</td>\n",
              "      <td>0.533333</td>\n",
              "      <td>0.000000</td>\n",
              "      <td>0.030675</td>\n",
              "      <td>0.147841</td>\n",
              "      <td>0.083333</td>\n",
              "      <td>0.140553</td>\n",
              "      <td>0.186813</td>\n",
              "      <td>0.372093</td>\n",
              "      <td>0.258427</td>\n",
              "      <td>0.260870</td>\n",
              "      <td>0.0</td>\n",
              "      <td>0.0</td>\n",
              "    </tr>\n",
              "    <tr>\n",
              "      <th>2</th>\n",
              "      <td>0.330579</td>\n",
              "      <td>0.453333</td>\n",
              "      <td>0.024096</td>\n",
              "      <td>0.026074</td>\n",
              "      <td>0.137874</td>\n",
              "      <td>0.048611</td>\n",
              "      <td>0.110599</td>\n",
              "      <td>0.190669</td>\n",
              "      <td>0.418605</td>\n",
              "      <td>0.241573</td>\n",
              "      <td>0.260870</td>\n",
              "      <td>0.0</td>\n",
              "      <td>0.0</td>\n",
              "    </tr>\n",
              "    <tr>\n",
              "      <th>3</th>\n",
              "      <td>0.611570</td>\n",
              "      <td>0.133333</td>\n",
              "      <td>0.337349</td>\n",
              "      <td>0.019939</td>\n",
              "      <td>0.109635</td>\n",
              "      <td>0.055556</td>\n",
              "      <td>0.124424</td>\n",
              "      <td>0.209948</td>\n",
              "      <td>0.341085</td>\n",
              "      <td>0.202247</td>\n",
              "      <td>0.260870</td>\n",
              "      <td>0.0</td>\n",
              "      <td>0.5</td>\n",
              "    </tr>\n",
              "    <tr>\n",
              "      <th>4</th>\n",
              "      <td>0.297521</td>\n",
              "      <td>0.413333</td>\n",
              "      <td>0.000000</td>\n",
              "      <td>0.019939</td>\n",
              "      <td>0.111296</td>\n",
              "      <td>0.034722</td>\n",
              "      <td>0.064516</td>\n",
              "      <td>0.206092</td>\n",
              "      <td>0.612403</td>\n",
              "      <td>0.191011</td>\n",
              "      <td>0.202899</td>\n",
              "      <td>0.0</td>\n",
              "      <td>0.0</td>\n",
              "    </tr>\n",
              "    <tr>\n",
              "      <th>...</th>\n",
              "      <td>...</td>\n",
              "      <td>...</td>\n",
              "      <td>...</td>\n",
              "      <td>...</td>\n",
              "      <td>...</td>\n",
              "      <td>...</td>\n",
              "      <td>...</td>\n",
              "      <td>...</td>\n",
              "      <td>...</td>\n",
              "      <td>...</td>\n",
              "      <td>...</td>\n",
              "      <td>...</td>\n",
              "      <td>...</td>\n",
              "    </tr>\n",
              "    <tr>\n",
              "      <th>4893</th>\n",
              "      <td>0.198347</td>\n",
              "      <td>0.086667</td>\n",
              "      <td>0.174699</td>\n",
              "      <td>0.015337</td>\n",
              "      <td>0.049834</td>\n",
              "      <td>0.079861</td>\n",
              "      <td>0.198157</td>\n",
              "      <td>0.077694</td>\n",
              "      <td>0.426357</td>\n",
              "      <td>0.157303</td>\n",
              "      <td>0.463768</td>\n",
              "      <td>1.0</td>\n",
              "      <td>0.5</td>\n",
              "    </tr>\n",
              "    <tr>\n",
              "      <th>4894</th>\n",
              "      <td>0.231405</td>\n",
              "      <td>0.160000</td>\n",
              "      <td>0.216867</td>\n",
              "      <td>0.113497</td>\n",
              "      <td>0.063123</td>\n",
              "      <td>0.194444</td>\n",
              "      <td>0.373272</td>\n",
              "      <td>0.150183</td>\n",
              "      <td>0.333333</td>\n",
              "      <td>0.134831</td>\n",
              "      <td>0.231884</td>\n",
              "      <td>1.0</td>\n",
              "      <td>0.0</td>\n",
              "    </tr>\n",
              "    <tr>\n",
              "      <th>4895</th>\n",
              "      <td>0.223140</td>\n",
              "      <td>0.106667</td>\n",
              "      <td>0.114458</td>\n",
              "      <td>0.009202</td>\n",
              "      <td>0.053156</td>\n",
              "      <td>0.100694</td>\n",
              "      <td>0.241935</td>\n",
              "      <td>0.104685</td>\n",
              "      <td>0.209302</td>\n",
              "      <td>0.134831</td>\n",
              "      <td>0.202899</td>\n",
              "      <td>1.0</td>\n",
              "      <td>0.5</td>\n",
              "    </tr>\n",
              "    <tr>\n",
              "      <th>4896</th>\n",
              "      <td>0.140496</td>\n",
              "      <td>0.140000</td>\n",
              "      <td>0.180723</td>\n",
              "      <td>0.007669</td>\n",
              "      <td>0.021595</td>\n",
              "      <td>0.065972</td>\n",
              "      <td>0.239631</td>\n",
              "      <td>0.030461</td>\n",
              "      <td>0.480620</td>\n",
              "      <td>0.089888</td>\n",
              "      <td>0.695652</td>\n",
              "      <td>1.0</td>\n",
              "      <td>1.0</td>\n",
              "    </tr>\n",
              "    <tr>\n",
              "      <th>4897</th>\n",
              "      <td>0.181818</td>\n",
              "      <td>0.086667</td>\n",
              "      <td>0.228916</td>\n",
              "      <td>0.003067</td>\n",
              "      <td>0.018272</td>\n",
              "      <td>0.072917</td>\n",
              "      <td>0.211982</td>\n",
              "      <td>0.044342</td>\n",
              "      <td>0.418605</td>\n",
              "      <td>0.056180</td>\n",
              "      <td>0.550725</td>\n",
              "      <td>1.0</td>\n",
              "      <td>0.5</td>\n",
              "    </tr>\n",
              "  </tbody>\n",
              "</table>\n",
              "<p>6497 rows × 13 columns</p>\n",
              "</div>"
            ],
            "text/plain": [
              "      fixed acidity  volatile acidity  citric acid  ...   alcohol  type  new_quality\n",
              "0          0.297521          0.413333     0.000000  ...  0.202899   0.0          0.0\n",
              "1          0.330579          0.533333     0.000000  ...  0.260870   0.0          0.0\n",
              "2          0.330579          0.453333     0.024096  ...  0.260870   0.0          0.0\n",
              "3          0.611570          0.133333     0.337349  ...  0.260870   0.0          0.5\n",
              "4          0.297521          0.413333     0.000000  ...  0.202899   0.0          0.0\n",
              "...             ...               ...          ...  ...       ...   ...          ...\n",
              "4893       0.198347          0.086667     0.174699  ...  0.463768   1.0          0.5\n",
              "4894       0.231405          0.160000     0.216867  ...  0.231884   1.0          0.0\n",
              "4895       0.223140          0.106667     0.114458  ...  0.202899   1.0          0.5\n",
              "4896       0.140496          0.140000     0.180723  ...  0.695652   1.0          1.0\n",
              "4897       0.181818          0.086667     0.228916  ...  0.550725   1.0          0.5\n",
              "\n",
              "[6497 rows x 13 columns]"
            ]
          },
          "metadata": {
            "tags": []
          }
        }
      ]
    },
    {
      "cell_type": "code",
      "metadata": {
        "id": "ObMke-WdzEJM"
      },
      "source": [
        "wine_shuflle = wine_norm.sample(frac=1)\n",
        "wine_np      = wine_shuflle.to_numpy()"
      ],
      "execution_count": null,
      "outputs": []
    },
    {
      "cell_type": "code",
      "metadata": {
        "id": "Z6Kip8skzpZg"
      },
      "source": [
        "train_ratio = 0.8\n",
        "train_idx = int(len(wine_np) * train_ratio)"
      ],
      "execution_count": null,
      "outputs": []
    },
    {
      "cell_type": "code",
      "metadata": {
        "colab": {
          "base_uri": "https://localhost:8080/"
        },
        "id": "k5DMQ5eKz0RA",
        "outputId": "e86c8fb2-01b5-47ac-dbba-8c71b0cb399d"
      },
      "source": [
        "print(\"Total dataset index : \", len(wine_np))\n",
        "print(\"Train_index : \", train_idx)"
      ],
      "execution_count": null,
      "outputs": [
        {
          "output_type": "stream",
          "text": [
            "Total dataset index :  6497\n",
            "Train_index :  5197\n"
          ],
          "name": "stdout"
        }
      ]
    },
    {
      "cell_type": "markdown",
      "metadata": {
        "id": "U3bjm4LB015E"
      },
      "source": [
        "#### 데이터 분리"
      ]
    },
    {
      "cell_type": "code",
      "metadata": {
        "id": "1a9F1pA10IhG"
      },
      "source": [
        "train_X, train_Y = wine_np[ : train_idx , : -1 ], wine_np[   :  train_idx , -1 :  ]\n",
        "test_X, test_Y   = wine_np[ train_idx : , : -1 ], wine_np[   train_idx  : , -1 :  ]"
      ],
      "execution_count": null,
      "outputs": []
    },
    {
      "cell_type": "code",
      "metadata": {
        "colab": {
          "base_uri": "https://localhost:8080/"
        },
        "id": "9glssSHF0jiR",
        "outputId": "45996070-3b85-4ff3-eca7-3c6bec13c3b7"
      },
      "source": [
        "print(train_X.shape)\n",
        "print(train_Y.shape)\n",
        "print(test_X.shape)\n",
        "print(test_Y.shape)"
      ],
      "execution_count": null,
      "outputs": [
        {
          "output_type": "stream",
          "text": [
            "(5197, 12)\n",
            "(5197, 1)\n",
            "(1300, 12)\n",
            "(1300, 1)\n"
          ],
          "name": "stdout"
        }
      ]
    },
    {
      "cell_type": "markdown",
      "metadata": {
        "id": "c5wzmXtg1CoX"
      },
      "source": [
        "#### one-hot vector"
      ]
    },
    {
      "cell_type": "code",
      "metadata": {
        "colab": {
          "base_uri": "https://localhost:8080/"
        },
        "id": "EY1IhfwX0mGx",
        "outputId": "a65c022b-d6cb-4f67-c3e9-321309415b7d"
      },
      "source": [
        "train_Y_to_categorical = tf.keras.utils.to_categorical(train_Y, num_classes = 3)\n",
        "test_Y_to_categorical  = tf.keras.utils.to_categorical(test_Y, num_classes = 3)\n",
        "\n",
        "print(train_X.shape)\n",
        "print(train_Y_to_categorical.shape)\n",
        "print(test_X.shape)\n",
        "print(test_Y_to_categorical.shape)"
      ],
      "execution_count": null,
      "outputs": [
        {
          "output_type": "stream",
          "text": [
            "(5197, 12)\n",
            "(5197, 3)\n",
            "(1300, 12)\n",
            "(1300, 3)\n"
          ],
          "name": "stdout"
        }
      ]
    },
    {
      "cell_type": "code",
      "metadata": {
        "id": "dyNaqdaT0xrN"
      },
      "source": [
        "model_swish_softmax = tf.keras.Sequential([\n",
        "                                           tf.keras.layers.Dense(units=48, activation='swish', input_shape=(12,)),\n",
        "                                           tf.keras.layers.Dense(units=24, activation='swish'),\n",
        "                                           tf.keras.layers.Dense(units=12, activation='swish'),\n",
        "                                           tf.keras.layers.Dense(units=3,  activation='softmax')\n",
        "])"
      ],
      "execution_count": null,
      "outputs": []
    },
    {
      "cell_type": "code",
      "metadata": {
        "id": "ouQ72Rm-11G4"
      },
      "source": [
        "model_swish_softmax.compile(optimizer=tf.keras.optimizers.Adam(),\n",
        "                            loss = 'categorical_crossentropy',\n",
        "                            metrics = ['accuracy'])"
      ],
      "execution_count": null,
      "outputs": []
    },
    {
      "cell_type": "code",
      "metadata": {
        "colab": {
          "base_uri": "https://localhost:8080/"
        },
        "id": "W5dBz2e3GBEz",
        "outputId": "1ff31f14-327f-44ee-c001-3bed44f31562"
      },
      "source": [
        "model_swish_softmax.summary()"
      ],
      "execution_count": null,
      "outputs": [
        {
          "output_type": "stream",
          "text": [
            "Model: \"sequential_3\"\n",
            "_________________________________________________________________\n",
            "Layer (type)                 Output Shape              Param #   \n",
            "=================================================================\n",
            "dense_12 (Dense)             (None, 48)                624       \n",
            "_________________________________________________________________\n",
            "dense_13 (Dense)             (None, 24)                1176      \n",
            "_________________________________________________________________\n",
            "dense_14 (Dense)             (None, 12)                300       \n",
            "_________________________________________________________________\n",
            "dense_15 (Dense)             (None, 3)                 39        \n",
            "=================================================================\n",
            "Total params: 2,139\n",
            "Trainable params: 2,139\n",
            "Non-trainable params: 0\n",
            "_________________________________________________________________\n"
          ],
          "name": "stdout"
        }
      ]
    },
    {
      "cell_type": "code",
      "metadata": {
        "colab": {
          "base_uri": "https://localhost:8080/"
        },
        "id": "W2Fg1nFb2Zta",
        "outputId": "f356f3d7-d23c-4b2a-b2f7-e17ec061a69d"
      },
      "source": [
        "history = model_swish_softmax.fit(train_X, train_Y_to_categorical,\n",
        "                                  epochs           = 200,\n",
        "                                  batch_size       = 32,\n",
        "                                  validation_split = 0.2,\n",
        "                                  callbacks = [tf.keras.callbacks.EarlyStopping(patience=3)])"
      ],
      "execution_count": null,
      "outputs": [
        {
          "output_type": "stream",
          "text": [
            "Epoch 1/200\n",
            "130/130 [==============================] - 1s 3ms/step - loss: 0.6459 - accuracy: 0.8109 - val_loss: 0.4993 - val_accuracy: 0.7962\n",
            "Epoch 2/200\n",
            "130/130 [==============================] - 0s 2ms/step - loss: 0.4457 - accuracy: 0.8136 - val_loss: 0.4563 - val_accuracy: 0.7962\n",
            "Epoch 3/200\n",
            "130/130 [==============================] - 0s 2ms/step - loss: 0.4134 - accuracy: 0.8145 - val_loss: 0.4384 - val_accuracy: 0.8038\n",
            "Epoch 4/200\n",
            "130/130 [==============================] - 0s 2ms/step - loss: 0.4013 - accuracy: 0.8213 - val_loss: 0.4223 - val_accuracy: 0.8058\n",
            "Epoch 5/200\n",
            "130/130 [==============================] - 0s 2ms/step - loss: 0.3963 - accuracy: 0.8232 - val_loss: 0.4178 - val_accuracy: 0.8106\n",
            "Epoch 6/200\n",
            "130/130 [==============================] - 0s 2ms/step - loss: 0.3942 - accuracy: 0.8234 - val_loss: 0.4151 - val_accuracy: 0.8067\n",
            "Epoch 7/200\n",
            "130/130 [==============================] - 0s 2ms/step - loss: 0.3890 - accuracy: 0.8217 - val_loss: 0.4123 - val_accuracy: 0.8106\n",
            "Epoch 8/200\n",
            "130/130 [==============================] - 0s 2ms/step - loss: 0.3910 - accuracy: 0.8179 - val_loss: 0.4182 - val_accuracy: 0.8144\n",
            "Epoch 9/200\n",
            "130/130 [==============================] - 0s 2ms/step - loss: 0.3884 - accuracy: 0.8254 - val_loss: 0.4097 - val_accuracy: 0.8106\n",
            "Epoch 10/200\n",
            "130/130 [==============================] - 0s 2ms/step - loss: 0.3903 - accuracy: 0.8256 - val_loss: 0.4097 - val_accuracy: 0.8115\n",
            "Epoch 11/200\n",
            "130/130 [==============================] - 0s 2ms/step - loss: 0.3890 - accuracy: 0.8217 - val_loss: 0.4091 - val_accuracy: 0.8096\n",
            "Epoch 12/200\n",
            "130/130 [==============================] - 0s 2ms/step - loss: 0.3882 - accuracy: 0.8244 - val_loss: 0.4111 - val_accuracy: 0.7981\n",
            "Epoch 13/200\n",
            "130/130 [==============================] - 0s 2ms/step - loss: 0.3850 - accuracy: 0.8258 - val_loss: 0.4120 - val_accuracy: 0.8125\n",
            "Epoch 14/200\n",
            "130/130 [==============================] - 0s 2ms/step - loss: 0.3848 - accuracy: 0.8220 - val_loss: 0.4069 - val_accuracy: 0.8135\n",
            "Epoch 15/200\n",
            "130/130 [==============================] - 0s 2ms/step - loss: 0.3849 - accuracy: 0.8244 - val_loss: 0.4097 - val_accuracy: 0.8115\n",
            "Epoch 16/200\n",
            "130/130 [==============================] - 0s 2ms/step - loss: 0.3847 - accuracy: 0.8244 - val_loss: 0.4069 - val_accuracy: 0.8106\n",
            "Epoch 17/200\n",
            "130/130 [==============================] - 0s 2ms/step - loss: 0.3830 - accuracy: 0.8254 - val_loss: 0.4103 - val_accuracy: 0.8029\n"
          ],
          "name": "stdout"
        }
      ]
    },
    {
      "cell_type": "markdown",
      "metadata": {
        "id": "501fHaJk4wW9"
      },
      "source": [
        "#### 시각화"
      ]
    },
    {
      "cell_type": "code",
      "metadata": {
        "colab": {
          "base_uri": "https://localhost:8080/",
          "height": 316
        },
        "id": "-36e9umi2fvV",
        "outputId": "4266b67f-c77d-4244-a89b-b5029b473e38"
      },
      "source": [
        "val_accuracy = history.history['val_accuracy']\n",
        "accuracy = history.history['accuracy']\n",
        "\n",
        "val_loss = history.history['val_loss']\n",
        "loss = history.history['loss']\n",
        "\n",
        "plt.figure(figsize = (12, 4))\n",
        "\n",
        "plt.subplot(1, 2, 1)\n",
        "\n",
        "plt.plot(history.history['loss'], 'b-', label = 'Train loss')\n",
        "plt.plot(history.history['val_loss'], 'r--', label = 'Val loss')\n",
        "plt.xlabel('epochs')\n",
        "\n",
        "plt.title('Train_Loss : {:.3f}\\nVal_Loss : {:.3f}'.\\\n",
        "          format(loss[-1], val_loss[-1]), fontsize = 15)\n",
        "\n",
        "plt.legend()\n",
        "plt.grid()\n",
        "\n",
        "plt.subplot(1, 2, 2)\n",
        "plt.plot(history.history['accuracy'], 'b-', label = 'Train accuracy')\n",
        "plt.plot(history.history['val_accuracy'], 'r--', label = 'Val accuracy')\n",
        "plt.xlabel('epochs')\n",
        "\n",
        "plt.title('Train_accuracy : {:.3f}\\nVal_accuracy : {:.3f}'.\\\n",
        "          format(accuracy[-1], val_accuracy[-1]), fontsize = 15)\n",
        "\n",
        "plt.legend()\n",
        "plt.grid()\n",
        "plt.show()"
      ],
      "execution_count": null,
      "outputs": [
        {
          "output_type": "display_data",
          "data": {
            "image/png": "[encoded data removed]",
            "text/plain": [
              "<Figure size 864x288 with 2 Axes>"
            ]
          },
          "metadata": {
            "tags": [],
            "needs_background": "light"
          }
        }
      ]
    },
    {
      "cell_type": "code",
      "metadata": {
        "colab": {
          "base_uri": "https://localhost:8080/"
        },
        "id": "QqZ7XFdz40kK",
        "outputId": "ec2d92a9-6b5e-4664-ae0b-1f89a2787243"
      },
      "source": [
        "pred_Y = model_swish_softmax.predict(test_X)\n",
        "print(\"pred_Y : \\n\", pred_Y[:5])"
      ],
      "execution_count": null,
      "outputs": [
        {
          "output_type": "stream",
          "text": [
            "pred_Y : \n",
            " [[6.2151533e-01 3.7843007e-01 5.4576267e-05]\n",
            " [8.7265623e-01 1.2718810e-01 1.5557697e-04]\n",
            " [9.5711005e-01 4.2708918e-02 1.8110036e-04]\n",
            " [7.3045540e-01 2.6944467e-01 9.9925324e-05]\n",
            " [6.5416896e-01 3.4536260e-01 4.6842187e-04]]\n"
          ],
          "name": "stdout"
        }
      ]
    },
    {
      "cell_type": "code",
      "metadata": {
        "colab": {
          "base_uri": "https://localhost:8080/"
        },
        "id": "emcSZb0O4052",
        "outputId": "d1b9c177-b931-47af-9225-35cf71115485"
      },
      "source": [
        "pred_Y_round = np.round(pred_Y, 2)\n",
        "print(pred_Y_round[:5])"
      ],
      "execution_count": null,
      "outputs": [
        {
          "output_type": "stream",
          "text": [
            "[[0.62 0.38 0.  ]\n",
            " [0.87 0.13 0.  ]\n",
            " [0.96 0.04 0.  ]\n",
            " [0.73 0.27 0.  ]\n",
            " [0.65 0.35 0.  ]]\n"
          ],
          "name": "stdout"
        }
      ]
    },
    {
      "cell_type": "code",
      "metadata": {
        "colab": {
          "base_uri": "https://localhost:8080/"
        },
        "id": "lwcjG6F6427y",
        "outputId": "ee44630f-273e-4466-f11a-59f1919983f8"
      },
      "source": [
        "pred_Y_round = np.round(pred_Y, 2)\n",
        "print(pred_Y_round[:5])\n",
        "\n",
        "print(\"=========예측값===========\")\n",
        "pred_Y_argmax = np.argmax(pred_Y_round, axis=1)\n",
        "print(pred_Y_argmax[:5])\n",
        "\n",
        "print(\"=========실제값===========\")\n",
        "test_Y_argmax = np.argmax(test_Y_to_categorical, axis=1)\n",
        "print(test_Y_argmax[:5])"
      ],
      "execution_count": null,
      "outputs": [
        {
          "output_type": "stream",
          "text": [
            "[[0.62 0.38 0.  ]\n",
            " [0.87 0.13 0.  ]\n",
            " [0.96 0.04 0.  ]\n",
            " [0.73 0.27 0.  ]\n",
            " [0.65 0.35 0.  ]]\n",
            "=========예측값===========\n",
            "[0 0 0 0 0]\n",
            "=========실제값===========\n",
            "[1 0 0 0 1]\n"
          ],
          "name": "stdout"
        }
      ]
    },
    {
      "cell_type": "markdown",
      "metadata": {
        "id": "llyrlNAz8Ss2"
      },
      "source": [
        "#### fashion mnist"
      ]
    },
    {
      "cell_type": "code",
      "metadata": {
        "colab": {
          "base_uri": "https://localhost:8080/"
        },
        "id": "wLGSLkk15X5M",
        "outputId": "2cae201e-8591-428a-d3c8-12836db4587a"
      },
      "source": [
        "fashion_mnist = tf.keras.datasets.fashion_mnist\n",
        "# 데이터 분할\n",
        "(train_X, train_Y), (test_X, test_Y) = fashion_mnist.load_data()"
      ],
      "execution_count": null,
      "outputs": [
        {
          "output_type": "stream",
          "text": [
            "Downloading data from https://storage.googleapis.com/tensorflow/tf-keras-datasets/train-labels-idx1-ubyte.gz\n",
            "32768/29515 [=================================] - 0s 0us/step\n",
            "Downloading data from https://storage.googleapis.com/tensorflow/tf-keras-datasets/train-images-idx3-ubyte.gz\n",
            "26427392/26421880 [==============================] - 0s 0us/step\n",
            "Downloading data from https://storage.googleapis.com/tensorflow/tf-keras-datasets/t10k-labels-idx1-ubyte.gz\n",
            "8192/5148 [===============================================] - 0s 0us/step\n",
            "Downloading data from https://storage.googleapis.com/tensorflow/tf-keras-datasets/t10k-images-idx3-ubyte.gz\n",
            "4423680/4422102 [==============================] - 0s 0us/step\n"
          ],
          "name": "stdout"
        }
      ]
    },
    {
      "cell_type": "code",
      "metadata": {
        "colab": {
          "base_uri": "https://localhost:8080/",
          "height": 591
        },
        "id": "_9qmCKGK8vyW",
        "outputId": "e3f32dbf-b483-400b-f973-b5e37725abdb"
      },
      "source": [
        "plt.figure(figsize=(10, 10))\n",
        "\n",
        "for i in range(9):\n",
        "  plt.subplot(3, 3, i+1)\n",
        "  plt.title('Y label : {}'.format(train_Y[i]))\n",
        "  plt.axis('off')\n",
        "  plt.imshow(train_X[i] ,cmap='pink')\n",
        "\n",
        "plt.show()"
      ],
      "execution_count": null,
      "outputs": [
        {
          "output_type": "display_data",
          "data": {
            "image/png": "[encoded data removed]",
            "text/plain": [
              "<Figure size 720x720 with 9 Axes>"
            ]
          },
          "metadata": {
            "tags": [],
            "needs_background": "light"
          }
        }
      ]
    },
    {
      "cell_type": "code",
      "metadata": {
        "colab": {
          "base_uri": "https://localhost:8080/"
        },
        "id": "NCDg6pDN9dzO",
        "outputId": "67ed0aaa-db5d-4144-a8b6-628cdefcb727"
      },
      "source": [
        "train_Y[:10]"
      ],
      "execution_count": null,
      "outputs": [
        {
          "output_type": "execute_result",
          "data": {
            "text/plain": [
              "array([9, 0, 0, 3, 0, 2, 7, 2, 5, 5], dtype=uint8)"
            ]
          },
          "metadata": {
            "tags": []
          },
          "execution_count": 74
        }
      ]
    },
    {
      "cell_type": "code",
      "metadata": {
        "colab": {
          "base_uri": "https://localhost:8080/"
        },
        "id": "aGdS8Y_j9dtV",
        "outputId": "dc271904-e8ec-4fb2-f1f7-b2f0a3dabd0f"
      },
      "source": [
        "print(\"train_X[0].shape :\", train_X[0].shape)\n",
        "print(\"train_X[0].ndim :\", train_X[0].ndim)"
      ],
      "execution_count": null,
      "outputs": [
        {
          "output_type": "stream",
          "text": [
            "train_X[0].shape : (28, 28)\n",
            "train_X[0].ndim : 2\n"
          ],
          "name": "stdout"
        }
      ]
    },
    {
      "cell_type": "code",
      "metadata": {
        "colab": {
          "base_uri": "https://localhost:8080/"
        },
        "id": "j_N5JDFP94KM",
        "outputId": "9e5afbfa-5d06-4e90-f0ee-a1436c417ae8"
      },
      "source": [
        "# minibatch 고려\n",
        "print(\"train_X.shape :\", train_X.shape)\n",
        "print(\"train_X.ndim :\", train_X.ndim)"
      ],
      "execution_count": null,
      "outputs": [
        {
          "output_type": "stream",
          "text": [
            "train_X.shape : (60000, 28, 28)\n",
            "train_X.ndim : 3\n"
          ],
          "name": "stdout"
        }
      ]
    },
    {
      "cell_type": "code",
      "metadata": {
        "id": "CY-I6aCQ99oJ"
      },
      "source": [
        "# 영상, 이미지 차원수 높아짐 ..\n"
      ],
      "execution_count": null,
      "outputs": []
    },
    {
      "cell_type": "code",
      "metadata": {
        "colab": {
          "base_uri": "https://localhost:8080/"
        },
        "id": "o_FYEneq-pMK",
        "outputId": "30c70836-9a44-4e9e-8b32-109378a7d9ec"
      },
      "source": [
        "print(np.min(train_X))\n",
        "print(np.max(train_X))\n",
        "# > 이상치 X : min-max norm"
      ],
      "execution_count": null,
      "outputs": [
        {
          "output_type": "stream",
          "text": [
            "0\n",
            "255\n"
          ],
          "name": "stdout"
        }
      ]
    },
    {
      "cell_type": "markdown",
      "metadata": {
        "id": "JUIrWfQ_-zM9"
      },
      "source": [
        "#### min-max"
      ]
    },
    {
      "cell_type": "code",
      "metadata": {
        "colab": {
          "base_uri": "https://localhost:8080/"
        },
        "id": "W18bcYFv-t2o",
        "outputId": "a5a736aa-512f-428b-abc4-2f7bc4fd8624"
      },
      "source": [
        "train_X_norm = train_X / 255.0 #train_X = 0 이어서\n",
        "print(np.min(train_X_norm))\n",
        "print(np.max(train_X_norm))"
      ],
      "execution_count": null,
      "outputs": [
        {
          "output_type": "stream",
          "text": [
            "0.0\n",
            "1.0\n"
          ],
          "name": "stdout"
        }
      ]
    },
    {
      "cell_type": "code",
      "metadata": {
        "id": "8pj_v7jm_LaF"
      },
      "source": [
        "test_X_norm = test_X / 255.0"
      ],
      "execution_count": null,
      "outputs": []
    },
    {
      "cell_type": "code",
      "metadata": {
        "id": "Hl04f3lu_Qpq"
      },
      "source": [
        "Fmnist_Relu_DNN = tf.keras.Sequential([\n",
        "                                       tf.keras.layers.Flatten(input_shape = (28,28)),\n",
        "                                       tf.keras.layers.Dense(units=128, activation='relu'),\n",
        "                                       tf.keras.layers.Dense(units=64, activation='relu'),\n",
        "                                       tf.keras.layers.Dense(units=32, activation='relu'),\n",
        "                                       tf.keras.layers.Dense(units=10, activation='softmax')\n",
        "])"
      ],
      "execution_count": null,
      "outputs": []
    },
    {
      "cell_type": "code",
      "metadata": {
        "colab": {
          "base_uri": "https://localhost:8080/"
        },
        "id": "3mQq0AI-ACcy",
        "outputId": "5c7d6c7d-94de-49d5-87ac-9870edfed89f"
      },
      "source": [
        "Fmnist_Relu_DNN.summary()"
      ],
      "execution_count": null,
      "outputs": [
        {
          "output_type": "stream",
          "text": [
            "Model: \"sequential_4\"\n",
            "_________________________________________________________________\n",
            "Layer (type)                 Output Shape              Param #   \n",
            "=================================================================\n",
            "flatten (Flatten)            (None, 784)               0         \n",
            "_________________________________________________________________\n",
            "dense_16 (Dense)             (None, 128)               100480    \n",
            "_________________________________________________________________\n",
            "dense_17 (Dense)             (None, 64)                8256      \n",
            "_________________________________________________________________\n",
            "dense_18 (Dense)             (None, 32)                2080      \n",
            "_________________________________________________________________\n",
            "dense_19 (Dense)             (None, 10)                330       \n",
            "=================================================================\n",
            "Total params: 111,146\n",
            "Trainable params: 111,146\n",
            "Non-trainable params: 0\n",
            "_________________________________________________________________\n"
          ],
          "name": "stdout"
        }
      ]
    },
    {
      "cell_type": "code",
      "metadata": {
        "id": "UA7SaqXJADvO"
      },
      "source": [
        "Fmnist_Relu_DNN.compile(optimizer=tf.keras.optimizers.Adam(),\n",
        "                        loss='sparse_categorical_crossentropy',\n",
        "                        metrics=['accuracy'])"
      ],
      "execution_count": null,
      "outputs": []
    },
    {
      "cell_type": "code",
      "metadata": {
        "colab": {
          "base_uri": "https://localhost:8080/"
        },
        "id": "A2HilfBwA5cX",
        "outputId": "a108a545-78f7-4344-a091-6746023302b5"
      },
      "source": [
        "history = Fmnist_Relu_DNN.fit(train_X_norm, train_Y,\n",
        "                              epochs=200,\n",
        "                              batch_size=32,\n",
        "                              validation_split=0.2,\n",
        "                              callbacks=[tf.keras.callbacks.EarlyStopping(patience=3)])"
      ],
      "execution_count": null,
      "outputs": [
        {
          "output_type": "stream",
          "text": [
            "Epoch 1/200\n",
            "1500/1500 [==============================] - 4s 3ms/step - loss: 0.5905 - accuracy: 0.7913 - val_loss: 0.4461 - val_accuracy: 0.8404\n",
            "Epoch 2/200\n",
            "1500/1500 [==============================] - 4s 3ms/step - loss: 0.3978 - accuracy: 0.8534 - val_loss: 0.3816 - val_accuracy: 0.8609\n",
            "Epoch 3/200\n",
            "1500/1500 [==============================] - 4s 3ms/step - loss: 0.3584 - accuracy: 0.8661 - val_loss: 0.3743 - val_accuracy: 0.8605\n",
            "Epoch 4/200\n",
            "1500/1500 [==============================] - 4s 3ms/step - loss: 0.3339 - accuracy: 0.8774 - val_loss: 0.3517 - val_accuracy: 0.8720\n",
            "Epoch 5/200\n",
            "1500/1500 [==============================] - 4s 3ms/step - loss: 0.3126 - accuracy: 0.8841 - val_loss: 0.3626 - val_accuracy: 0.8673\n",
            "Epoch 6/200\n",
            "1500/1500 [==============================] - 4s 3ms/step - loss: 0.3009 - accuracy: 0.8879 - val_loss: 0.3601 - val_accuracy: 0.8704\n",
            "Epoch 7/200\n",
            "1500/1500 [==============================] - 4s 3ms/step - loss: 0.2852 - accuracy: 0.8935 - val_loss: 0.3450 - val_accuracy: 0.8785\n",
            "Epoch 8/200\n",
            "1500/1500 [==============================] - 4s 3ms/step - loss: 0.2765 - accuracy: 0.8973 - val_loss: 0.3274 - val_accuracy: 0.8823\n",
            "Epoch 9/200\n",
            "1500/1500 [==============================] - 4s 3ms/step - loss: 0.2682 - accuracy: 0.8985 - val_loss: 0.3264 - val_accuracy: 0.8852\n",
            "Epoch 10/200\n",
            "1500/1500 [==============================] - 4s 3ms/step - loss: 0.2609 - accuracy: 0.9014 - val_loss: 0.3454 - val_accuracy: 0.8775\n",
            "Epoch 11/200\n",
            "1500/1500 [==============================] - 4s 3ms/step - loss: 0.2511 - accuracy: 0.9057 - val_loss: 0.3204 - val_accuracy: 0.8875\n",
            "Epoch 12/200\n",
            "1500/1500 [==============================] - 4s 3ms/step - loss: 0.2461 - accuracy: 0.9072 - val_loss: 0.3602 - val_accuracy: 0.8755\n",
            "Epoch 13/200\n",
            "1500/1500 [==============================] - 4s 3ms/step - loss: 0.2374 - accuracy: 0.9106 - val_loss: 0.3361 - val_accuracy: 0.8851\n",
            "Epoch 14/200\n",
            "1500/1500 [==============================] - 4s 3ms/step - loss: 0.2329 - accuracy: 0.9131 - val_loss: 0.3336 - val_accuracy: 0.8888\n"
          ],
          "name": "stdout"
        }
      ]
    },
    {
      "cell_type": "code",
      "metadata": {
        "colab": {
          "base_uri": "https://localhost:8080/",
          "height": 316
        },
        "id": "QjtrS_pPBeAd",
        "outputId": "b95ca9bb-d21d-482c-b07d-d6b67adcf437"
      },
      "source": [
        "val_accuracy = history.history['val_accuracy']\n",
        "accuracy = history.history['accuracy']\n",
        "\n",
        "val_loss = history.history['val_loss']\n",
        "loss = history.history['loss']\n",
        "\n",
        "plt.figure(figsize = (12, 4))\n",
        "\n",
        "plt.subplot(1, 2, 1)\n",
        "\n",
        "plt.plot(history.history['loss'], 'b-', label = 'Train loss')\n",
        "plt.plot(history.history['val_loss'], 'r--', label = 'Val loss')\n",
        "plt.xlabel('epochs')\n",
        "\n",
        "plt.title('Train_Loss : {:.3f}\\nVal_Loss : {:.3f}'.\\\n",
        "          format(loss[-1], val_loss[-1]), fontsize = 15)\n",
        "\n",
        "plt.legend()\n",
        "plt.grid()\n",
        "\n",
        "plt.subplot(1, 2, 2)\n",
        "plt.plot(history.history['accuracy'], 'b-', label = 'Train accuracy')\n",
        "plt.plot(history.history['val_accuracy'], 'r--', label = 'Val accuracy')\n",
        "plt.xlabel('epochs')\n",
        "\n",
        "plt.title('Train_accuracy : {:.3f}\\nVal_accuracy : {:.3f}'.\\\n",
        "          format(accuracy[-1], val_accuracy[-1]), fontsize = 15)\n",
        "\n",
        "plt.legend()\n",
        "plt.grid()\n",
        "plt.show()"
      ],
      "execution_count": null,
      "outputs": [
        {
          "output_type": "display_data",
          "data": {
            "image/png": "[encoded data removed]",
            "text/plain": [
              "<Figure size 864x288 with 2 Axes>"
            ]
          },
          "metadata": {
            "tags": [],
            "needs_background": "light"
          }
        }
      ]
    },
    {
      "cell_type": "code",
      "metadata": {
        "colab": {
          "base_uri": "https://localhost:8080/"
        },
        "id": "2iP2rwmLCDxc",
        "outputId": "920ac5d1-4d63-4ba2-9cca-c301ee611090"
      },
      "source": [
        "pred_Y = Fmnist_Relu_DNN.predict(test_X_norm)\n",
        "print(pred_Y[:5])\n",
        "\n",
        "pred_Y_round = np.round(pred_Y, 3)\n",
        "print(pred_Y_round[:5])\n",
        "\n",
        "pred_Y_argmax = np.argmax(pred_Y_round, axis=1)\n",
        "print(pred_Y_argmax[:10])"
      ],
      "execution_count": null,
      "outputs": [
        {
          "output_type": "stream",
          "text": [
            "[[5.6974364e-10 7.8078891e-11 9.4850975e-08 9.4143271e-10 2.9894700e-06\n",
            "  1.7438838e-04 3.7541899e-06 1.1029397e-03 6.2231076e-10 9.9871588e-01]\n",
            " [1.3152734e-05 1.0096532e-18 9.9895835e-01 4.2389872e-10 9.3256671e-04\n",
            "  1.0292752e-20 9.5869174e-05 6.3069291e-27 6.2679155e-09 1.2504211e-13]\n",
            " [1.5755421e-11 1.0000000e+00 2.2680713e-11 6.9303199e-14 3.0436269e-20\n",
            "  7.1319855e-12 1.6684583e-11 3.9236704e-22 7.8392605e-12 6.2833566e-18]\n",
            " [3.8096055e-09 1.0000000e+00 2.3661022e-08 2.6106464e-09 1.6854791e-13\n",
            "  6.7717269e-11 6.5711552e-09 1.2725739e-18 3.6676029e-10 1.3988494e-14]\n",
            " [2.4407215e-02 4.1413742e-08 4.2317505e-03 1.2821688e-04 3.2431819e-03\n",
            "  2.1784675e-11 9.6798050e-01 2.1561088e-14 9.1309657e-06 4.3444068e-11]]\n",
            "[[0.    0.    0.    0.    0.    0.    0.    0.001 0.    0.999]\n",
            " [0.    0.    0.999 0.    0.001 0.    0.    0.    0.    0.   ]\n",
            " [0.    1.    0.    0.    0.    0.    0.    0.    0.    0.   ]\n",
            " [0.    1.    0.    0.    0.    0.    0.    0.    0.    0.   ]\n",
            " [0.024 0.    0.004 0.    0.003 0.    0.968 0.    0.    0.   ]]\n",
            "[9 2 1 1 6 1 4 6 5 7]\n"
          ],
          "name": "stdout"
        }
      ]
    },
    {
      "cell_type": "code",
      "metadata": {
        "colab": {
          "base_uri": "https://localhost:8080/",
          "height": 591
        },
        "id": "tisW_XSTCPd4",
        "outputId": "17c6a587-c590-4ff2-f94b-ccc67a5fff8b"
      },
      "source": [
        "plt.figure(figsize=(10,10))\n",
        "\n",
        "for i in range(9):\n",
        "  plt.subplot(3, 3, i+1)\n",
        "\n",
        "  i = np.random.choice(range(0, 10000))\n",
        "\n",
        "  plt.title(\"Y label-{} Y Predict {} : {}%\".\\\n",
        "            format(test_Y[i], pred_Y_argmax[i], np.round(np.max(pred_Y_round[:][i]),3)))\n",
        "  plt.axis('off')\n",
        "  plt.imshow(test_X[i])\n",
        "\n",
        "plt.show()"
      ],
      "execution_count": null,
      "outputs": [
        {
          "output_type": "display_data",
          "data": {
            "image/png": "[encoded data removed]",
            "text/plain": [
              "<Figure size 720x720 with 9 Axes>"
            ]
          },
          "metadata": {
            "tags": [],
            "needs_background": "light"
          }
        }
      ]
    }
  ]
}